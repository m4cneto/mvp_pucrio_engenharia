{
 "cells": [
  {
   "cell_type": "code",
   "execution_count": 0,
   "metadata": {
    "application/vnd.databricks.v1+cell": {
     "cellMetadata": {
      "byteLimit": 2048000,
      "rowLimit": 10000
     },
     "inputWidgets": {},
     "nuid": "bde3a7e1-ecd0-4245-b193-d2b3ae342b7e",
     "showTitle": false,
     "tableResultSettingsMap": {},
     "title": ""
    }
   },
   "outputs": [
    {
     "output_type": "display_data",
     "data": {
      "application/vnd.databricks.v1+bamboolib_hint": "{\"pd.DataFrames\": [], \"version\": \"0.0.1\"}",
      "text/plain": []
     },
     "metadata": {},
     "output_type": "display_data"
    }
   ],
   "source": [
    "# bibliotecas utilizadas\n",
    "import pandas as pd\n",
    "import unicodedata\n",
    "import re"
   ]
  },
  {
   "cell_type": "markdown",
   "metadata": {
    "application/vnd.databricks.v1+cell": {
     "cellMetadata": {
      "byteLimit": 2048000,
      "rowLimit": 10000
     },
     "inputWidgets": {},
     "nuid": "8f5e6fe7-7799-4d1f-bbe4-ebee83fc6e44",
     "showTitle": false,
     "tableResultSettingsMap": {},
     "title": ""
    }
   },
   "source": [
    "## Etapa 1 - Coleta dos dados"
   ]
  },
  {
   "cell_type": "code",
   "execution_count": 0,
   "metadata": {
    "application/vnd.databricks.v1+cell": {
     "cellMetadata": {
      "byteLimit": 2048000,
      "rowLimit": 10000
     },
     "inputWidgets": {},
     "nuid": "da622b25-55c6-4980-bd7c-09073bf49b0c",
     "showTitle": false,
     "tableResultSettingsMap": {},
     "title": ""
    }
   },
   "outputs": [
    {
     "output_type": "display_data",
     "data": {
      "text/html": [
       "<style scoped>\n",
       "  .table-result-container {\n",
       "    max-height: 300px;\n",
       "    overflow: auto;\n",
       "  }\n",
       "  table, th, td {\n",
       "    border: 1px solid black;\n",
       "    border-collapse: collapse;\n",
       "  }\n",
       "  th, td {\n",
       "    padding: 5px;\n",
       "  }\n",
       "  th {\n",
       "    text-align: left;\n",
       "  }\n",
       "</style><div class='table-result-container'><table class='table-result'><thead style='background-color: white'><tr><th>path</th><th>name</th><th>size</th><th>modificationTime</th></tr></thead><tbody><tr><td>dbfs:/FileStore/Consulta_de_Contratos_Públicos.csv</td><td>Consulta_de_Contratos_Públicos.csv</td><td>363590</td><td>1743478130000</td></tr><tr><td>dbfs:/FileStore/State_of_data_BR_2023_Kaggle___df_survey_2023.csv</td><td>State_of_data_BR_2023_Kaggle___df_survey_2023.csv</td><td>15241470</td><td>1744069381000</td></tr><tr><td>dbfs:/FileStore/tables/</td><td>tables/</td><td>0</td><td>0</td></tr></tbody></table></div>"
      ]
     },
     "metadata": {
      "application/vnd.databricks.v1+output": {
       "addedWidgets": {},
       "aggData": [],
       "aggError": "",
       "aggOverflow": false,
       "aggSchema": [],
       "aggSeriesLimitReached": false,
       "aggType": "",
       "arguments": {},
       "columnCustomDisplayInfos": {},
       "data": [
        [
         "dbfs:/FileStore/Consulta_de_Contratos_Públicos.csv",
         "Consulta_de_Contratos_Públicos.csv",
         363590,
         1743478130000
        ],
        [
         "dbfs:/FileStore/State_of_data_BR_2023_Kaggle___df_survey_2023.csv",
         "State_of_data_BR_2023_Kaggle___df_survey_2023.csv",
         15241470,
         1744069381000
        ],
        [
         "dbfs:/FileStore/tables/",
         "tables/",
         0,
         0
        ]
       ],
       "datasetInfos": [],
       "dbfsResultPath": null,
       "isJsonSchema": true,
       "metadata": {},
       "overflow": false,
       "plotOptions": {
        "customPlotOptions": {},
        "displayType": "table",
        "pivotAggregation": null,
        "pivotColumns": null,
        "xColumns": null,
        "yColumns": null
       },
       "removedWidgets": [],
       "schema": [
        {
         "metadata": "{}",
         "name": "path",
         "type": "\"string\""
        },
        {
         "metadata": "{}",
         "name": "name",
         "type": "\"string\""
        },
        {
         "metadata": "{}",
         "name": "size",
         "type": "\"long\""
        },
        {
         "metadata": "{}",
         "name": "modificationTime",
         "type": "\"long\""
        }
       ],
       "type": "table"
      }
     },
     "output_type": "display_data"
    }
   ],
   "source": [
    "#Ver o local que está o arquivo csv\n",
    "display(dbutils.fs.ls('dbfs:/FileStore/'))"
   ]
  },
  {
   "cell_type": "code",
   "execution_count": 0,
   "metadata": {
    "application/vnd.databricks.v1+cell": {
     "cellMetadata": {
      "byteLimit": 2048000,
      "rowLimit": 10000
     },
     "inputWidgets": {},
     "nuid": "87f64147-a57a-4cab-8912-41cab207ac96",
     "showTitle": false,
     "tableResultSettingsMap": {},
     "title": ""
    }
   },
   "outputs": [
    {
     "output_type": "display_data",
     "data": {
      "text/html": [
       "<style scoped>\n",
       "  .table-result-container {\n",
       "    max-height: 300px;\n",
       "    overflow: auto;\n",
       "  }\n",
       "  table, th, td {\n",
       "    border: 1px solid black;\n",
       "    border-collapse: collapse;\n",
       "  }\n",
       "  th, td {\n",
       "    padding: 5px;\n",
       "  }\n",
       "  th {\n",
       "    text-align: left;\n",
       "  }\n",
       "</style><div class='table-result-container'><table class='table-result'><thead style='background-color: white'><tr><th>('P0', 'id')</th><th>('P1_a ', 'Idade')</th><th>('P1_a_1 ', 'Faixa idade')</th><th>('P1_b ', 'Genero')</th><th>('P1_c ', 'Cor/raca/etnia')</th><th>('P1_d ', 'PCD')</th><th>('P1_e ', 'experiencia_profissional_prejudicada')</th><th>('P1_e_1 ', 'Não acredito que minha experiência profissional seja afetada')</th><th>('P1_e_2 ', 'Experiencia prejudicada devido a minha Cor Raça Etnia')</th><th>('P1_e_3 ', 'Experiencia prejudicada devido a minha identidade de gênero')</th><th>('P1_e_4 ', 'Experiencia prejudicada devido ao fato de ser PCD')</th><th>('P1_f ', 'aspectos_prejudicados')</th><th>('P1_f_1', 'Quantidade de oportunidades de emprego/vagas recebidas')</th><th>('P1_f_2', 'Senioridade das vagas recebidas em relação à sua experiência')</th><th>('P1_f_3', 'Aprovação em processos seletivos/entrevistas')</th><th>('P1_f_4', 'Oportunidades de progressão de carreira')</th><th>('P1_f_5', 'Velocidade de progressão de carreira')</th><th>('P1_f_6', 'Nível de cobrança no trabalho/Stress no trabalho')</th><th>('P1_f_7', 'Atenção dada diante das minhas opiniões e ideias')</th><th>('P1_f_8', 'Relação com outros membros da empresa, em momentos de trabalho')</th><th>('P1_f_9', 'Relação com outros membros da empresa, em momentos de integração e outros momentos fora do trabalho')</th><th>('P1_g ', 'vive_no_brasil')</th><th>('P1_i ', 'Estado onde mora')</th><th>('P1_i_1 ', 'uf onde mora')</th><th>('P1_i_2 ', 'Regiao onde mora')</th><th>('P1_j ', 'Mudou de Estado?')</th><th>('P1_k ', 'Regiao de origem')</th><th>('P1_l ', 'Nivel de Ensino')</th><th>('P1_m ', 'Área de Formação')</th><th>('P2_a ', 'Qual sua situação atual de trabalho?')</th><th>('P2_b ', 'Setor')</th><th>('P2_c ', 'Numero de Funcionarios')</th><th>('P2_d ', 'Gestor?')</th><th>('P2_e ', 'Cargo como Gestor')</th><th>('P2_f ', 'Cargo Atual')</th><th>('P2_g ', 'Nivel')</th><th>('P2_h ', 'Faixa salarial')</th><th>('P2_i ', 'Quanto tempo de experiência na área de dados você tem?')</th><th>('P2_j ', 'Quanto tempo de experiência na área de TI/Engenharia de Software você teve antes de começar a trabalhar na área de dados?')</th><th>('P2_k ', 'Você está satisfeito na sua empresa atual?')</th><th>('P2_l ', 'Qual o principal motivo da sua insatisfação com a empresa atual?')</th><th>('P2_l_1 ', 'Falta de oportunidade de crescimento no emprego atual')</th><th>('P2_l_2 ', 'Salário atual não corresponde ao mercado')</th><th>('P2_l_3 ', 'Não tenho uma boa relação com meu líder/gestor')</th><th>('P2_l_4 ', 'Gostaria de trabalhar em em outra área de atuação')</th><th>('P2_l_5 ', 'Gostaria de receber mais benefícios')</th><th>('P2_l_6 ', 'O clima de trabalho/ambiente não é bom')</th><th>('P2_l_7 ', 'Falta de maturidade analítica na empresa')</th><th>('P2_m ', 'Você participou de entrevistas de emprego nos últimos 6 meses?')</th><th>('P2_n ', 'Você pretende mudar de emprego nos próximos 6 meses?')</th><th>('P2_o ', 'Quais os principais critérios que você leva em consideração no momento de decidir onde trabalhar?')</th><th>('P2_o_1 ', 'Remuneração/Salário')</th><th>('P2_o_2 ', 'Benefícios')</th><th>('P2_o_3 ', 'Propósito do trabalho e da empresa')</th><th>('P2_o_4 ', 'Flexibilidade de trabalho remoto')</th><th>('P2_o_5 ', 'Ambiente e clima de trabalho')</th><th>('P2_o_6 ', 'Oportunidade de aprendizado e trabalhar com referências na área')</th><th>('P2_o_7 ', 'Plano de carreira e oportunidades de crescimento profissional')</th><th>('P2_o_8 ', 'Maturidade da empresa em termos de tecnologia e dados')</th><th>('P2_o_9 ', 'Qualidade dos gestores e líderes')</th><th>('P2_o_10 ', 'Reputação que a empresa tem no mercado')</th><th>('P2_q ', 'Empresa que trabaha passou por layoff em 2023')</th><th>('P2_r ', 'Atualmente qual a sua forma de trabalho?')</th><th>('P2_s ', 'Qual a forma de trabalho ideal para você?')</th><th>('P2_t ', 'Caso sua empresa decida pelo modelo 100% presencial qual será sua atitude?')</th><th>('P3_a ', 'Qual o número aproximado de pessoas que atuam com dados na sua empresa hoje?')</th><th>('P3_b ', 'Quais desses papéis/cargos fazem parte do time (ou chapter) de dados da sua empresa?')</th><th>('P3_b_1 ', 'Analytics Engineer')</th><th>('P3_b_2 ', 'Engenharia de Dados/Data Engineer')</th><th>('P3_b_3 ', 'Analista de Dados/Data Analyst')</th><th>('P3_b_4 ', 'Cientista de Dados/Data Scientist')</th><th>('P3_b_5 ', 'Database Administrator/DBA')</th><th>('P3_b_6 ', 'Analista de Business Intelligence/BI')</th><th>('P3_b_7 ', 'Arquiteto de Dados/Data Architect')</th><th>('P3_b_8 ', 'Data Product Manager/DPM')</th><th>('P3_b_9 ', 'Business Analyst')</th><th>('P3_c ', 'Quais dessas responsabilidades fazem parte da sua rotina atual de trabalho como gestor?')</th><th>('P3_c_1 ', 'Pensar na visão de longo prazo de dados da empresa e fortalecimento da cultura analítica da companhia.')</th><th>('P3_c_2 ', 'Organização de treinamentos e iniciativas com o objetivo de aumentar a maturidade analítica das áreas de negócios.')</th><th>('P3_c_3 ', 'Atração, seleção e contratação de talentos para o time de dados.')</th><th>('P3_c_4 ', 'Decisão sobre contratação de ferramentas e tecnologias relacionadas a dados.')</th><th>('P3_c_5 ', 'Sou gestor da equipe responsável pela engenharia de dados e por manter o Data Lake da empresa como fonte única dos dados, garantindo a qualidade e confiabilidade da informação.')</th><th>('P3_c_6 ', 'Sou gestor da equipe responsável pela entrega de dados, estudos, relatórios e dashboards para as áreas de negócio da empresa.')</th><th>('P3_c_7 ', 'Sou gestor da equipe responsável por iniciativas e projetos envolvendo Inteligência Artificial e Machine Learning.')</th><th>('P3_c_8 ', 'Apesar de ser gestor ainda atuo na parte técnica, construindo soluções/análises/modelos etc.')</th><th>('P3_c_9 ', 'Gestão de projetos de dados, cuidando das etapas, equipes envolvidas, atingimento dos objetivos etc.')</th><th>('P3_c_10 ', 'Gestão de produtos de dados, cuidando da visão dos produtos, backlog, feedback de usuários etc.')</th><th>('P3_c_11 ', 'Gestão de pessoas, apoio no desenvolvimento das pessoas, evolução de carreira')</th><th>('P3_d ', 'Quais são os 3 maiores desafios que você tem como gestor no atual momento?')</th><th>('P3_d_1 ', 'a Contratar novos talentos.')</th><th>('P3_d_2 ', 'b Reter talentos.')</th><th>('P3_d_3 ', 'c Convencer a empresa a aumentar os investimentos na área de dados.')</th><th>('P3_d_4 ', 'd Gestão de equipes no ambiente remoto.')</th><th>('P3_d_5 ', 'e Gestão de projetos envolvendo áreas multidisciplinares da empresa.')</th><th>('P3_d_6 ', 'f Organizar as informações e garantir a qualidade e confiabilidade.')</th><th>('P3_d_7 ', 'g Conseguir processar e armazenar um alto volume de dados.')</th><th>('P3_d_8 ', 'h Conseguir gerar valor para as áreas de negócios através de estudos e experimentos.')</th><th>('P3_d_9 ', 'i Desenvolver e manter modelos Machine Learning em produção.')</th><th>('P3_d_10 ', 'j Gerenciar a expectativa das áreas de negócio em relação as entregas das equipes de dados.')</th><th>('P3_d_11 ', 'k Garantir a manutenção dos projetos e modelos em produção, em meio ao crescimento da empresa.')</th><th>('P3_d_12 ', 'Conseguir levar inovação para a empresa através dos dados.')</th><th>('P3_d_13 ', 'Garantir retorno do investimento (ROI) em projetos de dados.')</th><th>('P3_d_14 ', 'Dividir o tempo entre entregas técnicas e gestão.')</th><th>('P3_e ', 'AI Generativa é uma prioridade em sua empresa?')</th><th>('P3_f ', 'Tipos de uso de AI Generativa e LLMs na empresa')</th><th>('P3_f_1 ', 'Colaboradores usando AI generativa de forma independente e descentralizada')</th><th>('P3_f_2 ', 'Direcionamento centralizado do uso de AI generativa')</th><th>('P3_f_3 ', 'Desenvolvedores utilizando Copilots')</th><th>('P3_f_4 ', 'AI Generativa e LLMs para melhorar produtos externos')</th><th>('P3_f_5 ', 'AI Generativa e LLMs para melhorar produtos internos para os colaboradores')</th><th>('P3_f_6 ', 'IA Generativa e LLMs como principal frente do negócio')</th><th>('P3_f_7 ', 'IA Generativa e LLMs não é prioridade')</th><th>('P3_f_8 ', 'Não sei opinar sobre o uso de IA Generativa e LLMs na empresa')</th><th>('P3_g ', 'Motivos que levam a empresa a não usar AI Genrativa e LLMs')</th><th>('P3_g_1 ', 'Falta de compreensão dos casos de uso')</th><th>('P3_g_2 ', 'Falta de confiabilidade das saídas (alucinação dos modelos)')</th><th>('P3_g_3 ', 'Incerteza em relação a regulamentação')</th><th>('P3_g_4 ', 'Preocupações com segurança e privacidade de dados')</th><th>('P3_g_5 ', 'Retorno sobre investimento (ROI) não comprovado de IA Generativa')</th><th>('P3_g_6 ', 'Dados da empresa não estão prontos para uso de IA Generativa')</th><th>('P3_g_7 ', 'Falta de expertise ou falta de recursos')</th><th>('P3_g_8 ', 'Alta direção da empresa não vê valor ou não vê como prioridade')</th><th>('P3_g_9 ', 'Preocupações com propriedade intelectual')</th><th>('P4_a ', 'Mesmo que esse não seja seu cargo formal, você considera que sua atuação no dia a dia, reflete alguma das opções listadas abaixo?')</th><th>('P4_a_1 ', 'Atuacao')</th><th>('P4_b ', 'Quais das fontes de dados listadas você já analisou ou processou no trabalho?')</th><th>('P4_b_1 ', 'Dados relacionais (estruturados em bancos SQL)')</th><th>('P4_b_2 ', 'Dados armazenados em bancos NoSQL')</th><th>('P4_b_3 ', 'Imagens')</th><th>('P4_b_4 ', 'Textos/Documentos')</th><th>('P4_b_5 ', 'Vídeos')</th><th>('P4_b_6 ', 'Áudios')</th><th>('P4_b_7 ', 'Planilhas')</th><th>('P4_b_8 ', 'Dados georeferenciados')</th><th>('P4_c ', 'Entre as fontes de dados listadas, quais você utiliza na maior parte do tempo?')</th><th>('P4_c_1 ', 'Dados relacionais (estruturados em bancos SQL)')</th><th>('P4_c_2 ', 'Dados armazenados em bancos NoSQL')</th><th>('P4_c_3 ', 'Imagens')</th><th>('P4_c_4 ', 'Textos/Documentos')</th><th>('P4_c_5 ', 'Vídeos')</th><th>('P4_c_6 ', 'Áudios')</th><th>('P4_c_7 ', 'Planilhas')</th><th>('P4_c_8 ', 'Dados georeferenciados')</th><th>('P4_d ', 'Quais das linguagens listadas abaixo você utiliza no trabalho?')</th><th>('P4_d_1 ', 'SQL')</th><th>('P4_d_2 ', 'R ')</th><th>('P4_d_3 ', 'Python')</th><th>('P4_d_4 ', 'C/C++/C#')</th><th>('P4_d_5 ', '.NET')</th><th>('P4_d_6 ', 'Java')</th><th>('P4_d_7 ', 'Julia')</th><th>('P4_d_8 ', 'SAS/Stata')</th><th>('P4_d_9 ', 'Visual Basic/VBA')</th><th>('P4_d_10 ', 'Scala')</th><th>('P4_d_11 ', 'Matlab')</th><th>('P4_d_12 ', 'Rust')</th><th>('P4_d_13 ', 'PHP')</th><th>('P4_d_14 ', 'JavaScript')</th><th>('P4_d_15 ', 'Não utilizo nenhuma linguagem')</th><th>('P4_e ', 'Entre as linguagens listadas abaixo, qual é a que você mais utiliza no trabalho?')</th><th>('P4_f ', 'Entre as linguagens listadas abaixo, qual é a sua preferida?')</th><th>('P4_g ', 'Quais dos bancos de dados/fontes de dados listados abaixo você utiliza no trabalho?')</th><th>('P4_g_1 ', 'MySQL')</th><th>('P4_g_2 ', 'Oracle')</th><th>('P4_g_3 ', 'SQL SERVER')</th><th>('P4_g_4 ', 'Amazon Aurora ou RDS')</th><th>('P4_g_5 ', 'DynamoDB')</th><th>('P4_g_6 ', 'CoachDB')</th><th>('P4_g_7 ', 'Cassandra')</th><th>('P4_g_8 ', 'MongoDB')</th><th>('P4_g_9 ', 'MariaDB')</th><th>('P4_g_10 ', 'Datomic')</th><th>('P4_g_11 ', 'S3')</th><th>('P4_g_12 ', 'PostgreSQL')</th><th>('P4_g_13 ', 'ElasticSearch')</th><th>('P4_g_14 ', 'DB2')</th><th>('P4_g_15 ', 'Microsoft Access')</th><th>('P4_g_16 ', 'SQLite')</th><th>('P4_g_17 ', 'Sybase')</th><th>('P4_g_18 ', 'Firebase')</th><th>('P4_g_19 ', 'Vertica')</th><th>('P4_g_20 ', 'Redis')</th><th>('P4_g_21 ', 'Neo4J')</th><th>('P4_g_22 ', 'Google BigQuery')</th><th>('P4_g_23 ', 'Google Firestore')</th><th>('P4_g_24 ', 'Amazon Redshift')</th><th>('P4_g_25 ', 'Amazon Athena')</th><th>('P4_g_26 ', 'Snowflake')</th><th>('P4_g_27 ', 'Databricks')</th><th>('P4_g_28 ', 'HBase')</th><th>('P4_g_29 ', 'Presto')</th><th>('P4_g_30 ', 'Splunk')</th><th>('P4_g_31 ', 'SAP HANA')</th><th>('P4_g_32 ', 'Hive')</th><th>('P4_g_33 ', 'Firebird')</th><th>('P4_h ', 'Dentre as opções listadas, qual sua Cloud preferida?')</th><th>('P4_h_1 ', 'Azure (Microsoft)')</th><th>('P4_h_2 ', 'Amazon Web Services (AWS)')</th><th>('P4_h_3 ', 'Google Cloud (GCP)')</th><th>('P4_h_4 ', 'Oracle Cloud')</th><th>('P4_h_5 ', 'IBM')</th><th>('P4_h_6 ', 'Servidores On Premise/Não utilizamos Cloud')</th><th>('P4_h_7 ', 'Cloud Própria')</th><th>('P4_i ', 'Cloud preferida')</th><th>('P4_j ', 'Ferramenta de BI utilizada no dia a dia')</th><th>('P4_j_1 ', 'Microsoft PowerBI')</th><th>('P4_j_2 ', 'Qlik View/Qlik Sense')</th><th>('P4_j_3 ', 'Tableau')</th><th>('P4_j_4 ', 'Metabase')</th><th>('P4_j_5 ', 'Superset')</th><th>('P4_j_6 ', 'Redash')</th><th>('P4_j_7 ', 'Looker')</th><th>('P4_j_8 ', 'Looker Studio(Google Data Studio)')</th><th>('P4_j_9 ', 'Amazon Quicksight')</th><th>('P4_j_10 ', 'Mode')</th><th>('P4_j_11 ', 'Alteryx')</th><th>('P4_j_12 ', 'MicroStrategy')</th><th>('P4_j_13 ', 'IBM Analytics/Cognos')</th><th>('P4_j_14 ', 'SAP Business Objects/SAP Analytics')</th><th>('P4_j_15 ', 'Oracle Business Intelligence')</th><th>('P4_j_16 ', 'Salesforce/Einstein Analytics')</th><th>('P4_j_17 ', 'Birst')</th><th>('P4_j_18 ', 'SAS Visual Analytics')</th><th>('P4_j_19 ', 'Grafana')</th><th>('P4_j_20 ', 'TIBCO Spotfire')</th><th>('P4_j_21 ', 'Pentaho')</th><th>('P4_j_22 ', 'Fazemos todas as análises utilizando apenas Excel ou planilhas do google')</th><th>('P4_j_23 ', 'Não utilizo nenhuma ferramenta de BI no trabalho')</th><th>('P4_k ', 'Qual sua ferramenta de BI preferida?')</th><th>('P4_l ', 'Qual o tipo de uso de AI Generativa e LLMs na empresa')</th><th>('P4_l_1 ', 'Colaboradores usando AI generativa de forma independente e descentralizada')</th><th>('P4_l_2 ', 'Direcionamento centralizado do uso de AI generativa')</th><th>('P4_l_3 ', 'Desenvolvedores utilizando Copilots')</th><th>('P4_l_4 ', 'AI Generativa e LLMs para melhorar produtos externos para os clientes finais')</th><th>('P4_l_5 ', 'AI Generativa e LLMs para melhorar produtos internos para os colaboradores')</th><th>('P4_l_6 ', 'IA Generativa e LLMs como principal frente do negócio')</th><th>('P4_l_7 ', 'IA Generativa e LLMs não é prioridade')</th><th>('P4_l_8 ', 'Não sei opinar sobre o uso de IA Generativa e LLMs na empresa')</th><th>('P4_m ', 'Utiliza ChatGPT ou LLMs no trabalho?')</th><th>('P4_m_1 ', 'Não uso soluções de AI Generativa com foco em produtividade')</th><th>('P4_m_2 ', 'Uso soluções gratuitas de AI Generativa com foco em produtividade')</th><th>('P4_m_3 ', 'Uso e pago pelas soluções de AI Generativa com foco em produtividade')</th><th>('P4_m_4 ', 'A empresa que trabalho paga pelas soluções de AI Generativa com foco em produtividade')</th><th>('P4_m_5 ', 'Uso soluções do tipo Copilot')</th><th>('P5_a ', 'Qual seu objetivo na área de dados?')</th><th>('P5_b ', 'Qual oportunidade você está buscando?')</th><th>('P5_c ', 'Há quanto tempo você busca uma oportunidade na área de dados?')</th><th>('P5_d ', 'Como tem sido a busca por um emprego na área de dados?')</th><th>('P6_a ', 'Quais das opções abaixo fazem parte da sua rotina no trabalho atual como engenheiro de dados?')</th><th>('P6_a_1 ', 'Desenvolvo pipelines de dados utilizando linguagens de programação como Python, Scala, Java etc.')</th><th>('P6_a_2 ', 'Realizo construções de ETL's em ferramentas como Pentaho, Talend, Dataflow etc.')</th><th>('P6_a_3 ', 'Crio consultas através da linguagem SQL para exportar informações e compartilhar com as áreas de negócio.')</th><th>('P6_a_4 ', 'Atuo na integração de diferentes fontes de dados através de plataformas proprietárias como Stitch Data, Fivetran etc.')</th><th>('P6_a_5 ', 'Modelo soluções de arquitetura de dados, criando componentes de ingestão de dados, transformação e recuperação da informação.')</th><th>('P6_a_6 ', 'Desenvolvo/cuido da manutenção de repositórios de dados baseados em streaming de eventos como Data Lakes e Data Lakehouses.')</th><th>('P6_a_7 ', 'Atuo na modelagem dos dados, com o objetivo de criar conjuntos de dados como Data Warehouses, Data Marts etc.')</th><th>('P6_a_8 ', 'Cuido da qualidade dos dados, metadados e dicionário de dados.')</th><th>('P6_a_9 ', 'Nenhuma das opções listadas refletem meu dia a dia.')</th><th>('P6_b ', 'Quais as ferramentas/tecnologias de ETL que você utiliza no trabalho como Data Engineer?')</th><th>('P6_b_1 ', 'Scripts Python')</th><th>('P6_b_2 ', 'SQL & Stored Procedures')</th><th>('P6_b_3 ', 'Apache Airflow')</th><th>('P6_b_4 ', 'Apache NiFi')</th><th>('P6_b_5 ', 'Luigi')</th><th>('P6_b_6 ', 'AWS Glue')</th><th>('P6_b_7 ', 'Talend')</th><th>('P6_b_8 ', 'Pentaho')</th><th>('P6_b_9 ', 'Alteryx')</th><th>('P6_b_10 ', 'Stitch')</th><th>('P6_b_11 ', 'Fivetran')</th><th>('P6_b_12 ', 'Google Dataflow')</th><th>('P6_b_13 ', 'Oracle Data Integrator')</th><th>('P6_b_14 ', 'IBM DataStage')</th><th>('P6_b_15 ', 'SAP BW ETL')</th><th>('P6_b_16 ', 'SQL Server Integration Services (SSIS))</th><th>('P6_b_17 ', 'SAS Data Integration')</th><th>('P6_b_18 ', 'Qlik Sense')</th><th>('P6_b_19 ', 'Knime')</th><th>('P6_b_20 ', 'Databricks')</th><th>('P6_b_21 ', 'Não utilizo ferramentas de ETL')</th><th>('P6_c ', 'Sua organização possui um Data Lake?')</th><th>('P6_d ', 'Qual tecnologia utilizada como plataforma do Data Lake?')</th><th>('P6_e ', 'Sua organização possui um Data Warehouse?')</th><th>('P6_f ', 'Qual tecnologia utilizada como plataforma do Data Warehouse?')</th><th>('P6_g ', 'Quais as ferramentas de gestão de Qualidade de dados, Metadados e catálogo de dados você utiliza no trabalho?')</th><th>('P6_h ', 'Em qual das opções abaixo você gasta a maior parte do seu tempo?')</th><th>('P6_h_1 ', 'Desenvolvendo pipelines de dados utilizando linguagens de programação como Python, Scala, Java etc.')</th><th>('P6_h_2 ', 'Realizando construções de ETL's em ferramentas como Pentaho, Talend, Dataflow etc.')</th><th>('P6_h_3 ', 'Criando consultas através da linguagem SQL para exportar informações e compartilhar com as áreas de negócio.')</th><th>('P6_h_4 ', 'Atuando na integração de diferentes fontes de dados através de plataformas proprietárias como Stitch Data, Fivetran etc.')</th><th>('P6_h_5 ', 'Modelando soluções de arquitetura de dados, criando componentes de ingestão de dados, transformação e recuperação da informação.')</th><th>('P6_h_6 ', 'Desenvolvendo/cuidando da manutenção de repositórios de dados baseados em streaming de eventos como Data Lakes e Data Lakehouses.')</th><th>('P6_h_7 ', 'Atuando na modelagem dos dados, com o objetivo de criar conjuntos de dados como Data Warehouses, Data Marts etc.')</th><th>('P6_h_8 ', 'Cuidando da qualidade dos dados, metadados e dicionário de dados.')</th><th>('P6_h_9 ', 'Nenhuma das opções listadas refletem meu dia a dia.')</th><th>('P7_1 ', 'Quais das opções abaixo fazem parte da sua rotina no trabalho atual com análise de dados?')</th><th>('P7_a_1 ', 'Processo e analiso dados utilizando linguagens de programação como Python, R etc.')</th><th>('P7_a_2 ', 'Realizo construções de dashboards em ferramentas de BI como PowerBI, Tableau, Looker, Qlik etc.')</th><th>('P7_a_3 ', 'Crio consultas através da linguagem SQL para exportar informações e compartilhar com as áreas de negócio.')</th><th>('P7_a_4 ', 'Utilizo API's para extrair dados e complementar minhas análises.')</th><th>('P7_a_5 ', 'Realizo experimentos e estudos utilizando metodologias estatísticas como teste de hipótese, modelos de regressão etc.')</th><th>('P7_a_6 ', 'Desenvolvo/cuido da manutenção de ETL's utilizando tecnologias como Talend, Pentaho, Airflow, Dataflow etc.')</th><th>('P7_a_7 ', 'Atuo na modelagem dos dados, com o objetivo de criar conjuntos de dados, Data Warehouses, Data Marts etc.')</th><th>('P7_a_8 ', 'Desenvolvo/cuido da manutenção de planilhas para atender as áreas de negócio.')</th><th>('P7_a_9 ', 'Utilizo ferramentas avançadas de estatística como SASS, PSS, Stata etc')</th><th>('P7_a_10 ', 'Nenhuma das opções listadas refletem meu dia a dia.')</th><th>('P7_b ', 'Quais as ferramentas/tecnologias de ETL que você utiliza no trabalho como Data Analyst?')</th><th>('P7_b_1 ', 'Scripts Python')</th><th>('P7_b_2 ', 'SQL & Stored Procedures')</th><th>('P7_b_3 ', 'Apache Airflow')</th><th>('P7_b_4 ', 'Apache NiFi')</th><th>('P7_b_5 ', 'Luigi')</th><th>('P7_b_6 ', 'AWS Glue')</th><th>('P7_b_7 ', 'Talend')</th><th>('P7_b_8 ', 'Pentaho')</th><th>('P7_b_9 ', 'Alteryx')</th><th>('P7_b_10 ', 'Stitch')</th><th>('P7_b_11 ', 'Fivetran')</th><th>('P7_b_12 ', 'Google Dataflow')</th><th>('P7_b_13 ', 'Oracle Data Integrator')</th><th>('P7_b_14 ', 'IBM DataStage')</th><th>('P7_b_15 ', 'SAP BW ETL')</th><th>('P7_b_16 ', 'SQL Server Integration Services (SSIS)')</th><th>('P7_b_17 ', 'SAS Data Integration')</th><th>('P7_b_18 ', 'Qlik Sense')</th><th>('P7_b_19 ', 'Knime')</th><th>('P7_b_20 ', 'Databricks')</th><th>('P7_b_21 ', 'Não utilizo ferramentas de ETL')</th><th>('P7_c ', 'Sua empresa utiliza alguma das ferramentas listadas para dar mais autonomia em análise de dados para as áreas de negócio?')</th><th>('P7_c_1 ', 'Ferramentas de AutoML como H2O.ai, Data Robot, BigML etc.')</th><th>\"('P7_c_2 ', '\"\"\"\"Point and Click\"\"\"\" Analytics como Alteryx</th><th> Knime</th><th> Rapidminer etc.')\"</th><th>('P7_c_3 ', 'Product metricts & Insights como Mixpanel, Amplitude, Adobe Analytics.')</th><th>('P7_c_4 ', 'Ferramentas de análise dentro de ferramentas de CRM como Salesforce Einstein Anaytics ou Zendesk dashboards.')</th><th>('P7_c_5 ', 'Minha empresa não utiliza essas ferramentas.')</th><th>('P7_c_6 ', 'Não sei informar.')</th><th>('P7_d ', 'Em qual das opções abaixo você gasta a maior parte do seu tempo de trabalho?')</th><th>('P7_d_1 ', 'Processando e analisando dados utilizando linguagens de programação como Python, R etc.')</th><th>('P7_d_2 ', 'Realizando construções de dashboards em ferramentas de BI como PowerBI, Tableau, Looker, Qlik etc.')</th><th>('P7_d_3 ', 'Criando consultas através da linguagem SQL para exportar informações e compartilhar com as áreas de negócio.')</th><th>('P7_d_4 ', 'Utilizando API's para extrair dados e complementar minhas análises.')</th><th>('P7_d_5 ', 'Realizando experimentos e estudos utilizando metodologias estatísticas como teste de hipótese, modelos de regressão etc.')</th><th>('P7_d_6 ', 'Desenvolvendo/cuidando da manutenção de ETL's utilizando tecnologias como Talend, Pentaho, Airflow, Dataflow etc.')</th><th>('P7_d_7 ', 'Atuando na modelagem dos dados, com o objetivo de criar conjuntos de dados, Data Warehouses, Data Marts etc.')</th><th>('P7_d_8 ', 'Desenvolvendo/cuidando da manutenção de planilhas do Excel ou Google Sheets para atender as áreas de negócio.')</th><th>('P7_d_9 ', 'Utilizando ferramentas avançadas de estatística como SAS, SPSS, Stata etc, para realizar análises.')</th><th>('P7_d_10 ', 'Nenhuma das opções listadas refletem meu dia a dia.')</th><th>('P8_a ', 'Quais das opções abaixo fazem parte da sua rotina no trabalho atual com ciência de dados?')</th><th>('P8_a_1 ', 'Estudos Ad-hoc com o objetivo de confirmar hipóteses, realizar modelos preditivos, forecasts, análise de cluster para resolver problemas pontuais e responder perguntas das áreas de negócio.')</th><th>('P8_a_2 ', 'Sou responsável pela coleta e limpeza dos dados que uso para análise e modelagem.')</th><th>('P8_a_3 ', 'Sou responsável por entrar em contato com os times de negócio para definição do problema, identificar a solução e apresentação de resultados.')</th><th>('P8_a_4 ', 'Desenvolvo modelos de Machine Learning com o objetivo de colocar em produção em sistemas (produtos de dados).')</th><th>('P8_a_5 ', 'Sou responsável por colocar modelos em produção, criar os pipelines de dados, APIs de consumo e monitoramento.')</th><th>('P8_a_6 ', 'Cuido da manutenção de modelos de Machine Learning já em produção, atuando no monitoramento, ajustes e refatoração quando necessário.')</th><th>('P8_a_7 ', 'Realizo construções de dashboards em ferramentas de BI como PowerBI, Tableau, Looker, Qlik, etc')</th><th>('P8_a_8 ', 'Utilizo ferramentas avançadas de estatística como SAS, SPSS, Stata etc, para realizar análises estatísticas e ajustar modelos.')</th><th>('P8_a_9 ', 'Crio e dou manutenção em ETLs, DAGs e automações de pipelines de dados.')</th><th>('P8_a_10 ', 'Crio e gerencio soluções de Feature Store e cultura de MLOps.')</th><th>('P8_a_11 ', 'Sou responsável por criar e manter a infra que meus modelos e soluções rodam (clusters, servidores, API, containers, etc.)')</th><th>('P8_a_12 ', 'Treino e aplico LLM's para solucionar problemas de negócio.')</th><th>('P8_b ', 'Quais as técnicas e métodos listados abaixo você costuma utilizar no trabalho?')</th><th>('P8_b_1 ', 'Utilizo modelos de regressão (linear, logística, GLM)')</th><th>('P8_b_2 ', 'Utilizo redes neurais ou modelos baseados em árvore para criar modelos de classificação')</th><th>('P8_b_3 ', 'Desenvolvo sistemas de recomendação (RecSys)')</th><th>('P8_b_4 ', 'Utilizo métodos estatísticos Bayesianos para analisar dados')</th><th>('P8_b_5 ', 'Utilizo técnicas de NLP (Natural Language Processing) para análisar dados não-estruturados')</th><th>('P8_b_6 ', 'Utilizo métodos estatísticos clássicos (Testes de hipótese, análise multivariada, sobrevivência, dados longitudinais, inferência estatistica) para analisar dados')</th><th>('P8_b_7 ', 'Utilizo cadeias de Markov ou HMM's para realizar análises de dados')</th><th>('P8_b_8 ', 'Desenvolvo técnicas de Clusterização (K-means, Spectral, DBScan etc)')</th><th>('P8_b_9 ', 'Realizo previsões através de modelos de Séries Temporais (Time Series)')</th><th>('P8_b_10 ', 'Utilizo modelos de Reinforcement Learning (aprendizado por reforço)')</th><th>('P8_b_11 ', 'Utilizo modelos de Machine Learning para detecção de fraude')</th><th>('P8_b_12 ', 'Utilizo métodos de Visão Computacional')</th><th>('P8_b_13 ', 'Utilizo modelos de Detecção de Churn')</th><th>('P8_b_14 ', 'Utilizo LLM's para solucionar problemas de negócio')</th><th>('P8_3 ', 'Quais dessas tecnologias fazem parte do seu dia a dia como cientista de dados?')</th><th>('P8_c_1 ', 'Ferramentas de BI (PowerBI, Looker, Tableau, Qlik etc)')</th><th>('P8_c_2 ', 'Planilhas (Excel, Google Sheets etc)')</th><th>('P8_c_3 ', 'Ambientes de desenvolvimento local (R-studio, JupyterLab, Anaconda)')</th><th>('P8_c_4 ', 'Ambientes de desenvolvimento na nuvem (Google Colab, AWS Sagemaker, Kaggle Notebooks etc)')</th><th>('P8_c_5 ', 'Ferramentas de AutoML (Datarobot, H2O, Auto-Keras etc)')</th><th>('P8_c_6 ', 'Ferramentas de ETL (Apache Airflow, NiFi, Stitch, Fivetran, Pentaho etc)')</th><th>('P8_c_7 ', 'Plataformas de Machine Learning (TensorFlow, Azure Machine Learning, Kubeflow etc)')</th><th>('P8_c_8 ', 'Feature Store (Feast, Hopsworks, AWS Feature Store, Databricks Feature Store etc)')</th><th>('P8_c_9 ', 'Sistemas de controle de versão (Github, DVC, Neptune, Gitlab etc)')</th><th>('P8_c_10 ', 'Plataformas de Data Apps (Streamlit, Shiny, Plotly Dash etc)')</th><th>('P8_c_11 ', 'Ferramentas de estatística avançada como SPSS, SAS, etc.')</th><th>('P8_d ', 'Em qual das opções abaixo você gasta a maior parte do seu tempo no trabalho?')</th><th>('P8_d_1 ', 'Estudos Ad-hoc com o objetivo de confirmar hipóteses, realizar modelos preditivos, forecasts, análise de cluster para resolver problemas pontuais e responder perguntas das áreas de negócio.')</th><th>('P8_d_2 ', 'Coletando e limpando os dados que uso para análise e modelagem.')</th><th>('P8_d_3 ', 'Entrando em contato com os times de negócio para definição do problema, identificar a solução e apresentação de resultados.')</th><th>('P8_d_4 ', 'Desenvolvendo modelos de Machine Learning com o objetivo de colocar em produção em sistemas (produtos de dados).')</th><th>('P8_d_5 ', 'Colocando modelos em produção, criando os pipelines de dados, APIs de consumo e monitoramento.')</th><th>('P8_d_6 ', 'Cuidando da manutenção de modelos de Machine Learning já em produção, atuando no monitoramento, ajustes e refatoração quando necessário.')</th><th>('P8_d_7 ', 'Realizando construções de dashboards em ferramentas de BI como PowerBI, Tableau, Looker, Qlik, etc.')</th><th>('P8_d_8 ', 'Utilizando ferramentas avançadas de estatística como SAS, SPSS, Stata etc, para realizar análises.')</th><th>('P8_d_9 ', 'Criando e dando manutenção em ETLs, DAGs e automações de pipelines de dados.')</th><th>('P8_d_10 ', 'Criando e gerenciando soluções de Feature Store e cultura de MLOps.')</th><th>('P8_d_11 ', 'Criando e mantendo a infra que meus modelos e soluções rodam (clusters, servidores, API, containers, etc.)')</th><th>('P8_d_12 ', 'Treinando e aplicando LLM's para solucionar problemas de negócio.')</th></tr></thead><tbody><tr><td>001b2d1qtli8t9z7oqgdhj001b2d4i0g</td><td>31</td><td>30-34</td><td>Masculino</td><td>Branca</td><td>Não</td><td>null</td><td>null</td><td>null</td><td>null</td><td>null</td><td>null</td><td>null</td><td>null</td><td>null</td><td>null</td><td>null</td><td>null</td><td>null</td><td>null</td><td>null</td><td>1</td><td>Minas Gerais (MG)</td><td>MG</td><td>Sudeste</td><td>1</td><td>null</td><td>Doutorado ou Phd</td><td>Computação / Engenharia de Software / Sistemas de Informação/ TI</td><td>Empregado (CLT)</td><td>Finanças ou Bancos</td><td>Acima de 3.000</td><td>0</td><td>null</td><td>Cientista de Dados/Data Scientist</td><td>Sênior</td><td>de R$ 12.001/mês a R$ 16.000/mês</td><td>de 3 a 4 anos</td><td>Não tive experiência na área de TI/Engenharia de Software antes de começar a trabalhar na área de dados</td><td>0</td><td>Trabalho presencial</td><td>0</td><td>0</td><td>0</td><td>0</td><td>0</td><td>0</td><td>0</td><td>Sim, fiz entrevistas mas não fui aprovado (ou ainda aguardo resposta)</td><td>Estou em busca de oportunidades dentro ou fora do Brasil</td><td>Flexibilidade de trabalho remoto, Remuneração/Salário, Oportunidade de aprendizado e trabalhar com referências na área</td><td>1</td><td>0</td><td>0</td><td>1</td><td>0</td><td>1</td><td>0</td><td>0</td><td>0</td><td>0</td><td>Não ocorreram layoffs/demissões em massa na empresa em que trabalho</td><td>Modelo híbrido flexível (o funcionário tem liberdade para escolher quando estar no escritório presencialmente)</td><td>Modelo 100% remoto</td><td>Vou procurar outra oportunidade no modelo 100% remoto</td><td>null</td><td>null</td><td>null</td><td>null</td><td>null</td><td>null</td><td>null</td><td>null</td><td>null</td><td>null</td><td>null</td><td>null</td><td>null</td><td>null</td><td>null</td><td>null</td><td>null</td><td>null</td><td>null</td><td>null</td><td>null</td><td>null</td><td>null</td><td>null</td><td>null</td><td>null</td><td>null</td><td>null</td><td>null</td><td>null</td><td>null</td><td>null</td><td>null</td><td>null</td><td>null</td><td>null</td><td>null</td><td>null</td><td>null</td><td>null</td><td>null</td><td>null</td><td>null</td><td>null</td><td>null</td><td>null</td><td>null</td><td>null</td><td>null</td><td>null</td><td>null</td><td>null</td><td>null</td><td>null</td><td>null</td><td>null</td><td>null</td><td>null</td><td>*Ciência de Dados/Machine Learning/AI: *Desenha e executa experimentos com o objetivo de responder perguntas do negócio; desenvolve modelos preditivos e algoritmos de Machine Learning com o objetivo de otimizar e automatizar a tomada de decisão.</td><td>Ciência de Dados</td><td>Dados relacionais (estruturados em bancos SQL), Textos/Documentos, Dados armazenados em bancos NoSQL, Planilhas, Áudios, Dados georeferenciados</td><td>1</td><td>1</td><td>0</td><td>1</td><td>0</td><td>1</td><td>1</td><td>1</td><td>Textos/Documentos, Dados relacionais (estruturados em bancos SQL)</td><td>1</td><td>0</td><td>0</td><td>1</td><td>0</td><td>0</td><td>0</td><td>0</td><td>Python, SQL</td><td>1</td><td>0</td><td>1</td><td>0</td><td>0</td><td>0</td><td>0</td><td>0</td><td>0</td><td>0</td><td>0</td><td>0</td><td>0</td><td>0</td><td>0</td><td>Python</td><td>Python</td><td>SQLite, SQL SERVER, S3, Redis, Hive</td><td>0</td><td>0</td><td>1</td><td>0</td><td>0</td><td>0</td><td>0</td><td>0</td><td>0</td><td>0</td><td>1</td><td>0</td><td>0</td><td>0</td><td>0</td><td>1</td><td>0</td><td>0</td><td>0</td><td>1</td><td>0</td><td>0</td><td>0</td><td>0</td><td>0</td><td>0</td><td>0</td><td>0</td><td>0</td><td>0</td><td>0</td><td>1</td><td>0</td><td>Amazon Web Services (AWS)</td><td>1</td><td>0</td><td>0</td><td>0</td><td>0</td><td>0</td><td>0</td><td>Amazon Web Services (AWS)</td><td>Não utilizo nenhuma ferramenta de BI no trabalho</td><td>0</td><td>0</td><td>0</td><td>0</td><td>0</td><td>0</td><td>0</td><td>0</td><td>0</td><td>0</td><td>0</td><td>0</td><td>0</td><td>0</td><td>0</td><td>0</td><td>0</td><td>0</td><td>0</td><td>0</td><td>0</td><td>0</td><td>1</td><td>Streamlit</td><td>Uma ou mais equipes testando e aplicando soluções de AI Generativa e LLMs, com o objetivo de propor melhorias e inovações para impulsionar a diferenciação de produtos oferecidos para os clientes finais (exemplo: novos recursos, produtos, serviços etc), Uma ou mais equipes testando e aplicando soluções de AI Generativa e LLMs, com o objetivo de aumentar a eficiencia de processos internos (como produtividade das equipes internas, ou melhoria de processos existentes)., Equipes de desenvolvimento utilizando soluções no estilo Copilot (Github Copilot, AWS CodeWhisperer etc) para obter mais produtividade no processo de desenvolvimento.</td><td>0</td><td>0</td><td>1</td><td>1</td><td>1</td><td>0</td><td>0</td><td>0</td><td>Não utilizo nenhum tipo de solução de IA Generativa para melhorar a produtividade no dia a dia.</td><td>1</td><td>0</td><td>0</td><td>0</td><td>0</td><td>null</td><td>null</td><td>null</td><td>null</td><td>null</td><td>null</td><td>null</td><td>null</td><td>null</td><td>null</td><td>null</td><td>null</td><td>null</td><td>null</td><td>null</td><td>null</td><td>null</td><td>null</td><td>null</td><td>null</td><td>null</td><td>null</td><td>null</td><td>null</td><td>null</td><td>null</td><td>null</td><td>null</td><td>null</td><td>null</td><td>null</td><td>null</td><td>null</td><td>null</td><td>null</td><td>null</td><td>null</td><td>null</td><td>null</td><td>null</td><td>null</td><td>null</td><td>null</td><td>null</td><td>null</td><td>null</td><td>null</td><td>null</td><td>null</td><td>null</td><td>null</td><td>null</td><td>null</td><td>null</td><td>null</td><td>null</td><td>null</td><td>null</td><td>null</td><td>null</td><td>null</td><td>null</td><td>null</td><td>null</td><td>null</td><td>null</td><td>null</td><td>null</td><td>null</td><td>null</td><td>null</td><td>null</td><td>null</td><td>null</td><td>null</td><td>null</td><td>null</td><td>null</td><td>null</td><td>null</td><td>null</td><td>null</td><td>null</td><td>null</td><td>null</td><td>null</td><td>null</td><td>null</td><td>null</td><td>null</td><td>null</td><td>null</td><td>null</td><td>null</td><td>null</td><td>null</td><td>null</td><td>null</td><td>null</td><td>null</td><td>null</td><td>null</td><td>Treinando e aplicando LLM's para solucionar problemas de negócio., Sou responsável por entrar em contato com os times de negócio para definição do problema, identificar a solução e apresentação de resultados., Sou responsável pela coleta e limpeza dos dados que uso para análise e modelagem.</td><td>0</td><td>1</td><td>1</td><td>0</td><td>0</td><td>0</td><td>0</td><td>0</td><td>0</td><td>0</td><td>0</td><td>1</td><td>Utilizo técnicas de NLP (Natural Language Processing) para análisar dados não-estruturados.</td><td>0</td><td>0</td><td>0</td><td>0</td><td>1</td><td>0</td><td>0</td><td>0</td><td>0</td><td>0</td><td>0</td><td>0</td><td>0</td><td>0</td><td>Planilhas (Excel, Google Sheets etc)., Ambientes de desenvolvimento na nuvem (Google Colab, AWS Sagemaker, Kaggle Notebooks etc)., Sistemas de controle de versão (Github, DVC, Neptune, Gitlab etc)., Plataformas de Data Apps (Streamlit, Shiny, Plotly Dash etc).</td><td>0</td><td>1</td><td>0</td><td>1</td><td>0</td><td>0</td><td>0</td><td>0</td><td>1</td><td>1</td><td>0</td><td>Coletando e limpando dos dados que uso para análise e modelagem., Entrando em contato com os times de negócio para definição do problema, identificar a solução e apresentação de resultados.</td><td>0</td><td>1</td><td>1</td><td>0</td><td>0</td><td>0</td><td>0</td><td>0</td><td>0</td><td>0</td><td>0</td><td>0</td><td>null</td><td>null</td></tr><tr><td>0026aa3fwd78u0026asg7456tfkjg2cs</td><td>30</td><td>30-34</td><td>Masculino</td><td>Branca</td><td>Não</td><td>null</td><td>null</td><td>null</td><td>null</td><td>null</td><td>null</td><td>null</td><td>null</td><td>null</td><td>null</td><td>null</td><td>null</td><td>null</td><td>null</td><td>null</td><td>1</td><td>Espírito Santo (ES)</td><td>ES</td><td>Sudeste</td><td>1</td><td>null</td><td>Graduação/Bacharelado</td><td>Computação / Engenharia de Software / Sistemas de Informação/ TI</td><td>Empreendedor ou Empregado (CNPJ)</td><td>Finanças ou Bancos</td><td>de 101 a 500</td><td>0</td><td>null</td><td>Analista de BI/BI Analyst</td><td>Pleno</td><td>de R$ 6.001/mês a R$ 8.000/mês</td><td>de 3 a 4 anos</td><td>de 3 a 4 anos</td><td>1</td><td>null</td><td>null</td><td>null</td><td>null</td><td>null</td><td>null</td><td>null</td><td>null</td><td>Sim, fui aprovado mas decidi não mudar de emprego</td><td>Não estou buscando, mas me considero aberto a outras oportunidades</td><td>Remuneração/Salário, Benefícios, Flexibilidade de trabalho remoto</td><td>1</td><td>1</td><td>0</td><td>1</td><td>0</td><td>0</td><td>0</td><td>0</td><td>0</td><td>0</td><td>Não ocorreram layoffs/demissões em massa na empresa em que trabalho</td><td>Modelo 100% remoto</td><td>Modelo 100% remoto</td><td>Vou procurar outra oportunidade no modelo híbrido ou remoto</td><td>null</td><td>null</td><td>null</td><td>null</td><td>null</td><td>null</td><td>null</td><td>null</td><td>null</td><td>null</td><td>null</td><td>null</td><td>null</td><td>null</td><td>null</td><td>null</td><td>null</td><td>null</td><td>null</td><td>null</td><td>null</td><td>null</td><td>null</td><td>null</td><td>null</td><td>null</td><td>null</td><td>null</td><td>null</td><td>null</td><td>null</td><td>null</td><td>null</td><td>null</td><td>null</td><td>null</td><td>null</td><td>null</td><td>null</td><td>null</td><td>null</td><td>null</td><td>null</td><td>null</td><td>null</td><td>null</td><td>null</td><td>null</td><td>null</td><td>null</td><td>null</td><td>null</td><td>null</td><td>null</td><td>null</td><td>null</td><td>null</td><td>null</td><td>*Análise de Dados/BI:* Extrai e cruza dados unindo diferentes fontes da informação; analisa dados visando identificar padrões, gerar insights e levantar perguntas; desenvolve dashboards, relatórios e visualizações de dados em ferramentas de BI.</td><td>Análise de Dados</td><td>Dados relacionais (estruturados em bancos SQL), Dados armazenados em bancos NoSQL, Imagens, Vídeos</td><td>1</td><td>1</td><td>1</td><td>0</td><td>1</td><td>0</td><td>0</td><td>0</td><td>Dados relacionais (estruturados em bancos SQL)</td><td>1</td><td>0</td><td>0</td><td>0</td><td>0</td><td>0</td><td>0</td><td>0</td><td>SQL, Python</td><td>1</td><td>0</td><td>1</td><td>0</td><td>0</td><td>0</td><td>0</td><td>0</td><td>0</td><td>0</td><td>0</td><td>0</td><td>0</td><td>0</td><td>0</td><td>SQL</td><td>Python</td><td>S3</td><td>0</td><td>0</td><td>0</td><td>0</td><td>0</td><td>0</td><td>0</td><td>0</td><td>0</td><td>0</td><td>1</td><td>0</td><td>0</td><td>0</td><td>0</td><td>0</td><td>0</td><td>0</td><td>0</td><td>0</td><td>0</td><td>0</td><td>0</td><td>0</td><td>0</td><td>0</td><td>0</td><td>0</td><td>0</td><td>0</td><td>0</td><td>0</td><td>0</td><td>Google Cloud (GCP), Amazon Web Services (AWS)</td><td>1</td><td>1</td><td>0</td><td>0</td><td>0</td><td>0</td><td>0</td><td>Google Cloud (GCP)</td><td>Looker, Microsoft PowerBI</td><td>1</td><td>0</td><td>0</td><td>0</td><td>0</td><td>0</td><td>1</td><td>0</td><td>0</td><td>0</td><td>0</td><td>0</td><td>0</td><td>0</td><td>0</td><td>0</td><td>0</td><td>0</td><td>0</td><td>0</td><td>0</td><td>0</td><td>0</td><td>Looker</td><td>Não tenho visto soluções de IA Generatica e LLMs sendo tradadas como prioridade pela empresa e pessoas, os poucos casos de uso são isolados ou ainda estão muito no início.</td><td>0</td><td>0</td><td>0</td><td>0</td><td>0</td><td>0</td><td>1</td><td>0</td><td>Utilizo soluções pagas de AI Generativa (como por exemplo ChatGPT plus, MidJourney etc) e pago do meu próprio bolso.</td><td>0</td><td>0</td><td>1</td><td>0</td><td>0</td><td>null</td><td>null</td><td>null</td><td>null</td><td>null</td><td>null</td><td>null</td><td>null</td><td>null</td><td>null</td><td>null</td><td>null</td><td>null</td><td>null</td><td>null</td><td>null</td><td>null</td><td>null</td><td>null</td><td>null</td><td>null</td><td>null</td><td>null</td><td>null</td><td>null</td><td>null</td><td>null</td><td>null</td><td>null</td><td>null</td><td>null</td><td>null</td><td>null</td><td>null</td><td>null</td><td>null</td><td>null</td><td>null</td><td>null</td><td>null</td><td>null</td><td>null</td><td>null</td><td>null</td><td>null</td><td>null</td><td>null</td><td>null</td><td>null</td><td>null</td><td>null</td><td>Processo e analiso dados utilizando linguagens de programação como Python, R etc., Crio consultas através da linguagem SQL para exportar informações e compartilhar com as áreas de negócio.</td><td>1</td><td>0</td><td>1</td><td>0</td><td>0</td><td>0</td><td>0</td><td>0</td><td>0</td><td>0</td><td>Pentaho, Databricks</td><td>0</td><td>0</td><td>0</td><td>0</td><td>0</td><td>0</td><td>0</td><td>1</td><td>0</td><td>0</td><td>0</td><td>0</td><td>0</td><td>0</td><td>0</td><td>0</td><td>0</td><td>0</td><td>0</td><td>1</td><td>0</td><td>Não sei informar., Ferramentas de análise dentro de ferramentas de CRM como Salesforce Einstein Anaytics ou Zendesk dashboards.</td><td>0</td><td>0</td><td>0</td><td>1</td><td>0</td><td>1</td><td>Realizando experimentos e estudos utilizando metodologias estatísticas como teste de hipótese, modelos de regressão etc.</td><td>0</td><td>0</td><td>0</td><td>0</td><td>1</td><td>0</td><td>0</td><td>0</td><td>0</td><td>0</td><td>null</td><td>null</td><td>null</td><td>null</td><td>null</td><td>null</td><td>null</td><td>null</td><td>null</td><td>null</td><td>null</td><td>null</td><td>null</td><td>null</td><td>null</td><td>null</td><td>null</td><td>null</td><td>null</td><td>null</td><td>null</td><td>null</td><td>null</td><td>null</td><td>null</td><td>null</td><td>null</td><td>null</td><td>null</td><td>null</td><td>null</td><td>null</td><td>null</td><td>null</td><td>null</td><td>null</td><td>null</td><td>null</td><td>null</td><td>null</td><td>null</td><td>null</td><td>null</td><td>null</td><td>null</td><td>null</td><td>null</td><td>null</td><td>null</td><td>null</td><td>null</td><td>null</td><td>null</td><td>null</td><td>null</td></tr><tr><td>00r21rb9pusd1b0v7ew00r21rw3dy69w</td><td>37</td><td>35-39</td><td>Feminino</td><td>Amarela</td><td>Não</td><td>Sim, acredito que a minha a experiência profissional seja afetada devido a minha identidade de gênero</td><td>0</td><td>0</td><td>1</td><td>0</td><td>Atenção dada pelas pessoas diante das minhas opiniões e ideias, Aprovação em processos seletivos/entrevistas, Quantidade de oportunidades de emprego/vagas recebidas</td><td>1</td><td>0</td><td>1</td><td>0</td><td>0</td><td>0</td><td>1</td><td>0</td><td>0</td><td>1</td><td>São Paulo (SP)</td><td>SP</td><td>Sudeste</td><td>1</td><td>null</td><td>Graduação/Bacharelado</td><td>Computação / Engenharia de Software / Sistemas de Informação/ TI</td><td>Empregado (CLT)</td><td>Finanças ou Bancos</td><td>Acima de 3.000</td><td>0</td><td>null</td><td>Analista de Dados/Data Analyst</td><td>Júnior</td><td>de R$ 6.001/mês a R$ 8.000/mês</td><td>de 1 a 2 anos</td><td>Menos de 1 ano</td><td>1</td><td>null</td><td>null</td><td>null</td><td>null</td><td>null</td><td>null</td><td>null</td><td>null</td><td>Não participei de entrevistas de emprego/processos seletivos nos últimos 6 meses</td><td>Não estou buscando, mas me considero aberto a outras oportunidades</td><td>Flexibilidade de trabalho remoto, Remuneração/Salário, Ambiente e clima de trabalho</td><td>1</td><td>0</td><td>0</td><td>1</td><td>1</td><td>0</td><td>0</td><td>0</td><td>0</td><td>0</td><td>Sim, ocorreram layoffs/demissões em massa na empresa em que trabalho mas não fui afetado</td><td>Modelo híbrido flexível (o funcionário tem liberdade para escolher quando estar no escritório presencialmente)</td><td>Modelo 100% remoto</td><td>Vou aceitar e retornar ao modelo 100% presencial</td><td>null</td><td>null</td><td>null</td><td>null</td><td>null</td><td>null</td><td>null</td><td>null</td><td>null</td><td>null</td><td>null</td><td>null</td><td>null</td><td>null</td><td>null</td><td>null</td><td>null</td><td>null</td><td>null</td><td>null</td><td>null</td><td>null</td><td>null</td><td>null</td><td>null</td><td>null</td><td>null</td><td>null</td><td>null</td><td>null</td><td>null</td><td>null</td><td>null</td><td>null</td><td>null</td><td>null</td><td>null</td><td>null</td><td>null</td><td>null</td><td>null</td><td>null</td><td>null</td><td>null</td><td>null</td><td>null</td><td>null</td><td>null</td><td>null</td><td>null</td><td>null</td><td>null</td><td>null</td><td>null</td><td>null</td><td>null</td><td>null</td><td>null</td><td>*Ciência de Dados/Machine Learning/AI: *Desenha e executa experimentos com o objetivo de responder perguntas do negócio; desenvolve modelos preditivos e algoritmos de Machine Learning com o objetivo de otimizar e automatizar a tomada de decisão.</td><td>Ciência de Dados</td><td>Dados relacionais (estruturados em bancos SQL), Textos/Documentos, Planilhas</td><td>1</td><td>0</td><td>0</td><td>1</td><td>0</td><td>0</td><td>1</td><td>0</td><td>Dados relacionais (estruturados em bancos SQL), Textos/Documentos</td><td>1</td><td>0</td><td>0</td><td>1</td><td>0</td><td>0</td><td>0</td><td>0</td><td>SQL, Python, SAS/Stata</td><td>1</td><td>0</td><td>1</td><td>0</td><td>0</td><td>0</td><td>0</td><td>1</td><td>0</td><td>0</td><td>0</td><td>0</td><td>0</td><td>0</td><td>0</td><td>SQL</td><td>Python</td><td>S3, Amazon Athena, Hive</td><td>0</td><td>0</td><td>0</td><td>0</td><td>0</td><td>0</td><td>0</td><td>0</td><td>0</td><td>0</td><td>1</td><td>0</td><td>0</td><td>0</td><td>0</td><td>0</td><td>0</td><td>0</td><td>0</td><td>0</td><td>0</td><td>0</td><td>0</td><td>0</td><td>1</td><td>0</td><td>0</td><td>0</td><td>0</td><td>0</td><td>0</td><td>1</td><td>0</td><td>Amazon Web Services (AWS)</td><td>1</td><td>0</td><td>0</td><td>0</td><td>0</td><td>0</td><td>0</td><td>Amazon Web Services (AWS)</td><td>Salesforce/Einstein Analytics, Amazon Quicksight, Tableau, Fazemos todas as análises utilizando apenas Excel ou planilhas do google, Amazon Quicksight, Alteryx</td><td>0</td><td>0</td><td>1</td><td>0</td><td>0</td><td>0</td><td>0</td><td>0</td><td>1</td><td>0</td><td>1</td><td>0</td><td>0</td><td>0</td><td>0</td><td>1</td><td>0</td><td>0</td><td>0</td><td>0</td><td>0</td><td>1</td><td>0</td><td>Amazon Quicksight</td><td>Colaboradores utilizando soluções baseadas em AI Generativa (como o ChatGPT por exemplo) de forma independente, com o objetivo de melhorar sua produtividade no dia a dia, sem um direcionamento centralizado., Equipes de desenvolvimento utilizando soluções no estilo Copilot (Github Copilot, AWS CodeWhisperer etc) para obter mais produtividade no processo de desenvolvimento., Uma ou mais equipes testando e aplicando soluções de AI Generativa e LLMs, com o objetivo de propor melhorias e inovações para impulsionar a diferenciação de produtos oferecidos para os clientes finais (exemplo: novos recursos, produtos, serviços etc), Uma ou mais equipes testando e aplicando soluções de AI Generativa e LLMs, com o objetivo de aumentar a eficiencia de processos internos (como produtividade das equipes internas, ou melhoria de processos existentes).</td><td>1</td><td>0</td><td>1</td><td>1</td><td>1</td><td>0</td><td>0</td><td>0</td><td>Utilizo apenas soluções gratuitas (como por exemplo o ChatGPT), para me ajudar a ser mais produtivo no dia a dia.</td><td>0</td><td>1</td><td>0</td><td>0</td><td>0</td><td>null</td><td>null</td><td>null</td><td>null</td><td>null</td><td>null</td><td>null</td><td>null</td><td>null</td><td>null</td><td>null</td><td>null</td><td>null</td><td>null</td><td>null</td><td>null</td><td>null</td><td>null</td><td>null</td><td>null</td><td>null</td><td>null</td><td>null</td><td>null</td><td>null</td><td>null</td><td>null</td><td>null</td><td>null</td><td>null</td><td>null</td><td>null</td><td>null</td><td>null</td><td>null</td><td>null</td><td>null</td><td>null</td><td>null</td><td>null</td><td>null</td><td>null</td><td>null</td><td>null</td><td>null</td><td>null</td><td>null</td><td>null</td><td>null</td><td>null</td><td>null</td><td>null</td><td>null</td><td>null</td><td>null</td><td>null</td><td>null</td><td>null</td><td>null</td><td>null</td><td>null</td><td>null</td><td>null</td><td>null</td><td>null</td><td>null</td><td>null</td><td>null</td><td>null</td><td>null</td><td>null</td><td>null</td><td>null</td><td>null</td><td>null</td><td>null</td><td>null</td><td>null</td><td>null</td><td>null</td><td>null</td><td>null</td><td>null</td><td>null</td><td>null</td><td>null</td><td>null</td><td>null</td><td>null</td><td>null</td><td>null</td><td>null</td><td>null</td><td>null</td><td>null</td><td>null</td><td>null</td><td>null</td><td>null</td><td>null</td><td>null</td><td>null</td><td>Sou responsável pela coleta e limpeza dos dados que uso para análise e modelagem., Sou responsável por entrar em contato com os times de negócio para definição do problema, identificar a solução e apresentação de resultados.</td><td>0</td><td>1</td><td>1</td><td>0</td><td>0</td><td>0</td><td>0</td><td>0</td><td>0</td><td>0</td><td>0</td><td>0</td><td>Utilizo redes neurais ou modelos baseados em árvore para criar modelos de classificação., Utilizo técnicas de NLP (Natural Language Processing) para análisar dados não-estruturados.</td><td>0</td><td>1</td><td>0</td><td>0</td><td>1</td><td>0</td><td>0</td><td>0</td><td>0</td><td>0</td><td>0</td><td>0</td><td>0</td><td>0</td><td>Ambientes de desenvolvimento na nuvem (Google Colab, AWS Sagemaker, Kaggle Notebooks etc)., Ambientes de desenvolvimento local (R-studio, JupyterLab, Anaconda)., Sistemas de controle de versão (Github, DVC, Neptune, Gitlab etc)., Planilhas (Excel, Google Sheets etc).</td><td>0</td><td>1</td><td>1</td><td>1</td><td>0</td><td>0</td><td>0</td><td>0</td><td>1</td><td>0</td><td>0</td><td>Coletando e limpando dos dados que uso para análise e modelagem., Entrando em contato com os times de negócio para definição do problema, identificar a solução e apresentação de resultados.</td><td>0</td><td>1</td><td>1</td><td>0</td><td>0</td><td>0</td><td>0</td><td>0</td><td>0</td><td>0</td><td>0</td><td>0</td><td>null</td><td>null</td></tr><tr><td>00urm3jf2cek12w6ygue00urm3jzd17j</td><td>22</td><td>22-24</td><td>Masculino</td><td>Preta</td><td>Não</td><td>Não acredito que minha experiência profissional seja afetada devido a esses fatores</td><td>1</td><td>0</td><td>0</td><td>0</td><td>null</td><td>null</td><td>null</td><td>null</td><td>null</td><td>null</td><td>null</td><td>null</td><td>null</td><td>null</td><td>1</td><td>São Paulo (SP)</td><td>SP</td><td>Sudeste</td><td>1</td><td>null</td><td>Estudante de Graduação</td><td>Computação / Engenharia de Software / Sistemas de Informação/ TI</td><td>Desempregado, buscando recolocação</td><td>null</td><td>null</td><td>null</td><td>null</td><td>null</td><td>null</td><td>null</td><td>null</td><td>null</td><td>null</td><td>null</td><td>null</td><td>null</td><td>null</td><td>null</td><td>null</td><td>null</td><td>null</td><td>null</td><td>null</td><td>null</td><td>null</td><td>null</td><td>null</td><td>null</td><td>null</td><td>null</td><td>null</td><td>null</td><td>null</td><td>null</td><td>null</td><td>null</td><td>null</td><td>null</td><td>null</td><td>null</td><td>null</td><td>null</td><td>null</td><td>null</td><td>null</td><td>null</td><td>null</td><td>null</td><td>null</td><td>null</td><td>null</td><td>null</td><td>null</td><td>null</td><td>null</td><td>null</td><td>null</td><td>null</td><td>null</td><td>null</td><td>null</td><td>null</td><td>null</td><td>null</td><td>null</td><td>null</td><td>null</td><td>null</td><td>null</td><td>null</td><td>null</td><td>null</td><td>null</td><td>null</td><td>null</td><td>null</td><td>null</td><td>null</td><td>null</td><td>null</td><td>null</td><td>null</td><td>null</td><td>null</td><td>null</td><td>null</td><td>null</td><td>null</td><td>null</td><td>null</td><td>null</td><td>null</td><td>null</td><td>null</td><td>null</td><td>null</td><td>null</td><td>Buscando oportunidade na área de dados</td><td>null</td><td>null</td><td>null</td><td>null</td><td>null</td><td>null</td><td>null</td><td>null</td><td>null</td><td>null</td><td>null</td><td>null</td><td>null</td><td>null</td><td>null</td><td>null</td><td>null</td><td>null</td><td>null</td><td>null</td><td>null</td><td>null</td><td>null</td><td>null</td><td>null</td><td>null</td><td>null</td><td>null</td><td>null</td><td>null</td><td>null</td><td>null</td><td>null</td><td>null</td><td>null</td><td>null</td><td>null</td><td>null</td><td>null</td><td>null</td><td>null</td><td>null</td><td>null</td><td>null</td><td>null</td><td>null</td><td>null</td><td>null</td><td>null</td><td>null</td><td>null</td><td>null</td><td>null</td><td>null</td><td>null</td><td>null</td><td>null</td><td>null</td><td>null</td><td>null</td><td>null</td><td>null</td><td>null</td><td>null</td><td>null</td><td>null</td><td>null</td><td>null</td><td>null</td><td>null</td><td>null</td><td>null</td><td>null</td><td>null</td><td>null</td><td>null</td><td>null</td><td>null</td><td>null</td><td>null</td><td>null</td><td>null</td><td>null</td><td>null</td><td>null</td><td>null</td><td>null</td><td>null</td><td>null</td><td>null</td><td>null</td><td>null</td><td>null</td><td>null</td><td>null</td><td>null</td><td>null</td><td>null</td><td>null</td><td>null</td><td>null</td><td>null</td><td>null</td><td>null</td><td>null</td><td>null</td><td>null</td><td>null</td><td>null</td><td>null</td><td>null</td><td>null</td><td>null</td><td>null</td><td>null</td><td>null</td><td>null</td><td>null</td><td>null</td><td>Migração de carreira: Trabalho em outra área e busco recolocação na área de dados</td><td>Analista de BI/BI Analyst</td><td>7 meses - 1 ano</td><td>Já participei de 1 a 3 entrevistas, mas não fui contratado</td><td>null</td><td>null</td><td>null</td><td>null</td><td>null</td><td>null</td><td>null</td><td>null</td><td>null</td><td>null</td><td>null</td><td>null</td><td>null</td><td>null</td><td>null</td><td>null</td><td>null</td><td>null</td><td>null</td><td>null</td><td>null</td><td>null</td><td>null</td><td>null</td><td>null</td><td>null</td><td>null</td><td>null</td><td>null</td><td>null</td><td>null</td><td>null</td><td>null</td><td>null</td><td>null</td><td>null</td><td>null</td><td>null</td><td>null</td><td>null</td><td>null</td><td>null</td><td>null</td><td>null</td><td>null</td><td>null</td><td>null</td><td>null</td><td>null</td><td>null</td><td>null</td><td>null</td><td>null</td><td>null</td><td>null</td><td>null</td><td>null</td><td>null</td><td>null</td><td>null</td><td>null</td><td>null</td><td>null</td><td>null</td><td>null</td><td>null</td><td>null</td><td>null</td><td>null</td><td>null</td><td>null</td><td>null</td><td>null</td><td>null</td><td>null</td><td>null</td><td>null</td><td>null</td><td>null</td><td>null</td><td>null</td><td>null</td><td>null</td><td>null</td><td>null</td><td>null</td><td>null</td><td>null</td><td>null</td><td>null</td><td>null</td><td>null</td><td>null</td><td>null</td><td>null</td><td>null</td><td>null</td><td>null</td><td>null</td><td>null</td><td>null</td><td>null</td><td>null</td><td>null</td><td>null</td><td>null</td><td>null</td><td>null</td><td>null</td><td>null</td><td>null</td><td>null</td><td>null</td><td>null</td><td>null</td><td>null</td><td>null</td><td>null</td><td>null</td><td>null</td><td>null</td><td>null</td><td>null</td><td>null</td><td>null</td><td>null</td><td>null</td><td>null</td><td>null</td><td>null</td><td>null</td><td>null</td><td>null</td><td>null</td><td>null</td><td>null</td><td>null</td><td>null</td><td>null</td><td>null</td><td>null</td><td>null</td><td>null</td><td>null</td><td>null</td><td>null</td><td>null</td><td>null</td><td>null</td><td>null</td><td>null</td><td>null</td><td>null</td></tr><tr><td>00v0az4g792svil00vn6y1kfm9hq8vy9</td><td>34</td><td>30-34</td><td>Masculino</td><td>Branca</td><td>Não</td><td>null</td><td>null</td><td>null</td><td>null</td><td>null</td><td>null</td><td>null</td><td>null</td><td>null</td><td>null</td><td>null</td><td>null</td><td>null</td><td>null</td><td>null</td><td>1</td><td>Minas Gerais (MG)</td><td>MG</td><td>Sudeste</td><td>1</td><td>null</td><td>Doutorado ou Phd</td><td>Economia/ Administração / Contabilidade / Finanças/ Negócios</td><td>Empreendedor ou Empregado (CNPJ)</td><td>Outra Opção</td><td>de 101 a 500</td><td>0</td><td>null</td><td>Analista de Dados/Data Analyst</td><td>Júnior</td><td>de R$ 4.001/mês a R$ 6.000/mês</td><td>Menos de 1 ano</td><td>Menos de 1 ano</td><td>1</td><td>null</td><td>null</td><td>null</td><td>null</td><td>null</td><td>null</td><td>null</td><td>null</td><td>Sim, fui aprovado no meu primeiro emprego (ou estava sem emprego)</td><td>Não estou buscando e não pretendo mudar de emprego nos próximos 6 meses</td><td>Remuneração/Salário, Flexibilidade de trabalho remoto, Plano de carreira e oportunidades de crescimento profissional</td><td>1</td><td>0</td><td>0</td><td>1</td><td>0</td><td>0</td><td>1</td><td>0</td><td>0</td><td>0</td><td>Não ocorreram layoffs/demissões em massa na empresa em que trabalho</td><td>Modelo 100% remoto</td><td>Modelo 100% remoto</td><td>Vou procurar outra oportunidade no modelo híbrido ou remoto</td><td>null</td><td>null</td><td>null</td><td>null</td><td>null</td><td>null</td><td>null</td><td>null</td><td>null</td><td>null</td><td>null</td><td>null</td><td>null</td><td>null</td><td>null</td><td>null</td><td>null</td><td>null</td><td>null</td><td>null</td><td>null</td><td>null</td><td>null</td><td>null</td><td>null</td><td>null</td><td>null</td><td>null</td><td>null</td><td>null</td><td>null</td><td>null</td><td>null</td><td>null</td><td>null</td><td>null</td><td>null</td><td>null</td><td>null</td><td>null</td><td>null</td><td>null</td><td>null</td><td>null</td><td>null</td><td>null</td><td>null</td><td>null</td><td>null</td><td>null</td><td>null</td><td>null</td><td>null</td><td>null</td><td>null</td><td>null</td><td>null</td><td>null</td><td>*Análise de Dados/BI:* Extrai e cruza dados unindo diferentes fontes da informação; analisa dados visando identificar padrões, gerar insights e levantar perguntas; desenvolve dashboards, relatórios e visualizações de dados em ferramentas de BI.</td><td>Análise de Dados</td><td>Dados relacionais (estruturados em bancos SQL), Textos/Documentos, Planilhas, Áudios</td><td>1</td><td>0</td><td>0</td><td>1</td><td>0</td><td>1</td><td>1</td><td>0</td><td>Dados relacionais (estruturados em bancos SQL), Planilhas</td><td>1</td><td>0</td><td>0</td><td>0</td><td>0</td><td>0</td><td>1</td><td>0</td><td>SQL, Python</td><td>1</td><td>0</td><td>1</td><td>0</td><td>0</td><td>0</td><td>0</td><td>0</td><td>0</td><td>0</td><td>0</td><td>0</td><td>0</td><td>0</td><td>0</td><td>Python</td><td>Python</td><td>Google BigQuery, Snowflake</td><td>0</td><td>0</td><td>0</td><td>0</td><td>0</td><td>0</td><td>0</td><td>0</td><td>0</td><td>0</td><td>0</td><td>0</td><td>0</td><td>0</td><td>0</td><td>0</td><td>0</td><td>0</td><td>0</td><td>0</td><td>0</td><td>1</td><td>0</td><td>0</td><td>0</td><td>1</td><td>0</td><td>0</td><td>0</td><td>0</td><td>0</td><td>0</td><td>0</td><td>Snowflake</td><td>0</td><td>0</td><td>0</td><td>0</td><td>0</td><td>0</td><td>0</td><td>Amazon Web Services (AWS)</td><td>Microsoft PowerBI, Metabase</td><td>1</td><td>0</td><td>0</td><td>1</td><td>0</td><td>0</td><td>0</td><td>0</td><td>0</td><td>0</td><td>0</td><td>0</td><td>0</td><td>0</td><td>0</td><td>0</td><td>0</td><td>0</td><td>0</td><td>0</td><td>0</td><td>0</td><td>0</td><td>Microsoft PowerBI</td><td>Não sei opinar.</td><td>0</td><td>0</td><td>0</td><td>0</td><td>0</td><td>0</td><td>0</td><td>1</td><td>Utilizo apenas soluções gratuitas (como por exemplo o ChatGPT), para me ajudar a ser mais produtivo no dia a dia.</td><td>0</td><td>1</td><td>0</td><td>0</td><td>0</td><td>null</td><td>null</td><td>null</td><td>null</td><td>null</td><td>null</td><td>null</td><td>null</td><td>null</td><td>null</td><td>null</td><td>null</td><td>null</td><td>null</td><td>null</td><td>null</td><td>null</td><td>null</td><td>null</td><td>null</td><td>null</td><td>null</td><td>null</td><td>null</td><td>null</td><td>null</td><td>null</td><td>null</td><td>null</td><td>null</td><td>null</td><td>null</td><td>null</td><td>null</td><td>null</td><td>null</td><td>null</td><td>null</td><td>null</td><td>null</td><td>null</td><td>null</td><td>null</td><td>null</td><td>null</td><td>null</td><td>null</td><td>null</td><td>null</td><td>null</td><td>null</td><td>Processo e analiso dados utilizando linguagens de programação como Python, R etc., Realizo construções de dashboards em ferramentas de BI como PowerBI, Tableau, Looker, Qlik etc., Crio consultas através da linguagem SQL para exportar informações e compartilhar com as áreas de negócio., Realizo experimentos e estudos utilizando metodologias estatísticas como teste de hipótese, modelos de regressão etc., Atuo na modelagem dos dados, com o objetivo de criar conjuntos de dados como Data Warehouses, Data Marts, Datasets etc.</td><td>1</td><td>1</td><td>1</td><td>0</td><td>1</td><td>0</td><td>1</td><td>0</td><td>0</td><td>0</td><td>Scripts Python, DBT</td><td>1</td><td>0</td><td>0</td><td>0</td><td>0</td><td>0</td><td>0</td><td>0</td><td>0</td><td>0</td><td>0</td><td>0</td><td>0</td><td>0</td><td>0</td><td>0</td><td>0</td><td>0</td><td>0</td><td>0</td><td>0</td><td>Minha empresa não utiliza essas ferramentas.</td><td>0</td><td>0</td><td>0</td><td>0</td><td>1</td><td>0</td><td>Processando e analisando dados utilizando linguagens de programação como Python, R etc., Realizando construções de dashboards em ferramentas de BI como PowerBI, Tableau, Looker, Qlik etc.</td><td>1</td><td>1</td><td>0</td><td>0</td><td>0</td><td>0</td><td>0</td><td>0</td><td>0</td><td>0</td><td>null</td><td>null</td><td>null</td><td>null</td><td>null</td><td>null</td><td>null</td><td>null</td><td>null</td><td>null</td><td>null</td><td>null</td><td>null</td><td>null</td><td>null</td><td>null</td><td>null</td><td>null</td><td>null</td><td>null</td><td>null</td><td>null</td><td>null</td><td>null</td><td>null</td><td>null</td><td>null</td><td>null</td><td>null</td><td>null</td><td>null</td><td>null</td><td>null</td><td>null</td><td>null</td><td>null</td><td>null</td><td>null</td><td>null</td><td>null</td><td>null</td><td>null</td><td>null</td><td>null</td><td>null</td><td>null</td><td>null</td><td>null</td><td>null</td><td>null</td><td>null</td><td>null</td><td>null</td><td>null</td><td>null</td></tr></tbody></table></div>"
      ]
     },
     "metadata": {
      "application/vnd.databricks.v1+output": {
       "addedWidgets": {},
       "aggData": [],
       "aggError": "",
       "aggOverflow": false,
       "aggSchema": [],
       "aggSeriesLimitReached": false,
       "aggType": "",
       "arguments": {},
       "columnCustomDisplayInfos": {},
       "data": [
        [
         "001b2d1qtli8t9z7oqgdhj001b2d4i0g",
         31,
         "30-34",
         "Masculino",
         "Branca",
         "Não",
         null,
         null,
         null,
         null,
         null,
         null,
         null,
         null,
         null,
         null,
         null,
         null,
         null,
         null,
         null,
         1,
         "Minas Gerais (MG)",
         "MG",
         "Sudeste",
         "1",
         null,
         "Doutorado ou Phd",
         "Computação / Engenharia de Software / Sistemas de Informação/ TI",
         "Empregado (CLT)",
         "Finanças ou Bancos",
         "Acima de 3.000",
         "0",
         null,
         "Cientista de Dados/Data Scientist",
         "Sênior",
         "de R$ 12.001/mês a R$ 16.000/mês",
         "de 3 a 4 anos",
         "Não tive experiência na área de TI/Engenharia de Software antes de começar a trabalhar na área de dados",
         "0",
         "Trabalho presencial",
         0,
         "0",
         0,
         0,
         0,
         0,
         0,
         "Sim, fiz entrevistas mas não fui aprovado (ou ainda aguardo resposta)",
         "Estou em busca de oportunidades dentro ou fora do Brasil",
         "Flexibilidade de trabalho remoto, Remuneração/Salário, Oportunidade de aprendizado e trabalhar com referências na área",
         "1",
         "0",
         0,
         1,
         0,
         1,
         0,
         0,
         0,
         0,
         "Não ocorreram layoffs/demissões em massa na empresa em que trabalho",
         "Modelo híbrido flexível (o funcionário tem liberdade para escolher quando estar no escritório presencialmente)",
         "Modelo 100% remoto",
         "Vou procurar outra oportunidade no modelo 100% remoto",
         null,
         null,
         null,
         null,
         null,
         null,
         null,
         null,
         null,
         null,
         null,
         null,
         null,
         null,
         null,
         null,
         null,
         null,
         null,
         null,
         null,
         null,
         null,
         null,
         null,
         null,
         null,
         null,
         null,
         null,
         null,
         null,
         null,
         null,
         null,
         null,
         null,
         null,
         null,
         null,
         null,
         null,
         null,
         null,
         null,
         null,
         null,
         null,
         null,
         null,
         null,
         null,
         null,
         null,
         null,
         null,
         null,
         null,
         "*Ciência de Dados/Machine Learning/AI: *Desenha e executa experimentos com o objetivo de responder perguntas do negócio; desenvolve modelos preditivos e algoritmos de Machine Learning com o objetivo de otimizar e automatizar a tomada de decisão.",
         "Ciência de Dados",
         "Dados relacionais (estruturados em bancos SQL), Textos/Documentos, Dados armazenados em bancos NoSQL, Planilhas, Áudios, Dados georeferenciados",
         "1",
         "1",
         0,
         1,
         0,
         1,
         1,
         1,
         "Textos/Documentos, Dados relacionais (estruturados em bancos SQL)",
         1,
         "0",
         0,
         1,
         0,
         0,
         0,
         0,
         "Python, SQL",
         1,
         "0",
         1,
         0,
         0,
         0,
         0,
         0,
         0,
         0,
         0,
         0,
         0,
         0,
         0,
         "Python",
         "Python",
         "SQLite, SQL SERVER, S3, Redis, Hive",
         0,
         "0",
         1,
         0,
         0,
         0,
         0,
         0,
         0,
         0,
         1,
         0,
         0,
         0,
         0,
         1,
         0,
         0,
         0,
         1,
         0,
         0,
         0,
         0,
         0,
         0,
         0,
         0,
         0,
         0,
         0,
         1,
         0,
         "Amazon Web Services (AWS)",
         1,
         "0",
         0,
         0,
         0,
         0,
         0,
         "Amazon Web Services (AWS)",
         "Não utilizo nenhuma ferramenta de BI no trabalho",
         "0",
         "0",
         0,
         0,
         0,
         0,
         0,
         0,
         0,
         0,
         0,
         0,
         0,
         0,
         0,
         0,
         0,
         0,
         0,
         0,
         0,
         0,
         1,
         "Streamlit",
         "Uma ou mais equipes testando e aplicando soluções de AI Generativa e LLMs, com o objetivo de propor melhorias e inovações para impulsionar a diferenciação de produtos oferecidos para os clientes finais (exemplo: novos recursos, produtos, serviços etc), Uma ou mais equipes testando e aplicando soluções de AI Generativa e LLMs, com o objetivo de aumentar a eficiencia de processos internos (como produtividade das equipes internas, ou melhoria de processos existentes)., Equipes de desenvolvimento utilizando soluções no estilo Copilot (Github Copilot, AWS CodeWhisperer etc) para obter mais produtividade no processo de desenvolvimento.",
         "0",
         "0",
         1,
         1,
         1,
         0,
         0,
         0,
         "Não utilizo nenhum tipo de solução de IA Generativa para melhorar a produtividade no dia a dia.",
         "1",
         "0",
         "0",
         0,
         0,
         null,
         null,
         null,
         null,
         null,
         null,
         null,
         null,
         null,
         null,
         null,
         null,
         null,
         null,
         null,
         null,
         null,
         null,
         null,
         null,
         null,
         null,
         null,
         null,
         null,
         null,
         null,
         null,
         null,
         null,
         null,
         null,
         null,
         null,
         null,
         null,
         null,
         null,
         null,
         null,
         null,
         null,
         null,
         null,
         null,
         null,
         null,
         null,
         null,
         null,
         null,
         null,
         null,
         null,
         null,
         null,
         null,
         null,
         null,
         null,
         null,
         null,
         null,
         null,
         null,
         null,
         null,
         null,
         null,
         null,
         null,
         null,
         null,
         null,
         null,
         null,
         null,
         null,
         null,
         null,
         null,
         null,
         null,
         null,
         null,
         null,
         null,
         null,
         null,
         null,
         null,
         null,
         null,
         null,
         null,
         null,
         null,
         null,
         null,
         null,
         null,
         null,
         "Treinando e aplicando LLM's para solucionar problemas de negócio., Sou responsável por entrar em contato com os times de negócio para definição do problema, identificar a solução e apresentação de resultados., Sou responsável pela coleta e limpeza dos dados que uso para análise e modelagem.",
         "0",
         1,
         "1",
         0,
         0,
         0,
         0,
         0,
         0,
         0,
         0,
         1,
         "Utilizo técnicas de NLP (Natural Language Processing) para análisar dados não-estruturados.",
         "0",
         0,
         "0",
         0,
         1,
         0,
         0,
         0,
         0,
         0,
         0,
         0,
         0,
         0,
         "Planilhas (Excel, Google Sheets etc)., Ambientes de desenvolvimento na nuvem (Google Colab, AWS Sagemaker, Kaggle Notebooks etc)., Sistemas de controle de versão (Github, DVC, Neptune, Gitlab etc)., Plataformas de Data Apps (Streamlit, Shiny, Plotly Dash etc).",
         "0",
         1,
         "0",
         1,
         0,
         0,
         0,
         0,
         1,
         1,
         0,
         "Coletando e limpando dos dados que uso para análise e modelagem., Entrando em contato com os times de negócio para definição do problema, identificar a solução e apresentação de resultados.",
         "0",
         1,
         "1",
         0,
         0,
         0,
         0,
         0,
         0,
         0,
         0,
         0,
         null,
         null
        ],
        [
         "0026aa3fwd78u0026asg7456tfkjg2cs",
         30,
         "30-34",
         "Masculino",
         "Branca",
         "Não",
         null,
         null,
         null,
         null,
         null,
         null,
         null,
         null,
         null,
         null,
         null,
         null,
         null,
         null,
         null,
         1,
         "Espírito Santo (ES)",
         "ES",
         "Sudeste",
         "1",
         null,
         "Graduação/Bacharelado",
         "Computação / Engenharia de Software / Sistemas de Informação/ TI",
         "Empreendedor ou Empregado (CNPJ)",
         "Finanças ou Bancos",
         "de 101 a 500",
         "0",
         null,
         "Analista de BI/BI Analyst",
         "Pleno",
         "de R$ 6.001/mês a R$ 8.000/mês",
         "de 3 a 4 anos",
         "de 3 a 4 anos",
         "1",
         null,
         null,
         null,
         null,
         null,
         null,
         null,
         null,
         "Sim, fui aprovado mas decidi não mudar de emprego",
         "Não estou buscando, mas me considero aberto a outras oportunidades",
         "Remuneração/Salário, Benefícios, Flexibilidade de trabalho remoto",
         "1",
         "1",
         0,
         1,
         0,
         0,
         0,
         0,
         0,
         0,
         "Não ocorreram layoffs/demissões em massa na empresa em que trabalho",
         "Modelo 100% remoto",
         "Modelo 100% remoto",
         "Vou procurar outra oportunidade no modelo híbrido ou remoto",
         null,
         null,
         null,
         null,
         null,
         null,
         null,
         null,
         null,
         null,
         null,
         null,
         null,
         null,
         null,
         null,
         null,
         null,
         null,
         null,
         null,
         null,
         null,
         null,
         null,
         null,
         null,
         null,
         null,
         null,
         null,
         null,
         null,
         null,
         null,
         null,
         null,
         null,
         null,
         null,
         null,
         null,
         null,
         null,
         null,
         null,
         null,
         null,
         null,
         null,
         null,
         null,
         null,
         null,
         null,
         null,
         null,
         null,
         "*Análise de Dados/BI:* Extrai e cruza dados unindo diferentes fontes da informação; analisa dados visando identificar padrões, gerar insights e levantar perguntas; desenvolve dashboards, relatórios e visualizações de dados em ferramentas de BI.",
         "Análise de Dados",
         "Dados relacionais (estruturados em bancos SQL), Dados armazenados em bancos NoSQL, Imagens, Vídeos",
         "1",
         "1",
         1,
         0,
         1,
         0,
         0,
         0,
         "Dados relacionais (estruturados em bancos SQL)",
         1,
         "0",
         0,
         0,
         0,
         0,
         0,
         0,
         "SQL, Python",
         1,
         "0",
         1,
         0,
         0,
         0,
         0,
         0,
         0,
         0,
         0,
         0,
         0,
         0,
         0,
         "SQL",
         "Python",
         "S3",
         0,
         "0",
         0,
         0,
         0,
         0,
         0,
         0,
         0,
         0,
         1,
         0,
         0,
         0,
         0,
         0,
         0,
         0,
         0,
         0,
         0,
         0,
         0,
         0,
         0,
         0,
         0,
         0,
         0,
         0,
         0,
         0,
         0,
         "Google Cloud (GCP), Amazon Web Services (AWS)",
         1,
         "1",
         0,
         0,
         0,
         0,
         0,
         "Google Cloud (GCP)",
         "Looker, Microsoft PowerBI",
         "1",
         "0",
         0,
         0,
         0,
         0,
         1,
         0,
         0,
         0,
         0,
         0,
         0,
         0,
         0,
         0,
         0,
         0,
         0,
         0,
         0,
         0,
         0,
         "Looker",
         "Não tenho visto soluções de IA Generatica e LLMs sendo tradadas como prioridade pela empresa e pessoas, os poucos casos de uso são isolados ou ainda estão muito no início.",
         "0",
         "0",
         0,
         0,
         0,
         0,
         1,
         0,
         "Utilizo soluções pagas de AI Generativa (como por exemplo ChatGPT plus, MidJourney etc) e pago do meu próprio bolso.",
         "0",
         "0",
         "1",
         0,
         0,
         null,
         null,
         null,
         null,
         null,
         null,
         null,
         null,
         null,
         null,
         null,
         null,
         null,
         null,
         null,
         null,
         null,
         null,
         null,
         null,
         null,
         null,
         null,
         null,
         null,
         null,
         null,
         null,
         null,
         null,
         null,
         null,
         null,
         null,
         null,
         null,
         null,
         null,
         null,
         null,
         null,
         null,
         null,
         null,
         null,
         null,
         null,
         null,
         null,
         null,
         null,
         "Processo e analiso dados utilizando linguagens de programação como Python, R etc., Crio consultas através da linguagem SQL para exportar informações e compartilhar com as áreas de negócio.",
         "1",
         "0",
         "1",
         0,
         0,
         0,
         0,
         0,
         0,
         0,
         "Pentaho, Databricks",
         "0",
         "0",
         "0",
         0,
         0,
         0,
         0,
         1,
         0,
         0,
         0,
         0,
         0,
         0,
         0,
         0,
         0,
         0,
         0,
         1,
         0,
         "Não sei informar., Ferramentas de análise dentro de ferramentas de CRM como Salesforce Einstein Anaytics ou Zendesk dashboards.",
         "0",
         "0",
         "0",
         "1",
         "0",
         "1",
         "Realizando experimentos e estudos utilizando metodologias estatísticas como teste de hipótese, modelos de regressão etc.",
         "0",
         "0",
         "0",
         0,
         "1",
         "0",
         0,
         "0",
         0,
         0,
         null,
         null,
         null,
         null,
         null,
         null,
         null,
         null,
         null,
         null,
         null,
         null,
         null,
         null,
         null,
         null,
         null,
         null,
         null,
         null,
         null,
         null,
         null,
         null,
         null,
         null,
         null,
         null,
         null,
         null,
         null,
         null,
         null,
         null,
         null,
         null,
         null,
         null,
         null,
         null,
         null,
         null,
         null,
         null,
         null,
         null,
         null,
         null,
         null,
         null,
         null,
         null,
         null,
         null,
         null
        ],
        [
         "00r21rb9pusd1b0v7ew00r21rw3dy69w",
         37,
         "35-39",
         "Feminino",
         "Amarela",
         "Não",
         "Sim, acredito que a minha a experiência profissional seja afetada devido a minha identidade de gênero",
         0,
         0,
         1,
         0,
         "Atenção dada pelas pessoas diante das minhas opiniões e ideias, Aprovação em processos seletivos/entrevistas, Quantidade de oportunidades de emprego/vagas recebidas",
         "1",
         "0",
         1,
         0,
         0,
         0,
         1,
         0,
         0,
         1,
         "São Paulo (SP)",
         "SP",
         "Sudeste",
         "1",
         null,
         "Graduação/Bacharelado",
         "Computação / Engenharia de Software / Sistemas de Informação/ TI",
         "Empregado (CLT)",
         "Finanças ou Bancos",
         "Acima de 3.000",
         "0",
         null,
         "Analista de Dados/Data Analyst",
         "Júnior",
         "de R$ 6.001/mês a R$ 8.000/mês",
         "de 1 a 2 anos",
         "Menos de 1 ano",
         "1",
         null,
         null,
         null,
         null,
         null,
         null,
         null,
         null,
         "Não participei de entrevistas de emprego/processos seletivos nos últimos 6 meses",
         "Não estou buscando, mas me considero aberto a outras oportunidades",
         "Flexibilidade de trabalho remoto, Remuneração/Salário, Ambiente e clima de trabalho",
         "1",
         "0",
         0,
         1,
         1,
         0,
         0,
         0,
         0,
         0,
         "Sim, ocorreram layoffs/demissões em massa na empresa em que trabalho mas não fui afetado",
         "Modelo híbrido flexível (o funcionário tem liberdade para escolher quando estar no escritório presencialmente)",
         "Modelo 100% remoto",
         "Vou aceitar e retornar ao modelo 100% presencial",
         null,
         null,
         null,
         null,
         null,
         null,
         null,
         null,
         null,
         null,
         null,
         null,
         null,
         null,
         null,
         null,
         null,
         null,
         null,
         null,
         null,
         null,
         null,
         null,
         null,
         null,
         null,
         null,
         null,
         null,
         null,
         null,
         null,
         null,
         null,
         null,
         null,
         null,
         null,
         null,
         null,
         null,
         null,
         null,
         null,
         null,
         null,
         null,
         null,
         null,
         null,
         null,
         null,
         null,
         null,
         null,
         null,
         null,
         "*Ciência de Dados/Machine Learning/AI: *Desenha e executa experimentos com o objetivo de responder perguntas do negócio; desenvolve modelos preditivos e algoritmos de Machine Learning com o objetivo de otimizar e automatizar a tomada de decisão.",
         "Ciência de Dados",
         "Dados relacionais (estruturados em bancos SQL), Textos/Documentos, Planilhas",
         "1",
         "0",
         0,
         1,
         0,
         0,
         1,
         0,
         "Dados relacionais (estruturados em bancos SQL), Textos/Documentos",
         1,
         "0",
         0,
         1,
         0,
         0,
         0,
         0,
         "SQL, Python, SAS/Stata",
         1,
         "0",
         1,
         0,
         0,
         0,
         0,
         1,
         0,
         0,
         0,
         0,
         0,
         0,
         0,
         "SQL",
         "Python",
         "S3, Amazon Athena, Hive",
         0,
         "0",
         0,
         0,
         0,
         0,
         0,
         0,
         0,
         0,
         1,
         0,
         0,
         0,
         0,
         0,
         0,
         0,
         0,
         0,
         0,
         0,
         0,
         0,
         1,
         0,
         0,
         0,
         0,
         0,
         0,
         1,
         0,
         "Amazon Web Services (AWS)",
         1,
         "0",
         0,
         0,
         0,
         0,
         0,
         "Amazon Web Services (AWS)",
         "Salesforce/Einstein Analytics, Amazon Quicksight, Tableau, Fazemos todas as análises utilizando apenas Excel ou planilhas do google, Amazon Quicksight, Alteryx",
         "0",
         "0",
         1,
         0,
         0,
         0,
         0,
         0,
         1,
         0,
         1,
         0,
         0,
         0,
         0,
         1,
         0,
         0,
         0,
         0,
         0,
         1,
         0,
         "Amazon Quicksight",
         "Colaboradores utilizando soluções baseadas em AI Generativa (como o ChatGPT por exemplo) de forma independente, com o objetivo de melhorar sua produtividade no dia a dia, sem um direcionamento centralizado., Equipes de desenvolvimento utilizando soluções no estilo Copilot (Github Copilot, AWS CodeWhisperer etc) para obter mais produtividade no processo de desenvolvimento., Uma ou mais equipes testando e aplicando soluções de AI Generativa e LLMs, com o objetivo de propor melhorias e inovações para impulsionar a diferenciação de produtos oferecidos para os clientes finais (exemplo: novos recursos, produtos, serviços etc), Uma ou mais equipes testando e aplicando soluções de AI Generativa e LLMs, com o objetivo de aumentar a eficiencia de processos internos (como produtividade das equipes internas, ou melhoria de processos existentes).",
         "1",
         "0",
         1,
         1,
         1,
         0,
         0,
         0,
         "Utilizo apenas soluções gratuitas (como por exemplo o ChatGPT), para me ajudar a ser mais produtivo no dia a dia.",
         "0",
         "1",
         "0",
         0,
         0,
         null,
         null,
         null,
         null,
         null,
         null,
         null,
         null,
         null,
         null,
         null,
         null,
         null,
         null,
         null,
         null,
         null,
         null,
         null,
         null,
         null,
         null,
         null,
         null,
         null,
         null,
         null,
         null,
         null,
         null,
         null,
         null,
         null,
         null,
         null,
         null,
         null,
         null,
         null,
         null,
         null,
         null,
         null,
         null,
         null,
         null,
         null,
         null,
         null,
         null,
         null,
         null,
         null,
         null,
         null,
         null,
         null,
         null,
         null,
         null,
         null,
         null,
         null,
         null,
         null,
         null,
         null,
         null,
         null,
         null,
         null,
         null,
         null,
         null,
         null,
         null,
         null,
         null,
         null,
         null,
         null,
         null,
         null,
         null,
         null,
         null,
         null,
         null,
         null,
         null,
         null,
         null,
         null,
         null,
         null,
         null,
         null,
         null,
         null,
         null,
         null,
         null,
         "Sou responsável pela coleta e limpeza dos dados que uso para análise e modelagem., Sou responsável por entrar em contato com os times de negócio para definição do problema, identificar a solução e apresentação de resultados.",
         "0",
         1,
         "1",
         0,
         0,
         0,
         0,
         0,
         0,
         0,
         0,
         0,
         "Utilizo redes neurais ou modelos baseados em árvore para criar modelos de classificação., Utilizo técnicas de NLP (Natural Language Processing) para análisar dados não-estruturados.",
         "0",
         1,
         "0",
         0,
         1,
         0,
         0,
         0,
         0,
         0,
         0,
         0,
         0,
         0,
         "Ambientes de desenvolvimento na nuvem (Google Colab, AWS Sagemaker, Kaggle Notebooks etc)., Ambientes de desenvolvimento local (R-studio, JupyterLab, Anaconda)., Sistemas de controle de versão (Github, DVC, Neptune, Gitlab etc)., Planilhas (Excel, Google Sheets etc).",
         "0",
         1,
         "1",
         1,
         0,
         0,
         0,
         0,
         1,
         0,
         0,
         "Coletando e limpando dos dados que uso para análise e modelagem., Entrando em contato com os times de negócio para definição do problema, identificar a solução e apresentação de resultados.",
         "0",
         1,
         "1",
         0,
         0,
         0,
         0,
         0,
         0,
         0,
         0,
         0,
         null,
         null
        ],
        [
         "00urm3jf2cek12w6ygue00urm3jzd17j",
         22,
         "22-24",
         "Masculino",
         "Preta",
         "Não",
         "Não acredito que minha experiência profissional seja afetada devido a esses fatores",
         1,
         0,
         0,
         0,
         null,
         null,
         null,
         null,
         null,
         null,
         null,
         null,
         null,
         null,
         1,
         "São Paulo (SP)",
         "SP",
         "Sudeste",
         "1",
         null,
         "Estudante de Graduação",
         "Computação / Engenharia de Software / Sistemas de Informação/ TI",
         "Desempregado, buscando recolocação",
         null,
         null,
         null,
         null,
         null,
         null,
         null,
         null,
         null,
         null,
         null,
         null,
         null,
         null,
         null,
         null,
         null,
         null,
         null,
         null,
         null,
         null,
         null,
         null,
         null,
         null,
         null,
         null,
         null,
         null,
         null,
         null,
         null,
         null,
         null,
         null,
         null,
         null,
         null,
         null,
         null,
         null,
         null,
         null,
         null,
         null,
         null,
         null,
         null,
         null,
         null,
         null,
         null,
         null,
         null,
         null,
         null,
         null,
         null,
         null,
         null,
         null,
         null,
         null,
         null,
         null,
         null,
         null,
         null,
         null,
         null,
         null,
         null,
         null,
         null,
         null,
         null,
         null,
         null,
         null,
         null,
         null,
         null,
         null,
         null,
         null,
         null,
         null,
         null,
         null,
         null,
         null,
         null,
         null,
         "Buscando oportunidade na área de dados",
         null,
         null,
         null,
         null,
         null,
         null,
         null,
         null,
         null,
         null,
         null,
         null,
         null,
         null,
         null,
         null,
         null,
         null,
         null,
         null,
         null,
         null,
         null,
         null,
         null,
         null,
         null,
         null,
         null,
         null,
         null,
         null,
         null,
         null,
         null,
         null,
         null,
         null,
         null,
         null,
         null,
         null,
         null,
         null,
         null,
         null,
         null,
         null,
         null,
         null,
         null,
         null,
         null,
         null,
         null,
         null,
         null,
         null,
         null,
         null,
         null,
         null,
         null,
         null,
         null,
         null,
         null,
         null,
         null,
         null,
         null,
         null,
         null,
         null,
         null,
         null,
         null,
         null,
         null,
         null,
         null,
         null,
         null,
         null,
         null,
         null,
         null,
         null,
         null,
         null,
         null,
         null,
         null,
         null,
         null,
         null,
         null,
         null,
         null,
         null,
         null,
         null,
         null,
         null,
         null,
         null,
         null,
         null,
         null,
         null,
         null,
         null,
         null,
         null,
         null,
         null,
         null,
         null,
         null,
         "Migração de carreira: Trabalho em outra área e busco recolocação na área de dados",
         "Analista de BI/BI Analyst",
         "7 meses - 1 ano",
         "Já participei de 1 a 3 entrevistas, mas não fui contratado",
         null,
         null,
         null,
         null,
         null,
         null,
         null,
         null,
         null,
         null,
         null,
         null,
         null,
         null,
         null,
         null,
         null,
         null,
         null,
         null,
         null,
         null,
         null,
         null,
         null,
         null,
         null,
         null,
         null,
         null,
         null,
         null,
         null,
         null,
         null,
         null,
         null,
         null,
         null,
         null,
         null,
         null,
         null,
         null,
         null,
         null,
         null,
         null,
         null,
         null,
         null,
         null,
         null,
         null,
         null,
         null,
         null,
         null,
         null,
         null,
         null,
         null,
         null,
         null,
         null,
         null,
         null,
         null,
         null,
         null,
         null,
         null,
         null,
         null,
         null,
         null,
         null,
         null,
         null,
         null,
         null,
         null,
         null,
         null,
         null,
         null,
         null,
         null,
         null,
         null,
         null,
         null,
         null,
         null,
         null,
         null,
         null,
         null,
         null,
         null,
         null,
         null,
         null,
         null,
         null,
         null,
         null,
         null,
         null,
         null,
         null,
         null,
         null,
         null,
         null,
         null,
         null,
         null,
         null,
         null,
         null,
         null,
         null,
         null,
         null,
         null,
         null,
         null,
         null,
         null,
         null,
         null,
         null,
         null,
         null,
         null,
         null,
         null,
         null,
         null,
         null,
         null,
         null,
         null,
         null,
         null,
         null,
         null,
         null,
         null,
         null,
         null,
         null
        ],
        [
         "00v0az4g792svil00vn6y1kfm9hq8vy9",
         34,
         "30-34",
         "Masculino",
         "Branca",
         "Não",
         null,
         null,
         null,
         null,
         null,
         null,
         null,
         null,
         null,
         null,
         null,
         null,
         null,
         null,
         null,
         1,
         "Minas Gerais (MG)",
         "MG",
         "Sudeste",
         "1",
         null,
         "Doutorado ou Phd",
         "Economia/ Administração / Contabilidade / Finanças/ Negócios",
         "Empreendedor ou Empregado (CNPJ)",
         "Outra Opção",
         "de 101 a 500",
         "0",
         null,
         "Analista de Dados/Data Analyst",
         "Júnior",
         "de R$ 4.001/mês a R$ 6.000/mês",
         "Menos de 1 ano",
         "Menos de 1 ano",
         "1",
         null,
         null,
         null,
         null,
         null,
         null,
         null,
         null,
         "Sim, fui aprovado no meu primeiro emprego (ou estava sem emprego)",
         "Não estou buscando e não pretendo mudar de emprego nos próximos 6 meses",
         "Remuneração/Salário, Flexibilidade de trabalho remoto, Plano de carreira e oportunidades de crescimento profissional",
         "1",
         "0",
         0,
         1,
         0,
         0,
         1,
         0,
         0,
         0,
         "Não ocorreram layoffs/demissões em massa na empresa em que trabalho",
         "Modelo 100% remoto",
         "Modelo 100% remoto",
         "Vou procurar outra oportunidade no modelo híbrido ou remoto",
         null,
         null,
         null,
         null,
         null,
         null,
         null,
         null,
         null,
         null,
         null,
         null,
         null,
         null,
         null,
         null,
         null,
         null,
         null,
         null,
         null,
         null,
         null,
         null,
         null,
         null,
         null,
         null,
         null,
         null,
         null,
         null,
         null,
         null,
         null,
         null,
         null,
         null,
         null,
         null,
         null,
         null,
         null,
         null,
         null,
         null,
         null,
         null,
         null,
         null,
         null,
         null,
         null,
         null,
         null,
         null,
         null,
         null,
         "*Análise de Dados/BI:* Extrai e cruza dados unindo diferentes fontes da informação; analisa dados visando identificar padrões, gerar insights e levantar perguntas; desenvolve dashboards, relatórios e visualizações de dados em ferramentas de BI.",
         "Análise de Dados",
         "Dados relacionais (estruturados em bancos SQL), Textos/Documentos, Planilhas, Áudios",
         "1",
         "0",
         0,
         1,
         0,
         1,
         1,
         0,
         "Dados relacionais (estruturados em bancos SQL), Planilhas",
         1,
         "0",
         0,
         0,
         0,
         0,
         1,
         0,
         "SQL, Python",
         1,
         "0",
         1,
         0,
         0,
         0,
         0,
         0,
         0,
         0,
         0,
         0,
         0,
         0,
         0,
         "Python",
         "Python",
         "Google BigQuery, Snowflake",
         0,
         "0",
         0,
         0,
         0,
         0,
         0,
         0,
         0,
         0,
         0,
         0,
         0,
         0,
         0,
         0,
         0,
         0,
         0,
         0,
         0,
         1,
         0,
         0,
         0,
         1,
         0,
         0,
         0,
         0,
         0,
         0,
         0,
         "Snowflake",
         0,
         "0",
         0,
         0,
         0,
         0,
         0,
         "Amazon Web Services (AWS)",
         "Microsoft PowerBI, Metabase",
         "1",
         "0",
         0,
         1,
         0,
         0,
         0,
         0,
         0,
         0,
         0,
         0,
         0,
         0,
         0,
         0,
         0,
         0,
         0,
         0,
         0,
         0,
         0,
         "Microsoft PowerBI",
         "Não sei opinar.",
         "0",
         "0",
         0,
         0,
         0,
         0,
         0,
         1,
         "Utilizo apenas soluções gratuitas (como por exemplo o ChatGPT), para me ajudar a ser mais produtivo no dia a dia.",
         "0",
         "1",
         "0",
         0,
         0,
         null,
         null,
         null,
         null,
         null,
         null,
         null,
         null,
         null,
         null,
         null,
         null,
         null,
         null,
         null,
         null,
         null,
         null,
         null,
         null,
         null,
         null,
         null,
         null,
         null,
         null,
         null,
         null,
         null,
         null,
         null,
         null,
         null,
         null,
         null,
         null,
         null,
         null,
         null,
         null,
         null,
         null,
         null,
         null,
         null,
         null,
         null,
         null,
         null,
         null,
         null,
         "Processo e analiso dados utilizando linguagens de programação como Python, R etc., Realizo construções de dashboards em ferramentas de BI como PowerBI, Tableau, Looker, Qlik etc., Crio consultas através da linguagem SQL para exportar informações e compartilhar com as áreas de negócio., Realizo experimentos e estudos utilizando metodologias estatísticas como teste de hipótese, modelos de regressão etc., Atuo na modelagem dos dados, com o objetivo de criar conjuntos de dados como Data Warehouses, Data Marts, Datasets etc.",
         "1",
         "1",
         "1",
         0,
         1,
         0,
         1,
         0,
         0,
         0,
         "Scripts Python, DBT",
         "1",
         "0",
         "0",
         0,
         0,
         0,
         0,
         0,
         0,
         0,
         0,
         0,
         0,
         0,
         0,
         0,
         0,
         0,
         0,
         0,
         0,
         "Minha empresa não utiliza essas ferramentas.",
         "0",
         "0",
         "0",
         "0",
         "1",
         "0",
         "Processando e analisando dados utilizando linguagens de programação como Python, R etc., Realizando construções de dashboards em ferramentas de BI como PowerBI, Tableau, Looker, Qlik etc.",
         "1",
         "1",
         "0",
         0,
         "0",
         "0",
         0,
         "0",
         0,
         0,
         null,
         null,
         null,
         null,
         null,
         null,
         null,
         null,
         null,
         null,
         null,
         null,
         null,
         null,
         null,
         null,
         null,
         null,
         null,
         null,
         null,
         null,
         null,
         null,
         null,
         null,
         null,
         null,
         null,
         null,
         null,
         null,
         null,
         null,
         null,
         null,
         null,
         null,
         null,
         null,
         null,
         null,
         null,
         null,
         null,
         null,
         null,
         null,
         null,
         null,
         null,
         null,
         null,
         null,
         null
        ]
       ],
       "datasetInfos": [],
       "dbfsResultPath": null,
       "isJsonSchema": true,
       "metadata": {},
       "overflow": false,
       "plotOptions": {
        "customPlotOptions": {},
        "displayType": "table",
        "pivotAggregation": null,
        "pivotColumns": null,
        "xColumns": null,
        "yColumns": null
       },
       "removedWidgets": [],
       "schema": [
        {
         "metadata": "{}",
         "name": "('P0', 'id')",
         "type": "\"string\""
        },
        {
         "metadata": "{}",
         "name": "('P1_a ', 'Idade')",
         "type": "\"integer\""
        },
        {
         "metadata": "{}",
         "name": "('P1_a_1 ', 'Faixa idade')",
         "type": "\"string\""
        },
        {
         "metadata": "{}",
         "name": "('P1_b ', 'Genero')",
         "type": "\"string\""
        },
        {
         "metadata": "{}",
         "name": "('P1_c ', 'Cor/raca/etnia')",
         "type": "\"string\""
        },
        {
         "metadata": "{}",
         "name": "('P1_d ', 'PCD')",
         "type": "\"string\""
        },
        {
         "metadata": "{}",
         "name": "('P1_e ', 'experiencia_profissional_prejudicada')",
         "type": "\"string\""
        },
        {
         "metadata": "{}",
         "name": "('P1_e_1 ', 'Não acredito que minha experiência profissional seja afetada')",
         "type": "\"integer\""
        },
        {
         "metadata": "{}",
         "name": "('P1_e_2 ', 'Experiencia prejudicada devido a minha Cor Raça Etnia')",
         "type": "\"integer\""
        },
        {
         "metadata": "{}",
         "name": "('P1_e_3 ', 'Experiencia prejudicada devido a minha identidade de gênero')",
         "type": "\"integer\""
        },
        {
         "metadata": "{}",
         "name": "('P1_e_4 ', 'Experiencia prejudicada devido ao fato de ser PCD')",
         "type": "\"integer\""
        },
        {
         "metadata": "{}",
         "name": "('P1_f ', 'aspectos_prejudicados')",
         "type": "\"string\""
        },
        {
         "metadata": "{}",
         "name": "('P1_f_1', 'Quantidade de oportunidades de emprego/vagas recebidas')",
         "type": "\"string\""
        },
        {
         "metadata": "{}",
         "name": "('P1_f_2', 'Senioridade das vagas recebidas em relação à sua experiência')",
         "type": "\"string\""
        },
        {
         "metadata": "{}",
         "name": "('P1_f_3', 'Aprovação em processos seletivos/entrevistas')",
         "type": "\"integer\""
        },
        {
         "metadata": "{}",
         "name": "('P1_f_4', 'Oportunidades de progressão de carreira')",
         "type": "\"integer\""
        },
        {
         "metadata": "{}",
         "name": "('P1_f_5', 'Velocidade de progressão de carreira')",
         "type": "\"integer\""
        },
        {
         "metadata": "{}",
         "name": "('P1_f_6', 'Nível de cobrança no trabalho/Stress no trabalho')",
         "type": "\"integer\""
        },
        {
         "metadata": "{}",
         "name": "('P1_f_7', 'Atenção dada diante das minhas opiniões e ideias')",
         "type": "\"integer\""
        },
        {
         "metadata": "{}",
         "name": "('P1_f_8', 'Relação com outros membros da empresa, em momentos de trabalho')",
         "type": "\"integer\""
        },
        {
         "metadata": "{}",
         "name": "('P1_f_9', 'Relação com outros membros da empresa, em momentos de integração e outros momentos fora do trabalho')",
         "type": "\"integer\""
        },
        {
         "metadata": "{}",
         "name": "('P1_g ', 'vive_no_brasil')",
         "type": "\"integer\""
        },
        {
         "metadata": "{}",
         "name": "('P1_i ', 'Estado onde mora')",
         "type": "\"string\""
        },
        {
         "metadata": "{}",
         "name": "('P1_i_1 ', 'uf onde mora')",
         "type": "\"string\""
        },
        {
         "metadata": "{}",
         "name": "('P1_i_2 ', 'Regiao onde mora')",
         "type": "\"string\""
        },
        {
         "metadata": "{}",
         "name": "('P1_j ', 'Mudou de Estado?')",
         "type": "\"string\""
        },
        {
         "metadata": "{}",
         "name": "('P1_k ', 'Regiao de origem')",
         "type": "\"string\""
        },
        {
         "metadata": "{}",
         "name": "('P1_l ', 'Nivel de Ensino')",
         "type": "\"string\""
        },
        {
         "metadata": "{}",
         "name": "('P1_m ', 'Área de Formação')",
         "type": "\"string\""
        },
        {
         "metadata": "{}",
         "name": "('P2_a ', 'Qual sua situação atual de trabalho?')",
         "type": "\"string\""
        },
        {
         "metadata": "{}",
         "name": "('P2_b ', 'Setor')",
         "type": "\"string\""
        },
        {
         "metadata": "{}",
         "name": "('P2_c ', 'Numero de Funcionarios')",
         "type": "\"string\""
        },
        {
         "metadata": "{}",
         "name": "('P2_d ', 'Gestor?')",
         "type": "\"string\""
        },
        {
         "metadata": "{}",
         "name": "('P2_e ', 'Cargo como Gestor')",
         "type": "\"string\""
        },
        {
         "metadata": "{}",
         "name": "('P2_f ', 'Cargo Atual')",
         "type": "\"string\""
        },
        {
         "metadata": "{}",
         "name": "('P2_g ', 'Nivel')",
         "type": "\"string\""
        },
        {
         "metadata": "{}",
         "name": "('P2_h ', 'Faixa salarial')",
         "type": "\"string\""
        },
        {
         "metadata": "{}",
         "name": "('P2_i ', 'Quanto tempo de experiência na área de dados você tem?')",
         "type": "\"string\""
        },
        {
         "metadata": "{}",
         "name": "('P2_j ', 'Quanto tempo de experiência na área de TI/Engenharia de Software você teve antes de começar a trabalhar na área de dados?')",
         "type": "\"string\""
        },
        {
         "metadata": "{}",
         "name": "('P2_k ', 'Você está satisfeito na sua empresa atual?')",
         "type": "\"string\""
        },
        {
         "metadata": "{}",
         "name": "('P2_l ', 'Qual o principal motivo da sua insatisfação com a empresa atual?')",
         "type": "\"string\""
        },
        {
         "metadata": "{}",
         "name": "('P2_l_1 ', 'Falta de oportunidade de crescimento no emprego atual')",
         "type": "\"integer\""
        },
        {
         "metadata": "{}",
         "name": "('P2_l_2 ', 'Salário atual não corresponde ao mercado')",
         "type": "\"string\""
        },
        {
         "metadata": "{}",
         "name": "('P2_l_3 ', 'Não tenho uma boa relação com meu líder/gestor')",
         "type": "\"integer\""
        },
        {
         "metadata": "{}",
         "name": "('P2_l_4 ', 'Gostaria de trabalhar em em outra área de atuação')",
         "type": "\"integer\""
        },
        {
         "metadata": "{}",
         "name": "('P2_l_5 ', 'Gostaria de receber mais benefícios')",
         "type": "\"integer\""
        },
        {
         "metadata": "{}",
         "name": "('P2_l_6 ', 'O clima de trabalho/ambiente não é bom')",
         "type": "\"integer\""
        },
        {
         "metadata": "{}",
         "name": "('P2_l_7 ', 'Falta de maturidade analítica na empresa')",
         "type": "\"integer\""
        },
        {
         "metadata": "{}",
         "name": "('P2_m ', 'Você participou de entrevistas de emprego nos últimos 6 meses?')",
         "type": "\"string\""
        },
        {
         "metadata": "{}",
         "name": "('P2_n ', 'Você pretende mudar de emprego nos próximos 6 meses?')",
         "type": "\"string\""
        },
        {
         "metadata": "{}",
         "name": "('P2_o ', 'Quais os principais critérios que você leva em consideração no momento de decidir onde trabalhar?')",
         "type": "\"string\""
        },
        {
         "metadata": "{}",
         "name": "('P2_o_1 ', 'Remuneração/Salário')",
         "type": "\"string\""
        },
        {
         "metadata": "{}",
         "name": "('P2_o_2 ', 'Benefícios')",
         "type": "\"string\""
        },
        {
         "metadata": "{}",
         "name": "('P2_o_3 ', 'Propósito do trabalho e da empresa')",
         "type": "\"integer\""
        },
        {
         "metadata": "{}",
         "name": "('P2_o_4 ', 'Flexibilidade de trabalho remoto')",
         "type": "\"integer\""
        },
        {
         "metadata": "{}",
         "name": "('P2_o_5 ', 'Ambiente e clima de trabalho')",
         "type": "\"integer\""
        },
        {
         "metadata": "{}",
         "name": "('P2_o_6 ', 'Oportunidade de aprendizado e trabalhar com referências na área')",
         "type": "\"integer\""
        },
        {
         "metadata": "{}",
         "name": "('P2_o_7 ', 'Plano de carreira e oportunidades de crescimento profissional')",
         "type": "\"integer\""
        },
        {
         "metadata": "{}",
         "name": "('P2_o_8 ', 'Maturidade da empresa em termos de tecnologia e dados')",
         "type": "\"integer\""
        },
        {
         "metadata": "{}",
         "name": "('P2_o_9 ', 'Qualidade dos gestores e líderes')",
         "type": "\"integer\""
        },
        {
         "metadata": "{}",
         "name": "('P2_o_10 ', 'Reputação que a empresa tem no mercado')",
         "type": "\"integer\""
        },
        {
         "metadata": "{}",
         "name": "('P2_q ', 'Empresa que trabaha passou por layoff em 2023')",
         "type": "\"string\""
        },
        {
         "metadata": "{}",
         "name": "('P2_r ', 'Atualmente qual a sua forma de trabalho?')",
         "type": "\"string\""
        },
        {
         "metadata": "{}",
         "name": "('P2_s ', 'Qual a forma de trabalho ideal para você?')",
         "type": "\"string\""
        },
        {
         "metadata": "{}",
         "name": "('P2_t ', 'Caso sua empresa decida pelo modelo 100% presencial qual será sua atitude?')",
         "type": "\"string\""
        },
        {
         "metadata": "{}",
         "name": "('P3_a ', 'Qual o número aproximado de pessoas que atuam com dados na sua empresa hoje?')",
         "type": "\"string\""
        },
        {
         "metadata": "{}",
         "name": "('P3_b ', 'Quais desses papéis/cargos fazem parte do time (ou chapter) de dados da sua empresa?')",
         "type": "\"string\""
        },
        {
         "metadata": "{}",
         "name": "('P3_b_1 ', 'Analytics Engineer')",
         "type": "\"integer\""
        },
        {
         "metadata": "{}",
         "name": "('P3_b_2 ', 'Engenharia de Dados/Data Engineer')",
         "type": "\"integer\""
        },
        {
         "metadata": "{}",
         "name": "('P3_b_3 ', 'Analista de Dados/Data Analyst')",
         "type": "\"integer\""
        },
        {
         "metadata": "{}",
         "name": "('P3_b_4 ', 'Cientista de Dados/Data Scientist')",
         "type": "\"integer\""
        },
        {
         "metadata": "{}",
         "name": "('P3_b_5 ', 'Database Administrator/DBA')",
         "type": "\"integer\""
        },
        {
         "metadata": "{}",
         "name": "('P3_b_6 ', 'Analista de Business Intelligence/BI')",
         "type": "\"integer\""
        },
        {
         "metadata": "{}",
         "name": "('P3_b_7 ', 'Arquiteto de Dados/Data Architect')",
         "type": "\"integer\""
        },
        {
         "metadata": "{}",
         "name": "('P3_b_8 ', 'Data Product Manager/DPM')",
         "type": "\"integer\""
        },
        {
         "metadata": "{}",
         "name": "('P3_b_9 ', 'Business Analyst')",
         "type": "\"integer\""
        },
        {
         "metadata": "{}",
         "name": "('P3_c ', 'Quais dessas responsabilidades fazem parte da sua rotina atual de trabalho como gestor?')",
         "type": "\"string\""
        },
        {
         "metadata": "{}",
         "name": "('P3_c_1 ', 'Pensar na visão de longo prazo de dados da empresa e fortalecimento da cultura analítica da companhia.')",
         "type": "\"integer\""
        },
        {
         "metadata": "{}",
         "name": "('P3_c_2 ', 'Organização de treinamentos e iniciativas com o objetivo de aumentar a maturidade analítica das áreas de negócios.')",
         "type": "\"integer\""
        },
        {
         "metadata": "{}",
         "name": "('P3_c_3 ', 'Atração, seleção e contratação de talentos para o time de dados.')",
         "type": "\"integer\""
        },
        {
         "metadata": "{}",
         "name": "('P3_c_4 ', 'Decisão sobre contratação de ferramentas e tecnologias relacionadas a dados.')",
         "type": "\"integer\""
        },
        {
         "metadata": "{}",
         "name": "('P3_c_5 ', 'Sou gestor da equipe responsável pela engenharia de dados e por manter o Data Lake da empresa como fonte única dos dados, garantindo a qualidade e confiabilidade da informação.')",
         "type": "\"integer\""
        },
        {
         "metadata": "{}",
         "name": "('P3_c_6 ', 'Sou gestor da equipe responsável pela entrega de dados, estudos, relatórios e dashboards para as áreas de negócio da empresa.')",
         "type": "\"integer\""
        },
        {
         "metadata": "{}",
         "name": "('P3_c_7 ', 'Sou gestor da equipe responsável por iniciativas e projetos envolvendo Inteligência Artificial e Machine Learning.')",
         "type": "\"integer\""
        },
        {
         "metadata": "{}",
         "name": "('P3_c_8 ', 'Apesar de ser gestor ainda atuo na parte técnica, construindo soluções/análises/modelos etc.')",
         "type": "\"integer\""
        },
        {
         "metadata": "{}",
         "name": "('P3_c_9 ', 'Gestão de projetos de dados, cuidando das etapas, equipes envolvidas, atingimento dos objetivos etc.')",
         "type": "\"integer\""
        },
        {
         "metadata": "{}",
         "name": "('P3_c_10 ', 'Gestão de produtos de dados, cuidando da visão dos produtos, backlog, feedback de usuários etc.')",
         "type": "\"integer\""
        },
        {
         "metadata": "{}",
         "name": "('P3_c_11 ', 'Gestão de pessoas, apoio no desenvolvimento das pessoas, evolução de carreira')",
         "type": "\"integer\""
        },
        {
         "metadata": "{}",
         "name": "('P3_d ', 'Quais são os 3 maiores desafios que você tem como gestor no atual momento?')",
         "type": "\"string\""
        },
        {
         "metadata": "{}",
         "name": "('P3_d_1 ', 'a Contratar novos talentos.')",
         "type": "\"integer\""
        },
        {
         "metadata": "{}",
         "name": "('P3_d_2 ', 'b Reter talentos.')",
         "type": "\"integer\""
        },
        {
         "metadata": "{}",
         "name": "('P3_d_3 ', 'c Convencer a empresa a aumentar os investimentos na área de dados.')",
         "type": "\"integer\""
        },
        {
         "metadata": "{}",
         "name": "('P3_d_4 ', 'd Gestão de equipes no ambiente remoto.')",
         "type": "\"integer\""
        },
        {
         "metadata": "{}",
         "name": "('P3_d_5 ', 'e Gestão de projetos envolvendo áreas multidisciplinares da empresa.')",
         "type": "\"integer\""
        },
        {
         "metadata": "{}",
         "name": "('P3_d_6 ', 'f Organizar as informações e garantir a qualidade e confiabilidade.')",
         "type": "\"integer\""
        },
        {
         "metadata": "{}",
         "name": "('P3_d_7 ', 'g Conseguir processar e armazenar um alto volume de dados.')",
         "type": "\"integer\""
        },
        {
         "metadata": "{}",
         "name": "('P3_d_8 ', 'h Conseguir gerar valor para as áreas de negócios através de estudos e experimentos.')",
         "type": "\"integer\""
        },
        {
         "metadata": "{}",
         "name": "('P3_d_9 ', 'i Desenvolver e manter modelos Machine Learning em produção.')",
         "type": "\"integer\""
        },
        {
         "metadata": "{}",
         "name": "('P3_d_10 ', 'j Gerenciar a expectativa das áreas de negócio em relação as entregas das equipes de dados.')",
         "type": "\"integer\""
        },
        {
         "metadata": "{}",
         "name": "('P3_d_11 ', 'k Garantir a manutenção dos projetos e modelos em produção, em meio ao crescimento da empresa.')",
         "type": "\"integer\""
        },
        {
         "metadata": "{}",
         "name": "('P3_d_12 ', 'Conseguir levar inovação para a empresa através dos dados.')",
         "type": "\"integer\""
        },
        {
         "metadata": "{}",
         "name": "('P3_d_13 ', 'Garantir retorno do investimento (ROI) em projetos de dados.')",
         "type": "\"integer\""
        },
        {
         "metadata": "{}",
         "name": "('P3_d_14 ', 'Dividir o tempo entre entregas técnicas e gestão.')",
         "type": "\"integer\""
        },
        {
         "metadata": "{}",
         "name": "('P3_e ', 'AI Generativa é uma prioridade em sua empresa?')",
         "type": "\"string\""
        },
        {
         "metadata": "{}",
         "name": "('P3_f ', 'Tipos de uso de AI Generativa e LLMs na empresa')",
         "type": "\"string\""
        },
        {
         "metadata": "{}",
         "name": "('P3_f_1 ', 'Colaboradores usando AI generativa de forma independente e descentralizada')",
         "type": "\"integer\""
        },
        {
         "metadata": "{}",
         "name": "('P3_f_2 ', 'Direcionamento centralizado do uso de AI generativa')",
         "type": "\"integer\""
        },
        {
         "metadata": "{}",
         "name": "('P3_f_3 ', 'Desenvolvedores utilizando Copilots')",
         "type": "\"integer\""
        },
        {
         "metadata": "{}",
         "name": "('P3_f_4 ', 'AI Generativa e LLMs para melhorar produtos externos')",
         "type": "\"integer\""
        },
        {
         "metadata": "{}",
         "name": "('P3_f_5 ', 'AI Generativa e LLMs para melhorar produtos internos para os colaboradores')",
         "type": "\"integer\""
        },
        {
         "metadata": "{}",
         "name": "('P3_f_6 ', 'IA Generativa e LLMs como principal frente do negócio')",
         "type": "\"integer\""
        },
        {
         "metadata": "{}",
         "name": "('P3_f_7 ', 'IA Generativa e LLMs não é prioridade')",
         "type": "\"integer\""
        },
        {
         "metadata": "{}",
         "name": "('P3_f_8 ', 'Não sei opinar sobre o uso de IA Generativa e LLMs na empresa')",
         "type": "\"integer\""
        },
        {
         "metadata": "{}",
         "name": "('P3_g ', 'Motivos que levam a empresa a não usar AI Genrativa e LLMs')",
         "type": "\"string\""
        },
        {
         "metadata": "{}",
         "name": "('P3_g_1 ', 'Falta de compreensão dos casos de uso')",
         "type": "\"integer\""
        },
        {
         "metadata": "{}",
         "name": "('P3_g_2 ', 'Falta de confiabilidade das saídas (alucinação dos modelos)')",
         "type": "\"integer\""
        },
        {
         "metadata": "{}",
         "name": "('P3_g_3 ', 'Incerteza em relação a regulamentação')",
         "type": "\"integer\""
        },
        {
         "metadata": "{}",
         "name": "('P3_g_4 ', 'Preocupações com segurança e privacidade de dados')",
         "type": "\"integer\""
        },
        {
         "metadata": "{}",
         "name": "('P3_g_5 ', 'Retorno sobre investimento (ROI) não comprovado de IA Generativa')",
         "type": "\"integer\""
        },
        {
         "metadata": "{}",
         "name": "('P3_g_6 ', 'Dados da empresa não estão prontos para uso de IA Generativa')",
         "type": "\"integer\""
        },
        {
         "metadata": "{}",
         "name": "('P3_g_7 ', 'Falta de expertise ou falta de recursos')",
         "type": "\"integer\""
        },
        {
         "metadata": "{}",
         "name": "('P3_g_8 ', 'Alta direção da empresa não vê valor ou não vê como prioridade')",
         "type": "\"integer\""
        },
        {
         "metadata": "{}",
         "name": "('P3_g_9 ', 'Preocupações com propriedade intelectual')",
         "type": "\"integer\""
        },
        {
         "metadata": "{}",
         "name": "('P4_a ', 'Mesmo que esse não seja seu cargo formal, você considera que sua atuação no dia a dia, reflete alguma das opções listadas abaixo?')",
         "type": "\"string\""
        },
        {
         "metadata": "{}",
         "name": "('P4_a_1 ', 'Atuacao')",
         "type": "\"string\""
        },
        {
         "metadata": "{}",
         "name": "('P4_b ', 'Quais das fontes de dados listadas você já analisou ou processou no trabalho?')",
         "type": "\"string\""
        },
        {
         "metadata": "{}",
         "name": "('P4_b_1 ', 'Dados relacionais (estruturados em bancos SQL)')",
         "type": "\"string\""
        },
        {
         "metadata": "{}",
         "name": "('P4_b_2 ', 'Dados armazenados em bancos NoSQL')",
         "type": "\"string\""
        },
        {
         "metadata": "{}",
         "name": "('P4_b_3 ', 'Imagens')",
         "type": "\"integer\""
        },
        {
         "metadata": "{}",
         "name": "('P4_b_4 ', 'Textos/Documentos')",
         "type": "\"integer\""
        },
        {
         "metadata": "{}",
         "name": "('P4_b_5 ', 'Vídeos')",
         "type": "\"integer\""
        },
        {
         "metadata": "{}",
         "name": "('P4_b_6 ', 'Áudios')",
         "type": "\"integer\""
        },
        {
         "metadata": "{}",
         "name": "('P4_b_7 ', 'Planilhas')",
         "type": "\"integer\""
        },
        {
         "metadata": "{}",
         "name": "('P4_b_8 ', 'Dados georeferenciados')",
         "type": "\"integer\""
        },
        {
         "metadata": "{}",
         "name": "('P4_c ', 'Entre as fontes de dados listadas, quais você utiliza na maior parte do tempo?')",
         "type": "\"string\""
        },
        {
         "metadata": "{}",
         "name": "('P4_c_1 ', 'Dados relacionais (estruturados em bancos SQL)')",
         "type": "\"integer\""
        },
        {
         "metadata": "{}",
         "name": "('P4_c_2 ', 'Dados armazenados em bancos NoSQL')",
         "type": "\"string\""
        },
        {
         "metadata": "{}",
         "name": "('P4_c_3 ', 'Imagens')",
         "type": "\"integer\""
        },
        {
         "metadata": "{}",
         "name": "('P4_c_4 ', 'Textos/Documentos')",
         "type": "\"integer\""
        },
        {
         "metadata": "{}",
         "name": "('P4_c_5 ', 'Vídeos')",
         "type": "\"integer\""
        },
        {
         "metadata": "{}",
         "name": "('P4_c_6 ', 'Áudios')",
         "type": "\"integer\""
        },
        {
         "metadata": "{}",
         "name": "('P4_c_7 ', 'Planilhas')",
         "type": "\"integer\""
        },
        {
         "metadata": "{}",
         "name": "('P4_c_8 ', 'Dados georeferenciados')",
         "type": "\"integer\""
        },
        {
         "metadata": "{}",
         "name": "('P4_d ', 'Quais das linguagens listadas abaixo você utiliza no trabalho?')",
         "type": "\"string\""
        },
        {
         "metadata": "{}",
         "name": "('P4_d_1 ', 'SQL')",
         "type": "\"integer\""
        },
        {
         "metadata": "{}",
         "name": "('P4_d_2 ', 'R ')",
         "type": "\"string\""
        },
        {
         "metadata": "{}",
         "name": "('P4_d_3 ', 'Python')",
         "type": "\"integer\""
        },
        {
         "metadata": "{}",
         "name": "('P4_d_4 ', 'C/C++/C#')",
         "type": "\"integer\""
        },
        {
         "metadata": "{}",
         "name": "('P4_d_5 ', '.NET')",
         "type": "\"integer\""
        },
        {
         "metadata": "{}",
         "name": "('P4_d_6 ', 'Java')",
         "type": "\"integer\""
        },
        {
         "metadata": "{}",
         "name": "('P4_d_7 ', 'Julia')",
         "type": "\"integer\""
        },
        {
         "metadata": "{}",
         "name": "('P4_d_8 ', 'SAS/Stata')",
         "type": "\"integer\""
        },
        {
         "metadata": "{}",
         "name": "('P4_d_9 ', 'Visual Basic/VBA')",
         "type": "\"integer\""
        },
        {
         "metadata": "{}",
         "name": "('P4_d_10 ', 'Scala')",
         "type": "\"integer\""
        },
        {
         "metadata": "{}",
         "name": "('P4_d_11 ', 'Matlab')",
         "type": "\"integer\""
        },
        {
         "metadata": "{}",
         "name": "('P4_d_12 ', 'Rust')",
         "type": "\"integer\""
        },
        {
         "metadata": "{}",
         "name": "('P4_d_13 ', 'PHP')",
         "type": "\"integer\""
        },
        {
         "metadata": "{}",
         "name": "('P4_d_14 ', 'JavaScript')",
         "type": "\"integer\""
        },
        {
         "metadata": "{}",
         "name": "('P4_d_15 ', 'Não utilizo nenhuma linguagem')",
         "type": "\"integer\""
        },
        {
         "metadata": "{}",
         "name": "('P4_e ', 'Entre as linguagens listadas abaixo, qual é a que você mais utiliza no trabalho?')",
         "type": "\"string\""
        },
        {
         "metadata": "{}",
         "name": "('P4_f ', 'Entre as linguagens listadas abaixo, qual é a sua preferida?')",
         "type": "\"string\""
        },
        {
         "metadata": "{}",
         "name": "('P4_g ', 'Quais dos bancos de dados/fontes de dados listados abaixo você utiliza no trabalho?')",
         "type": "\"string\""
        },
        {
         "metadata": "{}",
         "name": "('P4_g_1 ', 'MySQL')",
         "type": "\"integer\""
        },
        {
         "metadata": "{}",
         "name": "('P4_g_2 ', 'Oracle')",
         "type": "\"string\""
        },
        {
         "metadata": "{}",
         "name": "('P4_g_3 ', 'SQL SERVER')",
         "type": "\"integer\""
        },
        {
         "metadata": "{}",
         "name": "('P4_g_4 ', 'Amazon Aurora ou RDS')",
         "type": "\"integer\""
        },
        {
         "metadata": "{}",
         "name": "('P4_g_5 ', 'DynamoDB')",
         "type": "\"integer\""
        },
        {
         "metadata": "{}",
         "name": "('P4_g_6 ', 'CoachDB')",
         "type": "\"integer\""
        },
        {
         "metadata": "{}",
         "name": "('P4_g_7 ', 'Cassandra')",
         "type": "\"integer\""
        },
        {
         "metadata": "{}",
         "name": "('P4_g_8 ', 'MongoDB')",
         "type": "\"integer\""
        },
        {
         "metadata": "{}",
         "name": "('P4_g_9 ', 'MariaDB')",
         "type": "\"integer\""
        },
        {
         "metadata": "{}",
         "name": "('P4_g_10 ', 'Datomic')",
         "type": "\"integer\""
        },
        {
         "metadata": "{}",
         "name": "('P4_g_11 ', 'S3')",
         "type": "\"integer\""
        },
        {
         "metadata": "{}",
         "name": "('P4_g_12 ', 'PostgreSQL')",
         "type": "\"integer\""
        },
        {
         "metadata": "{}",
         "name": "('P4_g_13 ', 'ElasticSearch')",
         "type": "\"integer\""
        },
        {
         "metadata": "{}",
         "name": "('P4_g_14 ', 'DB2')",
         "type": "\"integer\""
        },
        {
         "metadata": "{}",
         "name": "('P4_g_15 ', 'Microsoft Access')",
         "type": "\"integer\""
        },
        {
         "metadata": "{}",
         "name": "('P4_g_16 ', 'SQLite')",
         "type": "\"integer\""
        },
        {
         "metadata": "{}",
         "name": "('P4_g_17 ', 'Sybase')",
         "type": "\"integer\""
        },
        {
         "metadata": "{}",
         "name": "('P4_g_18 ', 'Firebase')",
         "type": "\"integer\""
        },
        {
         "metadata": "{}",
         "name": "('P4_g_19 ', 'Vertica')",
         "type": "\"integer\""
        },
        {
         "metadata": "{}",
         "name": "('P4_g_20 ', 'Redis')",
         "type": "\"integer\""
        },
        {
         "metadata": "{}",
         "name": "('P4_g_21 ', 'Neo4J')",
         "type": "\"integer\""
        },
        {
         "metadata": "{}",
         "name": "('P4_g_22 ', 'Google BigQuery')",
         "type": "\"integer\""
        },
        {
         "metadata": "{}",
         "name": "('P4_g_23 ', 'Google Firestore')",
         "type": "\"integer\""
        },
        {
         "metadata": "{}",
         "name": "('P4_g_24 ', 'Amazon Redshift')",
         "type": "\"integer\""
        },
        {
         "metadata": "{}",
         "name": "('P4_g_25 ', 'Amazon Athena')",
         "type": "\"integer\""
        },
        {
         "metadata": "{}",
         "name": "('P4_g_26 ', 'Snowflake')",
         "type": "\"integer\""
        },
        {
         "metadata": "{}",
         "name": "('P4_g_27 ', 'Databricks')",
         "type": "\"integer\""
        },
        {
         "metadata": "{}",
         "name": "('P4_g_28 ', 'HBase')",
         "type": "\"integer\""
        },
        {
         "metadata": "{}",
         "name": "('P4_g_29 ', 'Presto')",
         "type": "\"integer\""
        },
        {
         "metadata": "{}",
         "name": "('P4_g_30 ', 'Splunk')",
         "type": "\"integer\""
        },
        {
         "metadata": "{}",
         "name": "('P4_g_31 ', 'SAP HANA')",
         "type": "\"integer\""
        },
        {
         "metadata": "{}",
         "name": "('P4_g_32 ', 'Hive')",
         "type": "\"integer\""
        },
        {
         "metadata": "{}",
         "name": "('P4_g_33 ', 'Firebird')",
         "type": "\"integer\""
        },
        {
         "metadata": "{}",
         "name": "('P4_h ', 'Dentre as opções listadas, qual sua Cloud preferida?')",
         "type": "\"string\""
        },
        {
         "metadata": "{}",
         "name": "('P4_h_1 ', 'Azure (Microsoft)')",
         "type": "\"integer\""
        },
        {
         "metadata": "{}",
         "name": "('P4_h_2 ', 'Amazon Web Services (AWS)')",
         "type": "\"string\""
        },
        {
         "metadata": "{}",
         "name": "('P4_h_3 ', 'Google Cloud (GCP)')",
         "type": "\"integer\""
        },
        {
         "metadata": "{}",
         "name": "('P4_h_4 ', 'Oracle Cloud')",
         "type": "\"integer\""
        },
        {
         "metadata": "{}",
         "name": "('P4_h_5 ', 'IBM')",
         "type": "\"integer\""
        },
        {
         "metadata": "{}",
         "name": "('P4_h_6 ', 'Servidores On Premise/Não utilizamos Cloud')",
         "type": "\"integer\""
        },
        {
         "metadata": "{}",
         "name": "('P4_h_7 ', 'Cloud Própria')",
         "type": "\"integer\""
        },
        {
         "metadata": "{}",
         "name": "('P4_i ', 'Cloud preferida')",
         "type": "\"string\""
        },
        {
         "metadata": "{}",
         "name": "('P4_j ', 'Ferramenta de BI utilizada no dia a dia')",
         "type": "\"string\""
        },
        {
         "metadata": "{}",
         "name": "('P4_j_1 ', 'Microsoft PowerBI')",
         "type": "\"string\""
        },
        {
         "metadata": "{}",
         "name": "('P4_j_2 ', 'Qlik View/Qlik Sense')",
         "type": "\"string\""
        },
        {
         "metadata": "{}",
         "name": "('P4_j_3 ', 'Tableau')",
         "type": "\"integer\""
        },
        {
         "metadata": "{}",
         "name": "('P4_j_4 ', 'Metabase')",
         "type": "\"integer\""
        },
        {
         "metadata": "{}",
         "name": "('P4_j_5 ', 'Superset')",
         "type": "\"integer\""
        },
        {
         "metadata": "{}",
         "name": "('P4_j_6 ', 'Redash')",
         "type": "\"integer\""
        },
        {
         "metadata": "{}",
         "name": "('P4_j_7 ', 'Looker')",
         "type": "\"integer\""
        },
        {
         "metadata": "{}",
         "name": "('P4_j_8 ', 'Looker Studio(Google Data Studio)')",
         "type": "\"integer\""
        },
        {
         "metadata": "{}",
         "name": "('P4_j_9 ', 'Amazon Quicksight')",
         "type": "\"integer\""
        },
        {
         "metadata": "{}",
         "name": "('P4_j_10 ', 'Mode')",
         "type": "\"integer\""
        },
        {
         "metadata": "{}",
         "name": "('P4_j_11 ', 'Alteryx')",
         "type": "\"integer\""
        },
        {
         "metadata": "{}",
         "name": "('P4_j_12 ', 'MicroStrategy')",
         "type": "\"integer\""
        },
        {
         "metadata": "{}",
         "name": "('P4_j_13 ', 'IBM Analytics/Cognos')",
         "type": "\"integer\""
        },
        {
         "metadata": "{}",
         "name": "('P4_j_14 ', 'SAP Business Objects/SAP Analytics')",
         "type": "\"integer\""
        },
        {
         "metadata": "{}",
         "name": "('P4_j_15 ', 'Oracle Business Intelligence')",
         "type": "\"integer\""
        },
        {
         "metadata": "{}",
         "name": "('P4_j_16 ', 'Salesforce/Einstein Analytics')",
         "type": "\"integer\""
        },
        {
         "metadata": "{}",
         "name": "('P4_j_17 ', 'Birst')",
         "type": "\"integer\""
        },
        {
         "metadata": "{}",
         "name": "('P4_j_18 ', 'SAS Visual Analytics')",
         "type": "\"integer\""
        },
        {
         "metadata": "{}",
         "name": "('P4_j_19 ', 'Grafana')",
         "type": "\"integer\""
        },
        {
         "metadata": "{}",
         "name": "('P4_j_20 ', 'TIBCO Spotfire')",
         "type": "\"integer\""
        },
        {
         "metadata": "{}",
         "name": "('P4_j_21 ', 'Pentaho')",
         "type": "\"integer\""
        },
        {
         "metadata": "{}",
         "name": "('P4_j_22 ', 'Fazemos todas as análises utilizando apenas Excel ou planilhas do google')",
         "type": "\"integer\""
        },
        {
         "metadata": "{}",
         "name": "('P4_j_23 ', 'Não utilizo nenhuma ferramenta de BI no trabalho')",
         "type": "\"integer\""
        },
        {
         "metadata": "{}",
         "name": "('P4_k ', 'Qual sua ferramenta de BI preferida?')",
         "type": "\"string\""
        },
        {
         "metadata": "{}",
         "name": "('P4_l ', 'Qual o tipo de uso de AI Generativa e LLMs na empresa')",
         "type": "\"string\""
        },
        {
         "metadata": "{}",
         "name": "('P4_l_1 ', 'Colaboradores usando AI generativa de forma independente e descentralizada')",
         "type": "\"string\""
        },
        {
         "metadata": "{}",
         "name": "('P4_l_2 ', 'Direcionamento centralizado do uso de AI generativa')",
         "type": "\"string\""
        },
        {
         "metadata": "{}",
         "name": "('P4_l_3 ', 'Desenvolvedores utilizando Copilots')",
         "type": "\"integer\""
        },
        {
         "metadata": "{}",
         "name": "('P4_l_4 ', 'AI Generativa e LLMs para melhorar produtos externos para os clientes finais')",
         "type": "\"integer\""
        },
        {
         "metadata": "{}",
         "name": "('P4_l_5 ', 'AI Generativa e LLMs para melhorar produtos internos para os colaboradores')",
         "type": "\"integer\""
        },
        {
         "metadata": "{}",
         "name": "('P4_l_6 ', 'IA Generativa e LLMs como principal frente do negócio')",
         "type": "\"integer\""
        },
        {
         "metadata": "{}",
         "name": "('P4_l_7 ', 'IA Generativa e LLMs não é prioridade')",
         "type": "\"integer\""
        },
        {
         "metadata": "{}",
         "name": "('P4_l_8 ', 'Não sei opinar sobre o uso de IA Generativa e LLMs na empresa')",
         "type": "\"integer\""
        },
        {
         "metadata": "{}",
         "name": "('P4_m ', 'Utiliza ChatGPT ou LLMs no trabalho?')",
         "type": "\"string\""
        },
        {
         "metadata": "{}",
         "name": "('P4_m_1 ', 'Não uso soluções de AI Generativa com foco em produtividade')",
         "type": "\"string\""
        },
        {
         "metadata": "{}",
         "name": "('P4_m_2 ', 'Uso soluções gratuitas de AI Generativa com foco em produtividade')",
         "type": "\"string\""
        },
        {
         "metadata": "{}",
         "name": "('P4_m_3 ', 'Uso e pago pelas soluções de AI Generativa com foco em produtividade')",
         "type": "\"string\""
        },
        {
         "metadata": "{}",
         "name": "('P4_m_4 ', 'A empresa que trabalho paga pelas soluções de AI Generativa com foco em produtividade')",
         "type": "\"integer\""
        },
        {
         "metadata": "{}",
         "name": "('P4_m_5 ', 'Uso soluções do tipo Copilot')",
         "type": "\"integer\""
        },
        {
         "metadata": "{}",
         "name": "('P5_a ', 'Qual seu objetivo na área de dados?')",
         "type": "\"string\""
        },
        {
         "metadata": "{}",
         "name": "('P5_b ', 'Qual oportunidade você está buscando?')",
         "type": "\"string\""
        },
        {
         "metadata": "{}",
         "name": "('P5_c ', 'Há quanto tempo você busca uma oportunidade na área de dados?')",
         "type": "\"string\""
        },
        {
         "metadata": "{}",
         "name": "('P5_d ', 'Como tem sido a busca por um emprego na área de dados?')",
         "type": "\"string\""
        },
        {
         "metadata": "{}",
         "name": "('P6_a ', 'Quais das opções abaixo fazem parte da sua rotina no trabalho atual como engenheiro de dados?')",
         "type": "\"string\""
        },
        {
         "metadata": "{}",
         "name": "('P6_a_1 ', 'Desenvolvo pipelines de dados utilizando linguagens de programação como Python, Scala, Java etc.')",
         "type": "\"string\""
        },
        {
         "metadata": "{}",
         "name": "('P6_a_2 ', 'Realizo construções de ETL's em ferramentas como Pentaho, Talend, Dataflow etc.')",
         "type": "\"integer\""
        },
        {
         "metadata": "{}",
         "name": "('P6_a_3 ', 'Crio consultas através da linguagem SQL para exportar informações e compartilhar com as áreas de negócio.')",
         "type": "\"string\""
        },
        {
         "metadata": "{}",
         "name": "('P6_a_4 ', 'Atuo na integração de diferentes fontes de dados através de plataformas proprietárias como Stitch Data, Fivetran etc.')",
         "type": "\"integer\""
        },
        {
         "metadata": "{}",
         "name": "('P6_a_5 ', 'Modelo soluções de arquitetura de dados, criando componentes de ingestão de dados, transformação e recuperação da informação.')",
         "type": "\"integer\""
        },
        {
         "metadata": "{}",
         "name": "('P6_a_6 ', 'Desenvolvo/cuido da manutenção de repositórios de dados baseados em streaming de eventos como Data Lakes e Data Lakehouses.')",
         "type": "\"integer\""
        },
        {
         "metadata": "{}",
         "name": "('P6_a_7 ', 'Atuo na modelagem dos dados, com o objetivo de criar conjuntos de dados como Data Warehouses, Data Marts etc.')",
         "type": "\"integer\""
        },
        {
         "metadata": "{}",
         "name": "('P6_a_8 ', 'Cuido da qualidade dos dados, metadados e dicionário de dados.')",
         "type": "\"integer\""
        },
        {
         "metadata": "{}",
         "name": "('P6_a_9 ', 'Nenhuma das opções listadas refletem meu dia a dia.')",
         "type": "\"integer\""
        },
        {
         "metadata": "{}",
         "name": "('P6_b ', 'Quais as ferramentas/tecnologias de ETL que você utiliza no trabalho como Data Engineer?')",
         "type": "\"string\""
        },
        {
         "metadata": "{}",
         "name": "('P6_b_1 ', 'Scripts Python')",
         "type": "\"string\""
        },
        {
         "metadata": "{}",
         "name": "('P6_b_2 ', 'SQL & Stored Procedures')",
         "type": "\"integer\""
        },
        {
         "metadata": "{}",
         "name": "('P6_b_3 ', 'Apache Airflow')",
         "type": "\"string\""
        },
        {
         "metadata": "{}",
         "name": "('P6_b_4 ', 'Apache NiFi')",
         "type": "\"integer\""
        },
        {
         "metadata": "{}",
         "name": "('P6_b_5 ', 'Luigi')",
         "type": "\"integer\""
        },
        {
         "metadata": "{}",
         "name": "('P6_b_6 ', 'AWS Glue')",
         "type": "\"integer\""
        },
        {
         "metadata": "{}",
         "name": "('P6_b_7 ', 'Talend')",
         "type": "\"integer\""
        },
        {
         "metadata": "{}",
         "name": "('P6_b_8 ', 'Pentaho')",
         "type": "\"integer\""
        },
        {
         "metadata": "{}",
         "name": "('P6_b_9 ', 'Alteryx')",
         "type": "\"integer\""
        },
        {
         "metadata": "{}",
         "name": "('P6_b_10 ', 'Stitch')",
         "type": "\"integer\""
        },
        {
         "metadata": "{}",
         "name": "('P6_b_11 ', 'Fivetran')",
         "type": "\"integer\""
        },
        {
         "metadata": "{}",
         "name": "('P6_b_12 ', 'Google Dataflow')",
         "type": "\"integer\""
        },
        {
         "metadata": "{}",
         "name": "('P6_b_13 ', 'Oracle Data Integrator')",
         "type": "\"integer\""
        },
        {
         "metadata": "{}",
         "name": "('P6_b_14 ', 'IBM DataStage')",
         "type": "\"integer\""
        },
        {
         "metadata": "{}",
         "name": "('P6_b_15 ', 'SAP BW ETL')",
         "type": "\"integer\""
        },
        {
         "metadata": "{}",
         "name": "('P6_b_16 ', 'SQL Server Integration Services (SSIS))",
         "type": "\"integer\""
        },
        {
         "metadata": "{}",
         "name": "('P6_b_17 ', 'SAS Data Integration')",
         "type": "\"integer\""
        },
        {
         "metadata": "{}",
         "name": "('P6_b_18 ', 'Qlik Sense')",
         "type": "\"integer\""
        },
        {
         "metadata": "{}",
         "name": "('P6_b_19 ', 'Knime')",
         "type": "\"integer\""
        },
        {
         "metadata": "{}",
         "name": "('P6_b_20 ', 'Databricks')",
         "type": "\"integer\""
        },
        {
         "metadata": "{}",
         "name": "('P6_b_21 ', 'Não utilizo ferramentas de ETL')",
         "type": "\"integer\""
        },
        {
         "metadata": "{}",
         "name": "('P6_c ', 'Sua organização possui um Data Lake?')",
         "type": "\"integer\""
        },
        {
         "metadata": "{}",
         "name": "('P6_d ', 'Qual tecnologia utilizada como plataforma do Data Lake?')",
         "type": "\"string\""
        },
        {
         "metadata": "{}",
         "name": "('P6_e ', 'Sua organização possui um Data Warehouse?')",
         "type": "\"string\""
        },
        {
         "metadata": "{}",
         "name": "('P6_f ', 'Qual tecnologia utilizada como plataforma do Data Warehouse?')",
         "type": "\"string\""
        },
        {
         "metadata": "{}",
         "name": "('P6_g ', 'Quais as ferramentas de gestão de Qualidade de dados, Metadados e catálogo de dados você utiliza no trabalho?')",
         "type": "\"string\""
        },
        {
         "metadata": "{}",
         "name": "('P6_h ', 'Em qual das opções abaixo você gasta a maior parte do seu tempo?')",
         "type": "\"string\""
        },
        {
         "metadata": "{}",
         "name": "('P6_h_1 ', 'Desenvolvendo pipelines de dados utilizando linguagens de programação como Python, Scala, Java etc.')",
         "type": "\"string\""
        },
        {
         "metadata": "{}",
         "name": "('P6_h_2 ', 'Realizando construções de ETL's em ferramentas como Pentaho, Talend, Dataflow etc.')",
         "type": "\"string\""
        },
        {
         "metadata": "{}",
         "name": "('P6_h_3 ', 'Criando consultas através da linguagem SQL para exportar informações e compartilhar com as áreas de negócio.')",
         "type": "\"string\""
        },
        {
         "metadata": "{}",
         "name": "('P6_h_4 ', 'Atuando na integração de diferentes fontes de dados através de plataformas proprietárias como Stitch Data, Fivetran etc.')",
         "type": "\"integer\""
        },
        {
         "metadata": "{}",
         "name": "('P6_h_5 ', 'Modelando soluções de arquitetura de dados, criando componentes de ingestão de dados, transformação e recuperação da informação.')",
         "type": "\"integer\""
        },
        {
         "metadata": "{}",
         "name": "('P6_h_6 ', 'Desenvolvendo/cuidando da manutenção de repositórios de dados baseados em streaming de eventos como Data Lakes e Data Lakehouses.')",
         "type": "\"integer\""
        },
        {
         "metadata": "{}",
         "name": "('P6_h_7 ', 'Atuando na modelagem dos dados, com o objetivo de criar conjuntos de dados como Data Warehouses, Data Marts etc.')",
         "type": "\"integer\""
        },
        {
         "metadata": "{}",
         "name": "('P6_h_8 ', 'Cuidando da qualidade dos dados, metadados e dicionário de dados.')",
         "type": "\"integer\""
        },
        {
         "metadata": "{}",
         "name": "('P6_h_9 ', 'Nenhuma das opções listadas refletem meu dia a dia.')",
         "type": "\"integer\""
        },
        {
         "metadata": "{}",
         "name": "('P7_1 ', 'Quais das opções abaixo fazem parte da sua rotina no trabalho atual com análise de dados?')",
         "type": "\"string\""
        },
        {
         "metadata": "{}",
         "name": "('P7_a_1 ', 'Processo e analiso dados utilizando linguagens de programação como Python, R etc.')",
         "type": "\"string\""
        },
        {
         "metadata": "{}",
         "name": "('P7_a_2 ', 'Realizo construções de dashboards em ferramentas de BI como PowerBI, Tableau, Looker, Qlik etc.')",
         "type": "\"string\""
        },
        {
         "metadata": "{}",
         "name": "('P7_a_3 ', 'Crio consultas através da linguagem SQL para exportar informações e compartilhar com as áreas de negócio.')",
         "type": "\"string\""
        },
        {
         "metadata": "{}",
         "name": "('P7_a_4 ', 'Utilizo API's para extrair dados e complementar minhas análises.')",
         "type": "\"integer\""
        },
        {
         "metadata": "{}",
         "name": "('P7_a_5 ', 'Realizo experimentos e estudos utilizando metodologias estatísticas como teste de hipótese, modelos de regressão etc.')",
         "type": "\"integer\""
        },
        {
         "metadata": "{}",
         "name": "('P7_a_6 ', 'Desenvolvo/cuido da manutenção de ETL's utilizando tecnologias como Talend, Pentaho, Airflow, Dataflow etc.')",
         "type": "\"integer\""
        },
        {
         "metadata": "{}",
         "name": "('P7_a_7 ', 'Atuo na modelagem dos dados, com o objetivo de criar conjuntos de dados, Data Warehouses, Data Marts etc.')",
         "type": "\"integer\""
        },
        {
         "metadata": "{}",
         "name": "('P7_a_8 ', 'Desenvolvo/cuido da manutenção de planilhas para atender as áreas de negócio.')",
         "type": "\"integer\""
        },
        {
         "metadata": "{}",
         "name": "('P7_a_9 ', 'Utilizo ferramentas avançadas de estatística como SASS, PSS, Stata etc')",
         "type": "\"integer\""
        },
        {
         "metadata": "{}",
         "name": "('P7_a_10 ', 'Nenhuma das opções listadas refletem meu dia a dia.')",
         "type": "\"integer\""
        },
        {
         "metadata": "{}",
         "name": "('P7_b ', 'Quais as ferramentas/tecnologias de ETL que você utiliza no trabalho como Data Analyst?')",
         "type": "\"string\""
        },
        {
         "metadata": "{}",
         "name": "('P7_b_1 ', 'Scripts Python')",
         "type": "\"string\""
        },
        {
         "metadata": "{}",
         "name": "('P7_b_2 ', 'SQL & Stored Procedures')",
         "type": "\"string\""
        },
        {
         "metadata": "{}",
         "name": "('P7_b_3 ', 'Apache Airflow')",
         "type": "\"string\""
        },
        {
         "metadata": "{}",
         "name": "('P7_b_4 ', 'Apache NiFi')",
         "type": "\"integer\""
        },
        {
         "metadata": "{}",
         "name": "('P7_b_5 ', 'Luigi')",
         "type": "\"integer\""
        },
        {
         "metadata": "{}",
         "name": "('P7_b_6 ', 'AWS Glue')",
         "type": "\"integer\""
        },
        {
         "metadata": "{}",
         "name": "('P7_b_7 ', 'Talend')",
         "type": "\"integer\""
        },
        {
         "metadata": "{}",
         "name": "('P7_b_8 ', 'Pentaho')",
         "type": "\"integer\""
        },
        {
         "metadata": "{}",
         "name": "('P7_b_9 ', 'Alteryx')",
         "type": "\"integer\""
        },
        {
         "metadata": "{}",
         "name": "('P7_b_10 ', 'Stitch')",
         "type": "\"integer\""
        },
        {
         "metadata": "{}",
         "name": "('P7_b_11 ', 'Fivetran')",
         "type": "\"integer\""
        },
        {
         "metadata": "{}",
         "name": "('P7_b_12 ', 'Google Dataflow')",
         "type": "\"integer\""
        },
        {
         "metadata": "{}",
         "name": "('P7_b_13 ', 'Oracle Data Integrator')",
         "type": "\"integer\""
        },
        {
         "metadata": "{}",
         "name": "('P7_b_14 ', 'IBM DataStage')",
         "type": "\"integer\""
        },
        {
         "metadata": "{}",
         "name": "('P7_b_15 ', 'SAP BW ETL')",
         "type": "\"integer\""
        },
        {
         "metadata": "{}",
         "name": "('P7_b_16 ', 'SQL Server Integration Services (SSIS)')",
         "type": "\"integer\""
        },
        {
         "metadata": "{}",
         "name": "('P7_b_17 ', 'SAS Data Integration')",
         "type": "\"integer\""
        },
        {
         "metadata": "{}",
         "name": "('P7_b_18 ', 'Qlik Sense')",
         "type": "\"integer\""
        },
        {
         "metadata": "{}",
         "name": "('P7_b_19 ', 'Knime')",
         "type": "\"integer\""
        },
        {
         "metadata": "{}",
         "name": "('P7_b_20 ', 'Databricks')",
         "type": "\"integer\""
        },
        {
         "metadata": "{}",
         "name": "('P7_b_21 ', 'Não utilizo ferramentas de ETL')",
         "type": "\"integer\""
        },
        {
         "metadata": "{}",
         "name": "('P7_c ', 'Sua empresa utiliza alguma das ferramentas listadas para dar mais autonomia em análise de dados para as áreas de negócio?')",
         "type": "\"string\""
        },
        {
         "metadata": "{}",
         "name": "('P7_c_1 ', 'Ferramentas de AutoML como H2O.ai, Data Robot, BigML etc.')",
         "type": "\"string\""
        },
        {
         "metadata": "{}",
         "name": "\"('P7_c_2 ', '\"\"\"\"Point and Click\"\"\"\" Analytics como Alteryx",
         "type": "\"string\""
        },
        {
         "metadata": "{}",
         "name": " Knime",
         "type": "\"string\""
        },
        {
         "metadata": "{}",
         "name": " Rapidminer etc.')\"",
         "type": "\"string\""
        },
        {
         "metadata": "{}",
         "name": "('P7_c_3 ', 'Product metricts & Insights como Mixpanel, Amplitude, Adobe Analytics.')",
         "type": "\"string\""
        },
        {
         "metadata": "{}",
         "name": "('P7_c_4 ', 'Ferramentas de análise dentro de ferramentas de CRM como Salesforce Einstein Anaytics ou Zendesk dashboards.')",
         "type": "\"string\""
        },
        {
         "metadata": "{}",
         "name": "('P7_c_5 ', 'Minha empresa não utiliza essas ferramentas.')",
         "type": "\"string\""
        },
        {
         "metadata": "{}",
         "name": "('P7_c_6 ', 'Não sei informar.')",
         "type": "\"string\""
        },
        {
         "metadata": "{}",
         "name": "('P7_d ', 'Em qual das opções abaixo você gasta a maior parte do seu tempo de trabalho?')",
         "type": "\"string\""
        },
        {
         "metadata": "{}",
         "name": "('P7_d_1 ', 'Processando e analisando dados utilizando linguagens de programação como Python, R etc.')",
         "type": "\"string\""
        },
        {
         "metadata": "{}",
         "name": "('P7_d_2 ', 'Realizando construções de dashboards em ferramentas de BI como PowerBI, Tableau, Looker, Qlik etc.')",
         "type": "\"integer\""
        },
        {
         "metadata": "{}",
         "name": "('P7_d_3 ', 'Criando consultas através da linguagem SQL para exportar informações e compartilhar com as áreas de negócio.')",
         "type": "\"string\""
        },
        {
         "metadata": "{}",
         "name": "('P7_d_4 ', 'Utilizando API's para extrair dados e complementar minhas análises.')",
         "type": "\"string\""
        },
        {
         "metadata": "{}",
         "name": "('P7_d_5 ', 'Realizando experimentos e estudos utilizando metodologias estatísticas como teste de hipótese, modelos de regressão etc.')",
         "type": "\"integer\""
        },
        {
         "metadata": "{}",
         "name": "('P7_d_6 ', 'Desenvolvendo/cuidando da manutenção de ETL's utilizando tecnologias como Talend, Pentaho, Airflow, Dataflow etc.')",
         "type": "\"string\""
        },
        {
         "metadata": "{}",
         "name": "('P7_d_7 ', 'Atuando na modelagem dos dados, com o objetivo de criar conjuntos de dados, Data Warehouses, Data Marts etc.')",
         "type": "\"integer\""
        },
        {
         "metadata": "{}",
         "name": "('P7_d_8 ', 'Desenvolvendo/cuidando da manutenção de planilhas do Excel ou Google Sheets para atender as áreas de negócio.')",
         "type": "\"integer\""
        },
        {
         "metadata": "{}",
         "name": "('P7_d_9 ', 'Utilizando ferramentas avançadas de estatística como SAS, SPSS, Stata etc, para realizar análises.')",
         "type": "\"string\""
        },
        {
         "metadata": "{}",
         "name": "('P7_d_10 ', 'Nenhuma das opções listadas refletem meu dia a dia.')",
         "type": "\"string\""
        },
        {
         "metadata": "{}",
         "name": "('P8_a ', 'Quais das opções abaixo fazem parte da sua rotina no trabalho atual com ciência de dados?')",
         "type": "\"integer\""
        },
        {
         "metadata": "{}",
         "name": "('P8_a_1 ', 'Estudos Ad-hoc com o objetivo de confirmar hipóteses, realizar modelos preditivos, forecasts, análise de cluster para resolver problemas pontuais e responder perguntas das áreas de negócio.')",
         "type": "\"string\""
        },
        {
         "metadata": "{}",
         "name": "('P8_a_2 ', 'Sou responsável pela coleta e limpeza dos dados que uso para análise e modelagem.')",
         "type": "\"integer\""
        },
        {
         "metadata": "{}",
         "name": "('P8_a_3 ', 'Sou responsável por entrar em contato com os times de negócio para definição do problema, identificar a solução e apresentação de resultados.')",
         "type": "\"integer\""
        },
        {
         "metadata": "{}",
         "name": "('P8_a_4 ', 'Desenvolvo modelos de Machine Learning com o objetivo de colocar em produção em sistemas (produtos de dados).')",
         "type": "\"integer\""
        },
        {
         "metadata": "{}",
         "name": "('P8_a_5 ', 'Sou responsável por colocar modelos em produção, criar os pipelines de dados, APIs de consumo e monitoramento.')",
         "type": "\"integer\""
        },
        {
         "metadata": "{}",
         "name": "('P8_a_6 ', 'Cuido da manutenção de modelos de Machine Learning já em produção, atuando no monitoramento, ajustes e refatoração quando necessário.')",
         "type": "\"integer\""
        },
        {
         "metadata": "{}",
         "name": "('P8_a_7 ', 'Realizo construções de dashboards em ferramentas de BI como PowerBI, Tableau, Looker, Qlik, etc')",
         "type": "\"integer\""
        },
        {
         "metadata": "{}",
         "name": "('P8_a_8 ', 'Utilizo ferramentas avançadas de estatística como SAS, SPSS, Stata etc, para realizar análises estatísticas e ajustar modelos.')",
         "type": "\"integer\""
        },
        {
         "metadata": "{}",
         "name": "('P8_a_9 ', 'Crio e dou manutenção em ETLs, DAGs e automações de pipelines de dados.')",
         "type": "\"integer\""
        },
        {
         "metadata": "{}",
         "name": "('P8_a_10 ', 'Crio e gerencio soluções de Feature Store e cultura de MLOps.')",
         "type": "\"integer\""
        },
        {
         "metadata": "{}",
         "name": "('P8_a_11 ', 'Sou responsável por criar e manter a infra que meus modelos e soluções rodam (clusters, servidores, API, containers, etc.)')",
         "type": "\"string\""
        },
        {
         "metadata": "{}",
         "name": "('P8_a_12 ', 'Treino e aplico LLM's para solucionar problemas de negócio.')",
         "type": "\"string\""
        },
        {
         "metadata": "{}",
         "name": "('P8_b ', 'Quais as técnicas e métodos listados abaixo você costuma utilizar no trabalho?')",
         "type": "\"integer\""
        },
        {
         "metadata": "{}",
         "name": "('P8_b_1 ', 'Utilizo modelos de regressão (linear, logística, GLM)')",
         "type": "\"string\""
        },
        {
         "metadata": "{}",
         "name": "('P8_b_2 ', 'Utilizo redes neurais ou modelos baseados em árvore para criar modelos de classificação')",
         "type": "\"integer\""
        },
        {
         "metadata": "{}",
         "name": "('P8_b_3 ', 'Desenvolvo sistemas de recomendação (RecSys)')",
         "type": "\"integer\""
        },
        {
         "metadata": "{}",
         "name": "('P8_b_4 ', 'Utilizo métodos estatísticos Bayesianos para analisar dados')",
         "type": "\"integer\""
        },
        {
         "metadata": "{}",
         "name": "('P8_b_5 ', 'Utilizo técnicas de NLP (Natural Language Processing) para análisar dados não-estruturados')",
         "type": "\"integer\""
        },
        {
         "metadata": "{}",
         "name": "('P8_b_6 ', 'Utilizo métodos estatísticos clássicos (Testes de hipótese, análise multivariada, sobrevivência, dados longitudinais, inferência estatistica) para analisar dados')",
         "type": "\"integer\""
        },
        {
         "metadata": "{}",
         "name": "('P8_b_7 ', 'Utilizo cadeias de Markov ou HMM's para realizar análises de dados')",
         "type": "\"integer\""
        },
        {
         "metadata": "{}",
         "name": "('P8_b_8 ', 'Desenvolvo técnicas de Clusterização (K-means, Spectral, DBScan etc)')",
         "type": "\"integer\""
        },
        {
         "metadata": "{}",
         "name": "('P8_b_9 ', 'Realizo previsões através de modelos de Séries Temporais (Time Series)')",
         "type": "\"integer\""
        },
        {
         "metadata": "{}",
         "name": "('P8_b_10 ', 'Utilizo modelos de Reinforcement Learning (aprendizado por reforço)')",
         "type": "\"integer\""
        },
        {
         "metadata": "{}",
         "name": "('P8_b_11 ', 'Utilizo modelos de Machine Learning para detecção de fraude')",
         "type": "\"integer\""
        },
        {
         "metadata": "{}",
         "name": "('P8_b_12 ', 'Utilizo métodos de Visão Computacional')",
         "type": "\"integer\""
        },
        {
         "metadata": "{}",
         "name": "('P8_b_13 ', 'Utilizo modelos de Detecção de Churn')",
         "type": "\"string\""
        },
        {
         "metadata": "{}",
         "name": "('P8_b_14 ', 'Utilizo LLM's para solucionar problemas de negócio')",
         "type": "\"string\""
        },
        {
         "metadata": "{}",
         "name": "('P8_3 ', 'Quais dessas tecnologias fazem parte do seu dia a dia como cientista de dados?')",
         "type": "\"integer\""
        },
        {
         "metadata": "{}",
         "name": "('P8_c_1 ', 'Ferramentas de BI (PowerBI, Looker, Tableau, Qlik etc)')",
         "type": "\"string\""
        },
        {
         "metadata": "{}",
         "name": "('P8_c_2 ', 'Planilhas (Excel, Google Sheets etc)')",
         "type": "\"integer\""
        },
        {
         "metadata": "{}",
         "name": "('P8_c_3 ', 'Ambientes de desenvolvimento local (R-studio, JupyterLab, Anaconda)')",
         "type": "\"integer\""
        },
        {
         "metadata": "{}",
         "name": "('P8_c_4 ', 'Ambientes de desenvolvimento na nuvem (Google Colab, AWS Sagemaker, Kaggle Notebooks etc)')",
         "type": "\"integer\""
        },
        {
         "metadata": "{}",
         "name": "('P8_c_5 ', 'Ferramentas de AutoML (Datarobot, H2O, Auto-Keras etc)')",
         "type": "\"integer\""
        },
        {
         "metadata": "{}",
         "name": "('P8_c_6 ', 'Ferramentas de ETL (Apache Airflow, NiFi, Stitch, Fivetran, Pentaho etc)')",
         "type": "\"integer\""
        },
        {
         "metadata": "{}",
         "name": "('P8_c_7 ', 'Plataformas de Machine Learning (TensorFlow, Azure Machine Learning, Kubeflow etc)')",
         "type": "\"integer\""
        },
        {
         "metadata": "{}",
         "name": "('P8_c_8 ', 'Feature Store (Feast, Hopsworks, AWS Feature Store, Databricks Feature Store etc)')",
         "type": "\"integer\""
        },
        {
         "metadata": "{}",
         "name": "('P8_c_9 ', 'Sistemas de controle de versão (Github, DVC, Neptune, Gitlab etc)')",
         "type": "\"integer\""
        },
        {
         "metadata": "{}",
         "name": "('P8_c_10 ', 'Plataformas de Data Apps (Streamlit, Shiny, Plotly Dash etc)')",
         "type": "\"string\""
        },
        {
         "metadata": "{}",
         "name": "('P8_c_11 ', 'Ferramentas de estatística avançada como SPSS, SAS, etc.')",
         "type": "\"string\""
        },
        {
         "metadata": "{}",
         "name": "('P8_d ', 'Em qual das opções abaixo você gasta a maior parte do seu tempo no trabalho?')",
         "type": "\"integer\""
        },
        {
         "metadata": "{}",
         "name": "('P8_d_1 ', 'Estudos Ad-hoc com o objetivo de confirmar hipóteses, realizar modelos preditivos, forecasts, análise de cluster para resolver problemas pontuais e responder perguntas das áreas de negócio.')",
         "type": "\"string\""
        },
        {
         "metadata": "{}",
         "name": "('P8_d_2 ', 'Coletando e limpando os dados que uso para análise e modelagem.')",
         "type": "\"integer\""
        },
        {
         "metadata": "{}",
         "name": "('P8_d_3 ', 'Entrando em contato com os times de negócio para definição do problema, identificar a solução e apresentação de resultados.')",
         "type": "\"integer\""
        },
        {
         "metadata": "{}",
         "name": "('P8_d_4 ', 'Desenvolvendo modelos de Machine Learning com o objetivo de colocar em produção em sistemas (produtos de dados).')",
         "type": "\"integer\""
        },
        {
         "metadata": "{}",
         "name": "('P8_d_5 ', 'Colocando modelos em produção, criando os pipelines de dados, APIs de consumo e monitoramento.')",
         "type": "\"integer\""
        },
        {
         "metadata": "{}",
         "name": "('P8_d_6 ', 'Cuidando da manutenção de modelos de Machine Learning já em produção, atuando no monitoramento, ajustes e refatoração quando necessário.')",
         "type": "\"integer\""
        },
        {
         "metadata": "{}",
         "name": "('P8_d_7 ', 'Realizando construções de dashboards em ferramentas de BI como PowerBI, Tableau, Looker, Qlik, etc.')",
         "type": "\"integer\""
        },
        {
         "metadata": "{}",
         "name": "('P8_d_8 ', 'Utilizando ferramentas avançadas de estatística como SAS, SPSS, Stata etc, para realizar análises.')",
         "type": "\"integer\""
        },
        {
         "metadata": "{}",
         "name": "('P8_d_9 ', 'Criando e dando manutenção em ETLs, DAGs e automações de pipelines de dados.')",
         "type": "\"integer\""
        },
        {
         "metadata": "{}",
         "name": "('P8_d_10 ', 'Criando e gerenciando soluções de Feature Store e cultura de MLOps.')",
         "type": "\"integer\""
        },
        {
         "metadata": "{}",
         "name": "('P8_d_11 ', 'Criando e mantendo a infra que meus modelos e soluções rodam (clusters, servidores, API, containers, etc.)')",
         "type": "\"integer\""
        },
        {
         "metadata": "{}",
         "name": "('P8_d_12 ', 'Treinando e aplicando LLM's para solucionar problemas de negócio.')",
         "type": "\"integer\""
        }
       ],
       "type": "table"
      }
     },
     "output_type": "display_data"
    }
   ],
   "source": [
    "# Carregando os dados do dbfs no dataframe para visualização dos dados\n",
    "df = spark.read.csv('dbfs:/FileStore/State_of_data_BR_2023_Kaggle___df_survey_2023.csv', header=True, sep=',', inferSchema=True)\n",
    "df.limit(5).display()"
   ]
  },
  {
   "cell_type": "markdown",
   "metadata": {
    "application/vnd.databricks.v1+cell": {
     "cellMetadata": {
      "byteLimit": 2048000,
      "rowLimit": 10000
     },
     "inputWidgets": {},
     "nuid": "19f06dc4-00da-4915-8c62-83e1510183bb",
     "showTitle": false,
     "tableResultSettingsMap": {},
     "title": ""
    }
   },
   "source": [
    "## Etapa 2 - Camada Silver"
   ]
  },
  {
   "cell_type": "code",
   "execution_count": 0,
   "metadata": {
    "application/vnd.databricks.v1+cell": {
     "cellMetadata": {
      "byteLimit": 2048000,
      "rowLimit": 10000
     },
     "inputWidgets": {},
     "nuid": "bc82ee06-c788-44bb-b2a6-3bd828bf6d4b",
     "showTitle": true,
     "tableResultSettingsMap": {},
     "title": "Criação do df_raw com dados do dbfs"
    }
   },
   "outputs": [
    {
     "output_type": "stream",
     "name": "stdout",
     "output_type": "stream",
     "text": [
      "root\n |-- ('P0', 'id'): string (nullable = true)\n |-- ('P1_a ', 'Idade'): integer (nullable = true)\n |-- ('P1_a_1 ', 'Faixa idade'): string (nullable = true)\n |-- ('P1_b ', 'Genero'): string (nullable = true)\n |-- ('P1_c ', 'Cor/raca/etnia'): string (nullable = true)\n |-- ('P1_d ', 'PCD'): string (nullable = true)\n |-- ('P1_e ', 'experiencia_profissional_prejudicada'): string (nullable = true)\n |-- ('P1_e_1 ', 'Não acredito que minha experiência profissional seja afetada'): integer (nullable = true)\n |-- ('P1_e_2 ', 'Experiencia prejudicada devido a minha Cor Raça Etnia'): integer (nullable = true)\n |-- ('P1_e_3 ', 'Experiencia prejudicada devido a minha identidade de gênero'): integer (nullable = true)\n |-- ('P1_e_4 ', 'Experiencia prejudicada devido ao fato de ser PCD'): integer (nullable = true)\n |-- ('P1_f ', 'aspectos_prejudicados'): string (nullable = true)\n |-- ('P1_f_1', 'Quantidade de oportunidades de emprego/vagas recebidas'): string (nullable = true)\n |-- ('P1_f_2', 'Senioridade das vagas recebidas em relação à sua experiência'): string (nullable = true)\n |-- ('P1_f_3', 'Aprovação em processos seletivos/entrevistas'): integer (nullable = true)\n |-- ('P1_f_4', 'Oportunidades de progressão de carreira'): integer (nullable = true)\n |-- ('P1_f_5', 'Velocidade de progressão de carreira'): integer (nullable = true)\n |-- ('P1_f_6', 'Nível de cobrança no trabalho/Stress no trabalho'): integer (nullable = true)\n |-- ('P1_f_7', 'Atenção dada diante das minhas opiniões e ideias'): integer (nullable = true)\n |-- ('P1_f_8', 'Relação com outros membros da empresa, em momentos de trabalho'): integer (nullable = true)\n |-- ('P1_f_9', 'Relação com outros membros da empresa, em momentos de integração e outros momentos fora do trabalho'): integer (nullable = true)\n |-- ('P1_g ', 'vive_no_brasil'): integer (nullable = true)\n |-- ('P1_i ', 'Estado onde mora'): string (nullable = true)\n |-- ('P1_i_1 ', 'uf onde mora'): string (nullable = true)\n |-- ('P1_i_2 ', 'Regiao onde mora'): string (nullable = true)\n |-- ('P1_j ', 'Mudou de Estado?'): string (nullable = true)\n |-- ('P1_k ', 'Regiao de origem'): string (nullable = true)\n |-- ('P1_l ', 'Nivel de Ensino'): string (nullable = true)\n |-- ('P1_m ', 'Área de Formação'): string (nullable = true)\n |-- ('P2_a ', 'Qual sua situação atual de trabalho?'): string (nullable = true)\n |-- ('P2_b ', 'Setor'): string (nullable = true)\n |-- ('P2_c ', 'Numero de Funcionarios'): string (nullable = true)\n |-- ('P2_d ', 'Gestor?'): string (nullable = true)\n |-- ('P2_e ', 'Cargo como Gestor'): string (nullable = true)\n |-- ('P2_f ', 'Cargo Atual'): string (nullable = true)\n |-- ('P2_g ', 'Nivel'): string (nullable = true)\n |-- ('P2_h ', 'Faixa salarial'): string (nullable = true)\n |-- ('P2_i ', 'Quanto tempo de experiência na área de dados você tem?'): string (nullable = true)\n |-- ('P2_j ', 'Quanto tempo de experiência na área de TI/Engenharia de Software você teve antes de começar a trabalhar na área de dados?'): string (nullable = true)\n |-- ('P2_k ', 'Você está satisfeito na sua empresa atual?'): string (nullable = true)\n |-- ('P2_l ', 'Qual o principal motivo da sua insatisfação com a empresa atual?'): string (nullable = true)\n |-- ('P2_l_1 ', 'Falta de oportunidade de crescimento no emprego atual'): integer (nullable = true)\n |-- ('P2_l_2 ', 'Salário atual não corresponde ao mercado'): string (nullable = true)\n |-- ('P2_l_3 ', 'Não tenho uma boa relação com meu líder/gestor'): integer (nullable = true)\n |-- ('P2_l_4 ', 'Gostaria de trabalhar em em outra área de atuação'): integer (nullable = true)\n |-- ('P2_l_5 ', 'Gostaria de receber mais benefícios'): integer (nullable = true)\n |-- ('P2_l_6 ', 'O clima de trabalho/ambiente não é bom'): integer (nullable = true)\n |-- ('P2_l_7 ', 'Falta de maturidade analítica na empresa'): integer (nullable = true)\n |-- ('P2_m ', 'Você participou de entrevistas de emprego nos últimos 6 meses?'): string (nullable = true)\n |-- ('P2_n ', 'Você pretende mudar de emprego nos próximos 6 meses?'): string (nullable = true)\n |-- ('P2_o ', 'Quais os principais critérios que você leva em consideração no momento de decidir onde trabalhar?'): string (nullable = true)\n |-- ('P2_o_1 ', 'Remuneração/Salário'): string (nullable = true)\n |-- ('P2_o_2 ', 'Benefícios'): string (nullable = true)\n |-- ('P2_o_3 ', 'Propósito do trabalho e da empresa'): integer (nullable = true)\n |-- ('P2_o_4 ', 'Flexibilidade de trabalho remoto'): integer (nullable = true)\n |-- ('P2_o_5 ', 'Ambiente e clima de trabalho'): integer (nullable = true)\n |-- ('P2_o_6 ', 'Oportunidade de aprendizado e trabalhar com referências na área'): integer (nullable = true)\n |-- ('P2_o_7 ', 'Plano de carreira e oportunidades de crescimento profissional'): integer (nullable = true)\n |-- ('P2_o_8 ', 'Maturidade da empresa em termos de tecnologia e dados'): integer (nullable = true)\n |-- ('P2_o_9 ', 'Qualidade dos gestores e líderes'): integer (nullable = true)\n |-- ('P2_o_10 ', 'Reputação que a empresa tem no mercado'): integer (nullable = true)\n |-- ('P2_q ', 'Empresa que trabaha passou por layoff em 2023'): string (nullable = true)\n |-- ('P2_r ', 'Atualmente qual a sua forma de trabalho?'): string (nullable = true)\n |-- ('P2_s ', 'Qual a forma de trabalho ideal para você?'): string (nullable = true)\n |-- ('P2_t ', 'Caso sua empresa decida pelo modelo 100% presencial qual será sua atitude?'): string (nullable = true)\n |-- ('P3_a ', 'Qual o número aproximado de pessoas que atuam com dados na sua empresa hoje?'): string (nullable = true)\n |-- ('P3_b ', 'Quais desses papéis/cargos fazem parte do time (ou chapter) de dados da sua empresa?'): string (nullable = true)\n |-- ('P3_b_1 ', 'Analytics Engineer'): integer (nullable = true)\n |-- ('P3_b_2 ', 'Engenharia de Dados/Data Engineer'): integer (nullable = true)\n |-- ('P3_b_3 ', 'Analista de Dados/Data Analyst'): integer (nullable = true)\n |-- ('P3_b_4 ', 'Cientista de Dados/Data Scientist'): integer (nullable = true)\n |-- ('P3_b_5 ', 'Database Administrator/DBA'): integer (nullable = true)\n |-- ('P3_b_6 ', 'Analista de Business Intelligence/BI'): integer (nullable = true)\n |-- ('P3_b_7 ', 'Arquiteto de Dados/Data Architect'): integer (nullable = true)\n |-- ('P3_b_8 ', 'Data Product Manager/DPM'): integer (nullable = true)\n |-- ('P3_b_9 ', 'Business Analyst'): integer (nullable = true)\n |-- ('P3_c ', 'Quais dessas responsabilidades fazem parte da sua rotina atual de trabalho como gestor?'): string (nullable = true)\n |-- ('P3_c_1 ', 'Pensar na visão de longo prazo de dados da empresa e fortalecimento da cultura analítica da companhia.'): integer (nullable = true)\n |-- ('P3_c_2 ', 'Organização de treinamentos e iniciativas com o objetivo de aumentar a maturidade analítica das áreas de negócios.'): integer (nullable = true)\n |-- ('P3_c_3 ', 'Atração, seleção e contratação de talentos para o time de dados.'): integer (nullable = true)\n |-- ('P3_c_4 ', 'Decisão sobre contratação de ferramentas e tecnologias relacionadas a dados.'): integer (nullable = true)\n |-- ('P3_c_5 ', 'Sou gestor da equipe responsável pela engenharia de dados e por manter o Data Lake da empresa como fonte única dos dados, garantindo a qualidade e confiabilidade da informação.'): integer (nullable = true)\n |-- ('P3_c_6 ', 'Sou gestor da equipe responsável pela entrega de dados, estudos, relatórios e dashboards para as áreas de negócio da empresa.'): integer (nullable = true)\n |-- ('P3_c_7 ', 'Sou gestor da equipe responsável por iniciativas e projetos envolvendo Inteligência Artificial e Machine Learning.'): integer (nullable = true)\n |-- ('P3_c_8 ', 'Apesar de ser gestor ainda atuo na parte técnica, construindo soluções/análises/modelos etc.'): integer (nullable = true)\n |-- ('P3_c_9 ', 'Gestão de projetos de dados, cuidando das etapas, equipes envolvidas, atingimento dos objetivos etc.'): integer (nullable = true)\n |-- ('P3_c_10 ', 'Gestão de produtos de dados, cuidando da visão dos produtos, backlog, feedback de usuários etc.'): integer (nullable = true)\n |-- ('P3_c_11 ', 'Gestão de pessoas, apoio no desenvolvimento das pessoas, evolução de carreira'): integer (nullable = true)\n |-- ('P3_d ', 'Quais são os 3 maiores desafios que você tem como gestor no atual momento?'): string (nullable = true)\n |-- ('P3_d_1 ', 'a Contratar novos talentos.'): integer (nullable = true)\n |-- ('P3_d_2 ', 'b Reter talentos.'): integer (nullable = true)\n |-- ('P3_d_3 ', 'c Convencer a empresa a aumentar os investimentos na área de dados.'): integer (nullable = true)\n |-- ('P3_d_4 ', 'd Gestão de equipes no ambiente remoto.'): integer (nullable = true)\n |-- ('P3_d_5 ', 'e Gestão de projetos envolvendo áreas multidisciplinares da empresa.'): integer (nullable = true)\n |-- ('P3_d_6 ', 'f Organizar as informações e garantir a qualidade e confiabilidade.'): integer (nullable = true)\n |-- ('P3_d_7 ', 'g Conseguir processar e armazenar um alto volume de dados.'): integer (nullable = true)\n |-- ('P3_d_8 ', 'h Conseguir gerar valor para as áreas de negócios através de estudos e experimentos.'): integer (nullable = true)\n |-- ('P3_d_9 ', 'i Desenvolver e manter modelos Machine Learning em produção.'): integer (nullable = true)\n |-- ('P3_d_10 ', 'j Gerenciar a expectativa das áreas de negócio em relação as entregas das equipes de dados.'): integer (nullable = true)\n |-- ('P3_d_11 ', 'k Garantir a manutenção dos projetos e modelos em produção, em meio ao crescimento da empresa.'): integer (nullable = true)\n |-- ('P3_d_12 ', 'Conseguir levar inovação para a empresa através dos dados.'): integer (nullable = true)\n |-- ('P3_d_13 ', 'Garantir retorno do investimento (ROI) em projetos de dados.'): integer (nullable = true)\n |-- ('P3_d_14 ', 'Dividir o tempo entre entregas técnicas e gestão.'): integer (nullable = true)\n |-- ('P3_e ', 'AI Generativa é uma prioridade em sua empresa?'): string (nullable = true)\n |-- ('P3_f ', 'Tipos de uso de AI Generativa e LLMs na empresa'): string (nullable = true)\n |-- ('P3_f_1 ', 'Colaboradores usando AI generativa de forma independente e descentralizada'): integer (nullable = true)\n |-- ('P3_f_2 ', 'Direcionamento centralizado do uso de AI generativa'): integer (nullable = true)\n |-- ('P3_f_3 ', 'Desenvolvedores utilizando Copilots'): integer (nullable = true)\n |-- ('P3_f_4 ', 'AI Generativa e LLMs para melhorar produtos externos'): integer (nullable = true)\n |-- ('P3_f_5 ', 'AI Generativa e LLMs para melhorar produtos internos para os colaboradores'): integer (nullable = true)\n |-- ('P3_f_6 ', 'IA Generativa e LLMs como principal frente do negócio'): integer (nullable = true)\n |-- ('P3_f_7 ', 'IA Generativa e LLMs não é prioridade'): integer (nullable = true)\n |-- ('P3_f_8 ', 'Não sei opinar sobre o uso de IA Generativa e LLMs na empresa'): integer (nullable = true)\n |-- ('P3_g ', 'Motivos que levam a empresa a não usar AI Genrativa e LLMs'): string (nullable = true)\n |-- ('P3_g_1 ', 'Falta de compreensão dos casos de uso'): integer (nullable = true)\n |-- ('P3_g_2 ', 'Falta de confiabilidade das saídas (alucinação dos modelos)'): integer (nullable = true)\n |-- ('P3_g_3 ', 'Incerteza em relação a regulamentação'): integer (nullable = true)\n |-- ('P3_g_4 ', 'Preocupações com segurança e privacidade de dados'): integer (nullable = true)\n |-- ('P3_g_5 ', 'Retorno sobre investimento (ROI) não comprovado de IA Generativa'): integer (nullable = true)\n |-- ('P3_g_6 ', 'Dados da empresa não estão prontos para uso de IA Generativa'): integer (nullable = true)\n |-- ('P3_g_7 ', 'Falta de expertise ou falta de recursos'): integer (nullable = true)\n |-- ('P3_g_8 ', 'Alta direção da empresa não vê valor ou não vê como prioridade'): integer (nullable = true)\n |-- ('P3_g_9 ', 'Preocupações com propriedade intelectual'): integer (nullable = true)\n |-- ('P4_a ', 'Mesmo que esse não seja seu cargo formal, você considera que sua atuação no dia a dia, reflete alguma das opções listadas abaixo?'): string (nullable = true)\n |-- ('P4_a_1 ', 'Atuacao'): string (nullable = true)\n |-- ('P4_b ', 'Quais das fontes de dados listadas você já analisou ou processou no trabalho?'): string (nullable = true)\n |-- ('P4_b_1 ', 'Dados relacionais (estruturados em bancos SQL)'): string (nullable = true)\n |-- ('P4_b_2 ', 'Dados armazenados em bancos NoSQL'): string (nullable = true)\n |-- ('P4_b_3 ', 'Imagens'): integer (nullable = true)\n |-- ('P4_b_4 ', 'Textos/Documentos'): integer (nullable = true)\n |-- ('P4_b_5 ', 'Vídeos'): integer (nullable = true)\n |-- ('P4_b_6 ', 'Áudios'): integer (nullable = true)\n |-- ('P4_b_7 ', 'Planilhas'): integer (nullable = true)\n |-- ('P4_b_8 ', 'Dados georeferenciados'): integer (nullable = true)\n |-- ('P4_c ', 'Entre as fontes de dados listadas, quais você utiliza na maior parte do tempo?'): string (nullable = true)\n |-- ('P4_c_1 ', 'Dados relacionais (estruturados em bancos SQL)'): integer (nullable = true)\n |-- ('P4_c_2 ', 'Dados armazenados em bancos NoSQL'): string (nullable = true)\n |-- ('P4_c_3 ', 'Imagens'): integer (nullable = true)\n |-- ('P4_c_4 ', 'Textos/Documentos'): integer (nullable = true)\n |-- ('P4_c_5 ', 'Vídeos'): integer (nullable = true)\n |-- ('P4_c_6 ', 'Áudios'): integer (nullable = true)\n |-- ('P4_c_7 ', 'Planilhas'): integer (nullable = true)\n |-- ('P4_c_8 ', 'Dados georeferenciados'): integer (nullable = true)\n |-- ('P4_d ', 'Quais das linguagens listadas abaixo você utiliza no trabalho?'): string (nullable = true)\n |-- ('P4_d_1 ', 'SQL'): integer (nullable = true)\n |-- ('P4_d_2 ', 'R '): string (nullable = true)\n |-- ('P4_d_3 ', 'Python'): integer (nullable = true)\n |-- ('P4_d_4 ', 'C/C++/C#'): integer (nullable = true)\n |-- ('P4_d_5 ', '.NET'): integer (nullable = true)\n |-- ('P4_d_6 ', 'Java'): integer (nullable = true)\n |-- ('P4_d_7 ', 'Julia'): integer (nullable = true)\n |-- ('P4_d_8 ', 'SAS/Stata'): integer (nullable = true)\n |-- ('P4_d_9 ', 'Visual Basic/VBA'): integer (nullable = true)\n |-- ('P4_d_10 ', 'Scala'): integer (nullable = true)\n |-- ('P4_d_11 ', 'Matlab'): integer (nullable = true)\n |-- ('P4_d_12 ', 'Rust'): integer (nullable = true)\n |-- ('P4_d_13 ', 'PHP'): integer (nullable = true)\n |-- ('P4_d_14 ', 'JavaScript'): integer (nullable = true)\n |-- ('P4_d_15 ', 'Não utilizo nenhuma linguagem'): integer (nullable = true)\n |-- ('P4_e ', 'Entre as linguagens listadas abaixo, qual é a que você mais utiliza no trabalho?'): string (nullable = true)\n |-- ('P4_f ', 'Entre as linguagens listadas abaixo, qual é a sua preferida?'): string (nullable = true)\n |-- ('P4_g ', 'Quais dos bancos de dados/fontes de dados listados abaixo você utiliza no trabalho?'): string (nullable = true)\n |-- ('P4_g_1 ', 'MySQL'): integer (nullable = true)\n |-- ('P4_g_2 ', 'Oracle'): string (nullable = true)\n |-- ('P4_g_3 ', 'SQL SERVER'): integer (nullable = true)\n |-- ('P4_g_4 ', 'Amazon Aurora ou RDS'): integer (nullable = true)\n |-- ('P4_g_5 ', 'DynamoDB'): integer (nullable = true)\n |-- ('P4_g_6 ', 'CoachDB'): integer (nullable = true)\n |-- ('P4_g_7 ', 'Cassandra'): integer (nullable = true)\n |-- ('P4_g_8 ', 'MongoDB'): integer (nullable = true)\n |-- ('P4_g_9 ', 'MariaDB'): integer (nullable = true)\n |-- ('P4_g_10 ', 'Datomic'): integer (nullable = true)\n |-- ('P4_g_11 ', 'S3'): integer (nullable = true)\n |-- ('P4_g_12 ', 'PostgreSQL'): integer (nullable = true)\n |-- ('P4_g_13 ', 'ElasticSearch'): integer (nullable = true)\n |-- ('P4_g_14 ', 'DB2'): integer (nullable = true)\n |-- ('P4_g_15 ', 'Microsoft Access'): integer (nullable = true)\n |-- ('P4_g_16 ', 'SQLite'): integer (nullable = true)\n |-- ('P4_g_17 ', 'Sybase'): integer (nullable = true)\n |-- ('P4_g_18 ', 'Firebase'): integer (nullable = true)\n |-- ('P4_g_19 ', 'Vertica'): integer (nullable = true)\n |-- ('P4_g_20 ', 'Redis'): integer (nullable = true)\n |-- ('P4_g_21 ', 'Neo4J'): integer (nullable = true)\n |-- ('P4_g_22 ', 'Google BigQuery'): integer (nullable = true)\n |-- ('P4_g_23 ', 'Google Firestore'): integer (nullable = true)\n |-- ('P4_g_24 ', 'Amazon Redshift'): integer (nullable = true)\n |-- ('P4_g_25 ', 'Amazon Athena'): integer (nullable = true)\n |-- ('P4_g_26 ', 'Snowflake'): integer (nullable = true)\n |-- ('P4_g_27 ', 'Databricks'): integer (nullable = true)\n |-- ('P4_g_28 ', 'HBase'): integer (nullable = true)\n |-- ('P4_g_29 ', 'Presto'): integer (nullable = true)\n |-- ('P4_g_30 ', 'Splunk'): integer (nullable = true)\n |-- ('P4_g_31 ', 'SAP HANA'): integer (nullable = true)\n |-- ('P4_g_32 ', 'Hive'): integer (nullable = true)\n |-- ('P4_g_33 ', 'Firebird'): integer (nullable = true)\n |-- ('P4_h ', 'Dentre as opções listadas, qual sua Cloud preferida?'): string (nullable = true)\n |-- ('P4_h_1 ', 'Azure (Microsoft)'): integer (nullable = true)\n |-- ('P4_h_2 ', 'Amazon Web Services (AWS)'): string (nullable = true)\n |-- ('P4_h_3 ', 'Google Cloud (GCP)'): integer (nullable = true)\n |-- ('P4_h_4 ', 'Oracle Cloud'): integer (nullable = true)\n |-- ('P4_h_5 ', 'IBM'): integer (nullable = true)\n |-- ('P4_h_6 ', 'Servidores On Premise/Não utilizamos Cloud'): integer (nullable = true)\n |-- ('P4_h_7 ', 'Cloud Própria'): integer (nullable = true)\n |-- ('P4_i ', 'Cloud preferida'): string (nullable = true)\n |-- ('P4_j ', 'Ferramenta de BI utilizada no dia a dia'): string (nullable = true)\n |-- ('P4_j_1 ', 'Microsoft PowerBI'): string (nullable = true)\n |-- ('P4_j_2 ', 'Qlik View/Qlik Sense'): string (nullable = true)\n |-- ('P4_j_3 ', 'Tableau'): integer (nullable = true)\n |-- ('P4_j_4 ', 'Metabase'): integer (nullable = true)\n |-- ('P4_j_5 ', 'Superset'): integer (nullable = true)\n |-- ('P4_j_6 ', 'Redash'): integer (nullable = true)\n |-- ('P4_j_7 ', 'Looker'): integer (nullable = true)\n |-- ('P4_j_8 ', 'Looker Studio(Google Data Studio)'): integer (nullable = true)\n |-- ('P4_j_9 ', 'Amazon Quicksight'): integer (nullable = true)\n |-- ('P4_j_10 ', 'Mode'): integer (nullable = true)\n |-- ('P4_j_11 ', 'Alteryx'): integer (nullable = true)\n |-- ('P4_j_12 ', 'MicroStrategy'): integer (nullable = true)\n |-- ('P4_j_13 ', 'IBM Analytics/Cognos'): integer (nullable = true)\n |-- ('P4_j_14 ', 'SAP Business Objects/SAP Analytics'): integer (nullable = true)\n |-- ('P4_j_15 ', 'Oracle Business Intelligence'): integer (nullable = true)\n |-- ('P4_j_16 ', 'Salesforce/Einstein Analytics'): integer (nullable = true)\n |-- ('P4_j_17 ', 'Birst'): integer (nullable = true)\n |-- ('P4_j_18 ', 'SAS Visual Analytics'): integer (nullable = true)\n |-- ('P4_j_19 ', 'Grafana'): integer (nullable = true)\n |-- ('P4_j_20 ', 'TIBCO Spotfire'): integer (nullable = true)\n |-- ('P4_j_21 ', 'Pentaho'): integer (nullable = true)\n |-- ('P4_j_22 ', 'Fazemos todas as análises utilizando apenas Excel ou planilhas do google'): integer (nullable = true)\n |-- ('P4_j_23 ', 'Não utilizo nenhuma ferramenta de BI no trabalho'): integer (nullable = true)\n |-- ('P4_k ', 'Qual sua ferramenta de BI preferida?'): string (nullable = true)\n |-- ('P4_l ', 'Qual o tipo de uso de AI Generativa e LLMs na empresa'): string (nullable = true)\n |-- ('P4_l_1 ', 'Colaboradores usando AI generativa de forma independente e descentralizada'): string (nullable = true)\n |-- ('P4_l_2 ', 'Direcionamento centralizado do uso de AI generativa'): string (nullable = true)\n |-- ('P4_l_3 ', 'Desenvolvedores utilizando Copilots'): integer (nullable = true)\n |-- ('P4_l_4 ', 'AI Generativa e LLMs para melhorar produtos externos para os clientes finais'): integer (nullable = true)\n |-- ('P4_l_5 ', 'AI Generativa e LLMs para melhorar produtos internos para os colaboradores'): integer (nullable = true)\n |-- ('P4_l_6 ', 'IA Generativa e LLMs como principal frente do negócio'): integer (nullable = true)\n |-- ('P4_l_7 ', 'IA Generativa e LLMs não é prioridade'): integer (nullable = true)\n |-- ('P4_l_8 ', 'Não sei opinar sobre o uso de IA Generativa e LLMs na empresa'): integer (nullable = true)\n |-- ('P4_m ', 'Utiliza ChatGPT ou LLMs no trabalho?'): string (nullable = true)\n |-- ('P4_m_1 ', 'Não uso soluções de AI Generativa com foco em produtividade'): string (nullable = true)\n |-- ('P4_m_2 ', 'Uso soluções gratuitas de AI Generativa com foco em produtividade'): string (nullable = true)\n |-- ('P4_m_3 ', 'Uso e pago pelas soluções de AI Generativa com foco em produtividade'): string (nullable = true)\n |-- ('P4_m_4 ', 'A empresa que trabalho paga pelas soluções de AI Generativa com foco em produtividade'): integer (nullable = true)\n |-- ('P4_m_5 ', 'Uso soluções do tipo Copilot'): integer (nullable = true)\n |-- ('P5_a ', 'Qual seu objetivo na área de dados?'): string (nullable = true)\n |-- ('P5_b ', 'Qual oportunidade você está buscando?'): string (nullable = true)\n |-- ('P5_c ', 'Há quanto tempo você busca uma oportunidade na área de dados?'): string (nullable = true)\n |-- ('P5_d ', 'Como tem sido a busca por um emprego na área de dados?'): string (nullable = true)\n |-- ('P6_a ', 'Quais das opções abaixo fazem parte da sua rotina no trabalho atual como engenheiro de dados?'): string (nullable = true)\n |-- ('P6_a_1 ', 'Desenvolvo pipelines de dados utilizando linguagens de programação como Python, Scala, Java etc.'): string (nullable = true)\n |-- ('P6_a_2 ', 'Realizo construções de ETL's em ferramentas como Pentaho, Talend, Dataflow etc.'): integer (nullable = true)\n |-- ('P6_a_3 ', 'Crio consultas através da linguagem SQL para exportar informações e compartilhar com as áreas de negócio.'): string (nullable = true)\n |-- ('P6_a_4 ', 'Atuo na integração de diferentes fontes de dados através de plataformas proprietárias como Stitch Data, Fivetran etc.'): integer (nullable = true)\n |-- ('P6_a_5 ', 'Modelo soluções de arquitetura de dados, criando componentes de ingestão de dados, transformação e recuperação da informação.'): integer (nullable = true)\n |-- ('P6_a_6 ', 'Desenvolvo/cuido da manutenção de repositórios de dados baseados em streaming de eventos como Data Lakes e Data Lakehouses.'): integer (nullable = true)\n |-- ('P6_a_7 ', 'Atuo na modelagem dos dados, com o objetivo de criar conjuntos de dados como Data Warehouses, Data Marts etc.'): integer (nullable = true)\n |-- ('P6_a_8 ', 'Cuido da qualidade dos dados, metadados e dicionário de dados.'): integer (nullable = true)\n |-- ('P6_a_9 ', 'Nenhuma das opções listadas refletem meu dia a dia.'): integer (nullable = true)\n |-- ('P6_b ', 'Quais as ferramentas/tecnologias de ETL que você utiliza no trabalho como Data Engineer?'): string (nullable = true)\n |-- ('P6_b_1 ', 'Scripts Python'): string (nullable = true)\n |-- ('P6_b_2 ', 'SQL & Stored Procedures'): integer (nullable = true)\n |-- ('P6_b_3 ', 'Apache Airflow'): string (nullable = true)\n |-- ('P6_b_4 ', 'Apache NiFi'): integer (nullable = true)\n |-- ('P6_b_5 ', 'Luigi'): integer (nullable = true)\n |-- ('P6_b_6 ', 'AWS Glue'): integer (nullable = true)\n |-- ('P6_b_7 ', 'Talend'): integer (nullable = true)\n |-- ('P6_b_8 ', 'Pentaho'): integer (nullable = true)\n |-- ('P6_b_9 ', 'Alteryx'): integer (nullable = true)\n |-- ('P6_b_10 ', 'Stitch'): integer (nullable = true)\n |-- ('P6_b_11 ', 'Fivetran'): integer (nullable = true)\n |-- ('P6_b_12 ', 'Google Dataflow'): integer (nullable = true)\n |-- ('P6_b_13 ', 'Oracle Data Integrator'): integer (nullable = true)\n |-- ('P6_b_14 ', 'IBM DataStage'): integer (nullable = true)\n |-- ('P6_b_15 ', 'SAP BW ETL'): integer (nullable = true)\n |-- ('P6_b_16 ', 'SQL Server Integration Services (SSIS)): integer (nullable = true)\n |-- ('P6_b_17 ', 'SAS Data Integration'): integer (nullable = true)\n |-- ('P6_b_18 ', 'Qlik Sense'): integer (nullable = true)\n |-- ('P6_b_19 ', 'Knime'): integer (nullable = true)\n |-- ('P6_b_20 ', 'Databricks'): integer (nullable = true)\n |-- ('P6_b_21 ', 'Não utilizo ferramentas de ETL'): integer (nullable = true)\n |-- ('P6_c ', 'Sua organização possui um Data Lake?'): integer (nullable = true)\n |-- ('P6_d ', 'Qual tecnologia utilizada como plataforma do Data Lake?'): string (nullable = true)\n |-- ('P6_e ', 'Sua organização possui um Data Warehouse?'): string (nullable = true)\n |-- ('P6_f ', 'Qual tecnologia utilizada como plataforma do Data Warehouse?'): string (nullable = true)\n |-- ('P6_g ', 'Quais as ferramentas de gestão de Qualidade de dados, Metadados e catálogo de dados você utiliza no trabalho?'): string (nullable = true)\n |-- ('P6_h ', 'Em qual das opções abaixo você gasta a maior parte do seu tempo?'): string (nullable = true)\n |-- ('P6_h_1 ', 'Desenvolvendo pipelines de dados utilizando linguagens de programação como Python, Scala, Java etc.'): string (nullable = true)\n |-- ('P6_h_2 ', 'Realizando construções de ETL's em ferramentas como Pentaho, Talend, Dataflow etc.'): string (nullable = true)\n |-- ('P6_h_3 ', 'Criando consultas através da linguagem SQL para exportar informações e compartilhar com as áreas de negócio.'): string (nullable = true)\n |-- ('P6_h_4 ', 'Atuando na integração de diferentes fontes de dados através de plataformas proprietárias como Stitch Data, Fivetran etc.'): integer (nullable = true)\n |-- ('P6_h_5 ', 'Modelando soluções de arquitetura de dados, criando componentes de ingestão de dados, transformação e recuperação da informação.'): integer (nullable = true)\n |-- ('P6_h_6 ', 'Desenvolvendo/cuidando da manutenção de repositórios de dados baseados em streaming de eventos como Data Lakes e Data Lakehouses.'): integer (nullable = true)\n |-- ('P6_h_7 ', 'Atuando na modelagem dos dados, com o objetivo de criar conjuntos de dados como Data Warehouses, Data Marts etc.'): integer (nullable = true)\n |-- ('P6_h_8 ', 'Cuidando da qualidade dos dados, metadados e dicionário de dados.'): integer (nullable = true)\n |-- ('P6_h_9 ', 'Nenhuma das opções listadas refletem meu dia a dia.'): integer (nullable = true)\n |-- ('P7_1 ', 'Quais das opções abaixo fazem parte da sua rotina no trabalho atual com análise de dados?'): string (nullable = true)\n |-- ('P7_a_1 ', 'Processo e analiso dados utilizando linguagens de programação como Python, R etc.'): string (nullable = true)\n |-- ('P7_a_2 ', 'Realizo construções de dashboards em ferramentas de BI como PowerBI, Tableau, Looker, Qlik etc.'): string (nullable = true)\n |-- ('P7_a_3 ', 'Crio consultas através da linguagem SQL para exportar informações e compartilhar com as áreas de negócio.'): string (nullable = true)\n |-- ('P7_a_4 ', 'Utilizo API's para extrair dados e complementar minhas análises.'): integer (nullable = true)\n |-- ('P7_a_5 ', 'Realizo experimentos e estudos utilizando metodologias estatísticas como teste de hipótese, modelos de regressão etc.'): integer (nullable = true)\n |-- ('P7_a_6 ', 'Desenvolvo/cuido da manutenção de ETL's utilizando tecnologias como Talend, Pentaho, Airflow, Dataflow etc.'): integer (nullable = true)\n |-- ('P7_a_7 ', 'Atuo na modelagem dos dados, com o objetivo de criar conjuntos de dados, Data Warehouses, Data Marts etc.'): integer (nullable = true)\n |-- ('P7_a_8 ', 'Desenvolvo/cuido da manutenção de planilhas para atender as áreas de negócio.'): integer (nullable = true)\n |-- ('P7_a_9 ', 'Utilizo ferramentas avançadas de estatística como SASS, PSS, Stata etc'): integer (nullable = true)\n |-- ('P7_a_10 ', 'Nenhuma das opções listadas refletem meu dia a dia.'): integer (nullable = true)\n |-- ('P7_b ', 'Quais as ferramentas/tecnologias de ETL que você utiliza no trabalho como Data Analyst?'): string (nullable = true)\n |-- ('P7_b_1 ', 'Scripts Python'): string (nullable = true)\n |-- ('P7_b_2 ', 'SQL & Stored Procedures'): string (nullable = true)\n |-- ('P7_b_3 ', 'Apache Airflow'): string (nullable = true)\n |-- ('P7_b_4 ', 'Apache NiFi'): integer (nullable = true)\n |-- ('P7_b_5 ', 'Luigi'): integer (nullable = true)\n |-- ('P7_b_6 ', 'AWS Glue'): integer (nullable = true)\n |-- ('P7_b_7 ', 'Talend'): integer (nullable = true)\n |-- ('P7_b_8 ', 'Pentaho'): integer (nullable = true)\n |-- ('P7_b_9 ', 'Alteryx'): integer (nullable = true)\n |-- ('P7_b_10 ', 'Stitch'): integer (nullable = true)\n |-- ('P7_b_11 ', 'Fivetran'): integer (nullable = true)\n |-- ('P7_b_12 ', 'Google Dataflow'): integer (nullable = true)\n |-- ('P7_b_13 ', 'Oracle Data Integrator'): integer (nullable = true)\n |-- ('P7_b_14 ', 'IBM DataStage'): integer (nullable = true)\n |-- ('P7_b_15 ', 'SAP BW ETL'): integer (nullable = true)\n |-- ('P7_b_16 ', 'SQL Server Integration Services (SSIS)'): integer (nullable = true)\n |-- ('P7_b_17 ', 'SAS Data Integration'): integer (nullable = true)\n |-- ('P7_b_18 ', 'Qlik Sense'): integer (nullable = true)\n |-- ('P7_b_19 ', 'Knime'): integer (nullable = true)\n |-- ('P7_b_20 ', 'Databricks'): integer (nullable = true)\n |-- ('P7_b_21 ', 'Não utilizo ferramentas de ETL'): integer (nullable = true)\n |-- ('P7_c ', 'Sua empresa utiliza alguma das ferramentas listadas para dar mais autonomia em análise de dados para as áreas de negócio?'): string (nullable = true)\n |-- ('P7_c_1 ', 'Ferramentas de AutoML como H2O.ai, Data Robot, BigML etc.'): string (nullable = true)\n |-- \"('P7_c_2 ', '\"\"\"\"Point and Click\"\"\"\" Analytics como Alteryx: string (nullable = true)\n |--  Knime: string (nullable = true)\n |--  Rapidminer etc.')\": string (nullable = true)\n |-- ('P7_c_3 ', 'Product metricts & Insights como Mixpanel, Amplitude, Adobe Analytics.'): string (nullable = true)\n |-- ('P7_c_4 ', 'Ferramentas de análise dentro de ferramentas de CRM como Salesforce Einstein Anaytics ou Zendesk dashboards.'): string (nullable = true)\n |-- ('P7_c_5 ', 'Minha empresa não utiliza essas ferramentas.'): string (nullable = true)\n |-- ('P7_c_6 ', 'Não sei informar.'): string (nullable = true)\n |-- ('P7_d ', 'Em qual das opções abaixo você gasta a maior parte do seu tempo de trabalho?'): string (nullable = true)\n |-- ('P7_d_1 ', 'Processando e analisando dados utilizando linguagens de programação como Python, R etc.'): string (nullable = true)\n |-- ('P7_d_2 ', 'Realizando construções de dashboards em ferramentas de BI como PowerBI, Tableau, Looker, Qlik etc.'): integer (nullable = true)\n |-- ('P7_d_3 ', 'Criando consultas através da linguagem SQL para exportar informações e compartilhar com as áreas de negócio.'): string (nullable = true)\n |-- ('P7_d_4 ', 'Utilizando API's para extrair dados e complementar minhas análises.'): string (nullable = true)\n |-- ('P7_d_5 ', 'Realizando experimentos e estudos utilizando metodologias estatísticas como teste de hipótese, modelos de regressão etc.'): integer (nullable = true)\n |-- ('P7_d_6 ', 'Desenvolvendo/cuidando da manutenção de ETL's utilizando tecnologias como Talend, Pentaho, Airflow, Dataflow etc.'): string (nullable = true)\n |-- ('P7_d_7 ', 'Atuando na modelagem dos dados, com o objetivo de criar conjuntos de dados, Data Warehouses, Data Marts etc.'): integer (nullable = true)\n |-- ('P7_d_8 ', 'Desenvolvendo/cuidando da manutenção de planilhas do Excel ou Google Sheets para atender as áreas de negócio.'): integer (nullable = true)\n |-- ('P7_d_9 ', 'Utilizando ferramentas avançadas de estatística como SAS, SPSS, Stata etc, para realizar análises.'): string (nullable = true)\n |-- ('P7_d_10 ', 'Nenhuma das opções listadas refletem meu dia a dia.'): string (nullable = true)\n |-- ('P8_a ', 'Quais das opções abaixo fazem parte da sua rotina no trabalho atual com ciência de dados?'): integer (nullable = true)\n |-- ('P8_a_1 ', 'Estudos Ad-hoc com o objetivo de confirmar hipóteses, realizar modelos preditivos, forecasts, análise de cluster para resolver problemas pontuais e responder perguntas das áreas de negócio.'): string (nullable = true)\n |-- ('P8_a_2 ', 'Sou responsável pela coleta e limpeza dos dados que uso para análise e modelagem.'): integer (nullable = true)\n |-- ('P8_a_3 ', 'Sou responsável por entrar em contato com os times de negócio para definição do problema, identificar a solução e apresentação de resultados.'): integer (nullable = true)\n |-- ('P8_a_4 ', 'Desenvolvo modelos de Machine Learning com o objetivo de colocar em produção em sistemas (produtos de dados).'): integer (nullable = true)\n |-- ('P8_a_5 ', 'Sou responsável por colocar modelos em produção, criar os pipelines de dados, APIs de consumo e monitoramento.'): integer (nullable = true)\n |-- ('P8_a_6 ', 'Cuido da manutenção de modelos de Machine Learning já em produção, atuando no monitoramento, ajustes e refatoração quando necessário.'): integer (nullable = true)\n |-- ('P8_a_7 ', 'Realizo construções de dashboards em ferramentas de BI como PowerBI, Tableau, Looker, Qlik, etc'): integer (nullable = true)\n |-- ('P8_a_8 ', 'Utilizo ferramentas avançadas de estatística como SAS, SPSS, Stata etc, para realizar análises estatísticas e ajustar modelos.'): integer (nullable = true)\n |-- ('P8_a_9 ', 'Crio e dou manutenção em ETLs, DAGs e automações de pipelines de dados.'): integer (nullable = true)\n |-- ('P8_a_10 ', 'Crio e gerencio soluções de Feature Store e cultura de MLOps.'): integer (nullable = true)\n |-- ('P8_a_11 ', 'Sou responsável por criar e manter a infra que meus modelos e soluções rodam (clusters, servidores, API, containers, etc.)'): string (nullable = true)\n |-- ('P8_a_12 ', 'Treino e aplico LLM's para solucionar problemas de negócio.'): string (nullable = true)\n |-- ('P8_b ', 'Quais as técnicas e métodos listados abaixo você costuma utilizar no trabalho?'): integer (nullable = true)\n |-- ('P8_b_1 ', 'Utilizo modelos de regressão (linear, logística, GLM)'): string (nullable = true)\n |-- ('P8_b_2 ', 'Utilizo redes neurais ou modelos baseados em árvore para criar modelos de classificação'): integer (nullable = true)\n |-- ('P8_b_3 ', 'Desenvolvo sistemas de recomendação (RecSys)'): integer (nullable = true)\n |-- ('P8_b_4 ', 'Utilizo métodos estatísticos Bayesianos para analisar dados'): integer (nullable = true)\n |-- ('P8_b_5 ', 'Utilizo técnicas de NLP (Natural Language Processing) para análisar dados não-estruturados'): integer (nullable = true)\n |-- ('P8_b_6 ', 'Utilizo métodos estatísticos clássicos (Testes de hipótese, análise multivariada, sobrevivência, dados longitudinais, inferência estatistica) para analisar dados'): integer (nullable = true)\n |-- ('P8_b_7 ', 'Utilizo cadeias de Markov ou HMM's para realizar análises de dados'): integer (nullable = true)\n |-- ('P8_b_8 ', 'Desenvolvo técnicas de Clusterização (K-means, Spectral, DBScan etc)'): integer (nullable = true)\n |-- ('P8_b_9 ', 'Realizo previsões através de modelos de Séries Temporais (Time Series)'): integer (nullable = true)\n |-- ('P8_b_10 ', 'Utilizo modelos de Reinforcement Learning (aprendizado por reforço)'): integer (nullable = true)\n |-- ('P8_b_11 ', 'Utilizo modelos de Machine Learning para detecção de fraude'): integer (nullable = true)\n |-- ('P8_b_12 ', 'Utilizo métodos de Visão Computacional'): integer (nullable = true)\n |-- ('P8_b_13 ', 'Utilizo modelos de Detecção de Churn'): string (nullable = true)\n |-- ('P8_b_14 ', 'Utilizo LLM's para solucionar problemas de negócio'): string (nullable = true)\n |-- ('P8_3 ', 'Quais dessas tecnologias fazem parte do seu dia a dia como cientista de dados?'): integer (nullable = true)\n |-- ('P8_c_1 ', 'Ferramentas de BI (PowerBI, Looker, Tableau, Qlik etc)'): string (nullable = true)\n |-- ('P8_c_2 ', 'Planilhas (Excel, Google Sheets etc)'): integer (nullable = true)\n |-- ('P8_c_3 ', 'Ambientes de desenvolvimento local (R-studio, JupyterLab, Anaconda)'): integer (nullable = true)\n |-- ('P8_c_4 ', 'Ambientes de desenvolvimento na nuvem (Google Colab, AWS Sagemaker, Kaggle Notebooks etc)'): integer (nullable = true)\n |-- ('P8_c_5 ', 'Ferramentas de AutoML (Datarobot, H2O, Auto-Keras etc)'): integer (nullable = true)\n |-- ('P8_c_6 ', 'Ferramentas de ETL (Apache Airflow, NiFi, Stitch, Fivetran, Pentaho etc)'): integer (nullable = true)\n |-- ('P8_c_7 ', 'Plataformas de Machine Learning (TensorFlow, Azure Machine Learning, Kubeflow etc)'): integer (nullable = true)\n |-- ('P8_c_8 ', 'Feature Store (Feast, Hopsworks, AWS Feature Store, Databricks Feature Store etc)'): integer (nullable = true)\n |-- ('P8_c_9 ', 'Sistemas de controle de versão (Github, DVC, Neptune, Gitlab etc)'): integer (nullable = true)\n |-- ('P8_c_10 ', 'Plataformas de Data Apps (Streamlit, Shiny, Plotly Dash etc)'): string (nullable = true)\n |-- ('P8_c_11 ', 'Ferramentas de estatística avançada como SPSS, SAS, etc.'): string (nullable = true)\n |-- ('P8_d ', 'Em qual das opções abaixo você gasta a maior parte do seu tempo no trabalho?'): integer (nullable = true)\n |-- ('P8_d_1 ', 'Estudos Ad-hoc com o objetivo de confirmar hipóteses, realizar modelos preditivos, forecasts, análise de cluster para resolver problemas pontuais e responder perguntas das áreas de negócio.'): string (nullable = true)\n |-- ('P8_d_2 ', 'Coletando e limpando os dados que uso para análise e modelagem.'): integer (nullable = true)\n |-- ('P8_d_3 ', 'Entrando em contato com os times de negócio para definição do problema, identificar a solução e apresentação de resultados.'): integer (nullable = true)\n |-- ('P8_d_4 ', 'Desenvolvendo modelos de Machine Learning com o objetivo de colocar em produção em sistemas (produtos de dados).'): integer (nullable = true)\n |-- ('P8_d_5 ', 'Colocando modelos em produção, criando os pipelines de dados, APIs de consumo e monitoramento.'): integer (nullable = true)\n |-- ('P8_d_6 ', 'Cuidando da manutenção de modelos de Machine Learning já em produção, atuando no monitoramento, ajustes e refatoração quando necessário.'): integer (nullable = true)\n |-- ('P8_d_7 ', 'Realizando construções de dashboards em ferramentas de BI como PowerBI, Tableau, Looker, Qlik, etc.'): integer (nullable = true)\n |-- ('P8_d_8 ', 'Utilizando ferramentas avançadas de estatística como SAS, SPSS, Stata etc, para realizar análises.'): integer (nullable = true)\n |-- ('P8_d_9 ', 'Criando e dando manutenção em ETLs, DAGs e automações de pipelines de dados.'): integer (nullable = true)\n |-- ('P8_d_10 ', 'Criando e gerenciando soluções de Feature Store e cultura de MLOps.'): integer (nullable = true)\n |-- ('P8_d_11 ', 'Criando e mantendo a infra que meus modelos e soluções rodam (clusters, servidores, API, containers, etc.)'): integer (nullable = true)\n |-- ('P8_d_12 ', 'Treinando e aplicando LLM's para solucionar problemas de negócio.'): integer (nullable = true)\n\n"
     ]
    }
   ],
   "source": [
    "import re, unicodedata\n",
    "\n",
    "# Função para normalizar o nome das colunas:\n",
    "# - Remove acentos, substitui caracteres não alfanuméricos por underscore, remove underscores duplicados e de inicio e fim, converte para caixa alta\n",
    "def normalize_column(col_name):\n",
    "    normalized = unicodedata.normalize('NFKD', col_name).encode(\"ASCII\", \"ignore\").decode(\"utf-8\")\n",
    "    normalized = re.sub(r'[^\\w]', '_', normalized)\n",
    "    normalized = re.sub(r'_+', '_', normalized).strip('_')\n",
    "    return normalized.upper()\n",
    "\n",
    "# Le o CSV bruto com header e inferSchema\n",
    "df_raw = spark.read.csv(\n",
    "    \"dbfs:/FileStore/State_of_data_BR_2023_Kaggle___df_survey_2023.csv\", \n",
    "    header=True, \n",
    "    inferSchema=True, \n",
    "    sep=\",\"\n",
    ")\n",
    "\n",
    "# Exibir o schema original para conferência\n",
    "df_raw.printSchema()\n"
   ]
  },
  {
   "cell_type": "code",
   "execution_count": 0,
   "metadata": {
    "application/vnd.databricks.v1+cell": {
     "cellMetadata": {
      "byteLimit": 2048000,
      "rowLimit": 10000
     },
     "inputWidgets": {},
     "nuid": "9b0b57c9-81ef-4578-b9d0-1d9b4e4d69f1",
     "showTitle": true,
     "tableResultSettingsMap": {},
     "title": "Normalização das colunas"
    }
   },
   "outputs": [
    {
     "output_type": "stream",
     "name": "stdout",
     "output_type": "stream",
     "text": [
      "Novos nomes das colunas:\n['P0_ID', 'P1_A_IDADE', 'P1_A_1_FAIXA_IDADE', 'P1_B_GENERO', 'P1_C_COR_RACA_ETNIA', 'P1_D_PCD', 'P1_E_EXPERIENCIA_PROFISSIONAL_PREJUDICADA', 'P1_E_1_NAO_ACREDITO_QUE_MINHA_EXPERIENCIA_PROFISSIONAL_SEJA_AFETADA', 'P1_E_2_EXPERIENCIA_PREJUDICADA_DEVIDO_A_MINHA_COR_RACA_ETNIA', 'P1_E_3_EXPERIENCIA_PREJUDICADA_DEVIDO_A_MINHA_IDENTIDADE_DE_GENERO', 'P1_E_4_EXPERIENCIA_PREJUDICADA_DEVIDO_AO_FATO_DE_SER_PCD', 'P1_F_ASPECTOS_PREJUDICADOS', 'P1_F_1_QUANTIDADE_DE_OPORTUNIDADES_DE_EMPREGO_VAGAS_RECEBIDAS', 'P1_F_2_SENIORIDADE_DAS_VAGAS_RECEBIDAS_EM_RELACAO_A_SUA_EXPERIENCIA', 'P1_F_3_APROVACAO_EM_PROCESSOS_SELETIVOS_ENTREVISTAS', 'P1_F_4_OPORTUNIDADES_DE_PROGRESSAO_DE_CARREIRA', 'P1_F_5_VELOCIDADE_DE_PROGRESSAO_DE_CARREIRA', 'P1_F_6_NIVEL_DE_COBRANCA_NO_TRABALHO_STRESS_NO_TRABALHO', 'P1_F_7_ATENCAO_DADA_DIANTE_DAS_MINHAS_OPINIOES_E_IDEIAS', 'P1_F_8_RELACAO_COM_OUTROS_MEMBROS_DA_EMPRESA_EM_MOMENTOS_DE_TRABALHO', 'P1_F_9_RELACAO_COM_OUTROS_MEMBROS_DA_EMPRESA_EM_MOMENTOS_DE_INTEGRACAO_E_OUTROS_MOMENTOS_FORA_DO_TRABALHO', 'P1_G_VIVE_NO_BRASIL', 'P1_I_ESTADO_ONDE_MORA', 'P1_I_1_UF_ONDE_MORA', 'P1_I_2_REGIAO_ONDE_MORA', 'P1_J_MUDOU_DE_ESTADO', 'P1_K_REGIAO_DE_ORIGEM', 'P1_L_NIVEL_DE_ENSINO', 'P1_M_AREA_DE_FORMACAO', 'P2_A_QUAL_SUA_SITUACAO_ATUAL_DE_TRABALHO', 'P2_B_SETOR', 'P2_C_NUMERO_DE_FUNCIONARIOS', 'P2_D_GESTOR', 'P2_E_CARGO_COMO_GESTOR', 'P2_F_CARGO_ATUAL', 'P2_G_NIVEL', 'P2_H_FAIXA_SALARIAL', 'P2_I_QUANTO_TEMPO_DE_EXPERIENCIA_NA_AREA_DE_DADOS_VOCE_TEM', 'P2_J_QUANTO_TEMPO_DE_EXPERIENCIA_NA_AREA_DE_TI_ENGENHARIA_DE_SOFTWARE_VOCE_TEVE_ANTES_DE_COMECAR_A_TRABALHAR_NA_AREA_DE_DADOS', 'P2_K_VOCE_ESTA_SATISFEITO_NA_SUA_EMPRESA_ATUAL', 'P2_L_QUAL_O_PRINCIPAL_MOTIVO_DA_SUA_INSATISFACAO_COM_A_EMPRESA_ATUAL', 'P2_L_1_FALTA_DE_OPORTUNIDADE_DE_CRESCIMENTO_NO_EMPREGO_ATUAL', 'P2_L_2_SALARIO_ATUAL_NAO_CORRESPONDE_AO_MERCADO', 'P2_L_3_NAO_TENHO_UMA_BOA_RELACAO_COM_MEU_LIDER_GESTOR', 'P2_L_4_GOSTARIA_DE_TRABALHAR_EM_EM_OUTRA_AREA_DE_ATUACAO', 'P2_L_5_GOSTARIA_DE_RECEBER_MAIS_BENEFICIOS', 'P2_L_6_O_CLIMA_DE_TRABALHO_AMBIENTE_NAO_E_BOM', 'P2_L_7_FALTA_DE_MATURIDADE_ANALITICA_NA_EMPRESA', 'P2_M_VOCE_PARTICIPOU_DE_ENTREVISTAS_DE_EMPREGO_NOS_ULTIMOS_6_MESES', 'P2_N_VOCE_PRETENDE_MUDAR_DE_EMPREGO_NOS_PROXIMOS_6_MESES', 'P2_O_QUAIS_OS_PRINCIPAIS_CRITERIOS_QUE_VOCE_LEVA_EM_CONSIDERACAO_NO_MOMENTO_DE_DECIDIR_ONDE_TRABALHAR', 'P2_O_1_REMUNERACAO_SALARIO', 'P2_O_2_BENEFICIOS', 'P2_O_3_PROPOSITO_DO_TRABALHO_E_DA_EMPRESA', 'P2_O_4_FLEXIBILIDADE_DE_TRABALHO_REMOTO', 'P2_O_5_AMBIENTE_E_CLIMA_DE_TRABALHO', 'P2_O_6_OPORTUNIDADE_DE_APRENDIZADO_E_TRABALHAR_COM_REFERENCIAS_NA_AREA', 'P2_O_7_PLANO_DE_CARREIRA_E_OPORTUNIDADES_DE_CRESCIMENTO_PROFISSIONAL', 'P2_O_8_MATURIDADE_DA_EMPRESA_EM_TERMOS_DE_TECNOLOGIA_E_DADOS', 'P2_O_9_QUALIDADE_DOS_GESTORES_E_LIDERES', 'P2_O_10_REPUTACAO_QUE_A_EMPRESA_TEM_NO_MERCADO', 'P2_Q_EMPRESA_QUE_TRABAHA_PASSOU_POR_LAYOFF_EM_2023', 'P2_R_ATUALMENTE_QUAL_A_SUA_FORMA_DE_TRABALHO', 'P2_S_QUAL_A_FORMA_DE_TRABALHO_IDEAL_PARA_VOCE', 'P2_T_CASO_SUA_EMPRESA_DECIDA_PELO_MODELO_100_PRESENCIAL_QUAL_SERA_SUA_ATITUDE', 'P3_A_QUAL_O_NUMERO_APROXIMADO_DE_PESSOAS_QUE_ATUAM_COM_DADOS_NA_SUA_EMPRESA_HOJE', 'P3_B_QUAIS_DESSES_PAPEIS_CARGOS_FAZEM_PARTE_DO_TIME_OU_CHAPTER_DE_DADOS_DA_SUA_EMPRESA', 'P3_B_1_ANALYTICS_ENGINEER', 'P3_B_2_ENGENHARIA_DE_DADOS_DATA_ENGINEER', 'P3_B_3_ANALISTA_DE_DADOS_DATA_ANALYST', 'P3_B_4_CIENTISTA_DE_DADOS_DATA_SCIENTIST', 'P3_B_5_DATABASE_ADMINISTRATOR_DBA', 'P3_B_6_ANALISTA_DE_BUSINESS_INTELLIGENCE_BI', 'P3_B_7_ARQUITETO_DE_DADOS_DATA_ARCHITECT', 'P3_B_8_DATA_PRODUCT_MANAGER_DPM', 'P3_B_9_BUSINESS_ANALYST', 'P3_C_QUAIS_DESSAS_RESPONSABILIDADES_FAZEM_PARTE_DA_SUA_ROTINA_ATUAL_DE_TRABALHO_COMO_GESTOR', 'P3_C_1_PENSAR_NA_VISAO_DE_LONGO_PRAZO_DE_DADOS_DA_EMPRESA_E_FORTALECIMENTO_DA_CULTURA_ANALITICA_DA_COMPANHIA', 'P3_C_2_ORGANIZACAO_DE_TREINAMENTOS_E_INICIATIVAS_COM_O_OBJETIVO_DE_AUMENTAR_A_MATURIDADE_ANALITICA_DAS_AREAS_DE_NEGOCIOS', 'P3_C_3_ATRACAO_SELECAO_E_CONTRATACAO_DE_TALENTOS_PARA_O_TIME_DE_DADOS', 'P3_C_4_DECISAO_SOBRE_CONTRATACAO_DE_FERRAMENTAS_E_TECNOLOGIAS_RELACIONADAS_A_DADOS', 'P3_C_5_SOU_GESTOR_DA_EQUIPE_RESPONSAVEL_PELA_ENGENHARIA_DE_DADOS_E_POR_MANTER_O_DATA_LAKE_DA_EMPRESA_COMO_FONTE_UNICA_DOS_DADOS_GARANTINDO_A_QUALIDADE_E_CONFIABILIDADE_DA_INFORMACAO', 'P3_C_6_SOU_GESTOR_DA_EQUIPE_RESPONSAVEL_PELA_ENTREGA_DE_DADOS_ESTUDOS_RELATORIOS_E_DASHBOARDS_PARA_AS_AREAS_DE_NEGOCIO_DA_EMPRESA', 'P3_C_7_SOU_GESTOR_DA_EQUIPE_RESPONSAVEL_POR_INICIATIVAS_E_PROJETOS_ENVOLVENDO_INTELIGENCIA_ARTIFICIAL_E_MACHINE_LEARNING', 'P3_C_8_APESAR_DE_SER_GESTOR_AINDA_ATUO_NA_PARTE_TECNICA_CONSTRUINDO_SOLUCOES_ANALISES_MODELOS_ETC', 'P3_C_9_GESTAO_DE_PROJETOS_DE_DADOS_CUIDANDO_DAS_ETAPAS_EQUIPES_ENVOLVIDAS_ATINGIMENTO_DOS_OBJETIVOS_ETC', 'P3_C_10_GESTAO_DE_PRODUTOS_DE_DADOS_CUIDANDO_DA_VISAO_DOS_PRODUTOS_BACKLOG_FEEDBACK_DE_USUARIOS_ETC', 'P3_C_11_GESTAO_DE_PESSOAS_APOIO_NO_DESENVOLVIMENTO_DAS_PESSOAS_EVOLUCAO_DE_CARREIRA', 'P3_D_QUAIS_SAO_OS_3_MAIORES_DESAFIOS_QUE_VOCE_TEM_COMO_GESTOR_NO_ATUAL_MOMENTO', 'P3_D_1_A_CONTRATAR_NOVOS_TALENTOS', 'P3_D_2_B_RETER_TALENTOS', 'P3_D_3_C_CONVENCER_A_EMPRESA_A_AUMENTAR_OS_INVESTIMENTOS_NA_AREA_DE_DADOS', 'P3_D_4_D_GESTAO_DE_EQUIPES_NO_AMBIENTE_REMOTO', 'P3_D_5_E_GESTAO_DE_PROJETOS_ENVOLVENDO_AREAS_MULTIDISCIPLINARES_DA_EMPRESA', 'P3_D_6_F_ORGANIZAR_AS_INFORMACOES_E_GARANTIR_A_QUALIDADE_E_CONFIABILIDADE', 'P3_D_7_G_CONSEGUIR_PROCESSAR_E_ARMAZENAR_UM_ALTO_VOLUME_DE_DADOS', 'P3_D_8_H_CONSEGUIR_GERAR_VALOR_PARA_AS_AREAS_DE_NEGOCIOS_ATRAVES_DE_ESTUDOS_E_EXPERIMENTOS', 'P3_D_9_I_DESENVOLVER_E_MANTER_MODELOS_MACHINE_LEARNING_EM_PRODUCAO', 'P3_D_10_J_GERENCIAR_A_EXPECTATIVA_DAS_AREAS_DE_NEGOCIO_EM_RELACAO_AS_ENTREGAS_DAS_EQUIPES_DE_DADOS', 'P3_D_11_K_GARANTIR_A_MANUTENCAO_DOS_PROJETOS_E_MODELOS_EM_PRODUCAO_EM_MEIO_AO_CRESCIMENTO_DA_EMPRESA', 'P3_D_12_CONSEGUIR_LEVAR_INOVACAO_PARA_A_EMPRESA_ATRAVES_DOS_DADOS', 'P3_D_13_GARANTIR_RETORNO_DO_INVESTIMENTO_ROI_EM_PROJETOS_DE_DADOS', 'P3_D_14_DIVIDIR_O_TEMPO_ENTRE_ENTREGAS_TECNICAS_E_GESTAO', 'P3_E_AI_GENERATIVA_E_UMA_PRIORIDADE_EM_SUA_EMPRESA', 'P3_F_TIPOS_DE_USO_DE_AI_GENERATIVA_E_LLMS_NA_EMPRESA', 'P3_F_1_COLABORADORES_USANDO_AI_GENERATIVA_DE_FORMA_INDEPENDENTE_E_DESCENTRALIZADA', 'P3_F_2_DIRECIONAMENTO_CENTRALIZADO_DO_USO_DE_AI_GENERATIVA', 'P3_F_3_DESENVOLVEDORES_UTILIZANDO_COPILOTS', 'P3_F_4_AI_GENERATIVA_E_LLMS_PARA_MELHORAR_PRODUTOS_EXTERNOS', 'P3_F_5_AI_GENERATIVA_E_LLMS_PARA_MELHORAR_PRODUTOS_INTERNOS_PARA_OS_COLABORADORES', 'P3_F_6_IA_GENERATIVA_E_LLMS_COMO_PRINCIPAL_FRENTE_DO_NEGOCIO', 'P3_F_7_IA_GENERATIVA_E_LLMS_NAO_E_PRIORIDADE', 'P3_F_8_NAO_SEI_OPINAR_SOBRE_O_USO_DE_IA_GENERATIVA_E_LLMS_NA_EMPRESA', 'P3_G_MOTIVOS_QUE_LEVAM_A_EMPRESA_A_NAO_USAR_AI_GENRATIVA_E_LLMS', 'P3_G_1_FALTA_DE_COMPREENSAO_DOS_CASOS_DE_USO', 'P3_G_2_FALTA_DE_CONFIABILIDADE_DAS_SAIDAS_ALUCINACAO_DOS_MODELOS', 'P3_G_3_INCERTEZA_EM_RELACAO_A_REGULAMENTACAO', 'P3_G_4_PREOCUPACOES_COM_SEGURANCA_E_PRIVACIDADE_DE_DADOS', 'P3_G_5_RETORNO_SOBRE_INVESTIMENTO_ROI_NAO_COMPROVADO_DE_IA_GENERATIVA', 'P3_G_6_DADOS_DA_EMPRESA_NAO_ESTAO_PRONTOS_PARA_USO_DE_IA_GENERATIVA', 'P3_G_7_FALTA_DE_EXPERTISE_OU_FALTA_DE_RECURSOS', 'P3_G_8_ALTA_DIRECAO_DA_EMPRESA_NAO_VE_VALOR_OU_NAO_VE_COMO_PRIORIDADE', 'P3_G_9_PREOCUPACOES_COM_PROPRIEDADE_INTELECTUAL', 'P4_A_MESMO_QUE_ESSE_NAO_SEJA_SEU_CARGO_FORMAL_VOCE_CONSIDERA_QUE_SUA_ATUACAO_NO_DIA_A_DIA_REFLETE_ALGUMA_DAS_OPCOES_LISTADAS_ABAIXO', 'P4_A_1_ATUACAO', 'P4_B_QUAIS_DAS_FONTES_DE_DADOS_LISTADAS_VOCE_JA_ANALISOU_OU_PROCESSOU_NO_TRABALHO', 'P4_B_1_DADOS_RELACIONAIS_ESTRUTURADOS_EM_BANCOS_SQL', 'P4_B_2_DADOS_ARMAZENADOS_EM_BANCOS_NOSQL', 'P4_B_3_IMAGENS', 'P4_B_4_TEXTOS_DOCUMENTOS', 'P4_B_5_VIDEOS', 'P4_B_6_AUDIOS', 'P4_B_7_PLANILHAS', 'P4_B_8_DADOS_GEOREFERENCIADOS', 'P4_C_ENTRE_AS_FONTES_DE_DADOS_LISTADAS_QUAIS_VOCE_UTILIZA_NA_MAIOR_PARTE_DO_TEMPO', 'P4_C_1_DADOS_RELACIONAIS_ESTRUTURADOS_EM_BANCOS_SQL', 'P4_C_2_DADOS_ARMAZENADOS_EM_BANCOS_NOSQL', 'P4_C_3_IMAGENS', 'P4_C_4_TEXTOS_DOCUMENTOS', 'P4_C_5_VIDEOS', 'P4_C_6_AUDIOS', 'P4_C_7_PLANILHAS', 'P4_C_8_DADOS_GEOREFERENCIADOS', 'P4_D_QUAIS_DAS_LINGUAGENS_LISTADAS_ABAIXO_VOCE_UTILIZA_NO_TRABALHO', 'P4_D_1_SQL', 'P4_D_2_R', 'P4_D_3_PYTHON', 'P4_D_4_C_C_C', 'P4_D_5_NET', 'P4_D_6_JAVA', 'P4_D_7_JULIA', 'P4_D_8_SAS_STATA', 'P4_D_9_VISUAL_BASIC_VBA', 'P4_D_10_SCALA', 'P4_D_11_MATLAB', 'P4_D_12_RUST', 'P4_D_13_PHP', 'P4_D_14_JAVASCRIPT', 'P4_D_15_NAO_UTILIZO_NENHUMA_LINGUAGEM', 'P4_E_ENTRE_AS_LINGUAGENS_LISTADAS_ABAIXO_QUAL_E_A_QUE_VOCE_MAIS_UTILIZA_NO_TRABALHO', 'P4_F_ENTRE_AS_LINGUAGENS_LISTADAS_ABAIXO_QUAL_E_A_SUA_PREFERIDA', 'P4_G_QUAIS_DOS_BANCOS_DE_DADOS_FONTES_DE_DADOS_LISTADOS_ABAIXO_VOCE_UTILIZA_NO_TRABALHO', 'P4_G_1_MYSQL', 'P4_G_2_ORACLE', 'P4_G_3_SQL_SERVER', 'P4_G_4_AMAZON_AURORA_OU_RDS', 'P4_G_5_DYNAMODB', 'P4_G_6_COACHDB', 'P4_G_7_CASSANDRA', 'P4_G_8_MONGODB', 'P4_G_9_MARIADB', 'P4_G_10_DATOMIC', 'P4_G_11_S3', 'P4_G_12_POSTGRESQL', 'P4_G_13_ELASTICSEARCH', 'P4_G_14_DB2', 'P4_G_15_MICROSOFT_ACCESS', 'P4_G_16_SQLITE', 'P4_G_17_SYBASE', 'P4_G_18_FIREBASE', 'P4_G_19_VERTICA', 'P4_G_20_REDIS', 'P4_G_21_NEO4J', 'P4_G_22_GOOGLE_BIGQUERY', 'P4_G_23_GOOGLE_FIRESTORE', 'P4_G_24_AMAZON_REDSHIFT', 'P4_G_25_AMAZON_ATHENA', 'P4_G_26_SNOWFLAKE', 'P4_G_27_DATABRICKS', 'P4_G_28_HBASE', 'P4_G_29_PRESTO', 'P4_G_30_SPLUNK', 'P4_G_31_SAP_HANA', 'P4_G_32_HIVE', 'P4_G_33_FIREBIRD', 'P4_H_DENTRE_AS_OPCOES_LISTADAS_QUAL_SUA_CLOUD_PREFERIDA', 'P4_H_1_AZURE_MICROSOFT', 'P4_H_2_AMAZON_WEB_SERVICES_AWS', 'P4_H_3_GOOGLE_CLOUD_GCP', 'P4_H_4_ORACLE_CLOUD', 'P4_H_5_IBM', 'P4_H_6_SERVIDORES_ON_PREMISE_NAO_UTILIZAMOS_CLOUD', 'P4_H_7_CLOUD_PROPRIA', 'P4_I_CLOUD_PREFERIDA', 'P4_J_FERRAMENTA_DE_BI_UTILIZADA_NO_DIA_A_DIA', 'P4_J_1_MICROSOFT_POWERBI', 'P4_J_2_QLIK_VIEW_QLIK_SENSE', 'P4_J_3_TABLEAU', 'P4_J_4_METABASE', 'P4_J_5_SUPERSET', 'P4_J_6_REDASH', 'P4_J_7_LOOKER', 'P4_J_8_LOOKER_STUDIO_GOOGLE_DATA_STUDIO', 'P4_J_9_AMAZON_QUICKSIGHT', 'P4_J_10_MODE', 'P4_J_11_ALTERYX', 'P4_J_12_MICROSTRATEGY', 'P4_J_13_IBM_ANALYTICS_COGNOS', 'P4_J_14_SAP_BUSINESS_OBJECTS_SAP_ANALYTICS', 'P4_J_15_ORACLE_BUSINESS_INTELLIGENCE', 'P4_J_16_SALESFORCE_EINSTEIN_ANALYTICS', 'P4_J_17_BIRST', 'P4_J_18_SAS_VISUAL_ANALYTICS', 'P4_J_19_GRAFANA', 'P4_J_20_TIBCO_SPOTFIRE', 'P4_J_21_PENTAHO', 'P4_J_22_FAZEMOS_TODAS_AS_ANALISES_UTILIZANDO_APENAS_EXCEL_OU_PLANILHAS_DO_GOOGLE', 'P4_J_23_NAO_UTILIZO_NENHUMA_FERRAMENTA_DE_BI_NO_TRABALHO', 'P4_K_QUAL_SUA_FERRAMENTA_DE_BI_PREFERIDA', 'P4_L_QUAL_O_TIPO_DE_USO_DE_AI_GENERATIVA_E_LLMS_NA_EMPRESA', 'P4_L_1_COLABORADORES_USANDO_AI_GENERATIVA_DE_FORMA_INDEPENDENTE_E_DESCENTRALIZADA', 'P4_L_2_DIRECIONAMENTO_CENTRALIZADO_DO_USO_DE_AI_GENERATIVA', 'P4_L_3_DESENVOLVEDORES_UTILIZANDO_COPILOTS', 'P4_L_4_AI_GENERATIVA_E_LLMS_PARA_MELHORAR_PRODUTOS_EXTERNOS_PARA_OS_CLIENTES_FINAIS', 'P4_L_5_AI_GENERATIVA_E_LLMS_PARA_MELHORAR_PRODUTOS_INTERNOS_PARA_OS_COLABORADORES', 'P4_L_6_IA_GENERATIVA_E_LLMS_COMO_PRINCIPAL_FRENTE_DO_NEGOCIO', 'P4_L_7_IA_GENERATIVA_E_LLMS_NAO_E_PRIORIDADE', 'P4_L_8_NAO_SEI_OPINAR_SOBRE_O_USO_DE_IA_GENERATIVA_E_LLMS_NA_EMPRESA', 'P4_M_UTILIZA_CHATGPT_OU_LLMS_NO_TRABALHO', 'P4_M_1_NAO_USO_SOLUCOES_DE_AI_GENERATIVA_COM_FOCO_EM_PRODUTIVIDADE', 'P4_M_2_USO_SOLUCOES_GRATUITAS_DE_AI_GENERATIVA_COM_FOCO_EM_PRODUTIVIDADE', 'P4_M_3_USO_E_PAGO_PELAS_SOLUCOES_DE_AI_GENERATIVA_COM_FOCO_EM_PRODUTIVIDADE', 'P4_M_4_A_EMPRESA_QUE_TRABALHO_PAGA_PELAS_SOLUCOES_DE_AI_GENERATIVA_COM_FOCO_EM_PRODUTIVIDADE', 'P4_M_5_USO_SOLUCOES_DO_TIPO_COPILOT', 'P5_A_QUAL_SEU_OBJETIVO_NA_AREA_DE_DADOS', 'P5_B_QUAL_OPORTUNIDADE_VOCE_ESTA_BUSCANDO', 'P5_C_HA_QUANTO_TEMPO_VOCE_BUSCA_UMA_OPORTUNIDADE_NA_AREA_DE_DADOS', 'P5_D_COMO_TEM_SIDO_A_BUSCA_POR_UM_EMPREGO_NA_AREA_DE_DADOS', 'P6_A_QUAIS_DAS_OPCOES_ABAIXO_FAZEM_PARTE_DA_SUA_ROTINA_NO_TRABALHO_ATUAL_COMO_ENGENHEIRO_DE_DADOS', 'P6_A_1_DESENVOLVO_PIPELINES_DE_DADOS_UTILIZANDO_LINGUAGENS_DE_PROGRAMACAO_COMO_PYTHON_SCALA_JAVA_ETC', 'P6_A_2_REALIZO_CONSTRUCOES_DE_ETL_S_EM_FERRAMENTAS_COMO_PENTAHO_TALEND_DATAFLOW_ETC', 'P6_A_3_CRIO_CONSULTAS_ATRAVES_DA_LINGUAGEM_SQL_PARA_EXPORTAR_INFORMACOES_E_COMPARTILHAR_COM_AS_AREAS_DE_NEGOCIO', 'P6_A_4_ATUO_NA_INTEGRACAO_DE_DIFERENTES_FONTES_DE_DADOS_ATRAVES_DE_PLATAFORMAS_PROPRIETARIAS_COMO_STITCH_DATA_FIVETRAN_ETC', 'P6_A_5_MODELO_SOLUCOES_DE_ARQUITETURA_DE_DADOS_CRIANDO_COMPONENTES_DE_INGESTAO_DE_DADOS_TRANSFORMACAO_E_RECUPERACAO_DA_INFORMACAO', 'P6_A_6_DESENVOLVO_CUIDO_DA_MANUTENCAO_DE_REPOSITORIOS_DE_DADOS_BASEADOS_EM_STREAMING_DE_EVENTOS_COMO_DATA_LAKES_E_DATA_LAKEHOUSES', 'P6_A_7_ATUO_NA_MODELAGEM_DOS_DADOS_COM_O_OBJETIVO_DE_CRIAR_CONJUNTOS_DE_DADOS_COMO_DATA_WAREHOUSES_DATA_MARTS_ETC', 'P6_A_8_CUIDO_DA_QUALIDADE_DOS_DADOS_METADADOS_E_DICIONARIO_DE_DADOS', 'P6_A_9_NENHUMA_DAS_OPCOES_LISTADAS_REFLETEM_MEU_DIA_A_DIA', 'P6_B_QUAIS_AS_FERRAMENTAS_TECNOLOGIAS_DE_ETL_QUE_VOCE_UTILIZA_NO_TRABALHO_COMO_DATA_ENGINEER', 'P6_B_1_SCRIPTS_PYTHON', 'P6_B_2_SQL_STORED_PROCEDURES', 'P6_B_3_APACHE_AIRFLOW', 'P6_B_4_APACHE_NIFI', 'P6_B_5_LUIGI', 'P6_B_6_AWS_GLUE', 'P6_B_7_TALEND', 'P6_B_8_PENTAHO', 'P6_B_9_ALTERYX', 'P6_B_10_STITCH', 'P6_B_11_FIVETRAN', 'P6_B_12_GOOGLE_DATAFLOW', 'P6_B_13_ORACLE_DATA_INTEGRATOR', 'P6_B_14_IBM_DATASTAGE', 'P6_B_15_SAP_BW_ETL', 'P6_B_16_SQL_SERVER_INTEGRATION_SERVICES_SSIS', 'P6_B_17_SAS_DATA_INTEGRATION', 'P6_B_18_QLIK_SENSE', 'P6_B_19_KNIME', 'P6_B_20_DATABRICKS', 'P6_B_21_NAO_UTILIZO_FERRAMENTAS_DE_ETL', 'P6_C_SUA_ORGANIZACAO_POSSUI_UM_DATA_LAKE', 'P6_D_QUAL_TECNOLOGIA_UTILIZADA_COMO_PLATAFORMA_DO_DATA_LAKE', 'P6_E_SUA_ORGANIZACAO_POSSUI_UM_DATA_WAREHOUSE', 'P6_F_QUAL_TECNOLOGIA_UTILIZADA_COMO_PLATAFORMA_DO_DATA_WAREHOUSE', 'P6_G_QUAIS_AS_FERRAMENTAS_DE_GESTAO_DE_QUALIDADE_DE_DADOS_METADADOS_E_CATALOGO_DE_DADOS_VOCE_UTILIZA_NO_TRABALHO', 'P6_H_EM_QUAL_DAS_OPCOES_ABAIXO_VOCE_GASTA_A_MAIOR_PARTE_DO_SEU_TEMPO', 'P6_H_1_DESENVOLVENDO_PIPELINES_DE_DADOS_UTILIZANDO_LINGUAGENS_DE_PROGRAMACAO_COMO_PYTHON_SCALA_JAVA_ETC', 'P6_H_2_REALIZANDO_CONSTRUCOES_DE_ETL_S_EM_FERRAMENTAS_COMO_PENTAHO_TALEND_DATAFLOW_ETC', 'P6_H_3_CRIANDO_CONSULTAS_ATRAVES_DA_LINGUAGEM_SQL_PARA_EXPORTAR_INFORMACOES_E_COMPARTILHAR_COM_AS_AREAS_DE_NEGOCIO', 'P6_H_4_ATUANDO_NA_INTEGRACAO_DE_DIFERENTES_FONTES_DE_DADOS_ATRAVES_DE_PLATAFORMAS_PROPRIETARIAS_COMO_STITCH_DATA_FIVETRAN_ETC', 'P6_H_5_MODELANDO_SOLUCOES_DE_ARQUITETURA_DE_DADOS_CRIANDO_COMPONENTES_DE_INGESTAO_DE_DADOS_TRANSFORMACAO_E_RECUPERACAO_DA_INFORMACAO', 'P6_H_6_DESENVOLVENDO_CUIDANDO_DA_MANUTENCAO_DE_REPOSITORIOS_DE_DADOS_BASEADOS_EM_STREAMING_DE_EVENTOS_COMO_DATA_LAKES_E_DATA_LAKEHOUSES', 'P6_H_7_ATUANDO_NA_MODELAGEM_DOS_DADOS_COM_O_OBJETIVO_DE_CRIAR_CONJUNTOS_DE_DADOS_COMO_DATA_WAREHOUSES_DATA_MARTS_ETC', 'P6_H_8_CUIDANDO_DA_QUALIDADE_DOS_DADOS_METADADOS_E_DICIONARIO_DE_DADOS', 'P6_H_9_NENHUMA_DAS_OPCOES_LISTADAS_REFLETEM_MEU_DIA_A_DIA', 'P7_1_QUAIS_DAS_OPCOES_ABAIXO_FAZEM_PARTE_DA_SUA_ROTINA_NO_TRABALHO_ATUAL_COM_ANALISE_DE_DADOS', 'P7_A_1_PROCESSO_E_ANALISO_DADOS_UTILIZANDO_LINGUAGENS_DE_PROGRAMACAO_COMO_PYTHON_R_ETC', 'P7_A_2_REALIZO_CONSTRUCOES_DE_DASHBOARDS_EM_FERRAMENTAS_DE_BI_COMO_POWERBI_TABLEAU_LOOKER_QLIK_ETC', 'P7_A_3_CRIO_CONSULTAS_ATRAVES_DA_LINGUAGEM_SQL_PARA_EXPORTAR_INFORMACOES_E_COMPARTILHAR_COM_AS_AREAS_DE_NEGOCIO', 'P7_A_4_UTILIZO_API_S_PARA_EXTRAIR_DADOS_E_COMPLEMENTAR_MINHAS_ANALISES', 'P7_A_5_REALIZO_EXPERIMENTOS_E_ESTUDOS_UTILIZANDO_METODOLOGIAS_ESTATISTICAS_COMO_TESTE_DE_HIPOTESE_MODELOS_DE_REGRESSAO_ETC', 'P7_A_6_DESENVOLVO_CUIDO_DA_MANUTENCAO_DE_ETL_S_UTILIZANDO_TECNOLOGIAS_COMO_TALEND_PENTAHO_AIRFLOW_DATAFLOW_ETC', 'P7_A_7_ATUO_NA_MODELAGEM_DOS_DADOS_COM_O_OBJETIVO_DE_CRIAR_CONJUNTOS_DE_DADOS_DATA_WAREHOUSES_DATA_MARTS_ETC', 'P7_A_8_DESENVOLVO_CUIDO_DA_MANUTENCAO_DE_PLANILHAS_PARA_ATENDER_AS_AREAS_DE_NEGOCIO', 'P7_A_9_UTILIZO_FERRAMENTAS_AVANCADAS_DE_ESTATISTICA_COMO_SASS_PSS_STATA_ETC', 'P7_A_10_NENHUMA_DAS_OPCOES_LISTADAS_REFLETEM_MEU_DIA_A_DIA', 'P7_B_QUAIS_AS_FERRAMENTAS_TECNOLOGIAS_DE_ETL_QUE_VOCE_UTILIZA_NO_TRABALHO_COMO_DATA_ANALYST', 'P7_B_1_SCRIPTS_PYTHON', 'P7_B_2_SQL_STORED_PROCEDURES', 'P7_B_3_APACHE_AIRFLOW', 'P7_B_4_APACHE_NIFI', 'P7_B_5_LUIGI', 'P7_B_6_AWS_GLUE', 'P7_B_7_TALEND', 'P7_B_8_PENTAHO', 'P7_B_9_ALTERYX', 'P7_B_10_STITCH', 'P7_B_11_FIVETRAN', 'P7_B_12_GOOGLE_DATAFLOW', 'P7_B_13_ORACLE_DATA_INTEGRATOR', 'P7_B_14_IBM_DATASTAGE', 'P7_B_15_SAP_BW_ETL', 'P7_B_16_SQL_SERVER_INTEGRATION_SERVICES_SSIS', 'P7_B_17_SAS_DATA_INTEGRATION', 'P7_B_18_QLIK_SENSE', 'P7_B_19_KNIME', 'P7_B_20_DATABRICKS', 'P7_B_21_NAO_UTILIZO_FERRAMENTAS_DE_ETL', 'P7_C_SUA_EMPRESA_UTILIZA_ALGUMA_DAS_FERRAMENTAS_LISTADAS_PARA_DAR_MAIS_AUTONOMIA_EM_ANALISE_DE_DADOS_PARA_AS_AREAS_DE_NEGOCIO', 'P7_C_1_FERRAMENTAS_DE_AUTOML_COMO_H2O_AI_DATA_ROBOT_BIGML_ETC', 'P7_C_2_POINT_AND_CLICK_ANALYTICS_COMO_ALTERYX', 'KNIME', 'RAPIDMINER_ETC', 'P7_C_3_PRODUCT_METRICTS_INSIGHTS_COMO_MIXPANEL_AMPLITUDE_ADOBE_ANALYTICS', 'P7_C_4_FERRAMENTAS_DE_ANALISE_DENTRO_DE_FERRAMENTAS_DE_CRM_COMO_SALESFORCE_EINSTEIN_ANAYTICS_OU_ZENDESK_DASHBOARDS', 'P7_C_5_MINHA_EMPRESA_NAO_UTILIZA_ESSAS_FERRAMENTAS', 'P7_C_6_NAO_SEI_INFORMAR', 'P7_D_EM_QUAL_DAS_OPCOES_ABAIXO_VOCE_GASTA_A_MAIOR_PARTE_DO_SEU_TEMPO_DE_TRABALHO', 'P7_D_1_PROCESSANDO_E_ANALISANDO_DADOS_UTILIZANDO_LINGUAGENS_DE_PROGRAMACAO_COMO_PYTHON_R_ETC', 'P7_D_2_REALIZANDO_CONSTRUCOES_DE_DASHBOARDS_EM_FERRAMENTAS_DE_BI_COMO_POWERBI_TABLEAU_LOOKER_QLIK_ETC', 'P7_D_3_CRIANDO_CONSULTAS_ATRAVES_DA_LINGUAGEM_SQL_PARA_EXPORTAR_INFORMACOES_E_COMPARTILHAR_COM_AS_AREAS_DE_NEGOCIO', 'P7_D_4_UTILIZANDO_API_S_PARA_EXTRAIR_DADOS_E_COMPLEMENTAR_MINHAS_ANALISES', 'P7_D_5_REALIZANDO_EXPERIMENTOS_E_ESTUDOS_UTILIZANDO_METODOLOGIAS_ESTATISTICAS_COMO_TESTE_DE_HIPOTESE_MODELOS_DE_REGRESSAO_ETC', 'P7_D_6_DESENVOLVENDO_CUIDANDO_DA_MANUTENCAO_DE_ETL_S_UTILIZANDO_TECNOLOGIAS_COMO_TALEND_PENTAHO_AIRFLOW_DATAFLOW_ETC', 'P7_D_7_ATUANDO_NA_MODELAGEM_DOS_DADOS_COM_O_OBJETIVO_DE_CRIAR_CONJUNTOS_DE_DADOS_DATA_WAREHOUSES_DATA_MARTS_ETC', 'P7_D_8_DESENVOLVENDO_CUIDANDO_DA_MANUTENCAO_DE_PLANILHAS_DO_EXCEL_OU_GOOGLE_SHEETS_PARA_ATENDER_AS_AREAS_DE_NEGOCIO', 'P7_D_9_UTILIZANDO_FERRAMENTAS_AVANCADAS_DE_ESTATISTICA_COMO_SAS_SPSS_STATA_ETC_PARA_REALIZAR_ANALISES', 'P7_D_10_NENHUMA_DAS_OPCOES_LISTADAS_REFLETEM_MEU_DIA_A_DIA', 'P8_A_QUAIS_DAS_OPCOES_ABAIXO_FAZEM_PARTE_DA_SUA_ROTINA_NO_TRABALHO_ATUAL_COM_CIENCIA_DE_DADOS', 'P8_A_1_ESTUDOS_AD_HOC_COM_O_OBJETIVO_DE_CONFIRMAR_HIPOTESES_REALIZAR_MODELOS_PREDITIVOS_FORECASTS_ANALISE_DE_CLUSTER_PARA_RESOLVER_PROBLEMAS_PONTUAIS_E_RESPONDER_PERGUNTAS_DAS_AREAS_DE_NEGOCIO', 'P8_A_2_SOU_RESPONSAVEL_PELA_COLETA_E_LIMPEZA_DOS_DADOS_QUE_USO_PARA_ANALISE_E_MODELAGEM', 'P8_A_3_SOU_RESPONSAVEL_POR_ENTRAR_EM_CONTATO_COM_OS_TIMES_DE_NEGOCIO_PARA_DEFINICAO_DO_PROBLEMA_IDENTIFICAR_A_SOLUCAO_E_APRESENTACAO_DE_RESULTADOS', 'P8_A_4_DESENVOLVO_MODELOS_DE_MACHINE_LEARNING_COM_O_OBJETIVO_DE_COLOCAR_EM_PRODUCAO_EM_SISTEMAS_PRODUTOS_DE_DADOS', 'P8_A_5_SOU_RESPONSAVEL_POR_COLOCAR_MODELOS_EM_PRODUCAO_CRIAR_OS_PIPELINES_DE_DADOS_APIS_DE_CONSUMO_E_MONITORAMENTO', 'P8_A_6_CUIDO_DA_MANUTENCAO_DE_MODELOS_DE_MACHINE_LEARNING_JA_EM_PRODUCAO_ATUANDO_NO_MONITORAMENTO_AJUSTES_E_REFATORACAO_QUANDO_NECESSARIO', 'P8_A_7_REALIZO_CONSTRUCOES_DE_DASHBOARDS_EM_FERRAMENTAS_DE_BI_COMO_POWERBI_TABLEAU_LOOKER_QLIK_ETC', 'P8_A_8_UTILIZO_FERRAMENTAS_AVANCADAS_DE_ESTATISTICA_COMO_SAS_SPSS_STATA_ETC_PARA_REALIZAR_ANALISES_ESTATISTICAS_E_AJUSTAR_MODELOS', 'P8_A_9_CRIO_E_DOU_MANUTENCAO_EM_ETLS_DAGS_E_AUTOMACOES_DE_PIPELINES_DE_DADOS', 'P8_A_10_CRIO_E_GERENCIO_SOLUCOES_DE_FEATURE_STORE_E_CULTURA_DE_MLOPS', 'P8_A_11_SOU_RESPONSAVEL_POR_CRIAR_E_MANTER_A_INFRA_QUE_MEUS_MODELOS_E_SOLUCOES_RODAM_CLUSTERS_SERVIDORES_API_CONTAINERS_ETC', 'P8_A_12_TREINO_E_APLICO_LLM_S_PARA_SOLUCIONAR_PROBLEMAS_DE_NEGOCIO', 'P8_B_QUAIS_AS_TECNICAS_E_METODOS_LISTADOS_ABAIXO_VOCE_COSTUMA_UTILIZAR_NO_TRABALHO', 'P8_B_1_UTILIZO_MODELOS_DE_REGRESSAO_LINEAR_LOGISTICA_GLM', 'P8_B_2_UTILIZO_REDES_NEURAIS_OU_MODELOS_BASEADOS_EM_ARVORE_PARA_CRIAR_MODELOS_DE_CLASSIFICACAO', 'P8_B_3_DESENVOLVO_SISTEMAS_DE_RECOMENDACAO_RECSYS', 'P8_B_4_UTILIZO_METODOS_ESTATISTICOS_BAYESIANOS_PARA_ANALISAR_DADOS', 'P8_B_5_UTILIZO_TECNICAS_DE_NLP_NATURAL_LANGUAGE_PROCESSING_PARA_ANALISAR_DADOS_NAO_ESTRUTURADOS', 'P8_B_6_UTILIZO_METODOS_ESTATISTICOS_CLASSICOS_TESTES_DE_HIPOTESE_ANALISE_MULTIVARIADA_SOBREVIVENCIA_DADOS_LONGITUDINAIS_INFERENCIA_ESTATISTICA_PARA_ANALISAR_DADOS', 'P8_B_7_UTILIZO_CADEIAS_DE_MARKOV_OU_HMM_S_PARA_REALIZAR_ANALISES_DE_DADOS', 'P8_B_8_DESENVOLVO_TECNICAS_DE_CLUSTERIZACAO_K_MEANS_SPECTRAL_DBSCAN_ETC', 'P8_B_9_REALIZO_PREVISOES_ATRAVES_DE_MODELOS_DE_SERIES_TEMPORAIS_TIME_SERIES', 'P8_B_10_UTILIZO_MODELOS_DE_REINFORCEMENT_LEARNING_APRENDIZADO_POR_REFORCO', 'P8_B_11_UTILIZO_MODELOS_DE_MACHINE_LEARNING_PARA_DETECCAO_DE_FRAUDE', 'P8_B_12_UTILIZO_METODOS_DE_VISAO_COMPUTACIONAL', 'P8_B_13_UTILIZO_MODELOS_DE_DETECCAO_DE_CHURN', 'P8_B_14_UTILIZO_LLM_S_PARA_SOLUCIONAR_PROBLEMAS_DE_NEGOCIO', 'P8_3_QUAIS_DESSAS_TECNOLOGIAS_FAZEM_PARTE_DO_SEU_DIA_A_DIA_COMO_CIENTISTA_DE_DADOS', 'P8_C_1_FERRAMENTAS_DE_BI_POWERBI_LOOKER_TABLEAU_QLIK_ETC', 'P8_C_2_PLANILHAS_EXCEL_GOOGLE_SHEETS_ETC', 'P8_C_3_AMBIENTES_DE_DESENVOLVIMENTO_LOCAL_R_STUDIO_JUPYTERLAB_ANACONDA', 'P8_C_4_AMBIENTES_DE_DESENVOLVIMENTO_NA_NUVEM_GOOGLE_COLAB_AWS_SAGEMAKER_KAGGLE_NOTEBOOKS_ETC', 'P8_C_5_FERRAMENTAS_DE_AUTOML_DATAROBOT_H2O_AUTO_KERAS_ETC', 'P8_C_6_FERRAMENTAS_DE_ETL_APACHE_AIRFLOW_NIFI_STITCH_FIVETRAN_PENTAHO_ETC', 'P8_C_7_PLATAFORMAS_DE_MACHINE_LEARNING_TENSORFLOW_AZURE_MACHINE_LEARNING_KUBEFLOW_ETC', 'P8_C_8_FEATURE_STORE_FEAST_HOPSWORKS_AWS_FEATURE_STORE_DATABRICKS_FEATURE_STORE_ETC', 'P8_C_9_SISTEMAS_DE_CONTROLE_DE_VERSAO_GITHUB_DVC_NEPTUNE_GITLAB_ETC', 'P8_C_10_PLATAFORMAS_DE_DATA_APPS_STREAMLIT_SHINY_PLOTLY_DASH_ETC', 'P8_C_11_FERRAMENTAS_DE_ESTATISTICA_AVANCADA_COMO_SPSS_SAS_ETC', 'P8_D_EM_QUAL_DAS_OPCOES_ABAIXO_VOCE_GASTA_A_MAIOR_PARTE_DO_SEU_TEMPO_NO_TRABALHO', 'P8_D_1_ESTUDOS_AD_HOC_COM_O_OBJETIVO_DE_CONFIRMAR_HIPOTESES_REALIZAR_MODELOS_PREDITIVOS_FORECASTS_ANALISE_DE_CLUSTER_PARA_RESOLVER_PROBLEMAS_PONTUAIS_E_RESPONDER_PERGUNTAS_DAS_AREAS_DE_NEGOCIO', 'P8_D_2_COLETANDO_E_LIMPANDO_OS_DADOS_QUE_USO_PARA_ANALISE_E_MODELAGEM', 'P8_D_3_ENTRANDO_EM_CONTATO_COM_OS_TIMES_DE_NEGOCIO_PARA_DEFINICAO_DO_PROBLEMA_IDENTIFICAR_A_SOLUCAO_E_APRESENTACAO_DE_RESULTADOS', 'P8_D_4_DESENVOLVENDO_MODELOS_DE_MACHINE_LEARNING_COM_O_OBJETIVO_DE_COLOCAR_EM_PRODUCAO_EM_SISTEMAS_PRODUTOS_DE_DADOS', 'P8_D_5_COLOCANDO_MODELOS_EM_PRODUCAO_CRIANDO_OS_PIPELINES_DE_DADOS_APIS_DE_CONSUMO_E_MONITORAMENTO', 'P8_D_6_CUIDANDO_DA_MANUTENCAO_DE_MODELOS_DE_MACHINE_LEARNING_JA_EM_PRODUCAO_ATUANDO_NO_MONITORAMENTO_AJUSTES_E_REFATORACAO_QUANDO_NECESSARIO', 'P8_D_7_REALIZANDO_CONSTRUCOES_DE_DASHBOARDS_EM_FERRAMENTAS_DE_BI_COMO_POWERBI_TABLEAU_LOOKER_QLIK_ETC', 'P8_D_8_UTILIZANDO_FERRAMENTAS_AVANCADAS_DE_ESTATISTICA_COMO_SAS_SPSS_STATA_ETC_PARA_REALIZAR_ANALISES', 'P8_D_9_CRIANDO_E_DANDO_MANUTENCAO_EM_ETLS_DAGS_E_AUTOMACOES_DE_PIPELINES_DE_DADOS', 'P8_D_10_CRIANDO_E_GERENCIANDO_SOLUCOES_DE_FEATURE_STORE_E_CULTURA_DE_MLOPS', 'P8_D_11_CRIANDO_E_MANTENDO_A_INFRA_QUE_MEUS_MODELOS_E_SOLUCOES_RODAM_CLUSTERS_SERVIDORES_API_CONTAINERS_ETC', 'P8_D_12_TREINANDO_E_APLICANDO_LLM_S_PARA_SOLUCIONAR_PROBLEMAS_DE_NEGOCIO']\nroot\n |-- P0_ID: string (nullable = true)\n |-- P1_A_IDADE: integer (nullable = true)\n |-- P1_A_1_FAIXA_IDADE: string (nullable = true)\n |-- P1_B_GENERO: string (nullable = true)\n |-- P1_C_COR_RACA_ETNIA: string (nullable = true)\n |-- P1_D_PCD: string (nullable = true)\n |-- P1_E_EXPERIENCIA_PROFISSIONAL_PREJUDICADA: string (nullable = true)\n |-- P1_E_1_NAO_ACREDITO_QUE_MINHA_EXPERIENCIA_PROFISSIONAL_SEJA_AFETADA: integer (nullable = true)\n |-- P1_E_2_EXPERIENCIA_PREJUDICADA_DEVIDO_A_MINHA_COR_RACA_ETNIA: integer (nullable = true)\n |-- P1_E_3_EXPERIENCIA_PREJUDICADA_DEVIDO_A_MINHA_IDENTIDADE_DE_GENERO: integer (nullable = true)\n |-- P1_E_4_EXPERIENCIA_PREJUDICADA_DEVIDO_AO_FATO_DE_SER_PCD: integer (nullable = true)\n |-- P1_F_ASPECTOS_PREJUDICADOS: string (nullable = true)\n |-- P1_F_1_QUANTIDADE_DE_OPORTUNIDADES_DE_EMPREGO_VAGAS_RECEBIDAS: string (nullable = true)\n |-- P1_F_2_SENIORIDADE_DAS_VAGAS_RECEBIDAS_EM_RELACAO_A_SUA_EXPERIENCIA: string (nullable = true)\n |-- P1_F_3_APROVACAO_EM_PROCESSOS_SELETIVOS_ENTREVISTAS: integer (nullable = true)\n |-- P1_F_4_OPORTUNIDADES_DE_PROGRESSAO_DE_CARREIRA: integer (nullable = true)\n |-- P1_F_5_VELOCIDADE_DE_PROGRESSAO_DE_CARREIRA: integer (nullable = true)\n |-- P1_F_6_NIVEL_DE_COBRANCA_NO_TRABALHO_STRESS_NO_TRABALHO: integer (nullable = true)\n |-- P1_F_7_ATENCAO_DADA_DIANTE_DAS_MINHAS_OPINIOES_E_IDEIAS: integer (nullable = true)\n |-- P1_F_8_RELACAO_COM_OUTROS_MEMBROS_DA_EMPRESA_EM_MOMENTOS_DE_TRABALHO: integer (nullable = true)\n |-- P1_F_9_RELACAO_COM_OUTROS_MEMBROS_DA_EMPRESA_EM_MOMENTOS_DE_INTEGRACAO_E_OUTROS_MOMENTOS_FORA_DO_TRABALHO: integer (nullable = true)\n |-- P1_G_VIVE_NO_BRASIL: integer (nullable = true)\n |-- P1_I_ESTADO_ONDE_MORA: string (nullable = true)\n |-- P1_I_1_UF_ONDE_MORA: string (nullable = true)\n |-- P1_I_2_REGIAO_ONDE_MORA: string (nullable = true)\n |-- P1_J_MUDOU_DE_ESTADO: string (nullable = true)\n |-- P1_K_REGIAO_DE_ORIGEM: string (nullable = true)\n |-- P1_L_NIVEL_DE_ENSINO: string (nullable = true)\n |-- P1_M_AREA_DE_FORMACAO: string (nullable = true)\n |-- P2_A_QU\n\n*** WARNING: max output size exceeded, skipping output. ***\n\nger (nullable = true)\n |-- P3_F_5_AI_GENERATIVA_E_LLMS_PARA_MELHORAR_PRODUTOS_INTERNOS_PARA_OS_COLABORADORES: integer (nullable = true)\n |-- P3_F_6_IA_GENERATIVA_E_LLMS_COMO_PRINCIPAL_FRENTE_DO_NEGOCIO: integer (nullable = true)\n |-- P3_F_7_IA_GENERATIVA_E_LLMS_NAO_E_PRIORIDADE: integer (nullable = true)\n |-- P3_F_8_NAO_SEI_OPINAR_SOBRE_O_USO_DE_IA_GENERATIVA_E_LLMS_NA_EMPRESA: integer (nullable = true)\n |-- P3_G_MOTIVOS_QUE_LEVAM_A_EMPRESA_A_NAO_USAR_AI_GENRATIVA_E_LLMS: string (nullable = true)\n |-- P3_G_1_FALTA_DE_COMPREENSAO_DOS_CASOS_DE_USO: integer (nullable = true)\n |-- P3_G_2_FALTA_DE_CONFIABILIDADE_DAS_SAIDAS_ALUCINACAO_DOS_MODELOS: integer (nullable = true)\n |-- P3_G_3_INCERTEZA_EM_RELACAO_A_REGULAMENTACAO: integer (nullable = true)\n |-- P3_G_4_PREOCUPACOES_COM_SEGURANCA_E_PRIVACIDADE_DE_DADOS: integer (nullable = true)\n |-- P3_G_5_RETORNO_SOBRE_INVESTIMENTO_ROI_NAO_COMPROVADO_DE_IA_GENERATIVA: integer (nullable = true)\n |-- P3_G_6_DADOS_DA_EMPRESA_NAO_ESTAO_PRONTOS_PARA_USO_DE_IA_GENERATIVA: integer (nullable = true)\n |-- P3_G_7_FALTA_DE_EXPERTISE_OU_FALTA_DE_RECURSOS: integer (nullable = true)\n |-- P3_G_8_ALTA_DIRECAO_DA_EMPRESA_NAO_VE_VALOR_OU_NAO_VE_COMO_PRIORIDADE: integer (nullable = true)\n |-- P3_G_9_PREOCUPACOES_COM_PROPRIEDADE_INTELECTUAL: integer (nullable = true)\n |-- P4_A_MESMO_QUE_ESSE_NAO_SEJA_SEU_CARGO_FORMAL_VOCE_CONSIDERA_QUE_SUA_ATUACAO_NO_DIA_A_DIA_REFLETE_ALGUMA_DAS_OPCOES_LISTADAS_ABAIXO: string (nullable = true)\n |-- P4_A_1_ATUACAO: string (nullable = true)\n |-- P4_B_QUAIS_DAS_FONTES_DE_DADOS_LISTADAS_VOCE_JA_ANALISOU_OU_PROCESSOU_NO_TRABALHO: string (nullable = true)\n |-- P4_B_1_DADOS_RELACIONAIS_ESTRUTURADOS_EM_BANCOS_SQL: string (nullable = true)\n |-- P4_B_2_DADOS_ARMAZENADOS_EM_BANCOS_NOSQL: string (nullable = true)\n |-- P4_B_3_IMAGENS: integer (nullable = true)\n |-- P4_B_4_TEXTOS_DOCUMENTOS: integer (nullable = true)\n |-- P4_B_5_VIDEOS: integer (nullable = true)\n |-- P4_B_6_AUDIOS: integer (nullable = true)\n |-- P4_B_7_PLANILHAS: integer (nullable = true)\n |-- P4_B_8_DADOS_GEOREFERENCIADOS: integer (nullable = true)\n |-- P4_C_ENTRE_AS_FONTES_DE_DADOS_LISTADAS_QUAIS_VOCE_UTILIZA_NA_MAIOR_PARTE_DO_TEMPO: string (nullable = true)\n |-- P4_C_1_DADOS_RELACIONAIS_ESTRUTURADOS_EM_BANCOS_SQL: integer (nullable = true)\n |-- P4_C_2_DADOS_ARMAZENADOS_EM_BANCOS_NOSQL: string (nullable = true)\n |-- P4_C_3_IMAGENS: integer (nullable = true)\n |-- P4_C_4_TEXTOS_DOCUMENTOS: integer (nullable = true)\n |-- P4_C_5_VIDEOS: integer (nullable = true)\n |-- P4_C_6_AUDIOS: integer (nullable = true)\n |-- P4_C_7_PLANILHAS: integer (nullable = true)\n |-- P4_C_8_DADOS_GEOREFERENCIADOS: integer (nullable = true)\n |-- P4_D_QUAIS_DAS_LINGUAGENS_LISTADAS_ABAIXO_VOCE_UTILIZA_NO_TRABALHO: string (nullable = true)\n |-- P4_D_1_SQL: integer (nullable = true)\n |-- P4_D_2_R: string (nullable = true)\n |-- P4_D_3_PYTHON: integer (nullable = true)\n |-- P4_D_4_C_C_C: integer (nullable = true)\n |-- P4_D_5_NET: integer (nullable = true)\n |-- P4_D_6_JAVA: integer (nullable = true)\n |-- P4_D_7_JULIA: integer (nullable = true)\n |-- P4_D_8_SAS_STATA: integer (nullable = true)\n |-- P4_D_9_VISUAL_BASIC_VBA: integer (nullable = true)\n |-- P4_D_10_SCALA: integer (nullable = true)\n |-- P4_D_11_MATLAB: integer (nullable = true)\n |-- P4_D_12_RUST: integer (nullable = true)\n |-- P4_D_13_PHP: integer (nullable = true)\n |-- P4_D_14_JAVASCRIPT: integer (nullable = true)\n |-- P4_D_15_NAO_UTILIZO_NENHUMA_LINGUAGEM: integer (nullable = true)\n |-- P4_E_ENTRE_AS_LINGUAGENS_LISTADAS_ABAIXO_QUAL_E_A_QUE_VOCE_MAIS_UTILIZA_NO_TRABALHO: string (nullable = true)\n |-- P4_F_ENTRE_AS_LINGUAGENS_LISTADAS_ABAIXO_QUAL_E_A_SUA_PREFERIDA: string (nullable = true)\n |-- P4_G_QUAIS_DOS_BANCOS_DE_DADOS_FONTES_DE_DADOS_LISTADOS_ABAIXO_VOCE_UTILIZA_NO_TRABALHO: string (nullable = true)\n |-- P4_G_1_MYSQL: integer (nullable = true)\n |-- P4_G_2_ORACLE: string (nullable = true)\n |-- P4_G_3_SQL_SERVER: integer (nullable = true)\n |-- P4_G_4_AMAZON_AURORA_OU_RDS: integer (nullable = true)\n |-- P4_G_5_DYNAMODB: integer (nullable = true)\n |-- P4_G_6_COACHDB: integer (nullable = true)\n |-- P4_G_7_CASSANDRA: integer (nullable = true)\n |-- P4_G_8_MONGODB: integer (nullable = true)\n |-- P4_G_9_MARIADB: integer (nullable = true)\n |-- P4_G_10_DATOMIC: integer (nullable = true)\n |-- P4_G_11_S3: integer (nullable = true)\n |-- P4_G_12_POSTGRESQL: integer (nullable = true)\n |-- P4_G_13_ELASTICSEARCH: integer (nullable = true)\n |-- P4_G_14_DB2: integer (nullable = true)\n |-- P4_G_15_MICROSOFT_ACCESS: integer (nullable = true)\n |-- P4_G_16_SQLITE: integer (nullable = true)\n |-- P4_G_17_SYBASE: integer (nullable = true)\n |-- P4_G_18_FIREBASE: integer (nullable = true)\n |-- P4_G_19_VERTICA: integer (nullable = true)\n |-- P4_G_20_REDIS: integer (nullable = true)\n |-- P4_G_21_NEO4J: integer (nullable = true)\n |-- P4_G_22_GOOGLE_BIGQUERY: integer (nullable = true)\n |-- P4_G_23_GOOGLE_FIRESTORE: integer (nullable = true)\n |-- P4_G_24_AMAZON_REDSHIFT: integer (nullable = true)\n |-- P4_G_25_AMAZON_ATHENA: integer (nullable = true)\n |-- P4_G_26_SNOWFLAKE: integer (nullable = true)\n |-- P4_G_27_DATABRICKS: integer (nullable = true)\n |-- P4_G_28_HBASE: integer (nullable = true)\n |-- P4_G_29_PRESTO: integer (nullable = true)\n |-- P4_G_30_SPLUNK: integer (nullable = true)\n |-- P4_G_31_SAP_HANA: integer (nullable = true)\n |-- P4_G_32_HIVE: integer (nullable = true)\n |-- P4_G_33_FIREBIRD: integer (nullable = true)\n |-- P4_H_DENTRE_AS_OPCOES_LISTADAS_QUAL_SUA_CLOUD_PREFERIDA: string (nullable = true)\n |-- P4_H_1_AZURE_MICROSOFT: integer (nullable = true)\n |-- P4_H_2_AMAZON_WEB_SERVICES_AWS: string (nullable = true)\n |-- P4_H_3_GOOGLE_CLOUD_GCP: integer (nullable = true)\n |-- P4_H_4_ORACLE_CLOUD: integer (nullable = true)\n |-- P4_H_5_IBM: integer (nullable = true)\n |-- P4_H_6_SERVIDORES_ON_PREMISE_NAO_UTILIZAMOS_CLOUD: integer (nullable = true)\n |-- P4_H_7_CLOUD_PROPRIA: integer (nullable = true)\n |-- P4_I_CLOUD_PREFERIDA: string (nullable = true)\n |-- P4_J_FERRAMENTA_DE_BI_UTILIZADA_NO_DIA_A_DIA: string (nullable = true)\n |-- P4_J_1_MICROSOFT_POWERBI: string (nullable = true)\n |-- P4_J_2_QLIK_VIEW_QLIK_SENSE: string (nullable = true)\n |-- P4_J_3_TABLEAU: integer (nullable = true)\n |-- P4_J_4_METABASE: integer (nullable = true)\n |-- P4_J_5_SUPERSET: integer (nullable = true)\n |-- P4_J_6_REDASH: integer (nullable = true)\n |-- P4_J_7_LOOKER: integer (nullable = true)\n |-- P4_J_8_LOOKER_STUDIO_GOOGLE_DATA_STUDIO: integer (nullable = true)\n |-- P4_J_9_AMAZON_QUICKSIGHT: integer (nullable = true)\n |-- P4_J_10_MODE: integer (nullable = true)\n |-- P4_J_11_ALTERYX: integer (nullable = true)\n |-- P4_J_12_MICROSTRATEGY: integer (nullable = true)\n |-- P4_J_13_IBM_ANALYTICS_COGNOS: integer (nullable = true)\n |-- P4_J_14_SAP_BUSINESS_OBJECTS_SAP_ANALYTICS: integer (nullable = true)\n |-- P4_J_15_ORACLE_BUSINESS_INTELLIGENCE: integer (nullable = true)\n |-- P4_J_16_SALESFORCE_EINSTEIN_ANALYTICS: integer (nullable = true)\n |-- P4_J_17_BIRST: integer (nullable = true)\n |-- P4_J_18_SAS_VISUAL_ANALYTICS: integer (nullable = true)\n |-- P4_J_19_GRAFANA: integer (nullable = true)\n |-- P4_J_20_TIBCO_SPOTFIRE: integer (nullable = true)\n |-- P4_J_21_PENTAHO: integer (nullable = true)\n |-- P4_J_22_FAZEMOS_TODAS_AS_ANALISES_UTILIZANDO_APENAS_EXCEL_OU_PLANILHAS_DO_GOOGLE: integer (nullable = true)\n |-- P4_J_23_NAO_UTILIZO_NENHUMA_FERRAMENTA_DE_BI_NO_TRABALHO: integer (nullable = true)\n |-- P4_K_QUAL_SUA_FERRAMENTA_DE_BI_PREFERIDA: string (nullable = true)\n |-- P4_L_QUAL_O_TIPO_DE_USO_DE_AI_GENERATIVA_E_LLMS_NA_EMPRESA: string (nullable = true)\n |-- P4_L_1_COLABORADORES_USANDO_AI_GENERATIVA_DE_FORMA_INDEPENDENTE_E_DESCENTRALIZADA: string (nullable = true)\n |-- P4_L_2_DIRECIONAMENTO_CENTRALIZADO_DO_USO_DE_AI_GENERATIVA: string (nullable = true)\n |-- P4_L_3_DESENVOLVEDORES_UTILIZANDO_COPILOTS: integer (nullable = true)\n |-- P4_L_4_AI_GENERATIVA_E_LLMS_PARA_MELHORAR_PRODUTOS_EXTERNOS_PARA_OS_CLIENTES_FINAIS: integer (nullable = true)\n |-- P4_L_5_AI_GENERATIVA_E_LLMS_PARA_MELHORAR_PRODUTOS_INTERNOS_PARA_OS_COLABORADORES: integer (nullable = true)\n |-- P4_L_6_IA_GENERATIVA_E_LLMS_COMO_PRINCIPAL_FRENTE_DO_NEGOCIO: integer (nullable = true)\n |-- P4_L_7_IA_GENERATIVA_E_LLMS_NAO_E_PRIORIDADE: integer (nullable = true)\n |-- P4_L_8_NAO_SEI_OPINAR_SOBRE_O_USO_DE_IA_GENERATIVA_E_LLMS_NA_EMPRESA: integer (nullable = true)\n |-- P4_M_UTILIZA_CHATGPT_OU_LLMS_NO_TRABALHO: string (nullable = true)\n |-- P4_M_1_NAO_USO_SOLUCOES_DE_AI_GENERATIVA_COM_FOCO_EM_PRODUTIVIDADE: string (nullable = true)\n |-- P4_M_2_USO_SOLUCOES_GRATUITAS_DE_AI_GENERATIVA_COM_FOCO_EM_PRODUTIVIDADE: string (nullable = true)\n |-- P4_M_3_USO_E_PAGO_PELAS_SOLUCOES_DE_AI_GENERATIVA_COM_FOCO_EM_PRODUTIVIDADE: string (nullable = true)\n |-- P4_M_4_A_EMPRESA_QUE_TRABALHO_PAGA_PELAS_SOLUCOES_DE_AI_GENERATIVA_COM_FOCO_EM_PRODUTIVIDADE: integer (nullable = true)\n |-- P4_M_5_USO_SOLUCOES_DO_TIPO_COPILOT: integer (nullable = true)\n |-- P5_A_QUAL_SEU_OBJETIVO_NA_AREA_DE_DADOS: string (nullable = true)\n |-- P5_B_QUAL_OPORTUNIDADE_VOCE_ESTA_BUSCANDO: string (nullable = true)\n |-- P5_C_HA_QUANTO_TEMPO_VOCE_BUSCA_UMA_OPORTUNIDADE_NA_AREA_DE_DADOS: string (nullable = true)\n |-- P5_D_COMO_TEM_SIDO_A_BUSCA_POR_UM_EMPREGO_NA_AREA_DE_DADOS: string (nullable = true)\n |-- P6_A_QUAIS_DAS_OPCOES_ABAIXO_FAZEM_PARTE_DA_SUA_ROTINA_NO_TRABALHO_ATUAL_COMO_ENGENHEIRO_DE_DADOS: string (nullable = true)\n |-- P6_A_1_DESENVOLVO_PIPELINES_DE_DADOS_UTILIZANDO_LINGUAGENS_DE_PROGRAMACAO_COMO_PYTHON_SCALA_JAVA_ETC: string (nullable = true)\n |-- P6_A_2_REALIZO_CONSTRUCOES_DE_ETL_S_EM_FERRAMENTAS_COMO_PENTAHO_TALEND_DATAFLOW_ETC: integer (nullable = true)\n |-- P6_A_3_CRIO_CONSULTAS_ATRAVES_DA_LINGUAGEM_SQL_PARA_EXPORTAR_INFORMACOES_E_COMPARTILHAR_COM_AS_AREAS_DE_NEGOCIO: string (nullable = true)\n |-- P6_A_4_ATUO_NA_INTEGRACAO_DE_DIFERENTES_FONTES_DE_DADOS_ATRAVES_DE_PLATAFORMAS_PROPRIETARIAS_COMO_STITCH_DATA_FIVETRAN_ETC: integer (nullable = true)\n |-- P6_A_5_MODELO_SOLUCOES_DE_ARQUITETURA_DE_DADOS_CRIANDO_COMPONENTES_DE_INGESTAO_DE_DADOS_TRANSFORMACAO_E_RECUPERACAO_DA_INFORMACAO: integer (nullable = true)\n |-- P6_A_6_DESENVOLVO_CUIDO_DA_MANUTENCAO_DE_REPOSITORIOS_DE_DADOS_BASEADOS_EM_STREAMING_DE_EVENTOS_COMO_DATA_LAKES_E_DATA_LAKEHOUSES: integer (nullable = true)\n |-- P6_A_7_ATUO_NA_MODELAGEM_DOS_DADOS_COM_O_OBJETIVO_DE_CRIAR_CONJUNTOS_DE_DADOS_COMO_DATA_WAREHOUSES_DATA_MARTS_ETC: integer (nullable = true)\n |-- P6_A_8_CUIDO_DA_QUALIDADE_DOS_DADOS_METADADOS_E_DICIONARIO_DE_DADOS: integer (nullable = true)\n |-- P6_A_9_NENHUMA_DAS_OPCOES_LISTADAS_REFLETEM_MEU_DIA_A_DIA: integer (nullable = true)\n |-- P6_B_QUAIS_AS_FERRAMENTAS_TECNOLOGIAS_DE_ETL_QUE_VOCE_UTILIZA_NO_TRABALHO_COMO_DATA_ENGINEER: string (nullable = true)\n |-- P6_B_1_SCRIPTS_PYTHON: string (nullable = true)\n |-- P6_B_2_SQL_STORED_PROCEDURES: integer (nullable = true)\n |-- P6_B_3_APACHE_AIRFLOW: string (nullable = true)\n |-- P6_B_4_APACHE_NIFI: integer (nullable = true)\n |-- P6_B_5_LUIGI: integer (nullable = true)\n |-- P6_B_6_AWS_GLUE: integer (nullable = true)\n |-- P6_B_7_TALEND: integer (nullable = true)\n |-- P6_B_8_PENTAHO: integer (nullable = true)\n |-- P6_B_9_ALTERYX: integer (nullable = true)\n |-- P6_B_10_STITCH: integer (nullable = true)\n |-- P6_B_11_FIVETRAN: integer (nullable = true)\n |-- P6_B_12_GOOGLE_DATAFLOW: integer (nullable = true)\n |-- P6_B_13_ORACLE_DATA_INTEGRATOR: integer (nullable = true)\n |-- P6_B_14_IBM_DATASTAGE: integer (nullable = true)\n |-- P6_B_15_SAP_BW_ETL: integer (nullable = true)\n |-- P6_B_16_SQL_SERVER_INTEGRATION_SERVICES_SSIS: integer (nullable = true)\n |-- P6_B_17_SAS_DATA_INTEGRATION: integer (nullable = true)\n |-- P6_B_18_QLIK_SENSE: integer (nullable = true)\n |-- P6_B_19_KNIME: integer (nullable = true)\n |-- P6_B_20_DATABRICKS: integer (nullable = true)\n |-- P6_B_21_NAO_UTILIZO_FERRAMENTAS_DE_ETL: integer (nullable = true)\n |-- P6_C_SUA_ORGANIZACAO_POSSUI_UM_DATA_LAKE: integer (nullable = true)\n |-- P6_D_QUAL_TECNOLOGIA_UTILIZADA_COMO_PLATAFORMA_DO_DATA_LAKE: string (nullable = true)\n |-- P6_E_SUA_ORGANIZACAO_POSSUI_UM_DATA_WAREHOUSE: string (nullable = true)\n |-- P6_F_QUAL_TECNOLOGIA_UTILIZADA_COMO_PLATAFORMA_DO_DATA_WAREHOUSE: string (nullable = true)\n |-- P6_G_QUAIS_AS_FERRAMENTAS_DE_GESTAO_DE_QUALIDADE_DE_DADOS_METADADOS_E_CATALOGO_DE_DADOS_VOCE_UTILIZA_NO_TRABALHO: string (nullable = true)\n |-- P6_H_EM_QUAL_DAS_OPCOES_ABAIXO_VOCE_GASTA_A_MAIOR_PARTE_DO_SEU_TEMPO: string (nullable = true)\n |-- P6_H_1_DESENVOLVENDO_PIPELINES_DE_DADOS_UTILIZANDO_LINGUAGENS_DE_PROGRAMACAO_COMO_PYTHON_SCALA_JAVA_ETC: string (nullable = true)\n |-- P6_H_2_REALIZANDO_CONSTRUCOES_DE_ETL_S_EM_FERRAMENTAS_COMO_PENTAHO_TALEND_DATAFLOW_ETC: string (nullable = true)\n |-- P6_H_3_CRIANDO_CONSULTAS_ATRAVES_DA_LINGUAGEM_SQL_PARA_EXPORTAR_INFORMACOES_E_COMPARTILHAR_COM_AS_AREAS_DE_NEGOCIO: string (nullable = true)\n |-- P6_H_4_ATUANDO_NA_INTEGRACAO_DE_DIFERENTES_FONTES_DE_DADOS_ATRAVES_DE_PLATAFORMAS_PROPRIETARIAS_COMO_STITCH_DATA_FIVETRAN_ETC: integer (nullable = true)\n |-- P6_H_5_MODELANDO_SOLUCOES_DE_ARQUITETURA_DE_DADOS_CRIANDO_COMPONENTES_DE_INGESTAO_DE_DADOS_TRANSFORMACAO_E_RECUPERACAO_DA_INFORMACAO: integer (nullable = true)\n |-- P6_H_6_DESENVOLVENDO_CUIDANDO_DA_MANUTENCAO_DE_REPOSITORIOS_DE_DADOS_BASEADOS_EM_STREAMING_DE_EVENTOS_COMO_DATA_LAKES_E_DATA_LAKEHOUSES: integer (nullable = true)\n |-- P6_H_7_ATUANDO_NA_MODELAGEM_DOS_DADOS_COM_O_OBJETIVO_DE_CRIAR_CONJUNTOS_DE_DADOS_COMO_DATA_WAREHOUSES_DATA_MARTS_ETC: integer (nullable = true)\n |-- P6_H_8_CUIDANDO_DA_QUALIDADE_DOS_DADOS_METADADOS_E_DICIONARIO_DE_DADOS: integer (nullable = true)\n |-- P6_H_9_NENHUMA_DAS_OPCOES_LISTADAS_REFLETEM_MEU_DIA_A_DIA: integer (nullable = true)\n |-- P7_1_QUAIS_DAS_OPCOES_ABAIXO_FAZEM_PARTE_DA_SUA_ROTINA_NO_TRABALHO_ATUAL_COM_ANALISE_DE_DADOS: string (nullable = true)\n |-- P7_A_1_PROCESSO_E_ANALISO_DADOS_UTILIZANDO_LINGUAGENS_DE_PROGRAMACAO_COMO_PYTHON_R_ETC: string (nullable = true)\n |-- P7_A_2_REALIZO_CONSTRUCOES_DE_DASHBOARDS_EM_FERRAMENTAS_DE_BI_COMO_POWERBI_TABLEAU_LOOKER_QLIK_ETC: string (nullable = true)\n |-- P7_A_3_CRIO_CONSULTAS_ATRAVES_DA_LINGUAGEM_SQL_PARA_EXPORTAR_INFORMACOES_E_COMPARTILHAR_COM_AS_AREAS_DE_NEGOCIO: string (nullable = true)\n |-- P7_A_4_UTILIZO_API_S_PARA_EXTRAIR_DADOS_E_COMPLEMENTAR_MINHAS_ANALISES: integer (nullable = true)\n |-- P7_A_5_REALIZO_EXPERIMENTOS_E_ESTUDOS_UTILIZANDO_METODOLOGIAS_ESTATISTICAS_COMO_TESTE_DE_HIPOTESE_MODELOS_DE_REGRESSAO_ETC: integer (nullable = true)\n |-- P7_A_6_DESENVOLVO_CUIDO_DA_MANUTENCAO_DE_ETL_S_UTILIZANDO_TECNOLOGIAS_COMO_TALEND_PENTAHO_AIRFLOW_DATAFLOW_ETC: integer (nullable = true)\n |-- P7_A_7_ATUO_NA_MODELAGEM_DOS_DADOS_COM_O_OBJETIVO_DE_CRIAR_CONJUNTOS_DE_DADOS_DATA_WAREHOUSES_DATA_MARTS_ETC: integer (nullable = true)\n |-- P7_A_8_DESENVOLVO_CUIDO_DA_MANUTENCAO_DE_PLANILHAS_PARA_ATENDER_AS_AREAS_DE_NEGOCIO: integer (nullable = true)\n |-- P7_A_9_UTILIZO_FERRAMENTAS_AVANCADAS_DE_ESTATISTICA_COMO_SASS_PSS_STATA_ETC: integer (nullable = true)\n |-- P7_A_10_NENHUMA_DAS_OPCOES_LISTADAS_REFLETEM_MEU_DIA_A_DIA: integer (nullable = true)\n |-- P7_B_QUAIS_AS_FERRAMENTAS_TECNOLOGIAS_DE_ETL_QUE_VOCE_UTILIZA_NO_TRABALHO_COMO_DATA_ANALYST: string (nullable = true)\n |-- P7_B_1_SCRIPTS_PYTHON: string (nullable = true)\n |-- P7_B_2_SQL_STORED_PROCEDURES: string (nullable = true)\n |-- P7_B_3_APACHE_AIRFLOW: string (nullable = true)\n |-- P7_B_4_APACHE_NIFI: integer (nullable = true)\n |-- P7_B_5_LUIGI: integer (nullable = true)\n |-- P7_B_6_AWS_GLUE: integer (nullable = true)\n |-- P7_B_7_TALEND: integer (nullable = true)\n |-- P7_B_8_PENTAHO: integer (nullable = true)\n |-- P7_B_9_ALTERYX: integer (nullable = true)\n |-- P7_B_10_STITCH: integer (nullable = true)\n |-- P7_B_11_FIVETRAN: integer (nullable = true)\n |-- P7_B_12_GOOGLE_DATAFLOW: integer (nullable = true)\n |-- P7_B_13_ORACLE_DATA_INTEGRATOR: integer (nullable = true)\n |-- P7_B_14_IBM_DATASTAGE: integer (nullable = true)\n |-- P7_B_15_SAP_BW_ETL: integer (nullable = true)\n |-- P7_B_16_SQL_SERVER_INTEGRATION_SERVICES_SSIS: integer (nullable = true)\n |-- P7_B_17_SAS_DATA_INTEGRATION: integer (nullable = true)\n |-- P7_B_18_QLIK_SENSE: integer (nullable = true)\n |-- P7_B_19_KNIME: integer (nullable = true)\n |-- P7_B_20_DATABRICKS: integer (nullable = true)\n |-- P7_B_21_NAO_UTILIZO_FERRAMENTAS_DE_ETL: integer (nullable = true)\n |-- P7_C_SUA_EMPRESA_UTILIZA_ALGUMA_DAS_FERRAMENTAS_LISTADAS_PARA_DAR_MAIS_AUTONOMIA_EM_ANALISE_DE_DADOS_PARA_AS_AREAS_DE_NEGOCIO: string (nullable = true)\n |-- P7_C_1_FERRAMENTAS_DE_AUTOML_COMO_H2O_AI_DATA_ROBOT_BIGML_ETC: string (nullable = true)\n |-- P7_C_2_POINT_AND_CLICK_ANALYTICS_COMO_ALTERYX: string (nullable = true)\n |-- KNIME: string (nullable = true)\n |-- RAPIDMINER_ETC: string (nullable = true)\n |-- P7_C_3_PRODUCT_METRICTS_INSIGHTS_COMO_MIXPANEL_AMPLITUDE_ADOBE_ANALYTICS: string (nullable = true)\n |-- P7_C_4_FERRAMENTAS_DE_ANALISE_DENTRO_DE_FERRAMENTAS_DE_CRM_COMO_SALESFORCE_EINSTEIN_ANAYTICS_OU_ZENDESK_DASHBOARDS: string (nullable = true)\n |-- P7_C_5_MINHA_EMPRESA_NAO_UTILIZA_ESSAS_FERRAMENTAS: string (nullable = true)\n |-- P7_C_6_NAO_SEI_INFORMAR: string (nullable = true)\n |-- P7_D_EM_QUAL_DAS_OPCOES_ABAIXO_VOCE_GASTA_A_MAIOR_PARTE_DO_SEU_TEMPO_DE_TRABALHO: string (nullable = true)\n |-- P7_D_1_PROCESSANDO_E_ANALISANDO_DADOS_UTILIZANDO_LINGUAGENS_DE_PROGRAMACAO_COMO_PYTHON_R_ETC: string (nullable = true)\n |-- P7_D_2_REALIZANDO_CONSTRUCOES_DE_DASHBOARDS_EM_FERRAMENTAS_DE_BI_COMO_POWERBI_TABLEAU_LOOKER_QLIK_ETC: integer (nullable = true)\n |-- P7_D_3_CRIANDO_CONSULTAS_ATRAVES_DA_LINGUAGEM_SQL_PARA_EXPORTAR_INFORMACOES_E_COMPARTILHAR_COM_AS_AREAS_DE_NEGOCIO: string (nullable = true)\n |-- P7_D_4_UTILIZANDO_API_S_PARA_EXTRAIR_DADOS_E_COMPLEMENTAR_MINHAS_ANALISES: string (nullable = true)\n |-- P7_D_5_REALIZANDO_EXPERIMENTOS_E_ESTUDOS_UTILIZANDO_METODOLOGIAS_ESTATISTICAS_COMO_TESTE_DE_HIPOTESE_MODELOS_DE_REGRESSAO_ETC: integer (nullable = true)\n |-- P7_D_6_DESENVOLVENDO_CUIDANDO_DA_MANUTENCAO_DE_ETL_S_UTILIZANDO_TECNOLOGIAS_COMO_TALEND_PENTAHO_AIRFLOW_DATAFLOW_ETC: string (nullable = true)\n |-- P7_D_7_ATUANDO_NA_MODELAGEM_DOS_DADOS_COM_O_OBJETIVO_DE_CRIAR_CONJUNTOS_DE_DADOS_DATA_WAREHOUSES_DATA_MARTS_ETC: integer (nullable = true)\n |-- P7_D_8_DESENVOLVENDO_CUIDANDO_DA_MANUTENCAO_DE_PLANILHAS_DO_EXCEL_OU_GOOGLE_SHEETS_PARA_ATENDER_AS_AREAS_DE_NEGOCIO: integer (nullable = true)\n |-- P7_D_9_UTILIZANDO_FERRAMENTAS_AVANCADAS_DE_ESTATISTICA_COMO_SAS_SPSS_STATA_ETC_PARA_REALIZAR_ANALISES: string (nullable = true)\n |-- P7_D_10_NENHUMA_DAS_OPCOES_LISTADAS_REFLETEM_MEU_DIA_A_DIA: string (nullable = true)\n |-- P8_A_QUAIS_DAS_OPCOES_ABAIXO_FAZEM_PARTE_DA_SUA_ROTINA_NO_TRABALHO_ATUAL_COM_CIENCIA_DE_DADOS: integer (nullable = true)\n |-- P8_A_1_ESTUDOS_AD_HOC_COM_O_OBJETIVO_DE_CONFIRMAR_HIPOTESES_REALIZAR_MODELOS_PREDITIVOS_FORECASTS_ANALISE_DE_CLUSTER_PARA_RESOLVER_PROBLEMAS_PONTUAIS_E_RESPONDER_PERGUNTAS_DAS_AREAS_DE_NEGOCIO: string (nullable = true)\n |-- P8_A_2_SOU_RESPONSAVEL_PELA_COLETA_E_LIMPEZA_DOS_DADOS_QUE_USO_PARA_ANALISE_E_MODELAGEM: integer (nullable = true)\n |-- P8_A_3_SOU_RESPONSAVEL_POR_ENTRAR_EM_CONTATO_COM_OS_TIMES_DE_NEGOCIO_PARA_DEFINICAO_DO_PROBLEMA_IDENTIFICAR_A_SOLUCAO_E_APRESENTACAO_DE_RESULTADOS: integer (nullable = true)\n |-- P8_A_4_DESENVOLVO_MODELOS_DE_MACHINE_LEARNING_COM_O_OBJETIVO_DE_COLOCAR_EM_PRODUCAO_EM_SISTEMAS_PRODUTOS_DE_DADOS: integer (nullable = true)\n |-- P8_A_5_SOU_RESPONSAVEL_POR_COLOCAR_MODELOS_EM_PRODUCAO_CRIAR_OS_PIPELINES_DE_DADOS_APIS_DE_CONSUMO_E_MONITORAMENTO: integer (nullable = true)\n |-- P8_A_6_CUIDO_DA_MANUTENCAO_DE_MODELOS_DE_MACHINE_LEARNING_JA_EM_PRODUCAO_ATUANDO_NO_MONITORAMENTO_AJUSTES_E_REFATORACAO_QUANDO_NECESSARIO: integer (nullable = true)\n |-- P8_A_7_REALIZO_CONSTRUCOES_DE_DASHBOARDS_EM_FERRAMENTAS_DE_BI_COMO_POWERBI_TABLEAU_LOOKER_QLIK_ETC: integer (nullable = true)\n |-- P8_A_8_UTILIZO_FERRAMENTAS_AVANCADAS_DE_ESTATISTICA_COMO_SAS_SPSS_STATA_ETC_PARA_REALIZAR_ANALISES_ESTATISTICAS_E_AJUSTAR_MODELOS: integer (nullable = true)\n |-- P8_A_9_CRIO_E_DOU_MANUTENCAO_EM_ETLS_DAGS_E_AUTOMACOES_DE_PIPELINES_DE_DADOS: integer (nullable = true)\n |-- P8_A_10_CRIO_E_GERENCIO_SOLUCOES_DE_FEATURE_STORE_E_CULTURA_DE_MLOPS: integer (nullable = true)\n |-- P8_A_11_SOU_RESPONSAVEL_POR_CRIAR_E_MANTER_A_INFRA_QUE_MEUS_MODELOS_E_SOLUCOES_RODAM_CLUSTERS_SERVIDORES_API_CONTAINERS_ETC: string (nullable = true)\n |-- P8_A_12_TREINO_E_APLICO_LLM_S_PARA_SOLUCIONAR_PROBLEMAS_DE_NEGOCIO: string (nullable = true)\n |-- P8_B_QUAIS_AS_TECNICAS_E_METODOS_LISTADOS_ABAIXO_VOCE_COSTUMA_UTILIZAR_NO_TRABALHO: integer (nullable = true)\n |-- P8_B_1_UTILIZO_MODELOS_DE_REGRESSAO_LINEAR_LOGISTICA_GLM: string (nullable = true)\n |-- P8_B_2_UTILIZO_REDES_NEURAIS_OU_MODELOS_BASEADOS_EM_ARVORE_PARA_CRIAR_MODELOS_DE_CLASSIFICACAO: integer (nullable = true)\n |-- P8_B_3_DESENVOLVO_SISTEMAS_DE_RECOMENDACAO_RECSYS: integer (nullable = true)\n |-- P8_B_4_UTILIZO_METODOS_ESTATISTICOS_BAYESIANOS_PARA_ANALISAR_DADOS: integer (nullable = true)\n |-- P8_B_5_UTILIZO_TECNICAS_DE_NLP_NATURAL_LANGUAGE_PROCESSING_PARA_ANALISAR_DADOS_NAO_ESTRUTURADOS: integer (nullable = true)\n |-- P8_B_6_UTILIZO_METODOS_ESTATISTICOS_CLASSICOS_TESTES_DE_HIPOTESE_ANALISE_MULTIVARIADA_SOBREVIVENCIA_DADOS_LONGITUDINAIS_INFERENCIA_ESTATISTICA_PARA_ANALISAR_DADOS: integer (nullable = true)\n |-- P8_B_7_UTILIZO_CADEIAS_DE_MARKOV_OU_HMM_S_PARA_REALIZAR_ANALISES_DE_DADOS: integer (nullable = true)\n |-- P8_B_8_DESENVOLVO_TECNICAS_DE_CLUSTERIZACAO_K_MEANS_SPECTRAL_DBSCAN_ETC: integer (nullable = true)\n |-- P8_B_9_REALIZO_PREVISOES_ATRAVES_DE_MODELOS_DE_SERIES_TEMPORAIS_TIME_SERIES: integer (nullable = true)\n |-- P8_B_10_UTILIZO_MODELOS_DE_REINFORCEMENT_LEARNING_APRENDIZADO_POR_REFORCO: integer (nullable = true)\n |-- P8_B_11_UTILIZO_MODELOS_DE_MACHINE_LEARNING_PARA_DETECCAO_DE_FRAUDE: integer (nullable = true)\n |-- P8_B_12_UTILIZO_METODOS_DE_VISAO_COMPUTACIONAL: integer (nullable = true)\n |-- P8_B_13_UTILIZO_MODELOS_DE_DETECCAO_DE_CHURN: string (nullable = true)\n |-- P8_B_14_UTILIZO_LLM_S_PARA_SOLUCIONAR_PROBLEMAS_DE_NEGOCIO: string (nullable = true)\n |-- P8_3_QUAIS_DESSAS_TECNOLOGIAS_FAZEM_PARTE_DO_SEU_DIA_A_DIA_COMO_CIENTISTA_DE_DADOS: integer (nullable = true)\n |-- P8_C_1_FERRAMENTAS_DE_BI_POWERBI_LOOKER_TABLEAU_QLIK_ETC: string (nullable = true)\n |-- P8_C_2_PLANILHAS_EXCEL_GOOGLE_SHEETS_ETC: integer (nullable = true)\n |-- P8_C_3_AMBIENTES_DE_DESENVOLVIMENTO_LOCAL_R_STUDIO_JUPYTERLAB_ANACONDA: integer (nullable = true)\n |-- P8_C_4_AMBIENTES_DE_DESENVOLVIMENTO_NA_NUVEM_GOOGLE_COLAB_AWS_SAGEMAKER_KAGGLE_NOTEBOOKS_ETC: integer (nullable = true)\n |-- P8_C_5_FERRAMENTAS_DE_AUTOML_DATAROBOT_H2O_AUTO_KERAS_ETC: integer (nullable = true)\n |-- P8_C_6_FERRAMENTAS_DE_ETL_APACHE_AIRFLOW_NIFI_STITCH_FIVETRAN_PENTAHO_ETC: integer (nullable = true)\n |-- P8_C_7_PLATAFORMAS_DE_MACHINE_LEARNING_TENSORFLOW_AZURE_MACHINE_LEARNING_KUBEFLOW_ETC: integer (nullable = true)\n |-- P8_C_8_FEATURE_STORE_FEAST_HOPSWORKS_AWS_FEATURE_STORE_DATABRICKS_FEATURE_STORE_ETC: integer (nullable = true)\n |-- P8_C_9_SISTEMAS_DE_CONTROLE_DE_VERSAO_GITHUB_DVC_NEPTUNE_GITLAB_ETC: integer (nullable = true)\n |-- P8_C_10_PLATAFORMAS_DE_DATA_APPS_STREAMLIT_SHINY_PLOTLY_DASH_ETC: string (nullable = true)\n |-- P8_C_11_FERRAMENTAS_DE_ESTATISTICA_AVANCADA_COMO_SPSS_SAS_ETC: string (nullable = true)\n |-- P8_D_EM_QUAL_DAS_OPCOES_ABAIXO_VOCE_GASTA_A_MAIOR_PARTE_DO_SEU_TEMPO_NO_TRABALHO: integer (nullable = true)\n |-- P8_D_1_ESTUDOS_AD_HOC_COM_O_OBJETIVO_DE_CONFIRMAR_HIPOTESES_REALIZAR_MODELOS_PREDITIVOS_FORECASTS_ANALISE_DE_CLUSTER_PARA_RESOLVER_PROBLEMAS_PONTUAIS_E_RESPONDER_PERGUNTAS_DAS_AREAS_DE_NEGOCIO: string (nullable = true)\n |-- P8_D_2_COLETANDO_E_LIMPANDO_OS_DADOS_QUE_USO_PARA_ANALISE_E_MODELAGEM: integer (nullable = true)\n |-- P8_D_3_ENTRANDO_EM_CONTATO_COM_OS_TIMES_DE_NEGOCIO_PARA_DEFINICAO_DO_PROBLEMA_IDENTIFICAR_A_SOLUCAO_E_APRESENTACAO_DE_RESULTADOS: integer (nullable = true)\n |-- P8_D_4_DESENVOLVENDO_MODELOS_DE_MACHINE_LEARNING_COM_O_OBJETIVO_DE_COLOCAR_EM_PRODUCAO_EM_SISTEMAS_PRODUTOS_DE_DADOS: integer (nullable = true)\n |-- P8_D_5_COLOCANDO_MODELOS_EM_PRODUCAO_CRIANDO_OS_PIPELINES_DE_DADOS_APIS_DE_CONSUMO_E_MONITORAMENTO: integer (nullable = true)\n |-- P8_D_6_CUIDANDO_DA_MANUTENCAO_DE_MODELOS_DE_MACHINE_LEARNING_JA_EM_PRODUCAO_ATUANDO_NO_MONITORAMENTO_AJUSTES_E_REFATORACAO_QUANDO_NECESSARIO: integer (nullable = true)\n |-- P8_D_7_REALIZANDO_CONSTRUCOES_DE_DASHBOARDS_EM_FERRAMENTAS_DE_BI_COMO_POWERBI_TABLEAU_LOOKER_QLIK_ETC: integer (nullable = true)\n |-- P8_D_8_UTILIZANDO_FERRAMENTAS_AVANCADAS_DE_ESTATISTICA_COMO_SAS_SPSS_STATA_ETC_PARA_REALIZAR_ANALISES: integer (nullable = true)\n |-- P8_D_9_CRIANDO_E_DANDO_MANUTENCAO_EM_ETLS_DAGS_E_AUTOMACOES_DE_PIPELINES_DE_DADOS: integer (nullable = true)\n |-- P8_D_10_CRIANDO_E_GERENCIANDO_SOLUCOES_DE_FEATURE_STORE_E_CULTURA_DE_MLOPS: integer (nullable = true)\n |-- P8_D_11_CRIANDO_E_MANTENDO_A_INFRA_QUE_MEUS_MODELOS_E_SOLUCOES_RODAM_CLUSTERS_SERVIDORES_API_CONTAINERS_ETC: integer (nullable = true)\n |-- P8_D_12_TREINANDO_E_APLICANDO_LLM_S_PARA_SOLUCIONAR_PROBLEMAS_DE_NEGOCIO: integer (nullable = true)\n\n"
     ]
    }
   ],
   "source": [
    "# Aplicar a normalização dos nomes das colunas, isso transformará, por exemplo, \"('P1_a ', 'Idade')\" em \"P1_A_IDADE\"\n",
    "new_columns = [normalize_column(c) for c in df_raw.columns]\n",
    "df_normalized = df_raw.toDF(*new_columns)\n",
    "\n",
    "# Exibir os novos nomes de colunas e o schema normalizado para conferência\n",
    "print(\"Novos nomes das colunas:\")\n",
    "print(df_normalized.columns)\n",
    "df_normalized.printSchema()"
   ]
  },
  {
   "cell_type": "code",
   "execution_count": 0,
   "metadata": {
    "application/vnd.databricks.v1+cell": {
     "cellMetadata": {
      "byteLimit": 2048000,
      "rowLimit": 10000
     },
     "inputWidgets": {},
     "nuid": "1c15c022-1794-45e5-a998-41055b68f5c2",
     "showTitle": true,
     "tableResultSettingsMap": {},
     "title": "Gravação na tabela bronze : state_of_data_2023"
    }
   },
   "outputs": [
    {
     "output_type": "stream",
     "name": "stdout",
     "output_type": "stream",
     "text": [
      "Out[15]: DataFrame[num_affected_rows: bigint, num_inserted_rows: bigint]"
     ]
    }
   ],
   "source": [
    "# Define o caminho de armazenamento na camada Bronze\n",
    "bronze_path = \"dbfs:/mnt/bronze/state_of_data_2023\"\n",
    "\n",
    "# Gravar os dados normalizados em formato Delta na camada Bronze\n",
    "df_normalized.write.format(\"delta\") \\\n",
    "    .mode(\"overwrite\") \\\n",
    "    .option(\"mergeSchema\", \"true\") \\\n",
    "    .save(bronze_path)\n",
    "\n",
    "# Cria o schema bronze se ainda não existir\n",
    "spark.sql(\"CREATE SCHEMA IF NOT EXISTS bronze\")\n",
    "\n",
    "# Registra a tabela Bronze no metastore apontando para o caminho Delta\n",
    "spark.sql(f\"\"\"\n",
    "  CREATE OR REPLACE TABLE bronze.STATE_OF_DATA_2023 AS\n",
    "  SELECT * FROM delta.`{bronze_path}`\n",
    "\"\"\")"
   ]
  },
  {
   "cell_type": "code",
   "execution_count": 0,
   "metadata": {
    "application/vnd.databricks.v1+cell": {
     "cellMetadata": {
      "byteLimit": 2048000,
      "implicitDf": true,
      "rowLimit": 10000
     },
     "inputWidgets": {},
     "nuid": "f807d343-45f1-4752-a8d4-726ddd7c3aa8",
     "showTitle": true,
     "tableResultSettingsMap": {},
     "title": "Select na tabela bronze"
    }
   },
   "outputs": [
    {
     "output_type": "display_data",
     "data": {
      "text/html": [
       "<style scoped>\n",
       "  .table-result-container {\n",
       "    max-height: 300px;\n",
       "    overflow: auto;\n",
       "  }\n",
       "  table, th, td {\n",
       "    border: 1px solid black;\n",
       "    border-collapse: collapse;\n",
       "  }\n",
       "  th, td {\n",
       "    padding: 5px;\n",
       "  }\n",
       "  th {\n",
       "    text-align: left;\n",
       "  }\n",
       "</style><div class='table-result-container'><table class='table-result'><thead style='background-color: white'><tr><th>P0_id</th><th>P1_a_Idade</th><th>P1_a_1_Faixa_idade</th><th>P1_b_Genero</th><th>P1_c_Cor_raca_etnia</th><th>P1_d_PCD</th><th>P1_e_experiencia_profissional_prejudicada</th><th>P1_e_1_Nao_acredito_que_minha_experiencia_profissional_seja_afetada</th><th>P1_e_2_Experiencia_prejudicada_devido_a_minha_Cor_Raca_Etnia</th><th>P1_e_3_Experiencia_prejudicada_devido_a_minha_identidade_de_genero</th><th>P1_e_4_Experiencia_prejudicada_devido_ao_fato_de_ser_PCD</th><th>P1_f_aspectos_prejudicados</th><th>P1_f_1_Quantidade_de_oportunidades_de_emprego_vagas_recebidas</th><th>P1_f_2_Senioridade_das_vagas_recebidas_em_relacao_a_sua_experiencia</th><th>P1_f_3_Aprovacao_em_processos_seletivos_entrevistas</th><th>P1_f_4_Oportunidades_de_progressao_de_carreira</th><th>P1_f_5_Velocidade_de_progressao_de_carreira</th><th>P1_f_6_Nivel_de_cobranca_no_trabalho_Stress_no_trabalho</th><th>P1_f_7_Atencao_dada_diante_das_minhas_opinioes_e_ideias</th><th>P1_f_8_Relacao_com_outros_membros_da_empresa_em_momentos_de_trabalho</th><th>P1_f_9_Relacao_com_outros_membros_da_empresa_em_momentos_de_integracao_e_outros_momentos_fora_do_trabalho</th><th>P1_g_vive_no_brasil</th><th>P1_i_Estado_onde_mora</th><th>P1_i_1_uf_onde_mora</th><th>P1_i_2_Regiao_onde_mora</th><th>P1_j_Mudou_de_Estado</th><th>P1_k_Regiao_de_origem</th><th>P1_l_Nivel_de_Ensino</th><th>P1_m_Area_de_Formacao</th><th>P2_a_Qual_sua_situacao_atual_de_trabalho</th><th>P2_b_Setor</th><th>P2_c_Numero_de_Funcionarios</th><th>P2_d_Gestor</th><th>P2_e_Cargo_como_Gestor</th><th>P2_f_Cargo_Atual</th><th>P2_g_Nivel</th><th>P2_h_Faixa_salarial</th><th>P2_i_Quanto_tempo_de_experiencia_na_area_de_dados_voce_tem</th><th>P2_j_Quanto_tempo_de_experiencia_na_area_de_TI_Engenharia_de_Software_voce_teve_antes_de_comecar_a_trabalhar_na_area_de_dados</th><th>P2_k_Voce_esta_satisfeito_na_sua_empresa_atual</th><th>P2_l_Qual_o_principal_motivo_da_sua_insatisfacao_com_a_empresa_atual</th><th>P2_l_1_Falta_de_oportunidade_de_crescimento_no_emprego_atual</th><th>P2_l_2_Salario_atual_nao_corresponde_ao_mercado</th><th>P2_l_3_Nao_tenho_uma_boa_relacao_com_meu_lider_gestor</th><th>P2_l_4_Gostaria_de_trabalhar_em_em_outra_area_de_atuacao</th><th>P2_l_5_Gostaria_de_receber_mais_beneficios</th><th>P2_l_6_O_clima_de_trabalho_ambiente_nao_e_bom</th><th>P2_l_7_Falta_de_maturidade_analitica_na_empresa</th><th>P2_m_Voce_participou_de_entrevistas_de_emprego_nos_ultimos_6_meses</th><th>P2_n_Voce_pretende_mudar_de_emprego_nos_proximos_6_meses</th><th>P2_o_Quais_os_principais_criterios_que_voce_leva_em_consideracao_no_momento_de_decidir_onde_trabalhar</th><th>P2_o_1_Remuneracao_Salario</th><th>P2_o_2_Beneficios</th><th>P2_o_3_Proposito_do_trabalho_e_da_empresa</th><th>P2_o_4_Flexibilidade_de_trabalho_remoto</th><th>P2_o_5_Ambiente_e_clima_de_trabalho</th><th>P2_o_6_Oportunidade_de_aprendizado_e_trabalhar_com_referencias_na_area</th><th>P2_o_7_Plano_de_carreira_e_oportunidades_de_crescimento_profissional</th><th>P2_o_8_Maturidade_da_empresa_em_termos_de_tecnologia_e_dados</th><th>P2_o_9_Qualidade_dos_gestores_e_lideres</th><th>P2_o_10_Reputacao_que_a_empresa_tem_no_mercado</th><th>P2_q_Empresa_que_trabaha_passou_por_layoff_em_2023</th><th>P2_r_Atualmente_qual_a_sua_forma_de_trabalho</th><th>P2_s_Qual_a_forma_de_trabalho_ideal_para_voce</th><th>P2_t_Caso_sua_empresa_decida_pelo_modelo_100_presencial_qual_sera_sua_atitude</th><th>P3_a_Qual_o_numero_aproximado_de_pessoas_que_atuam_com_dados_na_sua_empresa_hoje</th><th>P3_b_Quais_desses_papeis_cargos_fazem_parte_do_time_ou_chapter_de_dados_da_sua_empresa</th><th>P3_b_1_Analytics_Engineer</th><th>P3_b_2_Engenharia_de_Dados_Data_Engineer</th><th>P3_b_3_Analista_de_Dados_Data_Analyst</th><th>P3_b_4_Cientista_de_Dados_Data_Scientist</th><th>P3_b_5_Database_Administrator_DBA</th><th>P3_b_6_Analista_de_Business_Intelligence_BI</th><th>P3_b_7_Arquiteto_de_Dados_Data_Architect</th><th>P3_b_8_Data_Product_Manager_DPM</th><th>P3_b_9_Business_Analyst</th><th>P3_c_Quais_dessas_responsabilidades_fazem_parte_da_sua_rotina_atual_de_trabalho_como_gestor</th><th>P3_c_1_Pensar_na_visao_de_longo_prazo_de_dados_da_empresa_e_fortalecimento_da_cultura_analitica_da_companhia</th><th>P3_c_2_Organizacao_de_treinamentos_e_iniciativas_com_o_objetivo_de_aumentar_a_maturidade_analitica_das_areas_de_negocios</th><th>P3_c_3_Atracao_selecao_e_contratacao_de_talentos_para_o_time_de_dados</th><th>P3_c_4_Decisao_sobre_contratacao_de_ferramentas_e_tecnologias_relacionadas_a_dados</th><th>P3_c_5_Sou_gestor_da_equipe_responsavel_pela_engenharia_de_dados_e_por_manter_o_Data_Lake_da_empresa_como_fonte_unica_dos_dados_garantindo_a_qualidade_e_confiabilidade_da_informacao</th><th>P3_c_6_Sou_gestor_da_equipe_responsavel_pela_entrega_de_dados_estudos_relatorios_e_dashboards_para_as_areas_de_negocio_da_empresa</th><th>P3_c_7_Sou_gestor_da_equipe_responsavel_por_iniciativas_e_projetos_envolvendo_Inteligencia_Artificial_e_Machine_Learning</th><th>P3_c_8_Apesar_de_ser_gestor_ainda_atuo_na_parte_tecnica_construindo_solucoes_analises_modelos_etc</th><th>P3_c_9_Gestao_de_projetos_de_dados_cuidando_das_etapas_equipes_envolvidas_atingimento_dos_objetivos_etc</th><th>P3_c_10_Gestao_de_produtos_de_dados_cuidando_da_visao_dos_produtos_backlog_feedback_de_usuarios_etc</th><th>P3_c_11_Gestao_de_pessoas_apoio_no_desenvolvimento_das_pessoas_evolucao_de_carreira</th><th>P3_d_Quais_sao_os_3_maiores_desafios_que_voce_tem_como_gestor_no_atual_momento</th><th>P3_d_1_a_Contratar_novos_talentos</th><th>P3_d_2_b_Reter_talentos</th><th>P3_d_3_c_Convencer_a_empresa_a_aumentar_os_investimentos_na_area_de_dados</th><th>P3_d_4_d_Gestao_de_equipes_no_ambiente_remoto</th><th>P3_d_5_e_Gestao_de_projetos_envolvendo_areas_multidisciplinares_da_empresa</th><th>P3_d_6_f_Organizar_as_informacoes_e_garantir_a_qualidade_e_confiabilidade</th><th>P3_d_7_g_Conseguir_processar_e_armazenar_um_alto_volume_de_dados</th><th>P3_d_8_h_Conseguir_gerar_valor_para_as_areas_de_negocios_atraves_de_estudos_e_experimentos</th><th>P3_d_9_i_Desenvolver_e_manter_modelos_Machine_Learning_em_producao</th><th>P3_d_10_j_Gerenciar_a_expectativa_das_areas_de_negocio_em_relacao_as_entregas_das_equipes_de_dados</th><th>P3_d_11_k_Garantir_a_manutencao_dos_projetos_e_modelos_em_producao_em_meio_ao_crescimento_da_empresa</th><th>P3_d_12_Conseguir_levar_inovacao_para_a_empresa_atraves_dos_dados</th><th>P3_d_13_Garantir_retorno_do_investimento_ROI_em_projetos_de_dados</th><th>P3_d_14_Dividir_o_tempo_entre_entregas_tecnicas_e_gestao</th><th>P3_e_AI_Generativa_e_uma_prioridade_em_sua_empresa</th><th>P3_f_Tipos_de_uso_de_AI_Generativa_e_LLMs_na_empresa</th><th>P3_f_1_Colaboradores_usando_AI_generativa_de_forma_independente_e_descentralizada</th><th>P3_f_2_Direcionamento_centralizado_do_uso_de_AI_generativa</th><th>P3_f_3_Desenvolvedores_utilizando_Copilots</th><th>P3_f_4_AI_Generativa_e_LLMs_para_melhorar_produtos_externos</th><th>P3_f_5_AI_Generativa_e_LLMs_para_melhorar_produtos_internos_para_os_colaboradores</th><th>P3_f_6_IA_Generativa_e_LLMs_como_principal_frente_do_negocio</th><th>P3_f_7_IA_Generativa_e_LLMs_nao_e_prioridade</th><th>P3_f_8_Nao_sei_opinar_sobre_o_uso_de_IA_Generativa_e_LLMs_na_empresa</th><th>P3_g_Motivos_que_levam_a_empresa_a_nao_usar_AI_Genrativa_e_LLMs</th><th>P3_g_1_Falta_de_compreensao_dos_casos_de_uso</th><th>P3_g_2_Falta_de_confiabilidade_das_saidas_alucinacao_dos_modelos</th><th>P3_g_3_Incerteza_em_relacao_a_regulamentacao</th><th>P3_g_4_Preocupacoes_com_seguranca_e_privacidade_de_dados</th><th>P3_g_5_Retorno_sobre_investimento_ROI_nao_comprovado_de_IA_Generativa</th><th>P3_g_6_Dados_da_empresa_nao_estao_prontos_para_uso_de_IA_Generativa</th><th>P3_g_7_Falta_de_expertise_ou_falta_de_recursos</th><th>P3_g_8_Alta_direcao_da_empresa_nao_ve_valor_ou_nao_ve_como_prioridade</th><th>P3_g_9_Preocupacoes_com_propriedade_intelectual</th><th>P4_a_Mesmo_que_esse_nao_seja_seu_cargo_formal_voce_considera_que_sua_atuacao_no_dia_a_dia_reflete_alguma_das_opcoes_listadas_abaixo</th><th>P4_a_1_Atuacao</th><th>P4_b_Quais_das_fontes_de_dados_listadas_voce_ja_analisou_ou_processou_no_trabalho</th><th>P4_b_1_Dados_relacionais_estruturados_em_bancos_SQL</th><th>P4_b_2_Dados_armazenados_em_bancos_NoSQL</th><th>P4_b_3_Imagens</th><th>P4_b_4_Textos_Documentos</th><th>P4_b_5_Videos</th><th>P4_b_6_Audios</th><th>P4_b_7_Planilhas</th><th>P4_b_8_Dados_georeferenciados</th><th>P4_c_Entre_as_fontes_de_dados_listadas_quais_voce_utiliza_na_maior_parte_do_tempo</th><th>P4_c_1_Dados_relacionais_estruturados_em_bancos_SQL</th><th>P4_c_2_Dados_armazenados_em_bancos_NoSQL</th><th>P4_c_3_Imagens</th><th>P4_c_4_Textos_Documentos</th><th>P4_c_5_Videos</th><th>P4_c_6_Audios</th><th>P4_c_7_Planilhas</th><th>P4_c_8_Dados_georeferenciados</th><th>P4_d_Quais_das_linguagens_listadas_abaixo_voce_utiliza_no_trabalho</th><th>P4_d_1_SQL</th><th>P4_d_2_R</th><th>P4_d_3_Python</th><th>P4_d_4_C_C_C</th><th>P4_d_5_NET</th><th>P4_d_6_Java</th><th>P4_d_7_Julia</th><th>P4_d_8_SAS_Stata</th><th>P4_d_9_Visual_Basic_VBA</th><th>P4_d_10_Scala</th><th>P4_d_11_Matlab</th><th>P4_d_12_Rust</th><th>P4_d_13_PHP</th><th>P4_d_14_JavaScript</th><th>P4_d_15_Nao_utilizo_nenhuma_linguagem</th><th>P4_e_Entre_as_linguagens_listadas_abaixo_qual_e_a_que_voce_mais_utiliza_no_trabalho</th><th>P4_f_Entre_as_linguagens_listadas_abaixo_qual_e_a_sua_preferida</th><th>P4_g_Quais_dos_bancos_de_dados_fontes_de_dados_listados_abaixo_voce_utiliza_no_trabalho</th><th>P4_g_1_MySQL</th><th>P4_g_2_Oracle</th><th>P4_g_3_SQL_SERVER</th><th>P4_g_4_Amazon_Aurora_ou_RDS</th><th>P4_g_5_DynamoDB</th><th>P4_g_6_CoachDB</th><th>P4_g_7_Cassandra</th><th>P4_g_8_MongoDB</th><th>P4_g_9_MariaDB</th><th>P4_g_10_Datomic</th><th>P4_g_11_S3</th><th>P4_g_12_PostgreSQL</th><th>P4_g_13_ElasticSearch</th><th>P4_g_14_DB2</th><th>P4_g_15_Microsoft_Access</th><th>P4_g_16_SQLite</th><th>P4_g_17_Sybase</th><th>P4_g_18_Firebase</th><th>P4_g_19_Vertica</th><th>P4_g_20_Redis</th><th>P4_g_21_Neo4J</th><th>P4_g_22_Google_BigQuery</th><th>P4_g_23_Google_Firestore</th><th>P4_g_24_Amazon_Redshift</th><th>P4_g_25_Amazon_Athena</th><th>P4_g_26_Snowflake</th><th>P4_g_27_Databricks</th><th>P4_g_28_HBase</th><th>P4_g_29_Presto</th><th>P4_g_30_Splunk</th><th>P4_g_31_SAP_HANA</th><th>P4_g_32_Hive</th><th>P4_g_33_Firebird</th><th>P4_h_Dentre_as_opcoes_listadas_qual_sua_Cloud_preferida</th><th>P4_h_1_Azure_Microsoft</th><th>P4_h_2_Amazon_Web_Services_AWS</th><th>P4_h_3_Google_Cloud_GCP</th><th>P4_h_4_Oracle_Cloud</th><th>P4_h_5_IBM</th><th>P4_h_6_Servidores_On_Premise_Nao_utilizamos_Cloud</th><th>P4_h_7_Cloud_Propria</th><th>P4_i_Cloud_preferida</th><th>P4_j_Ferramenta_de_BI_utilizada_no_dia_a_dia</th><th>P4_j_1_Microsoft_PowerBI</th><th>P4_j_2_Qlik_View_Qlik_Sense</th><th>P4_j_3_Tableau</th><th>P4_j_4_Metabase</th><th>P4_j_5_Superset</th><th>P4_j_6_Redash</th><th>P4_j_7_Looker</th><th>P4_j_8_Looker_Studio_Google_Data_Studio</th><th>P4_j_9_Amazon_Quicksight</th><th>P4_j_10_Mode</th><th>P4_j_11_Alteryx</th><th>P4_j_12_MicroStrategy</th><th>P4_j_13_IBM_Analytics_Cognos</th><th>P4_j_14_SAP_Business_Objects_SAP_Analytics</th><th>P4_j_15_Oracle_Business_Intelligence</th><th>P4_j_16_Salesforce_Einstein_Analytics</th><th>P4_j_17_Birst</th><th>P4_j_18_SAS_Visual_Analytics</th><th>P4_j_19_Grafana</th><th>P4_j_20_TIBCO_Spotfire</th><th>P4_j_21_Pentaho</th><th>P4_j_22_Fazemos_todas_as_analises_utilizando_apenas_Excel_ou_planilhas_do_google</th><th>P4_j_23_Nao_utilizo_nenhuma_ferramenta_de_BI_no_trabalho</th><th>P4_k_Qual_sua_ferramenta_de_BI_preferida</th><th>P4_l_Qual_o_tipo_de_uso_de_AI_Generativa_e_LLMs_na_empresa</th><th>P4_l_1_Colaboradores_usando_AI_generativa_de_forma_independente_e_descentralizada</th><th>P4_l_2_Direcionamento_centralizado_do_uso_de_AI_generativa</th><th>P4_l_3_Desenvolvedores_utilizando_Copilots</th><th>P4_l_4_AI_Generativa_e_LLMs_para_melhorar_produtos_externos_para_os_clientes_finais</th><th>P4_l_5_AI_Generativa_e_LLMs_para_melhorar_produtos_internos_para_os_colaboradores</th><th>P4_l_6_IA_Generativa_e_LLMs_como_principal_frente_do_negocio</th><th>P4_l_7_IA_Generativa_e_LLMs_nao_e_prioridade</th><th>P4_l_8_Nao_sei_opinar_sobre_o_uso_de_IA_Generativa_e_LLMs_na_empresa</th><th>P4_m_Utiliza_ChatGPT_ou_LLMs_no_trabalho</th><th>P4_m_1_Nao_uso_solucoes_de_AI_Generativa_com_foco_em_produtividade</th><th>P4_m_2_Uso_solucoes_gratuitas_de_AI_Generativa_com_foco_em_produtividade</th><th>P4_m_3_Uso_e_pago_pelas_solucoes_de_AI_Generativa_com_foco_em_produtividade</th><th>P4_m_4_A_empresa_que_trabalho_paga_pelas_solucoes_de_AI_Generativa_com_foco_em_produtividade</th><th>P4_m_5_Uso_solucoes_do_tipo_Copilot</th><th>P5_a_Qual_seu_objetivo_na_area_de_dados</th><th>P5_b_Qual_oportunidade_voce_esta_buscando</th><th>P5_c_Ha_quanto_tempo_voce_busca_uma_oportunidade_na_area_de_dados</th><th>P5_d_Como_tem_sido_a_busca_por_um_emprego_na_area_de_dados</th><th>P6_a_Quais_das_opcoes_abaixo_fazem_parte_da_sua_rotina_no_trabalho_atual_como_engenheiro_de_dados</th><th>P6_a_1_Desenvolvo_pipelines_de_dados_utilizando_linguagens_de_programacao_como_Python_Scala_Java_etc</th><th>P6_a_2_Realizo_construcoes_de_ETL_s_em_ferramentas_como_Pentaho_Talend_Dataflow_etc</th><th>P6_a_3_Crio_consultas_atraves_da_linguagem_SQL_para_exportar_informacoes_e_compartilhar_com_as_areas_de_negocio</th><th>P6_a_4_Atuo_na_integracao_de_diferentes_fontes_de_dados_atraves_de_plataformas_proprietarias_como_Stitch_Data_Fivetran_etc</th><th>P6_a_5_Modelo_solucoes_de_arquitetura_de_dados_criando_componentes_de_ingestao_de_dados_transformacao_e_recuperacao_da_informacao</th><th>P6_a_6_Desenvolvo_cuido_da_manutencao_de_repositorios_de_dados_baseados_em_streaming_de_eventos_como_Data_Lakes_e_Data_Lakehouses</th><th>P6_a_7_Atuo_na_modelagem_dos_dados_com_o_objetivo_de_criar_conjuntos_de_dados_como_Data_Warehouses_Data_Marts_etc</th><th>P6_a_8_Cuido_da_qualidade_dos_dados_metadados_e_dicionario_de_dados</th><th>P6_a_9_Nenhuma_das_opcoes_listadas_refletem_meu_dia_a_dia</th><th>P6_b_Quais_as_ferramentas_tecnologias_de_ETL_que_voce_utiliza_no_trabalho_como_Data_Engineer</th><th>P6_b_1_Scripts_Python</th><th>P6_b_2_SQL_Stored_Procedures</th><th>P6_b_3_Apache_Airflow</th><th>P6_b_4_Apache_NiFi</th><th>P6_b_5_Luigi</th><th>P6_b_6_AWS_Glue</th><th>P6_b_7_Talend</th><th>P6_b_8_Pentaho</th><th>P6_b_9_Alteryx</th><th>P6_b_10_Stitch</th><th>P6_b_11_Fivetran</th><th>P6_b_12_Google_Dataflow</th><th>P6_b_13_Oracle_Data_Integrator</th><th>P6_b_14_IBM_DataStage</th><th>P6_b_15_SAP_BW_ETL</th><th>P6_b_16_SQL_Server_Integration_Services_SSIS</th><th>P6_b_17_SAS_Data_Integration</th><th>P6_b_18_Qlik_Sense</th><th>P6_b_19_Knime</th><th>P6_b_20_Databricks</th><th>P6_b_21_Nao_utilizo_ferramentas_de_ETL</th><th>P6_c_Sua_organizacao_possui_um_Data_Lake</th><th>P6_d_Qual_tecnologia_utilizada_como_plataforma_do_Data_Lake</th><th>P6_e_Sua_organizacao_possui_um_Data_Warehouse</th><th>P6_f_Qual_tecnologia_utilizada_como_plataforma_do_Data_Warehouse</th><th>P6_g_Quais_as_ferramentas_de_gestao_de_Qualidade_de_dados_Metadados_e_catalogo_de_dados_voce_utiliza_no_trabalho</th><th>P6_h_Em_qual_das_opcoes_abaixo_voce_gasta_a_maior_parte_do_seu_tempo</th><th>P6_h_1_Desenvolvendo_pipelines_de_dados_utilizando_linguagens_de_programacao_como_Python_Scala_Java_etc</th><th>P6_h_2_Realizando_construcoes_de_ETL_s_em_ferramentas_como_Pentaho_Talend_Dataflow_etc</th><th>P6_h_3_Criando_consultas_atraves_da_linguagem_SQL_para_exportar_informacoes_e_compartilhar_com_as_areas_de_negocio</th><th>P6_h_4_Atuando_na_integracao_de_diferentes_fontes_de_dados_atraves_de_plataformas_proprietarias_como_Stitch_Data_Fivetran_etc</th><th>P6_h_5_Modelando_solucoes_de_arquitetura_de_dados_criando_componentes_de_ingestao_de_dados_transformacao_e_recuperacao_da_informacao</th><th>P6_h_6_Desenvolvendo_cuidando_da_manutencao_de_repositorios_de_dados_baseados_em_streaming_de_eventos_como_Data_Lakes_e_Data_Lakehouses</th><th>P6_h_7_Atuando_na_modelagem_dos_dados_com_o_objetivo_de_criar_conjuntos_de_dados_como_Data_Warehouses_Data_Marts_etc</th><th>P6_h_8_Cuidando_da_qualidade_dos_dados_metadados_e_dicionario_de_dados</th><th>P6_h_9_Nenhuma_das_opcoes_listadas_refletem_meu_dia_a_dia</th><th>P7_1_Quais_das_opcoes_abaixo_fazem_parte_da_sua_rotina_no_trabalho_atual_com_analise_de_dados</th><th>P7_a_1_Processo_e_analiso_dados_utilizando_linguagens_de_programacao_como_Python_R_etc</th><th>P7_a_2_Realizo_construcoes_de_dashboards_em_ferramentas_de_BI_como_PowerBI_Tableau_Looker_Qlik_etc</th><th>P7_a_3_Crio_consultas_atraves_da_linguagem_SQL_para_exportar_informacoes_e_compartilhar_com_as_areas_de_negocio</th><th>P7_a_4_Utilizo_API_s_para_extrair_dados_e_complementar_minhas_analises</th><th>P7_a_5_Realizo_experimentos_e_estudos_utilizando_metodologias_estatisticas_como_teste_de_hipotese_modelos_de_regressao_etc</th><th>P7_a_6_Desenvolvo_cuido_da_manutencao_de_ETL_s_utilizando_tecnologias_como_Talend_Pentaho_Airflow_Dataflow_etc</th><th>P7_a_7_Atuo_na_modelagem_dos_dados_com_o_objetivo_de_criar_conjuntos_de_dados_Data_Warehouses_Data_Marts_etc</th><th>P7_a_8_Desenvolvo_cuido_da_manutencao_de_planilhas_para_atender_as_areas_de_negocio</th><th>P7_a_9_Utilizo_ferramentas_avancadas_de_estatistica_como_SASS_PSS_Stata_etc</th><th>P7_a_10_Nenhuma_das_opcoes_listadas_refletem_meu_dia_a_dia</th><th>P7_b_Quais_as_ferramentas_tecnologias_de_ETL_que_voce_utiliza_no_trabalho_como_Data_Analyst</th><th>P7_b_1_Scripts_Python</th><th>P7_b_2_SQL_Stored_Procedures</th><th>P7_b_3_Apache_Airflow</th><th>P7_b_4_Apache_NiFi</th><th>P7_b_5_Luigi</th><th>P7_b_6_AWS_Glue</th><th>P7_b_7_Talend</th><th>P7_b_8_Pentaho</th><th>P7_b_9_Alteryx</th><th>P7_b_10_Stitch</th><th>P7_b_11_Fivetran</th><th>P7_b_12_Google_Dataflow</th><th>P7_b_13_Oracle_Data_Integrator</th><th>P7_b_14_IBM_DataStage</th><th>P7_b_15_SAP_BW_ETL</th><th>P7_b_16_SQL_Server_Integration_Services_SSIS</th><th>P7_b_17_SAS_Data_Integration</th><th>P7_b_18_Qlik_Sense</th><th>P7_b_19_Knime</th><th>P7_b_20_Databricks</th><th>P7_b_21_Nao_utilizo_ferramentas_de_ETL</th><th>P7_c_Sua_empresa_utiliza_alguma_das_ferramentas_listadas_para_dar_mais_autonomia_em_analise_de_dados_para_as_areas_de_negocio</th><th>P7_c_1_Ferramentas_de_AutoML_como_H2O_ai_Data_Robot_BigML_etc</th><th>P7_c_2_Point_and_Click_Analytics_como_Alteryx</th><th>Knime</th><th>Rapidminer_etc</th><th>P7_c_3_Product_metricts_Insights_como_Mixpanel_Amplitude_Adobe_Analytics</th><th>P7_c_4_Ferramentas_de_analise_dentro_de_ferramentas_de_CRM_como_Salesforce_Einstein_Anaytics_ou_Zendesk_dashboards</th><th>P7_c_5_Minha_empresa_nao_utiliza_essas_ferramentas</th><th>P7_c_6_Nao_sei_informar</th><th>P7_d_Em_qual_das_opcoes_abaixo_voce_gasta_a_maior_parte_do_seu_tempo_de_trabalho</th><th>P7_d_1_Processando_e_analisando_dados_utilizando_linguagens_de_programacao_como_Python_R_etc</th><th>P7_d_2_Realizando_construcoes_de_dashboards_em_ferramentas_de_BI_como_PowerBI_Tableau_Looker_Qlik_etc</th><th>P7_d_3_Criando_consultas_atraves_da_linguagem_SQL_para_exportar_informacoes_e_compartilhar_com_as_areas_de_negocio</th><th>P7_d_4_Utilizando_API_s_para_extrair_dados_e_complementar_minhas_analises</th><th>P7_d_5_Realizando_experimentos_e_estudos_utilizando_metodologias_estatisticas_como_teste_de_hipotese_modelos_de_regressao_etc</th><th>P7_d_6_Desenvolvendo_cuidando_da_manutencao_de_ETL_s_utilizando_tecnologias_como_Talend_Pentaho_Airflow_Dataflow_etc</th><th>P7_d_7_Atuando_na_modelagem_dos_dados_com_o_objetivo_de_criar_conjuntos_de_dados_Data_Warehouses_Data_Marts_etc</th><th>P7_d_8_Desenvolvendo_cuidando_da_manutencao_de_planilhas_do_Excel_ou_Google_Sheets_para_atender_as_areas_de_negocio</th><th>P7_d_9_Utilizando_ferramentas_avancadas_de_estatistica_como_SAS_SPSS_Stata_etc_para_realizar_analises</th><th>P7_d_10_Nenhuma_das_opcoes_listadas_refletem_meu_dia_a_dia</th><th>P8_a_Quais_das_opcoes_abaixo_fazem_parte_da_sua_rotina_no_trabalho_atual_com_ciencia_de_dados</th><th>P8_a_1_Estudos_Ad_hoc_com_o_objetivo_de_confirmar_hipoteses_realizar_modelos_preditivos_forecasts_analise_de_cluster_para_resolver_problemas_pontuais_e_responder_perguntas_das_areas_de_negocio</th><th>P8_a_2_Sou_responsavel_pela_coleta_e_limpeza_dos_dados_que_uso_para_analise_e_modelagem</th><th>P8_a_3_Sou_responsavel_por_entrar_em_contato_com_os_times_de_negocio_para_definicao_do_problema_identificar_a_solucao_e_apresentacao_de_resultados</th><th>P8_a_4_Desenvolvo_modelos_de_Machine_Learning_com_o_objetivo_de_colocar_em_producao_em_sistemas_produtos_de_dados</th><th>P8_a_5_Sou_responsavel_por_colocar_modelos_em_producao_criar_os_pipelines_de_dados_APIs_de_consumo_e_monitoramento</th><th>P8_a_6_Cuido_da_manutencao_de_modelos_de_Machine_Learning_ja_em_producao_atuando_no_monitoramento_ajustes_e_refatoracao_quando_necessario</th><th>P8_a_7_Realizo_construcoes_de_dashboards_em_ferramentas_de_BI_como_PowerBI_Tableau_Looker_Qlik_etc</th><th>P8_a_8_Utilizo_ferramentas_avancadas_de_estatistica_como_SAS_SPSS_Stata_etc_para_realizar_analises_estatisticas_e_ajustar_modelos</th><th>P8_a_9_Crio_e_dou_manutencao_em_ETLs_DAGs_e_automacoes_de_pipelines_de_dados</th><th>P8_a_10_Crio_e_gerencio_solucoes_de_Feature_Store_e_cultura_de_MLOps</th><th>P8_a_11_Sou_responsavel_por_criar_e_manter_a_infra_que_meus_modelos_e_solucoes_rodam_clusters_servidores_API_containers_etc</th><th>P8_a_12_Treino_e_aplico_LLM_s_para_solucionar_problemas_de_negocio</th><th>P8_b_Quais_as_tecnicas_e_metodos_listados_abaixo_voce_costuma_utilizar_no_trabalho</th><th>P8_b_1_Utilizo_modelos_de_regressao_linear_logistica_GLM</th><th>P8_b_2_Utilizo_redes_neurais_ou_modelos_baseados_em_arvore_para_criar_modelos_de_classificacao</th><th>P8_b_3_Desenvolvo_sistemas_de_recomendacao_RecSys</th><th>P8_b_4_Utilizo_metodos_estatisticos_Bayesianos_para_analisar_dados</th><th>P8_b_5_Utilizo_tecnicas_de_NLP_Natural_Language_Processing_para_analisar_dados_nao_estruturados</th><th>P8_b_6_Utilizo_metodos_estatisticos_classicos_Testes_de_hipotese_analise_multivariada_sobrevivencia_dados_longitudinais_inferencia_estatistica_para_analisar_dados</th><th>P8_b_7_Utilizo_cadeias_de_Markov_ou_HMM_s_para_realizar_analises_de_dados</th><th>P8_b_8_Desenvolvo_tecnicas_de_Clusterizacao_K_means_Spectral_DBScan_etc</th><th>P8_b_9_Realizo_previsoes_atraves_de_modelos_de_Series_Temporais_Time_Series</th><th>P8_b_10_Utilizo_modelos_de_Reinforcement_Learning_aprendizado_por_reforco</th><th>P8_b_11_Utilizo_modelos_de_Machine_Learning_para_deteccao_de_fraude</th><th>P8_b_12_Utilizo_metodos_de_Visao_Computacional</th><th>P8_b_13_Utilizo_modelos_de_Deteccao_de_Churn</th><th>P8_b_14_Utilizo_LLM_s_para_solucionar_problemas_de_negocio</th><th>P8_3_Quais_dessas_tecnologias_fazem_parte_do_seu_dia_a_dia_como_cientista_de_dados</th><th>P8_c_1_Ferramentas_de_BI_PowerBI_Looker_Tableau_Qlik_etc</th><th>P8_c_2_Planilhas_Excel_Google_Sheets_etc</th><th>P8_c_3_Ambientes_de_desenvolvimento_local_R_studio_JupyterLab_Anaconda</th><th>P8_c_4_Ambientes_de_desenvolvimento_na_nuvem_Google_Colab_AWS_Sagemaker_Kaggle_Notebooks_etc</th><th>P8_c_5_Ferramentas_de_AutoML_Datarobot_H2O_Auto_Keras_etc</th><th>P8_c_6_Ferramentas_de_ETL_Apache_Airflow_NiFi_Stitch_Fivetran_Pentaho_etc</th><th>P8_c_7_Plataformas_de_Machine_Learning_TensorFlow_Azure_Machine_Learning_Kubeflow_etc</th><th>P8_c_8_Feature_Store_Feast_Hopsworks_AWS_Feature_Store_Databricks_Feature_Store_etc</th><th>P8_c_9_Sistemas_de_controle_de_versao_Github_DVC_Neptune_Gitlab_etc</th><th>P8_c_10_Plataformas_de_Data_Apps_Streamlit_Shiny_Plotly_Dash_etc</th><th>P8_c_11_Ferramentas_de_estatistica_avancada_como_SPSS_SAS_etc</th><th>P8_d_Em_qual_das_opcoes_abaixo_voce_gasta_a_maior_parte_do_seu_tempo_no_trabalho</th><th>P8_d_1_Estudos_Ad_hoc_com_o_objetivo_de_confirmar_hipoteses_realizar_modelos_preditivos_forecasts_analise_de_cluster_para_resolver_problemas_pontuais_e_responder_perguntas_das_areas_de_negocio</th><th>P8_d_2_Coletando_e_limpando_os_dados_que_uso_para_analise_e_modelagem</th><th>P8_d_3_Entrando_em_contato_com_os_times_de_negocio_para_definicao_do_problema_identificar_a_solucao_e_apresentacao_de_resultados</th><th>P8_d_4_Desenvolvendo_modelos_de_Machine_Learning_com_o_objetivo_de_colocar_em_producao_em_sistemas_produtos_de_dados</th><th>P8_d_5_Colocando_modelos_em_producao_criando_os_pipelines_de_dados_APIs_de_consumo_e_monitoramento</th><th>P8_d_6_Cuidando_da_manutencao_de_modelos_de_Machine_Learning_ja_em_producao_atuando_no_monitoramento_ajustes_e_refatoracao_quando_necessario</th><th>P8_d_7_Realizando_construcoes_de_dashboards_em_ferramentas_de_BI_como_PowerBI_Tableau_Looker_Qlik_etc</th><th>P8_d_8_Utilizando_ferramentas_avancadas_de_estatistica_como_SAS_SPSS_Stata_etc_para_realizar_analises</th><th>P8_d_9_Criando_e_dando_manutencao_em_ETLs_DAGs_e_automacoes_de_pipelines_de_dados</th><th>P8_d_10_Criando_e_gerenciando_solucoes_de_Feature_Store_e_cultura_de_MLOps</th><th>P8_d_11_Criando_e_mantendo_a_infra_que_meus_modelos_e_solucoes_rodam_clusters_servidores_API_containers_etc</th><th>P8_d_12_Treinando_e_aplicando_LLM_s_para_solucionar_problemas_de_negocio</th><th>ID</th><th>IDADE</th><th>FAIXA_IDADE</th><th>GENERO</th><th>COR_RACA_ETNIA</th><th>PCD</th><th>EXPERIENCIA_PROFISSIONAL_PREJUDICADA</th><th>NAO_ACREDITO_EXPERIENCIA_AFETADA</th><th>EXPERIENCIA_PREJUDICADA_COR_RACA_ETNIA</th><th>EXPERIENCIA_PREJUDICADA_IDENTIDADE_GENERO</th><th>EXPERIENCIA_PREJUDICADA_PCD</th><th>ASPECTOS_PREJUDICADOS</th><th>QTDE_OPORTUNIDADES_EMPREGOS</th><th>SENIORIDADE_VAGAS</th><th>APROVACAO_PROCESSOS_SELETIVOS</th><th>OPORTUNIDADES_PROGRESSION_CARREIRA</th><th>VELOCIDADE_PROGRESSAO_CARREIRA</th><th>NIVEL_COBRANCA_STRESS</th><th>ATENCAO_OPINICOES_IDEIAS</th><th>RELACAO_TRABALHO</th><th>RELACAO_INTEGRACAO</th><th>VIVE_NO_BRASIL</th><th>ESTADO_ONDE_MORA</th><th>UF_ONDE_MORA</th><th>REGIAO_ONDE_MORA</th><th>MUDOU_DE_ESTADO</th><th>REGIAO_DE_ORIGEM</th><th>NIVEL_DE_ENSINO</th><th>AREA_DE_FORMACAO</th></tr></thead><tbody><tr><td>001b2d1qtli8t9z7oqgdhj001b2d4i0g</td><td>31</td><td>30-34</td><td>Masculino</td><td>Branca</td><td>Não</td><td>null</td><td>null</td><td>null</td><td>null</td><td>null</td><td>null</td><td>null</td><td>null</td><td>null</td><td>null</td><td>null</td><td>null</td><td>null</td><td>null</td><td>null</td><td>1</td><td>Minas Gerais (MG)</td><td>MG</td><td>Sudeste</td><td>1</td><td>null</td><td>Doutorado ou Phd</td><td>Computação / Engenharia de Software / Sistemas de Informação/ TI</td><td>Empregado (CLT)</td><td>Finanças ou Bancos</td><td>Acima de 3.000</td><td>0</td><td>null</td><td>Cientista de Dados/Data Scientist</td><td>Sênior</td><td>de R$ 12.001/mês a R$ 16.000/mês</td><td>de 3 a 4 anos</td><td>Não tive experiência na área de TI/Engenharia de Software antes de começar a trabalhar na área de dados</td><td>0</td><td>Trabalho presencial</td><td>0</td><td>0</td><td>0</td><td>0</td><td>0</td><td>0</td><td>0</td><td>Sim, fiz entrevistas mas não fui aprovado (ou ainda aguardo resposta)</td><td>Estou em busca de oportunidades dentro ou fora do Brasil</td><td>Flexibilidade de trabalho remoto, Remuneração/Salário, Oportunidade de aprendizado e trabalhar com referências na área</td><td>1</td><td>0</td><td>0</td><td>1</td><td>0</td><td>1</td><td>0</td><td>0</td><td>0</td><td>0</td><td>Não ocorreram layoffs/demissões em massa na empresa em que trabalho</td><td>Modelo híbrido flexível (o funcionário tem liberdade para escolher quando estar no escritório presencialmente)</td><td>Modelo 100% remoto</td><td>Vou procurar outra oportunidade no modelo 100% remoto</td><td>null</td><td>null</td><td>null</td><td>null</td><td>null</td><td>null</td><td>null</td><td>null</td><td>null</td><td>null</td><td>null</td><td>null</td><td>null</td><td>null</td><td>null</td><td>null</td><td>null</td><td>null</td><td>null</td><td>null</td><td>null</td><td>null</td><td>null</td><td>null</td><td>null</td><td>null</td><td>null</td><td>null</td><td>null</td><td>null</td><td>null</td><td>null</td><td>null</td><td>null</td><td>null</td><td>null</td><td>null</td><td>null</td><td>null</td><td>null</td><td>null</td><td>null</td><td>null</td><td>null</td><td>null</td><td>null</td><td>null</td><td>null</td><td>null</td><td>null</td><td>null</td><td>null</td><td>null</td><td>null</td><td>null</td><td>null</td><td>null</td><td>null</td><td>*Ciência de Dados/Machine Learning/AI: *Desenha e executa experimentos com o objetivo de responder perguntas do negócio; desenvolve modelos preditivos e algoritmos de Machine Learning com o objetivo de otimizar e automatizar a tomada de decisão.</td><td>Ciência de Dados</td><td>Dados relacionais (estruturados em bancos SQL), Textos/Documentos, Dados armazenados em bancos NoSQL, Planilhas, Áudios, Dados georeferenciados</td><td>1</td><td>1</td><td>0</td><td>1</td><td>0</td><td>1</td><td>1</td><td>1</td><td>Textos/Documentos, Dados relacionais (estruturados em bancos SQL)</td><td>1</td><td>0</td><td>0</td><td>1</td><td>0</td><td>0</td><td>0</td><td>0</td><td>Python, SQL</td><td>1</td><td>0</td><td>1</td><td>0</td><td>0</td><td>0</td><td>0</td><td>0</td><td>0</td><td>0</td><td>0</td><td>0</td><td>0</td><td>0</td><td>0</td><td>Python</td><td>Python</td><td>SQLite, SQL SERVER, S3, Redis, Hive</td><td>0</td><td>0</td><td>1</td><td>0</td><td>0</td><td>0</td><td>0</td><td>0</td><td>0</td><td>0</td><td>1</td><td>0</td><td>0</td><td>0</td><td>0</td><td>1</td><td>0</td><td>0</td><td>0</td><td>1</td><td>0</td><td>0</td><td>0</td><td>0</td><td>0</td><td>0</td><td>0</td><td>0</td><td>0</td><td>0</td><td>0</td><td>1</td><td>0</td><td>Amazon Web Services (AWS)</td><td>1</td><td>0</td><td>0</td><td>0</td><td>0</td><td>0</td><td>0</td><td>Amazon Web Services (AWS)</td><td>Não utilizo nenhuma ferramenta de BI no trabalho</td><td>0</td><td>0</td><td>0</td><td>0</td><td>0</td><td>0</td><td>0</td><td>0</td><td>0</td><td>0</td><td>0</td><td>0</td><td>0</td><td>0</td><td>0</td><td>0</td><td>0</td><td>0</td><td>0</td><td>0</td><td>0</td><td>0</td><td>1</td><td>Streamlit</td><td>Uma ou mais equipes testando e aplicando soluções de AI Generativa e LLMs, com o objetivo de propor melhorias e inovações para impulsionar a diferenciação de produtos oferecidos para os clientes finais (exemplo: novos recursos, produtos, serviços etc), Uma ou mais equipes testando e aplicando soluções de AI Generativa e LLMs, com o objetivo de aumentar a eficiencia de processos internos (como produtividade das equipes internas, ou melhoria de processos existentes)., Equipes de desenvolvimento utilizando soluções no estilo Copilot (Github Copilot, AWS CodeWhisperer etc) para obter mais produtividade no processo de desenvolvimento.</td><td>0</td><td>0</td><td>1</td><td>1</td><td>1</td><td>0</td><td>0</td><td>0</td><td>Não utilizo nenhum tipo de solução de IA Generativa para melhorar a produtividade no dia a dia.</td><td>1</td><td>0</td><td>0</td><td>0</td><td>0</td><td>null</td><td>null</td><td>null</td><td>null</td><td>null</td><td>null</td><td>null</td><td>null</td><td>null</td><td>null</td><td>null</td><td>null</td><td>null</td><td>null</td><td>null</td><td>null</td><td>null</td><td>null</td><td>null</td><td>null</td><td>null</td><td>null</td><td>null</td><td>null</td><td>null</td><td>null</td><td>null</td><td>null</td><td>null</td><td>null</td><td>null</td><td>null</td><td>null</td><td>null</td><td>null</td><td>null</td><td>null</td><td>null</td><td>null</td><td>null</td><td>null</td><td>null</td><td>null</td><td>null</td><td>null</td><td>null</td><td>null</td><td>null</td><td>null</td><td>null</td><td>null</td><td>null</td><td>null</td><td>null</td><td>null</td><td>null</td><td>null</td><td>null</td><td>null</td><td>null</td><td>null</td><td>null</td><td>null</td><td>null</td><td>null</td><td>null</td><td>null</td><td>null</td><td>null</td><td>null</td><td>null</td><td>null</td><td>null</td><td>null</td><td>null</td><td>null</td><td>null</td><td>null</td><td>null</td><td>null</td><td>null</td><td>null</td><td>null</td><td>null</td><td>null</td><td>null</td><td>null</td><td>null</td><td>null</td><td>null</td><td>null</td><td>null</td><td>null</td><td>null</td><td>null</td><td>null</td><td>null</td><td>null</td><td>null</td><td>null</td><td>null</td><td>null</td><td>Treinando e aplicando LLM's para solucionar problemas de negócio., Sou responsável por entrar em contato com os times de negócio para definição do problema, identificar a solução e apresentação de resultados., Sou responsável pela coleta e limpeza dos dados que uso para análise e modelagem.</td><td>0</td><td>1</td><td>1</td><td>0</td><td>0</td><td>0</td><td>0</td><td>0</td><td>0</td><td>0</td><td>0</td><td>1</td><td>Utilizo técnicas de NLP (Natural Language Processing) para análisar dados não-estruturados.</td><td>0</td><td>0</td><td>0</td><td>0</td><td>1</td><td>0</td><td>0</td><td>0</td><td>0</td><td>0</td><td>0</td><td>0</td><td>0</td><td>0</td><td>Planilhas (Excel, Google Sheets etc)., Ambientes de desenvolvimento na nuvem (Google Colab, AWS Sagemaker, Kaggle Notebooks etc)., Sistemas de controle de versão (Github, DVC, Neptune, Gitlab etc)., Plataformas de Data Apps (Streamlit, Shiny, Plotly Dash etc).</td><td>0</td><td>1</td><td>0</td><td>1</td><td>0</td><td>0</td><td>0</td><td>0</td><td>1</td><td>1</td><td>0</td><td>Coletando e limpando dos dados que uso para análise e modelagem., Entrando em contato com os times de negócio para definição do problema, identificar a solução e apresentação de resultados.</td><td>0</td><td>1</td><td>1</td><td>0</td><td>0</td><td>0</td><td>0</td><td>0</td><td>0</td><td>0</td><td>0</td><td>0</td><td>null</td><td>null</td><td>null</td><td>null</td><td>null</td><td>null</td><td>null</td><td>null</td><td>null</td><td>null</td><td>null</td><td>null</td><td>null</td><td>null</td><td>null</td><td>null</td><td>null</td><td>null</td><td>null</td><td>null</td><td>null</td><td>null</td><td>null</td><td>null</td><td>null</td><td>null</td><td>null</td><td>null</td><td>null</td><td>null</td><td>null</td></tr><tr><td>0026aa3fwd78u0026asg7456tfkjg2cs</td><td>30</td><td>30-34</td><td>Masculino</td><td>Branca</td><td>Não</td><td>null</td><td>null</td><td>null</td><td>null</td><td>null</td><td>null</td><td>null</td><td>null</td><td>null</td><td>null</td><td>null</td><td>null</td><td>null</td><td>null</td><td>null</td><td>1</td><td>Espírito Santo (ES)</td><td>ES</td><td>Sudeste</td><td>1</td><td>null</td><td>Graduação/Bacharelado</td><td>Computação / Engenharia de Software / Sistemas de Informação/ TI</td><td>Empreendedor ou Empregado (CNPJ)</td><td>Finanças ou Bancos</td><td>de 101 a 500</td><td>0</td><td>null</td><td>Analista de BI/BI Analyst</td><td>Pleno</td><td>de R$ 6.001/mês a R$ 8.000/mês</td><td>de 3 a 4 anos</td><td>de 3 a 4 anos</td><td>1</td><td>null</td><td>null</td><td>null</td><td>null</td><td>null</td><td>null</td><td>null</td><td>null</td><td>Sim, fui aprovado mas decidi não mudar de emprego</td><td>Não estou buscando, mas me considero aberto a outras oportunidades</td><td>Remuneração/Salário, Benefícios, Flexibilidade de trabalho remoto</td><td>1</td><td>1</td><td>0</td><td>1</td><td>0</td><td>0</td><td>0</td><td>0</td><td>0</td><td>0</td><td>Não ocorreram layoffs/demissões em massa na empresa em que trabalho</td><td>Modelo 100% remoto</td><td>Modelo 100% remoto</td><td>Vou procurar outra oportunidade no modelo híbrido ou remoto</td><td>null</td><td>null</td><td>null</td><td>null</td><td>null</td><td>null</td><td>null</td><td>null</td><td>null</td><td>null</td><td>null</td><td>null</td><td>null</td><td>null</td><td>null</td><td>null</td><td>null</td><td>null</td><td>null</td><td>null</td><td>null</td><td>null</td><td>null</td><td>null</td><td>null</td><td>null</td><td>null</td><td>null</td><td>null</td><td>null</td><td>null</td><td>null</td><td>null</td><td>null</td><td>null</td><td>null</td><td>null</td><td>null</td><td>null</td><td>null</td><td>null</td><td>null</td><td>null</td><td>null</td><td>null</td><td>null</td><td>null</td><td>null</td><td>null</td><td>null</td><td>null</td><td>null</td><td>null</td><td>null</td><td>null</td><td>null</td><td>null</td><td>null</td><td>*Análise de Dados/BI:* Extrai e cruza dados unindo diferentes fontes da informação; analisa dados visando identificar padrões, gerar insights e levantar perguntas; desenvolve dashboards, relatórios e visualizações de dados em ferramentas de BI.</td><td>Análise de Dados</td><td>Dados relacionais (estruturados em bancos SQL), Dados armazenados em bancos NoSQL, Imagens, Vídeos</td><td>1</td><td>1</td><td>1</td><td>0</td><td>1</td><td>0</td><td>0</td><td>0</td><td>Dados relacionais (estruturados em bancos SQL)</td><td>1</td><td>0</td><td>0</td><td>0</td><td>0</td><td>0</td><td>0</td><td>0</td><td>SQL, Python</td><td>1</td><td>0</td><td>1</td><td>0</td><td>0</td><td>0</td><td>0</td><td>0</td><td>0</td><td>0</td><td>0</td><td>0</td><td>0</td><td>0</td><td>0</td><td>SQL</td><td>Python</td><td>S3</td><td>0</td><td>0</td><td>0</td><td>0</td><td>0</td><td>0</td><td>0</td><td>0</td><td>0</td><td>0</td><td>1</td><td>0</td><td>0</td><td>0</td><td>0</td><td>0</td><td>0</td><td>0</td><td>0</td><td>0</td><td>0</td><td>0</td><td>0</td><td>0</td><td>0</td><td>0</td><td>0</td><td>0</td><td>0</td><td>0</td><td>0</td><td>0</td><td>0</td><td>Google Cloud (GCP), Amazon Web Services (AWS)</td><td>1</td><td>1</td><td>0</td><td>0</td><td>0</td><td>0</td><td>0</td><td>Google Cloud (GCP)</td><td>Looker, Microsoft PowerBI</td><td>1</td><td>0</td><td>0</td><td>0</td><td>0</td><td>0</td><td>1</td><td>0</td><td>0</td><td>0</td><td>0</td><td>0</td><td>0</td><td>0</td><td>0</td><td>0</td><td>0</td><td>0</td><td>0</td><td>0</td><td>0</td><td>0</td><td>0</td><td>Looker</td><td>Não tenho visto soluções de IA Generatica e LLMs sendo tradadas como prioridade pela empresa e pessoas, os poucos casos de uso são isolados ou ainda estão muito no início.</td><td>0</td><td>0</td><td>0</td><td>0</td><td>0</td><td>0</td><td>1</td><td>0</td><td>Utilizo soluções pagas de AI Generativa (como por exemplo ChatGPT plus, MidJourney etc) e pago do meu próprio bolso.</td><td>0</td><td>0</td><td>1</td><td>0</td><td>0</td><td>null</td><td>null</td><td>null</td><td>null</td><td>null</td><td>null</td><td>null</td><td>null</td><td>null</td><td>null</td><td>null</td><td>null</td><td>null</td><td>null</td><td>null</td><td>null</td><td>null</td><td>null</td><td>null</td><td>null</td><td>null</td><td>null</td><td>null</td><td>null</td><td>null</td><td>null</td><td>null</td><td>null</td><td>null</td><td>null</td><td>null</td><td>null</td><td>null</td><td>null</td><td>null</td><td>null</td><td>null</td><td>null</td><td>null</td><td>null</td><td>null</td><td>null</td><td>null</td><td>null</td><td>null</td><td>null</td><td>null</td><td>null</td><td>null</td><td>null</td><td>null</td><td>Processo e analiso dados utilizando linguagens de programação como Python, R etc., Crio consultas através da linguagem SQL para exportar informações e compartilhar com as áreas de negócio.</td><td>1</td><td>0</td><td>1</td><td>0</td><td>0</td><td>0</td><td>0</td><td>0</td><td>0</td><td>0</td><td>Pentaho, Databricks</td><td>0</td><td>0</td><td>0</td><td>0</td><td>0</td><td>0</td><td>0</td><td>1</td><td>0</td><td>0</td><td>0</td><td>0</td><td>0</td><td>0</td><td>0</td><td>0</td><td>0</td><td>0</td><td>0</td><td>1</td><td>0</td><td>Não sei informar., Ferramentas de análise dentro de ferramentas de CRM como Salesforce Einstein Anaytics ou Zendesk dashboards.</td><td>0</td><td>0</td><td>0</td><td>1</td><td>0</td><td>1</td><td>Realizando experimentos e estudos utilizando metodologias estatísticas como teste de hipótese, modelos de regressão etc.</td><td>0</td><td>0</td><td>0</td><td>0</td><td>1</td><td>0</td><td>0</td><td>0</td><td>0</td><td>0</td><td>null</td><td>null</td><td>null</td><td>null</td><td>null</td><td>null</td><td>null</td><td>null</td><td>null</td><td>null</td><td>null</td><td>null</td><td>null</td><td>null</td><td>null</td><td>null</td><td>null</td><td>null</td><td>null</td><td>null</td><td>null</td><td>null</td><td>null</td><td>null</td><td>null</td><td>null</td><td>null</td><td>null</td><td>null</td><td>null</td><td>null</td><td>null</td><td>null</td><td>null</td><td>null</td><td>null</td><td>null</td><td>null</td><td>null</td><td>null</td><td>null</td><td>null</td><td>null</td><td>null</td><td>null</td><td>null</td><td>null</td><td>null</td><td>null</td><td>null</td><td>null</td><td>null</td><td>null</td><td>null</td><td>null</td><td>null</td><td>null</td><td>null</td><td>null</td><td>null</td><td>null</td><td>null</td><td>null</td><td>null</td><td>null</td><td>null</td><td>null</td><td>null</td><td>null</td><td>null</td><td>null</td><td>null</td><td>null</td><td>null</td><td>null</td><td>null</td><td>null</td><td>null</td><td>null</td><td>null</td><td>null</td><td>null</td><td>null</td><td>null</td></tr><tr><td>00r21rb9pusd1b0v7ew00r21rw3dy69w</td><td>37</td><td>35-39</td><td>Feminino</td><td>Amarela</td><td>Não</td><td>Sim, acredito que a minha a experiência profissional seja afetada devido a minha identidade de gênero</td><td>0</td><td>0</td><td>1</td><td>0</td><td>Atenção dada pelas pessoas diante das minhas opiniões e ideias, Aprovação em processos seletivos/entrevistas, Quantidade de oportunidades de emprego/vagas recebidas</td><td>1</td><td>0</td><td>1</td><td>0</td><td>0</td><td>0</td><td>1</td><td>0</td><td>0</td><td>1</td><td>São Paulo (SP)</td><td>SP</td><td>Sudeste</td><td>1</td><td>null</td><td>Graduação/Bacharelado</td><td>Computação / Engenharia de Software / Sistemas de Informação/ TI</td><td>Empregado (CLT)</td><td>Finanças ou Bancos</td><td>Acima de 3.000</td><td>0</td><td>null</td><td>Analista de Dados/Data Analyst</td><td>Júnior</td><td>de R$ 6.001/mês a R$ 8.000/mês</td><td>de 1 a 2 anos</td><td>Menos de 1 ano</td><td>1</td><td>null</td><td>null</td><td>null</td><td>null</td><td>null</td><td>null</td><td>null</td><td>null</td><td>Não participei de entrevistas de emprego/processos seletivos nos últimos 6 meses</td><td>Não estou buscando, mas me considero aberto a outras oportunidades</td><td>Flexibilidade de trabalho remoto, Remuneração/Salário, Ambiente e clima de trabalho</td><td>1</td><td>0</td><td>0</td><td>1</td><td>1</td><td>0</td><td>0</td><td>0</td><td>0</td><td>0</td><td>Sim, ocorreram layoffs/demissões em massa na empresa em que trabalho mas não fui afetado</td><td>Modelo híbrido flexível (o funcionário tem liberdade para escolher quando estar no escritório presencialmente)</td><td>Modelo 100% remoto</td><td>Vou aceitar e retornar ao modelo 100% presencial</td><td>null</td><td>null</td><td>null</td><td>null</td><td>null</td><td>null</td><td>null</td><td>null</td><td>null</td><td>null</td><td>null</td><td>null</td><td>null</td><td>null</td><td>null</td><td>null</td><td>null</td><td>null</td><td>null</td><td>null</td><td>null</td><td>null</td><td>null</td><td>null</td><td>null</td><td>null</td><td>null</td><td>null</td><td>null</td><td>null</td><td>null</td><td>null</td><td>null</td><td>null</td><td>null</td><td>null</td><td>null</td><td>null</td><td>null</td><td>null</td><td>null</td><td>null</td><td>null</td><td>null</td><td>null</td><td>null</td><td>null</td><td>null</td><td>null</td><td>null</td><td>null</td><td>null</td><td>null</td><td>null</td><td>null</td><td>null</td><td>null</td><td>null</td><td>*Ciência de Dados/Machine Learning/AI: *Desenha e executa experimentos com o objetivo de responder perguntas do negócio; desenvolve modelos preditivos e algoritmos de Machine Learning com o objetivo de otimizar e automatizar a tomada de decisão.</td><td>Ciência de Dados</td><td>Dados relacionais (estruturados em bancos SQL), Textos/Documentos, Planilhas</td><td>1</td><td>0</td><td>0</td><td>1</td><td>0</td><td>0</td><td>1</td><td>0</td><td>Dados relacionais (estruturados em bancos SQL), Textos/Documentos</td><td>1</td><td>0</td><td>0</td><td>1</td><td>0</td><td>0</td><td>0</td><td>0</td><td>SQL, Python, SAS/Stata</td><td>1</td><td>0</td><td>1</td><td>0</td><td>0</td><td>0</td><td>0</td><td>1</td><td>0</td><td>0</td><td>0</td><td>0</td><td>0</td><td>0</td><td>0</td><td>SQL</td><td>Python</td><td>S3, Amazon Athena, Hive</td><td>0</td><td>0</td><td>0</td><td>0</td><td>0</td><td>0</td><td>0</td><td>0</td><td>0</td><td>0</td><td>1</td><td>0</td><td>0</td><td>0</td><td>0</td><td>0</td><td>0</td><td>0</td><td>0</td><td>0</td><td>0</td><td>0</td><td>0</td><td>0</td><td>1</td><td>0</td><td>0</td><td>0</td><td>0</td><td>0</td><td>0</td><td>1</td><td>0</td><td>Amazon Web Services (AWS)</td><td>1</td><td>0</td><td>0</td><td>0</td><td>0</td><td>0</td><td>0</td><td>Amazon Web Services (AWS)</td><td>Salesforce/Einstein Analytics, Amazon Quicksight, Tableau, Fazemos todas as análises utilizando apenas Excel ou planilhas do google, Amazon Quicksight, Alteryx</td><td>0</td><td>0</td><td>1</td><td>0</td><td>0</td><td>0</td><td>0</td><td>0</td><td>1</td><td>0</td><td>1</td><td>0</td><td>0</td><td>0</td><td>0</td><td>1</td><td>0</td><td>0</td><td>0</td><td>0</td><td>0</td><td>1</td><td>0</td><td>Amazon Quicksight</td><td>Colaboradores utilizando soluções baseadas em AI Generativa (como o ChatGPT por exemplo) de forma independente, com o objetivo de melhorar sua produtividade no dia a dia, sem um direcionamento centralizado., Equipes de desenvolvimento utilizando soluções no estilo Copilot (Github Copilot, AWS CodeWhisperer etc) para obter mais produtividade no processo de desenvolvimento., Uma ou mais equipes testando e aplicando soluções de AI Generativa e LLMs, com o objetivo de propor melhorias e inovações para impulsionar a diferenciação de produtos oferecidos para os clientes finais (exemplo: novos recursos, produtos, serviços etc), Uma ou mais equipes testando e aplicando soluções de AI Generativa e LLMs, com o objetivo de aumentar a eficiencia de processos internos (como produtividade das equipes internas, ou melhoria de processos existentes).</td><td>1</td><td>0</td><td>1</td><td>1</td><td>1</td><td>0</td><td>0</td><td>0</td><td>Utilizo apenas soluções gratuitas (como por exemplo o ChatGPT), para me ajudar a ser mais produtivo no dia a dia.</td><td>0</td><td>1</td><td>0</td><td>0</td><td>0</td><td>null</td><td>null</td><td>null</td><td>null</td><td>null</td><td>null</td><td>null</td><td>null</td><td>null</td><td>null</td><td>null</td><td>null</td><td>null</td><td>null</td><td>null</td><td>null</td><td>null</td><td>null</td><td>null</td><td>null</td><td>null</td><td>null</td><td>null</td><td>null</td><td>null</td><td>null</td><td>null</td><td>null</td><td>null</td><td>null</td><td>null</td><td>null</td><td>null</td><td>null</td><td>null</td><td>null</td><td>null</td><td>null</td><td>null</td><td>null</td><td>null</td><td>null</td><td>null</td><td>null</td><td>null</td><td>null</td><td>null</td><td>null</td><td>null</td><td>null</td><td>null</td><td>null</td><td>null</td><td>null</td><td>null</td><td>null</td><td>null</td><td>null</td><td>null</td><td>null</td><td>null</td><td>null</td><td>null</td><td>null</td><td>null</td><td>null</td><td>null</td><td>null</td><td>null</td><td>null</td><td>null</td><td>null</td><td>null</td><td>null</td><td>null</td><td>null</td><td>null</td><td>null</td><td>null</td><td>null</td><td>null</td><td>null</td><td>null</td><td>null</td><td>null</td><td>null</td><td>null</td><td>null</td><td>null</td><td>null</td><td>null</td><td>null</td><td>null</td><td>null</td><td>null</td><td>null</td><td>null</td><td>null</td><td>null</td><td>null</td><td>null</td><td>null</td><td>Sou responsável pela coleta e limpeza dos dados que uso para análise e modelagem., Sou responsável por entrar em contato com os times de negócio para definição do problema, identificar a solução e apresentação de resultados.</td><td>0</td><td>1</td><td>1</td><td>0</td><td>0</td><td>0</td><td>0</td><td>0</td><td>0</td><td>0</td><td>0</td><td>0</td><td>Utilizo redes neurais ou modelos baseados em árvore para criar modelos de classificação., Utilizo técnicas de NLP (Natural Language Processing) para análisar dados não-estruturados.</td><td>0</td><td>1</td><td>0</td><td>0</td><td>1</td><td>0</td><td>0</td><td>0</td><td>0</td><td>0</td><td>0</td><td>0</td><td>0</td><td>0</td><td>Ambientes de desenvolvimento na nuvem (Google Colab, AWS Sagemaker, Kaggle Notebooks etc)., Ambientes de desenvolvimento local (R-studio, JupyterLab, Anaconda)., Sistemas de controle de versão (Github, DVC, Neptune, Gitlab etc)., Planilhas (Excel, Google Sheets etc).</td><td>0</td><td>1</td><td>1</td><td>1</td><td>0</td><td>0</td><td>0</td><td>0</td><td>1</td><td>0</td><td>0</td><td>Coletando e limpando dos dados que uso para análise e modelagem., Entrando em contato com os times de negócio para definição do problema, identificar a solução e apresentação de resultados.</td><td>0</td><td>1</td><td>1</td><td>0</td><td>0</td><td>0</td><td>0</td><td>0</td><td>0</td><td>0</td><td>0</td><td>0</td><td>null</td><td>null</td><td>null</td><td>null</td><td>null</td><td>null</td><td>null</td><td>null</td><td>null</td><td>null</td><td>null</td><td>null</td><td>null</td><td>null</td><td>null</td><td>null</td><td>null</td><td>null</td><td>null</td><td>null</td><td>null</td><td>null</td><td>null</td><td>null</td><td>null</td><td>null</td><td>null</td><td>null</td><td>null</td><td>null</td><td>null</td></tr><tr><td>00urm3jf2cek12w6ygue00urm3jzd17j</td><td>22</td><td>22-24</td><td>Masculino</td><td>Preta</td><td>Não</td><td>Não acredito que minha experiência profissional seja afetada devido a esses fatores</td><td>1</td><td>0</td><td>0</td><td>0</td><td>null</td><td>null</td><td>null</td><td>null</td><td>null</td><td>null</td><td>null</td><td>null</td><td>null</td><td>null</td><td>1</td><td>São Paulo (SP)</td><td>SP</td><td>Sudeste</td><td>1</td><td>null</td><td>Estudante de Graduação</td><td>Computação / Engenharia de Software / Sistemas de Informação/ TI</td><td>Desempregado, buscando recolocação</td><td>null</td><td>null</td><td>null</td><td>null</td><td>null</td><td>null</td><td>null</td><td>null</td><td>null</td><td>null</td><td>null</td><td>null</td><td>null</td><td>null</td><td>null</td><td>null</td><td>null</td><td>null</td><td>null</td><td>null</td><td>null</td><td>null</td><td>null</td><td>null</td><td>null</td><td>null</td><td>null</td><td>null</td><td>null</td><td>null</td><td>null</td><td>null</td><td>null</td><td>null</td><td>null</td><td>null</td><td>null</td><td>null</td><td>null</td><td>null</td><td>null</td><td>null</td><td>null</td><td>null</td><td>null</td><td>null</td><td>null</td><td>null</td><td>null</td><td>null</td><td>null</td><td>null</td><td>null</td><td>null</td><td>null</td><td>null</td><td>null</td><td>null</td><td>null</td><td>null</td><td>null</td><td>null</td><td>null</td><td>null</td><td>null</td><td>null</td><td>null</td><td>null</td><td>null</td><td>null</td><td>null</td><td>null</td><td>null</td><td>null</td><td>null</td><td>null</td><td>null</td><td>null</td><td>null</td><td>null</td><td>null</td><td>null</td><td>null</td><td>null</td><td>null</td><td>null</td><td>null</td><td>null</td><td>null</td><td>null</td><td>null</td><td>null</td><td>null</td><td>null</td><td>Buscando oportunidade na área de dados</td><td>null</td><td>null</td><td>null</td><td>null</td><td>null</td><td>null</td><td>null</td><td>null</td><td>null</td><td>null</td><td>null</td><td>null</td><td>null</td><td>null</td><td>null</td><td>null</td><td>null</td><td>null</td><td>null</td><td>null</td><td>null</td><td>null</td><td>null</td><td>null</td><td>null</td><td>null</td><td>null</td><td>null</td><td>null</td><td>null</td><td>null</td><td>null</td><td>null</td><td>null</td><td>null</td><td>null</td><td>null</td><td>null</td><td>null</td><td>null</td><td>null</td><td>null</td><td>null</td><td>null</td><td>null</td><td>null</td><td>null</td><td>null</td><td>null</td><td>null</td><td>null</td><td>null</td><td>null</td><td>null</td><td>null</td><td>null</td><td>null</td><td>null</td><td>null</td><td>null</td><td>null</td><td>null</td><td>null</td><td>null</td><td>null</td><td>null</td><td>null</td><td>null</td><td>null</td><td>null</td><td>null</td><td>null</td><td>null</td><td>null</td><td>null</td><td>null</td><td>null</td><td>null</td><td>null</td><td>null</td><td>null</td><td>null</td><td>null</td><td>null</td><td>null</td><td>null</td><td>null</td><td>null</td><td>null</td><td>null</td><td>null</td><td>null</td><td>null</td><td>null</td><td>null</td><td>null</td><td>null</td><td>null</td><td>null</td><td>null</td><td>null</td><td>null</td><td>null</td><td>null</td><td>null</td><td>null</td><td>null</td><td>null</td><td>null</td><td>null</td><td>null</td><td>null</td><td>null</td><td>null</td><td>null</td><td>null</td><td>null</td><td>null</td><td>null</td><td>Migração de carreira: Trabalho em outra área e busco recolocação na área de dados</td><td>Analista de BI/BI Analyst</td><td>7 meses - 1 ano</td><td>Já participei de 1 a 3 entrevistas, mas não fui contratado</td><td>null</td><td>null</td><td>null</td><td>null</td><td>null</td><td>null</td><td>null</td><td>null</td><td>null</td><td>null</td><td>null</td><td>null</td><td>null</td><td>null</td><td>null</td><td>null</td><td>null</td><td>null</td><td>null</td><td>null</td><td>null</td><td>null</td><td>null</td><td>null</td><td>null</td><td>null</td><td>null</td><td>null</td><td>null</td><td>null</td><td>null</td><td>null</td><td>null</td><td>null</td><td>null</td><td>null</td><td>null</td><td>null</td><td>null</td><td>null</td><td>null</td><td>null</td><td>null</td><td>null</td><td>null</td><td>null</td><td>null</td><td>null</td><td>null</td><td>null</td><td>null</td><td>null</td><td>null</td><td>null</td><td>null</td><td>null</td><td>null</td><td>null</td><td>null</td><td>null</td><td>null</td><td>null</td><td>null</td><td>null</td><td>null</td><td>null</td><td>null</td><td>null</td><td>null</td><td>null</td><td>null</td><td>null</td><td>null</td><td>null</td><td>null</td><td>null</td><td>null</td><td>null</td><td>null</td><td>null</td><td>null</td><td>null</td><td>null</td><td>null</td><td>null</td><td>null</td><td>null</td><td>null</td><td>null</td><td>null</td><td>null</td><td>null</td><td>null</td><td>null</td><td>null</td><td>null</td><td>null</td><td>null</td><td>null</td><td>null</td><td>null</td><td>null</td><td>null</td><td>null</td><td>null</td><td>null</td><td>null</td><td>null</td><td>null</td><td>null</td><td>null</td><td>null</td><td>null</td><td>null</td><td>null</td><td>null</td><td>null</td><td>null</td><td>null</td><td>null</td><td>null</td><td>null</td><td>null</td><td>null</td><td>null</td><td>null</td><td>null</td><td>null</td><td>null</td><td>null</td><td>null</td><td>null</td><td>null</td><td>null</td><td>null</td><td>null</td><td>null</td><td>null</td><td>null</td><td>null</td><td>null</td><td>null</td><td>null</td><td>null</td><td>null</td><td>null</td><td>null</td><td>null</td><td>null</td><td>null</td><td>null</td><td>null</td><td>null</td><td>null</td><td>null</td><td>null</td><td>null</td><td>null</td><td>null</td><td>null</td><td>null</td><td>null</td><td>null</td><td>null</td><td>null</td><td>null</td><td>null</td><td>null</td><td>null</td><td>null</td><td>null</td><td>null</td><td>null</td><td>null</td><td>null</td><td>null</td><td>null</td><td>null</td><td>null</td><td>null</td><td>null</td><td>null</td></tr><tr><td>00v0az4g792svil00vn6y1kfm9hq8vy9</td><td>34</td><td>30-34</td><td>Masculino</td><td>Branca</td><td>Não</td><td>null</td><td>null</td><td>null</td><td>null</td><td>null</td><td>null</td><td>null</td><td>null</td><td>null</td><td>null</td><td>null</td><td>null</td><td>null</td><td>null</td><td>null</td><td>1</td><td>Minas Gerais (MG)</td><td>MG</td><td>Sudeste</td><td>1</td><td>null</td><td>Doutorado ou Phd</td><td>Economia/ Administração / Contabilidade / Finanças/ Negócios</td><td>Empreendedor ou Empregado (CNPJ)</td><td>Outra Opção</td><td>de 101 a 500</td><td>0</td><td>null</td><td>Analista de Dados/Data Analyst</td><td>Júnior</td><td>de R$ 4.001/mês a R$ 6.000/mês</td><td>Menos de 1 ano</td><td>Menos de 1 ano</td><td>1</td><td>null</td><td>null</td><td>null</td><td>null</td><td>null</td><td>null</td><td>null</td><td>null</td><td>Sim, fui aprovado no meu primeiro emprego (ou estava sem emprego)</td><td>Não estou buscando e não pretendo mudar de emprego nos próximos 6 meses</td><td>Remuneração/Salário, Flexibilidade de trabalho remoto, Plano de carreira e oportunidades de crescimento profissional</td><td>1</td><td>0</td><td>0</td><td>1</td><td>0</td><td>0</td><td>1</td><td>0</td><td>0</td><td>0</td><td>Não ocorreram layoffs/demissões em massa na empresa em que trabalho</td><td>Modelo 100% remoto</td><td>Modelo 100% remoto</td><td>Vou procurar outra oportunidade no modelo híbrido ou remoto</td><td>null</td><td>null</td><td>null</td><td>null</td><td>null</td><td>null</td><td>null</td><td>null</td><td>null</td><td>null</td><td>null</td><td>null</td><td>null</td><td>null</td><td>null</td><td>null</td><td>null</td><td>null</td><td>null</td><td>null</td><td>null</td><td>null</td><td>null</td><td>null</td><td>null</td><td>null</td><td>null</td><td>null</td><td>null</td><td>null</td><td>null</td><td>null</td><td>null</td><td>null</td><td>null</td><td>null</td><td>null</td><td>null</td><td>null</td><td>null</td><td>null</td><td>null</td><td>null</td><td>null</td><td>null</td><td>null</td><td>null</td><td>null</td><td>null</td><td>null</td><td>null</td><td>null</td><td>null</td><td>null</td><td>null</td><td>null</td><td>null</td><td>null</td><td>*Análise de Dados/BI:* Extrai e cruza dados unindo diferentes fontes da informação; analisa dados visando identificar padrões, gerar insights e levantar perguntas; desenvolve dashboards, relatórios e visualizações de dados em ferramentas de BI.</td><td>Análise de Dados</td><td>Dados relacionais (estruturados em bancos SQL), Textos/Documentos, Planilhas, Áudios</td><td>1</td><td>0</td><td>0</td><td>1</td><td>0</td><td>1</td><td>1</td><td>0</td><td>Dados relacionais (estruturados em bancos SQL), Planilhas</td><td>1</td><td>0</td><td>0</td><td>0</td><td>0</td><td>0</td><td>1</td><td>0</td><td>SQL, Python</td><td>1</td><td>0</td><td>1</td><td>0</td><td>0</td><td>0</td><td>0</td><td>0</td><td>0</td><td>0</td><td>0</td><td>0</td><td>0</td><td>0</td><td>0</td><td>Python</td><td>Python</td><td>Google BigQuery, Snowflake</td><td>0</td><td>0</td><td>0</td><td>0</td><td>0</td><td>0</td><td>0</td><td>0</td><td>0</td><td>0</td><td>0</td><td>0</td><td>0</td><td>0</td><td>0</td><td>0</td><td>0</td><td>0</td><td>0</td><td>0</td><td>0</td><td>1</td><td>0</td><td>0</td><td>0</td><td>1</td><td>0</td><td>0</td><td>0</td><td>0</td><td>0</td><td>0</td><td>0</td><td>Snowflake</td><td>0</td><td>0</td><td>0</td><td>0</td><td>0</td><td>0</td><td>0</td><td>Amazon Web Services (AWS)</td><td>Microsoft PowerBI, Metabase</td><td>1</td><td>0</td><td>0</td><td>1</td><td>0</td><td>0</td><td>0</td><td>0</td><td>0</td><td>0</td><td>0</td><td>0</td><td>0</td><td>0</td><td>0</td><td>0</td><td>0</td><td>0</td><td>0</td><td>0</td><td>0</td><td>0</td><td>0</td><td>Microsoft PowerBI</td><td>Não sei opinar.</td><td>0</td><td>0</td><td>0</td><td>0</td><td>0</td><td>0</td><td>0</td><td>1</td><td>Utilizo apenas soluções gratuitas (como por exemplo o ChatGPT), para me ajudar a ser mais produtivo no dia a dia.</td><td>0</td><td>1</td><td>0</td><td>0</td><td>0</td><td>null</td><td>null</td><td>null</td><td>null</td><td>null</td><td>null</td><td>null</td><td>null</td><td>null</td><td>null</td><td>null</td><td>null</td><td>null</td><td>null</td><td>null</td><td>null</td><td>null</td><td>null</td><td>null</td><td>null</td><td>null</td><td>null</td><td>null</td><td>null</td><td>null</td><td>null</td><td>null</td><td>null</td><td>null</td><td>null</td><td>null</td><td>null</td><td>null</td><td>null</td><td>null</td><td>null</td><td>null</td><td>null</td><td>null</td><td>null</td><td>null</td><td>null</td><td>null</td><td>null</td><td>null</td><td>null</td><td>null</td><td>null</td><td>null</td><td>null</td><td>null</td><td>Processo e analiso dados utilizando linguagens de programação como Python, R etc., Realizo construções de dashboards em ferramentas de BI como PowerBI, Tableau, Looker, Qlik etc., Crio consultas através da linguagem SQL para exportar informações e compartilhar com as áreas de negócio., Realizo experimentos e estudos utilizando metodologias estatísticas como teste de hipótese, modelos de regressão etc., Atuo na modelagem dos dados, com o objetivo de criar conjuntos de dados como Data Warehouses, Data Marts, Datasets etc.</td><td>1</td><td>1</td><td>1</td><td>0</td><td>1</td><td>0</td><td>1</td><td>0</td><td>0</td><td>0</td><td>Scripts Python, DBT</td><td>1</td><td>0</td><td>0</td><td>0</td><td>0</td><td>0</td><td>0</td><td>0</td><td>0</td><td>0</td><td>0</td><td>0</td><td>0</td><td>0</td><td>0</td><td>0</td><td>0</td><td>0</td><td>0</td><td>0</td><td>0</td><td>Minha empresa não utiliza essas ferramentas.</td><td>0</td><td>0</td><td>0</td><td>0</td><td>1</td><td>0</td><td>Processando e analisando dados utilizando linguagens de programação como Python, R etc., Realizando construções de dashboards em ferramentas de BI como PowerBI, Tableau, Looker, Qlik etc.</td><td>1</td><td>1</td><td>0</td><td>0</td><td>0</td><td>0</td><td>0</td><td>0</td><td>0</td><td>0</td><td>null</td><td>null</td><td>null</td><td>null</td><td>null</td><td>null</td><td>null</td><td>null</td><td>null</td><td>null</td><td>null</td><td>null</td><td>null</td><td>null</td><td>null</td><td>null</td><td>null</td><td>null</td><td>null</td><td>null</td><td>null</td><td>null</td><td>null</td><td>null</td><td>null</td><td>null</td><td>null</td><td>null</td><td>null</td><td>null</td><td>null</td><td>null</td><td>null</td><td>null</td><td>null</td><td>null</td><td>null</td><td>null</td><td>null</td><td>null</td><td>null</td><td>null</td><td>null</td><td>null</td><td>null</td><td>null</td><td>null</td><td>null</td><td>null</td><td>null</td><td>null</td><td>null</td><td>null</td><td>null</td><td>null</td><td>null</td><td>null</td><td>null</td><td>null</td><td>null</td><td>null</td><td>null</td><td>null</td><td>null</td><td>null</td><td>null</td><td>null</td><td>null</td><td>null</td><td>null</td><td>null</td><td>null</td><td>null</td><td>null</td><td>null</td><td>null</td><td>null</td><td>null</td><td>null</td><td>null</td><td>null</td><td>null</td><td>null</td><td>null</td></tr><tr><td>015qqbrh4rr015qje9gvkbsb7ti1n5df</td><td>30</td><td>30-34</td><td>Masculino</td><td>Branca</td><td>Não</td><td>null</td><td>null</td><td>null</td><td>null</td><td>null</td><td>null</td><td>null</td><td>null</td><td>null</td><td>null</td><td>null</td><td>null</td><td>null</td><td>null</td><td>null</td><td>1</td><td>Rio de Janeiro (RJ)</td><td>RJ</td><td>Sudeste</td><td>1</td><td>null</td><td>Estudante de Graduação</td><td>Computação / Engenharia de Software / Sistemas de Informação/ TI</td><td>Empreendedor ou Empregado (CNPJ)</td><td>Tecnologia/Fábrica de Software</td><td>de 51 a 100</td><td>0</td><td>null</td><td>Engenheiro de Dados/Arquiteto de Dados/Data Engineer/Data Architect</td><td>Pleno</td><td>de R$ 8.001/mês a R$ 12.000/mês</td><td>de 1 a 2 anos</td><td>Não tive experiência na área de TI/Engenharia de Software antes de começar a trabalhar na área de dados</td><td>1</td><td>null</td><td>null</td><td>null</td><td>null</td><td>null</td><td>null</td><td>null</td><td>null</td><td>Sim, fui aprovado e mudei de emprego</td><td>Não estou buscando e não pretendo mudar de emprego nos próximos 6 meses</td><td>Flexibilidade de trabalho remoto, Remuneração/Salário, Propósito do trabalho e da empresa</td><td>1</td><td>0</td><td>1</td><td>1</td><td>0</td><td>0</td><td>0</td><td>0</td><td>0</td><td>0</td><td>Sim, ocorreram layoffs/demissões em massa na empresa em que trabalhava e eu fui afetado</td><td>Modelo 100% remoto</td><td>Modelo 100% remoto</td><td>Vou procurar outra oportunidade no modelo 100% remoto</td><td>null</td><td>null</td><td>null</td><td>null</td><td>null</td><td>null</td><td>null</td><td>null</td><td>null</td><td>null</td><td>null</td><td>null</td><td>null</td><td>null</td><td>null</td><td>null</td><td>null</td><td>null</td><td>null</td><td>null</td><td>null</td><td>null</td><td>null</td><td>null</td><td>null</td><td>null</td><td>null</td><td>null</td><td>null</td><td>null</td><td>null</td><td>null</td><td>null</td><td>null</td><td>null</td><td>null</td><td>null</td><td>null</td><td>null</td><td>null</td><td>null</td><td>null</td><td>null</td><td>null</td><td>null</td><td>null</td><td>null</td><td>null</td><td>null</td><td>null</td><td>null</td><td>null</td><td>null</td><td>null</td><td>null</td><td>null</td><td>null</td><td>null</td><td>*Engenharia de Dados:* Modela soluções de arquitetura de dados; define modelagens de repositórios de dados (Data Lake, Data Warehouse, Data Lakehouse); desenvolve estratégias de aquisição de dados, recuperação de informação e pipelines de dados.</td><td>Engenharia de Dados</td><td>Dados relacionais (estruturados em bancos SQL), Dados armazenados em bancos NoSQL, Textos/Documentos, Planilhas</td><td>1</td><td>1</td><td>0</td><td>1</td><td>0</td><td>0</td><td>1</td><td>0</td><td>Dados relacionais (estruturados em bancos SQL), Textos/Documentos</td><td>1</td><td>0</td><td>0</td><td>1</td><td>0</td><td>0</td><td>0</td><td>0</td><td>Python, SQL</td><td>1</td><td>0</td><td>1</td><td>0</td><td>0</td><td>0</td><td>0</td><td>0</td><td>0</td><td>0</td><td>0</td><td>0</td><td>0</td><td>0</td><td>0</td><td>SQL</td><td>Python</td><td>Amazon Athena, Hive, Databricks, Amazon Redshift, DynamoDB, Google BigQuery, Snowflake, SQL SERVER, Amazon Aurora ou RDS, PostgreSQL, MariaDB</td><td>0</td><td>0</td><td>1</td><td>1</td><td>1</td><td>0</td><td>0</td><td>0</td><td>1</td><td>0</td><td>0</td><td>1</td><td>0</td><td>0</td><td>0</td><td>0</td><td>0</td><td>0</td><td>0</td><td>0</td><td>0</td><td>1</td><td>0</td><td>1</td><td>1</td><td>1</td><td>1</td><td>0</td><td>0</td><td>0</td><td>0</td><td>1</td><td>0</td><td>Google Cloud (GCP), Amazon Web Services (AWS)</td><td>1</td><td>1</td><td>0</td><td>0</td><td>0</td><td>0</td><td>0</td><td>Amazon Web Services (AWS)</td><td>Looker, Microsoft PowerBI</td><td>1</td><td>0</td><td>0</td><td>0</td><td>0</td><td>0</td><td>1</td><td>0</td><td>0</td><td>0</td><td>0</td><td>0</td><td>0</td><td>0</td><td>0</td><td>0</td><td>0</td><td>0</td><td>0</td><td>0</td><td>0</td><td>0</td><td>0</td><td>Metabase</td><td>Não tenho visto soluções de IA Generatica e LLMs sendo tradadas como prioridade pela empresa e pessoas, os poucos casos de uso são isolados ou ainda estão muito no início.</td><td>0</td><td>0</td><td>0</td><td>0</td><td>0</td><td>0</td><td>1</td><td>0</td><td>Utilizo apenas soluções gratuitas (como por exemplo o ChatGPT), para me ajudar a ser mais produtivo no dia a dia.</td><td>0</td><td>1</td><td>0</td><td>0</td><td>0</td><td>null</td><td>null</td><td>null</td><td>null</td><td>Desenvolvo pipelines de dados utilizando linguagens de programação como Python, Scala, Java etc., Realizo construções de ETL's em ferramentas como Pentaho, Talend, Dataflow etc., Crio consultas através da linguagem SQL para exportar informações e compartilhar com as áreas de negócio., Desenvolvo/cuido da manutenção de repositórios de dados baseados em streaming de eventos como Data Lakes e Data Lakehouses.</td><td>1</td><td>1</td><td>1</td><td>0</td><td>0</td><td>1</td><td>0</td><td>0</td><td>0</td><td>Scripts Python, AWS Glue</td><td>1</td><td>0</td><td>0</td><td>0</td><td>0</td><td>1</td><td>0</td><td>0</td><td>0</td><td>0</td><td>0</td><td>0</td><td>0</td><td>0</td><td>0</td><td>0</td><td>0</td><td>0</td><td>0</td><td>0</td><td>0</td><td>1</td><td>Amazon S3 + Redshift + Athena</td><td>1</td><td>Postgres/MySQL</td><td>great\\_expectations</td><td>Desenvolvendo pipelines de dados utilizando linguagens de programação como Python, Scala, Java etc., Realizando construções de ETL's em ferramentas como Pentaho, Talend, Dataflow etc.</td><td>1</td><td>1</td><td>0</td><td>0</td><td>0</td><td>0</td><td>0</td><td>0</td><td>0</td><td>null</td><td>null</td><td>null</td><td>null</td><td>null</td><td>null</td><td>null</td><td>null</td><td>null</td><td>null</td><td>null</td><td>null</td><td>null</td><td>null</td><td>null</td><td>null</td><td>null</td><td>null</td><td>null</td><td>null</td><td>null</td><td>null</td><td>null</td><td>null</td><td>null</td><td>null</td><td>null</td><td>null</td><td>null</td><td>null</td><td>null</td><td>null</td><td>null</td><td>null</td><td>null</td><td>null</td><td>null</td><td>null</td><td>null</td><td>null</td><td>null</td><td>null</td><td>null</td><td>null</td><td>null</td><td>null</td><td>null</td><td>null</td><td>null</td><td>null</td><td>null</td><td>null</td><td>null</td><td>null</td><td>null</td><td>null</td><td>null</td><td>null</td><td>null</td><td>null</td><td>null</td><td>null</td><td>null</td><td>null</td><td>null</td><td>null</td><td>null</td><td>null</td><td>null</td><td>null</td><td>null</td><td>null</td><td>null</td><td>null</td><td>null</td><td>null</td><td>null</td><td>null</td><td>null</td><td>null</td><td>null</td><td>null</td><td>null</td><td>null</td><td>null</td><td>null</td><td>null</td><td>null</td><td>null</td><td>null</td><td>null</td><td>null</td><td>null</td><td>null</td><td>null</td><td>null</td><td>null</td><td>null</td><td>null</td><td>null</td><td>null</td><td>null</td><td>null</td><td>null</td><td>null</td><td>null</td><td>null</td><td>null</td><td>null</td><td>null</td><td>null</td><td>null</td><td>null</td><td>null</td><td>null</td><td>null</td><td>null</td><td>null</td><td>null</td><td>null</td><td>null</td><td>null</td><td>null</td><td>null</td><td>null</td><td>null</td><td>null</td><td>null</td><td>null</td><td>null</td><td>null</td><td>null</td><td>null</td><td>null</td><td>null</td></tr><tr><td>01810y9hweneb018to8t1p8ubyn1o04m</td><td>24</td><td>22-24</td><td>Masculino</td><td>Branca</td><td>Não</td><td>null</td><td>null</td><td>null</td><td>null</td><td>null</td><td>null</td><td>null</td><td>null</td><td>null</td><td>null</td><td>null</td><td>null</td><td>null</td><td>null</td><td>null</td><td>1</td><td>São Paulo (SP)</td><td>SP</td><td>Sudeste</td><td>1</td><td>null</td><td>Graduação/Bacharelado</td><td>Economia/ Administração / Contabilidade / Finanças/ Negócios</td><td>Empregado (CLT)</td><td>Finanças ou Bancos</td><td>Acima de 3.000</td><td>0</td><td>null</td><td>Analista de Negócios/Business Analyst</td><td>Pleno</td><td>de R$ 4.001/mês a R$ 6.000/mês</td><td>de 3 a 4 anos</td><td>Não tive experiência na área de TI/Engenharia de Software antes de começar a trabalhar na área de dados</td><td>1</td><td>null</td><td>null</td><td>null</td><td>null</td><td>null</td><td>null</td><td>null</td><td>null</td><td>Não participei de entrevistas de emprego/processos seletivos nos últimos 6 meses</td><td>Não estou buscando, mas me considero aberto a outras oportunidades</td><td>Flexibilidade de trabalho remoto, Remuneração/Salário, Benefícios</td><td>1</td><td>1</td><td>0</td><td>1</td><td>0</td><td>0</td><td>0</td><td>0</td><td>0</td><td>0</td><td>Sim, ocorreram layoffs/demissões em massa na empresa em que trabalho mas não fui afetado</td><td>Modelo híbrido com dias fixos de trabalho presencial</td><td>Modelo híbrido flexível (o funcionário tem liberdade para escolher quando estar no escritório presencialmente)</td><td>Vou aceitar e retornar ao modelo 100% presencial</td><td>null</td><td>null</td><td>null</td><td>null</td><td>null</td><td>null</td><td>null</td><td>null</td><td>null</td><td>null</td><td>null</td><td>null</td><td>null</td><td>null</td><td>null</td><td>null</td><td>null</td><td>null</td><td>null</td><td>null</td><td>null</td><td>null</td><td>null</td><td>null</td><td>null</td><td>null</td><td>null</td><td>null</td><td>null</td><td>null</td><td>null</td><td>null</td><td>null</td><td>null</td><td>null</td><td>null</td><td>null</td><td>null</td><td>null</td><td>null</td><td>null</td><td>null</td><td>null</td><td>null</td><td>null</td><td>null</td><td>null</td><td>null</td><td>null</td><td>null</td><td>null</td><td>null</td><td>null</td><td>null</td><td>null</td><td>null</td><td>null</td><td>null</td><td>*Análise de Dados/BI:* Extrai e cruza dados unindo diferentes fontes da informação; analisa dados visando identificar padrões, gerar insights e levantar perguntas; desenvolve dashboards, relatórios e visualizações de dados em ferramentas de BI.</td><td>Análise de Dados</td><td>Dados relacionais (estruturados em bancos SQL), Planilhas</td><td>1</td><td>0</td><td>0</td><td>0</td><td>0</td><td>0</td><td>1</td><td>0</td><td>Dados relacionais (estruturados em bancos SQL)</td><td>1</td><td>0</td><td>0</td><td>0</td><td>0</td><td>0</td><td>0</td><td>0</td><td>SQL</td><td>1</td><td>0</td><td>0</td><td>0</td><td>0</td><td>0</td><td>0</td><td>0</td><td>0</td><td>0</td><td>0</td><td>0</td><td>0</td><td>0</td><td>0</td><td>SQL</td><td>Python</td><td>S3, Amazon Athena</td><td>0</td><td>0</td><td>0</td><td>0</td><td>0</td><td>0</td><td>0</td><td>0</td><td>0</td><td>0</td><td>1</td><td>0</td><td>0</td><td>0</td><td>0</td><td>0</td><td>0</td><td>0</td><td>0</td><td>0</td><td>0</td><td>0</td><td>0</td><td>0</td><td>1</td><td>0</td><td>0</td><td>0</td><td>0</td><td>0</td><td>0</td><td>0</td><td>0</td><td>Amazon Web Services (AWS)</td><td>1</td><td>0</td><td>0</td><td>0</td><td>0</td><td>0</td><td>0</td><td>Amazon Web Services (AWS)</td><td>Fazemos todas as análises utilizando apenas Excel ou planilhas do google</td><td>0</td><td>0</td><td>0</td><td>0</td><td>0</td><td>0</td><td>0</td><td>0</td><td>0</td><td>0</td><td>0</td><td>0</td><td>0</td><td>0</td><td>0</td><td>0</td><td>0</td><td>0</td><td>0</td><td>0</td><td>0</td><td>1</td><td>0</td><td>Microsoft PowerBI</td><td>Existe um direcionamento centralizado para que colaboradores utilizem soluções baseadas em AI Generativa (como o ChatGPT por exemplo), incluindo apoio nos custos das ferramentas.</td><td>0</td><td>1</td><td>0</td><td>0</td><td>0</td><td>0</td><td>0</td><td>0</td><td>Utilizo apenas soluções gratuitas (como por exemplo o ChatGPT), para me ajudar a ser mais produtivo no dia a dia.</td><td>0</td><td>1</td><td>0</td><td>0</td><td>0</td><td>null</td><td>null</td><td>null</td><td>null</td><td>null</td><td>null</td><td>null</td><td>null</td><td>null</td><td>null</td><td>null</td><td>null</td><td>null</td><td>null</td><td>null</td><td>null</td><td>null</td><td>null</td><td>null</td><td>null</td><td>null</td><td>null</td><td>null</td><td>null</td><td>null</td><td>null</td><td>null</td><td>null</td><td>null</td><td>null</td><td>null</td><td>null</td><td>null</td><td>null</td><td>null</td><td>null</td><td>null</td><td>null</td><td>null</td><td>null</td><td>null</td><td>null</td><td>null</td><td>null</td><td>null</td><td>null</td><td>null</td><td>null</td><td>null</td><td>null</td><td>null</td><td>Nenhuma das opções listadas refletem meu dia a dia., Crio consultas através da linguagem SQL para exportar informações e compartilhar com as áreas de negócio.</td><td>0</td><td>0</td><td>1</td><td>0</td><td>0</td><td>0</td><td>0</td><td>0</td><td>0</td><td>1</td><td>SQL & Stored Procedures</td><td>0</td><td>1</td><td>0</td><td>0</td><td>0</td><td>0</td><td>0</td><td>0</td><td>0</td><td>0</td><td>0</td><td>0</td><td>0</td><td>0</td><td>0</td><td>0</td><td>0</td><td>0</td><td>0</td><td>0</td><td>0</td><td>\"\"\"Point and Click\"\" Analytics como Alteryx</td><td> Knime</td><td> Rapidminer etc.\"</td><td>0</td><td>1</td><td>0</td><td>0</td><td>0</td><td>0</td><td>Realizando construções de dashboards em ferramentas de BI como PowerBI, Tableau, Looker, Qlik etc., Criando consultas através da linguagem SQL para exportar informações e compartilhar com as áreas de negócio.</td><td>0</td><td>1</td><td>1</td><td>0</td><td>0</td><td>0</td><td>0</td><td>0</td><td>0</td><td>0</td><td>null</td><td>null</td><td>null</td><td>null</td><td>null</td><td>null</td><td>null</td><td>null</td><td>null</td><td>null</td><td>null</td><td>null</td><td>null</td><td>null</td><td>null</td><td>null</td><td>null</td><td>null</td><td>null</td><td>null</td><td>null</td><td>null</td><td>null</td><td>null</td><td>null</td><td>null</td><td>null</td><td>null</td><td>null</td><td>null</td><td>null</td><td>null</td><td>null</td><td>null</td><td>null</td><td>null</td><td>null</td><td>null</td><td>null</td><td>null</td><td>null</td><td>null</td><td>null</td><td>null</td><td>null</td><td>null</td><td>null</td><td>null</td><td>null</td><td>null</td><td>null</td><td>null</td><td>null</td><td>null</td><td>null</td><td>null</td><td>null</td><td>null</td><td>null</td><td>null</td><td>null</td><td>null</td><td>null</td><td>null</td><td>null</td><td>null</td><td>null</td><td>null</td><td>null</td><td>null</td><td>null</td><td>null</td><td>null</td><td>null</td><td>null</td><td>null</td><td>null</td><td>null</td><td>null</td><td>null</td><td>null</td><td>null</td></tr><tr><td>01k1i8w42ljmgee01k1eay1n1283ot23</td><td>35</td><td>35-39</td><td>Masculino</td><td>Branca</td><td>Não</td><td>null</td><td>null</td><td>null</td><td>null</td><td>null</td><td>null</td><td>null</td><td>null</td><td>null</td><td>null</td><td>null</td><td>null</td><td>null</td><td>null</td><td>null</td><td>1</td><td>São Paulo (SP)</td><td>SP</td><td>Sudeste</td><td>0</td><td>São Paulo (SP)</td><td>Pós-graduação</td><td>Computação / Engenharia de Software / Sistemas de Informação/ TI</td><td>Empregado (CLT)</td><td>Varejo</td><td>Acima de 3.000</td><td>1</td><td>Gerente/Head</td><td>null</td><td>null</td><td>de R$ 20.001/mês a R$ 25.000/mês</td><td>de 7 a 10 anos</td><td>de 7 a 10 anos</td><td>1</td><td>null</td><td>null</td><td>null</td><td>null</td><td>null</td><td>null</td><td>null</td><td>null</td><td>Sim, fui aprovado e mudei de emprego</td><td>Não estou buscando e não pretendo mudar de emprego nos próximos 6 meses</td><td>Flexibilidade de trabalho remoto, Maturidade da empresa em termos de tecnologia e dados, Qualidade dos gestores e líderes</td><td>0</td><td>0</td><td>0</td><td>1</td><td>0</td><td>0</td><td>0</td><td>1</td><td>1</td><td>0</td><td>Sim, ocorreram layoffs/demissões em massa na empresa em que trabalho mas não fui afetado</td><td>Modelo 100% remoto</td><td>Modelo 100% remoto</td><td>Vou procurar outra oportunidade no modelo 100% remoto</td><td>4 - 10</td><td>Engenharia de Dados/Data Engineer</td><td>0</td><td>1</td><td>0</td><td>0</td><td>0</td><td>0</td><td>0</td><td>0</td><td>0</td><td>Sou gestor da equipe responsável pela engenharia de dados e por manter o Data Lake da empresa como fonte única dos dados, garantindo a qualidade e confiabilidade da informação.</td><td>0</td><td>0</td><td>0</td><td>0</td><td>1</td><td>0</td><td>0</td><td>0</td><td>0</td><td>0</td><td>0</td><td>Gerenciar a expectativa das áreas de negócio em relação as entregas das equipes de dados., Contratar novos talentos., Garantir retorno do investimento (ROI) em projetos de dados.</td><td>1</td><td>0</td><td>0</td><td>0</td><td>0</td><td>0</td><td>0</td><td>0</td><td>0</td><td>1</td><td>0</td><td>0</td><td>1</td><td>0</td><td>Mais ou menos... É uma das várias iniciativas que estamos impulsionando, mas não é uma prioridade (iniciativas isoladas e pouco foco).</td><td>Não tenho visto soluções de IA Generatica e LLMs sendo tradadas como prioridade pela empresa e pessoas, os poucos casos de uso são isolados ou ainda estão muito no início.</td><td>0</td><td>0</td><td>0</td><td>0</td><td>0</td><td>0</td><td>1</td><td>0</td><td>Dados da empresa não estão prontos para uso de IA Generativa., Preocupações com segurança e privacidade de dados., Falta de expertise das equipes técnicas ou falta de recursos internos.</td><td>0</td><td>0</td><td>0</td><td>1</td><td>0</td><td>1</td><td>1</td><td>0</td><td>0</td><td>null</td><td>Gestor</td><td>null</td><td>null</td><td>null</td><td>null</td><td>null</td><td>null</td><td>null</td><td>null</td><td>null</td><td>null</td><td>null</td><td>null</td><td>null</td><td>null</td><td>null</td><td>null</td><td>null</td><td>null</td><td>null</td><td>null</td><td>null</td><td>null</td><td>null</td><td>null</td><td>null</td><td>null</td><td>null</td><td>null</td><td>null</td><td>null</td><td>null</td><td>null</td><td>null</td><td>null</td><td>null</td><td>null</td><td>null</td><td>null</td><td>null</td><td>null</td><td>null</td><td>null</td><td>null</td><td>null</td><td>null</td><td>null</td><td>null</td><td>null</td><td>null</td><td>null</td><td>null</td><td>null</td><td>null</td><td>null</td><td>null</td><td>null</td><td>null</td><td>null</td><td>null</td><td>null</td><td>null</td><td>null</td><td>null</td><td>null</td><td>null</td><td>null</td><td>null</td><td>null</td><td>null</td><td>null</td><td>null</td><td>null</td><td>null</td><td>null</td><td>null</td><td>null</td><td>null</td><td>null</td><td>null</td><td>null</td><td>null</td><td>null</td><td>null</td><td>null</td><td>null</td><td>null</td><td>null</td><td>null</td><td>null</td><td>null</td><td>null</td><td>null</td><td>null</td><td>null</td><td>null</td><td>null</td><td>null</td><td>null</td><td>null</td><td>null</td><td>null</td><td>null</td><td>null</td><td>null</td><td>null</td><td>null</td><td>null</td><td>null</td><td>null</td><td>null</td><td>null</td><td>null</td><td>null</td><td>null</td><td>null</td><td>null</td><td>null</td><td>null</td><td>null</td><td>null</td><td>null</td><td>null</td><td>null</td><td>null</td><td>null</td><td>null</td><td>null</td><td>null</td><td>null</td><td>null</td><td>null</td><td>null</td><td>null</td><td>null</td><td>null</td><td>null</td><td>null</td><td>null</td><td>null</td><td>null</td><td>null</td><td>null</td><td>null</td><td>null</td><td>null</td><td>null</td><td>null</td><td>null</td><td>null</td><td>null</td><td>null</td><td>null</td><td>null</td><td>null</td><td>null</td><td>null</td><td>null</td><td>null</td><td>null</td><td>null</td><td>null</td><td>null</td><td>null</td><td>null</td><td>null</td><td>null</td><td>null</td><td>null</td><td>null</td><td>null</td><td>null</td><td>null</td><td>null</td><td>null</td><td>null</td><td>null</td><td>null</td><td>null</td><td>null</td><td>null</td><td>null</td><td>null</td><td>null</td><td>null</td><td>null</td><td>null</td><td>null</td><td>null</td><td>null</td><td>null</td><td>null</td><td>null</td><td>null</td><td>null</td><td>null</td><td>null</td><td>null</td><td>null</td><td>null</td><td>null</td><td>null</td><td>null</td><td>null</td><td>null</td><td>null</td><td>null</td><td>null</td><td>null</td><td>null</td><td>null</td><td>null</td><td>null</td><td>null</td><td>null</td><td>null</td><td>null</td><td>null</td><td>null</td><td>null</td><td>null</td><td>null</td><td>null</td><td>null</td><td>null</td><td>null</td><td>null</td><td>null</td><td>null</td><td>null</td><td>null</td><td>null</td><td>null</td><td>null</td><td>null</td><td>null</td><td>null</td><td>null</td><td>null</td><td>null</td><td>null</td><td>null</td><td>null</td><td>null</td><td>null</td><td>null</td><td>null</td><td>null</td><td>null</td><td>null</td><td>null</td><td>null</td><td>null</td><td>null</td><td>null</td><td>null</td><td>null</td><td>null</td><td>null</td><td>null</td><td>null</td><td>null</td><td>null</td><td>null</td><td>null</td><td>null</td><td>null</td><td>null</td><td>null</td><td>null</td><td>null</td><td>null</td><td>null</td><td>null</td><td>null</td><td>null</td><td>null</td><td>null</td><td>null</td><td>null</td><td>null</td><td>null</td><td>null</td><td>null</td><td>null</td><td>null</td><td>null</td><td>null</td><td>null</td><td>null</td><td>null</td><td>null</td><td>null</td><td>null</td><td>null</td><td>null</td><td>null</td><td>null</td><td>null</td><td>null</td><td>null</td><td>null</td><td>null</td><td>null</td><td>null</td><td>null</td></tr><tr><td>01n9nd73iv68k81iefenxv01n9nd7wjt</td><td>27</td><td>25-29</td><td>Masculino</td><td>Parda</td><td>Não</td><td>Não acredito que minha experiência profissional seja afetada devido a esses fatores</td><td>1</td><td>0</td><td>0</td><td>0</td><td>null</td><td>null</td><td>null</td><td>null</td><td>null</td><td>null</td><td>null</td><td>null</td><td>null</td><td>null</td><td>1</td><td>Rio de Janeiro (RJ)</td><td>RJ</td><td>Sudeste</td><td>1</td><td>null</td><td>Graduação/Bacharelado</td><td>Economia/ Administração / Contabilidade / Finanças/ Negócios</td><td>Trabalho na área Acadêmica/Pesquisador</td><td>null</td><td>null</td><td>null</td><td>null</td><td>null</td><td>null</td><td>null</td><td>null</td><td>null</td><td>null</td><td>null</td><td>null</td><td>null</td><td>null</td><td>null</td><td>null</td><td>null</td><td>null</td><td>null</td><td>null</td><td>null</td><td>null</td><td>null</td><td>null</td><td>null</td><td>null</td><td>null</td><td>null</td><td>null</td><td>null</td><td>null</td><td>null</td><td>null</td><td>null</td><td>null</td><td>null</td><td>null</td><td>null</td><td>null</td><td>null</td><td>null</td><td>null</td><td>null</td><td>null</td><td>null</td><td>null</td><td>null</td><td>null</td><td>null</td><td>null</td><td>null</td><td>null</td><td>null</td><td>null</td><td>null</td><td>null</td><td>null</td><td>null</td><td>null</td><td>null</td><td>null</td><td>null</td><td>null</td><td>null</td><td>null</td><td>null</td><td>null</td><td>null</td><td>null</td><td>null</td><td>null</td><td>null</td><td>null</td><td>null</td><td>null</td><td>null</td><td>null</td><td>null</td><td>null</td><td>null</td><td>null</td><td>null</td><td>null</td><td>null</td><td>null</td><td>null</td><td>null</td><td>null</td><td>null</td><td>null</td><td>null</td><td>null</td><td>null</td><td>null</td><td>Buscando oportunidade na área de dados</td><td>null</td><td>null</td><td>null</td><td>null</td><td>null</td><td>null</td><td>null</td><td>null</td><td>null</td><td>null</td><td>null</td><td>null</td><td>null</td><td>null</td><td>null</td><td>null</td><td>null</td><td>null</td><td>null</td><td>null</td><td>null</td><td>null</td><td>null</td><td>null</td><td>null</td><td>null</td><td>null</td><td>null</td><td>null</td><td>null</td><td>null</td><td>null</td><td>null</td><td>null</td><td>null</td><td>null</td><td>null</td><td>null</td><td>null</td><td>null</td><td>null</td><td>null</td><td>null</td><td>null</td><td>null</td><td>null</td><td>null</td><td>null</td><td>null</td><td>null</td><td>null</td><td>null</td><td>null</td><td>null</td><td>null</td><td>null</td><td>null</td><td>null</td><td>null</td><td>null</td><td>null</td><td>null</td><td>null</td><td>null</td><td>null</td><td>null</td><td>null</td><td>null</td><td>null</td><td>null</td><td>null</td><td>null</td><td>null</td><td>null</td><td>null</td><td>null</td><td>null</td><td>null</td><td>null</td><td>null</td><td>null</td><td>null</td><td>null</td><td>null</td><td>null</td><td>null</td><td>null</td><td>null</td><td>null</td><td>null</td><td>null</td><td>null</td><td>null</td><td>null</td><td>null</td><td>null</td><td>null</td><td>null</td><td>null</td><td>null</td><td>null</td><td>null</td><td>null</td><td>null</td><td>null</td><td>null</td><td>null</td><td>null</td><td>null</td><td>null</td><td>null</td><td>null</td><td>null</td><td>null</td><td>null</td><td>null</td><td>null</td><td>null</td><td>null</td><td>Migração de carreira: Trabalho em outra área e busco recolocação na área de dados</td><td>Analista de Dados/Data Analyst</td><td>0 - 6 meses</td><td>Ainda não me candidatei a nenhuma vaga na área</td><td>null</td><td>null</td><td>null</td><td>null</td><td>null</td><td>null</td><td>null</td><td>null</td><td>null</td><td>null</td><td>null</td><td>null</td><td>null</td><td>null</td><td>null</td><td>null</td><td>null</td><td>null</td><td>null</td><td>null</td><td>null</td><td>null</td><td>null</td><td>null</td><td>null</td><td>null</td><td>null</td><td>null</td><td>null</td><td>null</td><td>null</td><td>null</td><td>null</td><td>null</td><td>null</td><td>null</td><td>null</td><td>null</td><td>null</td><td>null</td><td>null</td><td>null</td><td>null</td><td>null</td><td>null</td><td>null</td><td>null</td><td>null</td><td>null</td><td>null</td><td>null</td><td>null</td><td>null</td><td>null</td><td>null</td><td>null</td><td>null</td><td>null</td><td>null</td><td>null</td><td>null</td><td>null</td><td>null</td><td>null</td><td>null</td><td>null</td><td>null</td><td>null</td><td>null</td><td>null</td><td>null</td><td>null</td><td>null</td><td>null</td><td>null</td><td>null</td><td>null</td><td>null</td><td>null</td><td>null</td><td>null</td><td>null</td><td>null</td><td>null</td><td>null</td><td>null</td><td>null</td><td>null</td><td>null</td><td>null</td><td>null</td><td>null</td><td>null</td><td>null</td><td>null</td><td>null</td><td>null</td><td>null</td><td>null</td><td>null</td><td>null</td><td>null</td><td>null</td><td>null</td><td>null</td><td>null</td><td>null</td><td>null</td><td>null</td><td>null</td><td>null</td><td>null</td><td>null</td><td>null</td><td>null</td><td>null</td><td>null</td><td>null</td><td>null</td><td>null</td><td>null</td><td>null</td><td>null</td><td>null</td><td>null</td><td>null</td><td>null</td><td>null</td><td>null</td><td>null</td><td>null</td><td>null</td><td>null</td><td>null</td><td>null</td><td>null</td><td>null</td><td>null</td><td>null</td><td>null</td><td>null</td><td>null</td><td>null</td><td>null</td><td>null</td><td>null</td><td>null</td><td>null</td><td>null</td><td>null</td><td>null</td><td>null</td><td>null</td><td>null</td><td>null</td><td>null</td><td>null</td><td>null</td><td>null</td><td>null</td><td>null</td><td>null</td><td>null</td><td>null</td><td>null</td><td>null</td><td>null</td><td>null</td><td>null</td><td>null</td><td>null</td><td>null</td><td>null</td><td>null</td><td>null</td><td>null</td><td>null</td><td>null</td><td>null</td><td>null</td><td>null</td><td>null</td></tr><tr><td>01v9nqn7mz93ace01v9ig2aswc6oy2zq</td><td>28</td><td>25-29</td><td>Masculino</td><td>Parda</td><td>Não</td><td>Não acredito que minha experiência profissional seja afetada devido a esses fatores</td><td>1</td><td>0</td><td>0</td><td>0</td><td>null</td><td>null</td><td>null</td><td>null</td><td>null</td><td>null</td><td>null</td><td>null</td><td>null</td><td>null</td><td>1</td><td>São Paulo (SP)</td><td>SP</td><td>Sudeste</td><td>1</td><td>null</td><td>Graduação/Bacharelado</td><td>Economia/ Administração / Contabilidade / Finanças/ Negócios</td><td>Desempregado, buscando recolocação</td><td>null</td><td>null</td><td>null</td><td>null</td><td>null</td><td>null</td><td>null</td><td>null</td><td>null</td><td>null</td><td>null</td><td>null</td><td>null</td><td>null</td><td>null</td><td>null</td><td>null</td><td>null</td><td>null</td><td>null</td><td>null</td><td>null</td><td>null</td><td>null</td><td>null</td><td>null</td><td>null</td><td>null</td><td>null</td><td>null</td><td>null</td><td>null</td><td>null</td><td>null</td><td>null</td><td>null</td><td>null</td><td>null</td><td>null</td><td>null</td><td>null</td><td>null</td><td>null</td><td>null</td><td>null</td><td>null</td><td>null</td><td>null</td><td>null</td><td>null</td><td>null</td><td>null</td><td>null</td><td>null</td><td>null</td><td>null</td><td>null</td><td>null</td><td>null</td><td>null</td><td>null</td><td>null</td><td>null</td><td>null</td><td>null</td><td>null</td><td>null</td><td>null</td><td>null</td><td>null</td><td>null</td><td>null</td><td>null</td><td>null</td><td>null</td><td>null</td><td>null</td><td>null</td><td>null</td><td>null</td><td>null</td><td>null</td><td>null</td><td>null</td><td>null</td><td>null</td><td>null</td><td>null</td><td>null</td><td>null</td><td>null</td><td>null</td><td>null</td><td>null</td><td>Buscando oportunidade na área de dados</td><td>null</td><td>null</td><td>null</td><td>null</td><td>null</td><td>null</td><td>null</td><td>null</td><td>null</td><td>null</td><td>null</td><td>null</td><td>null</td><td>null</td><td>null</td><td>null</td><td>null</td><td>null</td><td>null</td><td>null</td><td>null</td><td>null</td><td>null</td><td>null</td><td>null</td><td>null</td><td>null</td><td>null</td><td>null</td><td>null</td><td>null</td><td>null</td><td>null</td><td>null</td><td>null</td><td>null</td><td>null</td><td>null</td><td>null</td><td>null</td><td>null</td><td>null</td><td>null</td><td>null</td><td>null</td><td>null</td><td>null</td><td>null</td><td>null</td><td>null</td><td>null</td><td>null</td><td>null</td><td>null</td><td>null</td><td>null</td><td>null</td><td>null</td><td>null</td><td>null</td><td>null</td><td>null</td><td>null</td><td>null</td><td>null</td><td>null</td><td>null</td><td>null</td><td>null</td><td>null</td><td>null</td><td>null</td><td>null</td><td>null</td><td>null</td><td>null</td><td>null</td><td>null</td><td>null</td><td>null</td><td>null</td><td>null</td><td>null</td><td>null</td><td>null</td><td>null</td><td>null</td><td>null</td><td>null</td><td>null</td><td>null</td><td>null</td><td>null</td><td>null</td><td>null</td><td>null</td><td>null</td><td>null</td><td>null</td><td>null</td><td>null</td><td>null</td><td>null</td><td>null</td><td>null</td><td>null</td><td>null</td><td>null</td><td>null</td><td>null</td><td>null</td><td>null</td><td>null</td><td>null</td><td>null</td><td>null</td><td>null</td><td>null</td><td>null</td><td>Preparação profissional: Estou buscando conhecimentos técnicos para no futuro assumir algum cargo na área de dados</td><td>null</td><td>null</td><td>null</td><td>null</td><td>null</td><td>null</td><td>null</td><td>null</td><td>null</td><td>null</td><td>null</td><td>null</td><td>null</td><td>null</td><td>null</td><td>null</td><td>null</td><td>null</td><td>null</td><td>null</td><td>null</td><td>null</td><td>null</td><td>null</td><td>null</td><td>null</td><td>null</td><td>null</td><td>null</td><td>null</td><td>null</td><td>null</td><td>null</td><td>null</td><td>null</td><td>null</td><td>null</td><td>null</td><td>null</td><td>null</td><td>null</td><td>null</td><td>null</td><td>null</td><td>null</td><td>null</td><td>null</td><td>null</td><td>null</td><td>null</td><td>null</td><td>null</td><td>null</td><td>null</td><td>null</td><td>null</td><td>null</td><td>null</td><td>null</td><td>null</td><td>null</td><td>null</td><td>null</td><td>null</td><td>null</td><td>null</td><td>null</td><td>null</td><td>null</td><td>null</td><td>null</td><td>null</td><td>null</td><td>null</td><td>null</td><td>null</td><td>null</td><td>null</td><td>null</td><td>null</td><td>null</td><td>null</td><td>null</td><td>null</td><td>null</td><td>null</td><td>null</td><td>null</td><td>null</td><td>null</td><td>null</td><td>null</td><td>null</td><td>null</td><td>null</td><td>null</td><td>null</td><td>null</td><td>null</td><td>null</td><td>null</td><td>null</td><td>null</td><td>null</td><td>null</td><td>null</td><td>null</td><td>null</td><td>null</td><td>null</td><td>null</td><td>null</td><td>null</td><td>null</td><td>null</td><td>null</td><td>null</td><td>null</td><td>null</td><td>null</td><td>null</td><td>null</td><td>null</td><td>null</td><td>null</td><td>null</td><td>null</td><td>null</td><td>null</td><td>null</td><td>null</td><td>null</td><td>null</td><td>null</td><td>null</td><td>null</td><td>null</td><td>null</td><td>null</td><td>null</td><td>null</td><td>null</td><td>null</td><td>null</td><td>null</td><td>null</td><td>null</td><td>null</td><td>null</td><td>null</td><td>null</td><td>null</td><td>null</td><td>null</td><td>null</td><td>null</td><td>null</td><td>null</td><td>null</td><td>null</td><td>null</td><td>null</td><td>null</td><td>null</td><td>null</td><td>null</td><td>null</td><td>null</td><td>null</td><td>null</td><td>null</td><td>null</td><td>null</td><td>null</td><td>null</td><td>null</td><td>null</td><td>null</td><td>null</td><td>null</td><td>null</td><td>null</td><td>null</td><td>null</td><td>null</td></tr></tbody></table></div>"
      ]
     },
     "metadata": {
      "application/vnd.databricks.v1+output": {
       "addedWidgets": {},
       "aggData": [],
       "aggError": "",
       "aggOverflow": false,
       "aggSchema": [],
       "aggSeriesLimitReached": false,
       "aggType": "",
       "arguments": {},
       "columnCustomDisplayInfos": {},
       "data": [
        [
         "001b2d1qtli8t9z7oqgdhj001b2d4i0g",
         31,
         "30-34",
         "Masculino",
         "Branca",
         "Não",
         null,
         null,
         null,
         null,
         null,
         null,
         null,
         null,
         null,
         null,
         null,
         null,
         null,
         null,
         null,
         1,
         "Minas Gerais (MG)",
         "MG",
         "Sudeste",
         "1",
         null,
         "Doutorado ou Phd",
         "Computação / Engenharia de Software / Sistemas de Informação/ TI",
         "Empregado (CLT)",
         "Finanças ou Bancos",
         "Acima de 3.000",
         "0",
         null,
         "Cientista de Dados/Data Scientist",
         "Sênior",
         "de R$ 12.001/mês a R$ 16.000/mês",
         "de 3 a 4 anos",
         "Não tive experiência na área de TI/Engenharia de Software antes de começar a trabalhar na área de dados",
         "0",
         "Trabalho presencial",
         0,
         "0",
         0,
         0,
         0,
         0,
         0,
         "Sim, fiz entrevistas mas não fui aprovado (ou ainda aguardo resposta)",
         "Estou em busca de oportunidades dentro ou fora do Brasil",
         "Flexibilidade de trabalho remoto, Remuneração/Salário, Oportunidade de aprendizado e trabalhar com referências na área",
         "1",
         "0",
         0,
         1,
         0,
         1,
         0,
         0,
         0,
         0,
         "Não ocorreram layoffs/demissões em massa na empresa em que trabalho",
         "Modelo híbrido flexível (o funcionário tem liberdade para escolher quando estar no escritório presencialmente)",
         "Modelo 100% remoto",
         "Vou procurar outra oportunidade no modelo 100% remoto",
         null,
         null,
         null,
         null,
         null,
         null,
         null,
         null,
         null,
         null,
         null,
         null,
         null,
         null,
         null,
         null,
         null,
         null,
         null,
         null,
         null,
         null,
         null,
         null,
         null,
         null,
         null,
         null,
         null,
         null,
         null,
         null,
         null,
         null,
         null,
         null,
         null,
         null,
         null,
         null,
         null,
         null,
         null,
         null,
         null,
         null,
         null,
         null,
         null,
         null,
         null,
         null,
         null,
         null,
         null,
         null,
         null,
         null,
         "*Ciência de Dados/Machine Learning/AI: *Desenha e executa experimentos com o objetivo de responder perguntas do negócio; desenvolve modelos preditivos e algoritmos de Machine Learning com o objetivo de otimizar e automatizar a tomada de decisão.",
         "Ciência de Dados",
         "Dados relacionais (estruturados em bancos SQL), Textos/Documentos, Dados armazenados em bancos NoSQL, Planilhas, Áudios, Dados georeferenciados",
         "1",
         "1",
         0,
         1,
         0,
         1,
         1,
         1,
         "Textos/Documentos, Dados relacionais (estruturados em bancos SQL)",
         1,
         "0",
         0,
         1,
         0,
         0,
         0,
         0,
         "Python, SQL",
         1,
         "0",
         1,
         0,
         0,
         0,
         0,
         0,
         0,
         0,
         0,
         0,
         0,
         0,
         0,
         "Python",
         "Python",
         "SQLite, SQL SERVER, S3, Redis, Hive",
         0,
         "0",
         1,
         0,
         0,
         0,
         0,
         0,
         0,
         0,
         1,
         0,
         0,
         0,
         0,
         1,
         0,
         0,
         0,
         1,
         0,
         0,
         0,
         0,
         0,
         0,
         0,
         0,
         0,
         0,
         0,
         1,
         0,
         "Amazon Web Services (AWS)",
         1,
         "0",
         0,
         0,
         0,
         0,
         0,
         "Amazon Web Services (AWS)",
         "Não utilizo nenhuma ferramenta de BI no trabalho",
         "0",
         "0",
         0,
         0,
         0,
         0,
         0,
         0,
         0,
         0,
         0,
         0,
         0,
         0,
         0,
         0,
         0,
         0,
         0,
         0,
         0,
         0,
         1,
         "Streamlit",
         "Uma ou mais equipes testando e aplicando soluções de AI Generativa e LLMs, com o objetivo de propor melhorias e inovações para impulsionar a diferenciação de produtos oferecidos para os clientes finais (exemplo: novos recursos, produtos, serviços etc), Uma ou mais equipes testando e aplicando soluções de AI Generativa e LLMs, com o objetivo de aumentar a eficiencia de processos internos (como produtividade das equipes internas, ou melhoria de processos existentes)., Equipes de desenvolvimento utilizando soluções no estilo Copilot (Github Copilot, AWS CodeWhisperer etc) para obter mais produtividade no processo de desenvolvimento.",
         "0",
         "0",
         1,
         1,
         1,
         0,
         0,
         0,
         "Não utilizo nenhum tipo de solução de IA Generativa para melhorar a produtividade no dia a dia.",
         "1",
         "0",
         "0",
         0,
         0,
         null,
         null,
         null,
         null,
         null,
         null,
         null,
         null,
         null,
         null,
         null,
         null,
         null,
         null,
         null,
         null,
         null,
         null,
         null,
         null,
         null,
         null,
         null,
         null,
         null,
         null,
         null,
         null,
         null,
         null,
         null,
         null,
         null,
         null,
         null,
         null,
         null,
         null,
         null,
         null,
         null,
         null,
         null,
         null,
         null,
         null,
         null,
         null,
         null,
         null,
         null,
         null,
         null,
         null,
         null,
         null,
         null,
         null,
         null,
         null,
         null,
         null,
         null,
         null,
         null,
         null,
         null,
         null,
         null,
         null,
         null,
         null,
         null,
         null,
         null,
         null,
         null,
         null,
         null,
         null,
         null,
         null,
         null,
         null,
         null,
         null,
         null,
         null,
         null,
         null,
         null,
         null,
         null,
         null,
         null,
         null,
         null,
         null,
         null,
         null,
         null,
         null,
         "Treinando e aplicando LLM's para solucionar problemas de negócio., Sou responsável por entrar em contato com os times de negócio para definição do problema, identificar a solução e apresentação de resultados., Sou responsável pela coleta e limpeza dos dados que uso para análise e modelagem.",
         "0",
         1,
         "1",
         0,
         0,
         0,
         0,
         0,
         0,
         0,
         0,
         1,
         "Utilizo técnicas de NLP (Natural Language Processing) para análisar dados não-estruturados.",
         "0",
         0,
         "0",
         0,
         1,
         0,
         0,
         0,
         0,
         0,
         0,
         0,
         0,
         0,
         "Planilhas (Excel, Google Sheets etc)., Ambientes de desenvolvimento na nuvem (Google Colab, AWS Sagemaker, Kaggle Notebooks etc)., Sistemas de controle de versão (Github, DVC, Neptune, Gitlab etc)., Plataformas de Data Apps (Streamlit, Shiny, Plotly Dash etc).",
         "0",
         1,
         "0",
         1,
         0,
         0,
         0,
         0,
         1,
         1,
         0,
         "Coletando e limpando dos dados que uso para análise e modelagem., Entrando em contato com os times de negócio para definição do problema, identificar a solução e apresentação de resultados.",
         "0",
         1,
         "1",
         0,
         0,
         0,
         0,
         0,
         0,
         0,
         0,
         0,
         null,
         null,
         null,
         null,
         null,
         null,
         null,
         null,
         null,
         null,
         null,
         null,
         null,
         null,
         null,
         null,
         null,
         null,
         null,
         null,
         null,
         null,
         null,
         null,
         null,
         null,
         null,
         null,
         null,
         null,
         null
        ],
        [
         "0026aa3fwd78u0026asg7456tfkjg2cs",
         30,
         "30-34",
         "Masculino",
         "Branca",
         "Não",
         null,
         null,
         null,
         null,
         null,
         null,
         null,
         null,
         null,
         null,
         null,
         null,
         null,
         null,
         null,
         1,
         "Espírito Santo (ES)",
         "ES",
         "Sudeste",
         "1",
         null,
         "Graduação/Bacharelado",
         "Computação / Engenharia de Software / Sistemas de Informação/ TI",
         "Empreendedor ou Empregado (CNPJ)",
         "Finanças ou Bancos",
         "de 101 a 500",
         "0",
         null,
         "Analista de BI/BI Analyst",
         "Pleno",
         "de R$ 6.001/mês a R$ 8.000/mês",
         "de 3 a 4 anos",
         "de 3 a 4 anos",
         "1",
         null,
         null,
         null,
         null,
         null,
         null,
         null,
         null,
         "Sim, fui aprovado mas decidi não mudar de emprego",
         "Não estou buscando, mas me considero aberto a outras oportunidades",
         "Remuneração/Salário, Benefícios, Flexibilidade de trabalho remoto",
         "1",
         "1",
         0,
         1,
         0,
         0,
         0,
         0,
         0,
         0,
         "Não ocorreram layoffs/demissões em massa na empresa em que trabalho",
         "Modelo 100% remoto",
         "Modelo 100% remoto",
         "Vou procurar outra oportunidade no modelo híbrido ou remoto",
         null,
         null,
         null,
         null,
         null,
         null,
         null,
         null,
         null,
         null,
         null,
         null,
         null,
         null,
         null,
         null,
         null,
         null,
         null,
         null,
         null,
         null,
         null,
         null,
         null,
         null,
         null,
         null,
         null,
         null,
         null,
         null,
         null,
         null,
         null,
         null,
         null,
         null,
         null,
         null,
         null,
         null,
         null,
         null,
         null,
         null,
         null,
         null,
         null,
         null,
         null,
         null,
         null,
         null,
         null,
         null,
         null,
         null,
         "*Análise de Dados/BI:* Extrai e cruza dados unindo diferentes fontes da informação; analisa dados visando identificar padrões, gerar insights e levantar perguntas; desenvolve dashboards, relatórios e visualizações de dados em ferramentas de BI.",
         "Análise de Dados",
         "Dados relacionais (estruturados em bancos SQL), Dados armazenados em bancos NoSQL, Imagens, Vídeos",
         "1",
         "1",
         1,
         0,
         1,
         0,
         0,
         0,
         "Dados relacionais (estruturados em bancos SQL)",
         1,
         "0",
         0,
         0,
         0,
         0,
         0,
         0,
         "SQL, Python",
         1,
         "0",
         1,
         0,
         0,
         0,
         0,
         0,
         0,
         0,
         0,
         0,
         0,
         0,
         0,
         "SQL",
         "Python",
         "S3",
         0,
         "0",
         0,
         0,
         0,
         0,
         0,
         0,
         0,
         0,
         1,
         0,
         0,
         0,
         0,
         0,
         0,
         0,
         0,
         0,
         0,
         0,
         0,
         0,
         0,
         0,
         0,
         0,
         0,
         0,
         0,
         0,
         0,
         "Google Cloud (GCP), Amazon Web Services (AWS)",
         1,
         "1",
         0,
         0,
         0,
         0,
         0,
         "Google Cloud (GCP)",
         "Looker, Microsoft PowerBI",
         "1",
         "0",
         0,
         0,
         0,
         0,
         1,
         0,
         0,
         0,
         0,
         0,
         0,
         0,
         0,
         0,
         0,
         0,
         0,
         0,
         0,
         0,
         0,
         "Looker",
         "Não tenho visto soluções de IA Generatica e LLMs sendo tradadas como prioridade pela empresa e pessoas, os poucos casos de uso são isolados ou ainda estão muito no início.",
         "0",
         "0",
         0,
         0,
         0,
         0,
         1,
         0,
         "Utilizo soluções pagas de AI Generativa (como por exemplo ChatGPT plus, MidJourney etc) e pago do meu próprio bolso.",
         "0",
         "0",
         "1",
         0,
         0,
         null,
         null,
         null,
         null,
         null,
         null,
         null,
         null,
         null,
         null,
         null,
         null,
         null,
         null,
         null,
         null,
         null,
         null,
         null,
         null,
         null,
         null,
         null,
         null,
         null,
         null,
         null,
         null,
         null,
         null,
         null,
         null,
         null,
         null,
         null,
         null,
         null,
         null,
         null,
         null,
         null,
         null,
         null,
         null,
         null,
         null,
         null,
         null,
         null,
         null,
         null,
         "Processo e analiso dados utilizando linguagens de programação como Python, R etc., Crio consultas através da linguagem SQL para exportar informações e compartilhar com as áreas de negócio.",
         "1",
         "0",
         "1",
         0,
         0,
         0,
         0,
         0,
         0,
         0,
         "Pentaho, Databricks",
         "0",
         "0",
         "0",
         0,
         0,
         0,
         0,
         1,
         0,
         0,
         0,
         0,
         0,
         0,
         0,
         0,
         0,
         0,
         0,
         1,
         0,
         "Não sei informar., Ferramentas de análise dentro de ferramentas de CRM como Salesforce Einstein Anaytics ou Zendesk dashboards.",
         "0",
         "0",
         "0",
         "1",
         "0",
         "1",
         "Realizando experimentos e estudos utilizando metodologias estatísticas como teste de hipótese, modelos de regressão etc.",
         "0",
         "0",
         "0",
         0,
         "1",
         "0",
         0,
         "0",
         0,
         0,
         null,
         null,
         null,
         null,
         null,
         null,
         null,
         null,
         null,
         null,
         null,
         null,
         null,
         null,
         null,
         null,
         null,
         null,
         null,
         null,
         null,
         null,
         null,
         null,
         null,
         null,
         null,
         null,
         null,
         null,
         null,
         null,
         null,
         null,
         null,
         null,
         null,
         null,
         null,
         null,
         null,
         null,
         null,
         null,
         null,
         null,
         null,
         null,
         null,
         null,
         null,
         null,
         null,
         null,
         null,
         null,
         null,
         null,
         null,
         null,
         null,
         null,
         null,
         null,
         null,
         null,
         null,
         null,
         null,
         null,
         null,
         null,
         null,
         null,
         null,
         null,
         null,
         null,
         null,
         null,
         null,
         null,
         null,
         null
        ],
        [
         "00r21rb9pusd1b0v7ew00r21rw3dy69w",
         37,
         "35-39",
         "Feminino",
         "Amarela",
         "Não",
         "Sim, acredito que a minha a experiência profissional seja afetada devido a minha identidade de gênero",
         0,
         0,
         1,
         0,
         "Atenção dada pelas pessoas diante das minhas opiniões e ideias, Aprovação em processos seletivos/entrevistas, Quantidade de oportunidades de emprego/vagas recebidas",
         "1",
         "0",
         1,
         0,
         0,
         0,
         1,
         0,
         0,
         1,
         "São Paulo (SP)",
         "SP",
         "Sudeste",
         "1",
         null,
         "Graduação/Bacharelado",
         "Computação / Engenharia de Software / Sistemas de Informação/ TI",
         "Empregado (CLT)",
         "Finanças ou Bancos",
         "Acima de 3.000",
         "0",
         null,
         "Analista de Dados/Data Analyst",
         "Júnior",
         "de R$ 6.001/mês a R$ 8.000/mês",
         "de 1 a 2 anos",
         "Menos de 1 ano",
         "1",
         null,
         null,
         null,
         null,
         null,
         null,
         null,
         null,
         "Não participei de entrevistas de emprego/processos seletivos nos últimos 6 meses",
         "Não estou buscando, mas me considero aberto a outras oportunidades",
         "Flexibilidade de trabalho remoto, Remuneração/Salário, Ambiente e clima de trabalho",
         "1",
         "0",
         0,
         1,
         1,
         0,
         0,
         0,
         0,
         0,
         "Sim, ocorreram layoffs/demissões em massa na empresa em que trabalho mas não fui afetado",
         "Modelo híbrido flexível (o funcionário tem liberdade para escolher quando estar no escritório presencialmente)",
         "Modelo 100% remoto",
         "Vou aceitar e retornar ao modelo 100% presencial",
         null,
         null,
         null,
         null,
         null,
         null,
         null,
         null,
         null,
         null,
         null,
         null,
         null,
         null,
         null,
         null,
         null,
         null,
         null,
         null,
         null,
         null,
         null,
         null,
         null,
         null,
         null,
         null,
         null,
         null,
         null,
         null,
         null,
         null,
         null,
         null,
         null,
         null,
         null,
         null,
         null,
         null,
         null,
         null,
         null,
         null,
         null,
         null,
         null,
         null,
         null,
         null,
         null,
         null,
         null,
         null,
         null,
         null,
         "*Ciência de Dados/Machine Learning/AI: *Desenha e executa experimentos com o objetivo de responder perguntas do negócio; desenvolve modelos preditivos e algoritmos de Machine Learning com o objetivo de otimizar e automatizar a tomada de decisão.",
         "Ciência de Dados",
         "Dados relacionais (estruturados em bancos SQL), Textos/Documentos, Planilhas",
         "1",
         "0",
         0,
         1,
         0,
         0,
         1,
         0,
         "Dados relacionais (estruturados em bancos SQL), Textos/Documentos",
         1,
         "0",
         0,
         1,
         0,
         0,
         0,
         0,
         "SQL, Python, SAS/Stata",
         1,
         "0",
         1,
         0,
         0,
         0,
         0,
         1,
         0,
         0,
         0,
         0,
         0,
         0,
         0,
         "SQL",
         "Python",
         "S3, Amazon Athena, Hive",
         0,
         "0",
         0,
         0,
         0,
         0,
         0,
         0,
         0,
         0,
         1,
         0,
         0,
         0,
         0,
         0,
         0,
         0,
         0,
         0,
         0,
         0,
         0,
         0,
         1,
         0,
         0,
         0,
         0,
         0,
         0,
         1,
         0,
         "Amazon Web Services (AWS)",
         1,
         "0",
         0,
         0,
         0,
         0,
         0,
         "Amazon Web Services (AWS)",
         "Salesforce/Einstein Analytics, Amazon Quicksight, Tableau, Fazemos todas as análises utilizando apenas Excel ou planilhas do google, Amazon Quicksight, Alteryx",
         "0",
         "0",
         1,
         0,
         0,
         0,
         0,
         0,
         1,
         0,
         1,
         0,
         0,
         0,
         0,
         1,
         0,
         0,
         0,
         0,
         0,
         1,
         0,
         "Amazon Quicksight",
         "Colaboradores utilizando soluções baseadas em AI Generativa (como o ChatGPT por exemplo) de forma independente, com o objetivo de melhorar sua produtividade no dia a dia, sem um direcionamento centralizado., Equipes de desenvolvimento utilizando soluções no estilo Copilot (Github Copilot, AWS CodeWhisperer etc) para obter mais produtividade no processo de desenvolvimento., Uma ou mais equipes testando e aplicando soluções de AI Generativa e LLMs, com o objetivo de propor melhorias e inovações para impulsionar a diferenciação de produtos oferecidos para os clientes finais (exemplo: novos recursos, produtos, serviços etc), Uma ou mais equipes testando e aplicando soluções de AI Generativa e LLMs, com o objetivo de aumentar a eficiencia de processos internos (como produtividade das equipes internas, ou melhoria de processos existentes).",
         "1",
         "0",
         1,
         1,
         1,
         0,
         0,
         0,
         "Utilizo apenas soluções gratuitas (como por exemplo o ChatGPT), para me ajudar a ser mais produtivo no dia a dia.",
         "0",
         "1",
         "0",
         0,
         0,
         null,
         null,
         null,
         null,
         null,
         null,
         null,
         null,
         null,
         null,
         null,
         null,
         null,
         null,
         null,
         null,
         null,
         null,
         null,
         null,
         null,
         null,
         null,
         null,
         null,
         null,
         null,
         null,
         null,
         null,
         null,
         null,
         null,
         null,
         null,
         null,
         null,
         null,
         null,
         null,
         null,
         null,
         null,
         null,
         null,
         null,
         null,
         null,
         null,
         null,
         null,
         null,
         null,
         null,
         null,
         null,
         null,
         null,
         null,
         null,
         null,
         null,
         null,
         null,
         null,
         null,
         null,
         null,
         null,
         null,
         null,
         null,
         null,
         null,
         null,
         null,
         null,
         null,
         null,
         null,
         null,
         null,
         null,
         null,
         null,
         null,
         null,
         null,
         null,
         null,
         null,
         null,
         null,
         null,
         null,
         null,
         null,
         null,
         null,
         null,
         null,
         null,
         "Sou responsável pela coleta e limpeza dos dados que uso para análise e modelagem., Sou responsável por entrar em contato com os times de negócio para definição do problema, identificar a solução e apresentação de resultados.",
         "0",
         1,
         "1",
         0,
         0,
         0,
         0,
         0,
         0,
         0,
         0,
         0,
         "Utilizo redes neurais ou modelos baseados em árvore para criar modelos de classificação., Utilizo técnicas de NLP (Natural Language Processing) para análisar dados não-estruturados.",
         "0",
         1,
         "0",
         0,
         1,
         0,
         0,
         0,
         0,
         0,
         0,
         0,
         0,
         0,
         "Ambientes de desenvolvimento na nuvem (Google Colab, AWS Sagemaker, Kaggle Notebooks etc)., Ambientes de desenvolvimento local (R-studio, JupyterLab, Anaconda)., Sistemas de controle de versão (Github, DVC, Neptune, Gitlab etc)., Planilhas (Excel, Google Sheets etc).",
         "0",
         1,
         "1",
         1,
         0,
         0,
         0,
         0,
         1,
         0,
         0,
         "Coletando e limpando dos dados que uso para análise e modelagem., Entrando em contato com os times de negócio para definição do problema, identificar a solução e apresentação de resultados.",
         "0",
         1,
         "1",
         0,
         0,
         0,
         0,
         0,
         0,
         0,
         0,
         0,
         null,
         null,
         null,
         null,
         null,
         null,
         null,
         null,
         null,
         null,
         null,
         null,
         null,
         null,
         null,
         null,
         null,
         null,
         null,
         null,
         null,
         null,
         null,
         null,
         null,
         null,
         null,
         null,
         null,
         null,
         null
        ],
        [
         "00urm3jf2cek12w6ygue00urm3jzd17j",
         22,
         "22-24",
         "Masculino",
         "Preta",
         "Não",
         "Não acredito que minha experiência profissional seja afetada devido a esses fatores",
         1,
         0,
         0,
         0,
         null,
         null,
         null,
         null,
         null,
         null,
         null,
         null,
         null,
         null,
         1,
         "São Paulo (SP)",
         "SP",
         "Sudeste",
         "1",
         null,
         "Estudante de Graduação",
         "Computação / Engenharia de Software / Sistemas de Informação/ TI",
         "Desempregado, buscando recolocação",
         null,
         null,
         null,
         null,
         null,
         null,
         null,
         null,
         null,
         null,
         null,
         null,
         null,
         null,
         null,
         null,
         null,
         null,
         null,
         null,
         null,
         null,
         null,
         null,
         null,
         null,
         null,
         null,
         null,
         null,
         null,
         null,
         null,
         null,
         null,
         null,
         null,
         null,
         null,
         null,
         null,
         null,
         null,
         null,
         null,
         null,
         null,
         null,
         null,
         null,
         null,
         null,
         null,
         null,
         null,
         null,
         null,
         null,
         null,
         null,
         null,
         null,
         null,
         null,
         null,
         null,
         null,
         null,
         null,
         null,
         null,
         null,
         null,
         null,
         null,
         null,
         null,
         null,
         null,
         null,
         null,
         null,
         null,
         null,
         null,
         null,
         null,
         null,
         null,
         null,
         null,
         null,
         null,
         null,
         "Buscando oportunidade na área de dados",
         null,
         null,
         null,
         null,
         null,
         null,
         null,
         null,
         null,
         null,
         null,
         null,
         null,
         null,
         null,
         null,
         null,
         null,
         null,
         null,
         null,
         null,
         null,
         null,
         null,
         null,
         null,
         null,
         null,
         null,
         null,
         null,
         null,
         null,
         null,
         null,
         null,
         null,
         null,
         null,
         null,
         null,
         null,
         null,
         null,
         null,
         null,
         null,
         null,
         null,
         null,
         null,
         null,
         null,
         null,
         null,
         null,
         null,
         null,
         null,
         null,
         null,
         null,
         null,
         null,
         null,
         null,
         null,
         null,
         null,
         null,
         null,
         null,
         null,
         null,
         null,
         null,
         null,
         null,
         null,
         null,
         null,
         null,
         null,
         null,
         null,
         null,
         null,
         null,
         null,
         null,
         null,
         null,
         null,
         null,
         null,
         null,
         null,
         null,
         null,
         null,
         null,
         null,
         null,
         null,
         null,
         null,
         null,
         null,
         null,
         null,
         null,
         null,
         null,
         null,
         null,
         null,
         null,
         null,
         "Migração de carreira: Trabalho em outra área e busco recolocação na área de dados",
         "Analista de BI/BI Analyst",
         "7 meses - 1 ano",
         "Já participei de 1 a 3 entrevistas, mas não fui contratado",
         null,
         null,
         null,
         null,
         null,
         null,
         null,
         null,
         null,
         null,
         null,
         null,
         null,
         null,
         null,
         null,
         null,
         null,
         null,
         null,
         null,
         null,
         null,
         null,
         null,
         null,
         null,
         null,
         null,
         null,
         null,
         null,
         null,
         null,
         null,
         null,
         null,
         null,
         null,
         null,
         null,
         null,
         null,
         null,
         null,
         null,
         null,
         null,
         null,
         null,
         null,
         null,
         null,
         null,
         null,
         null,
         null,
         null,
         null,
         null,
         null,
         null,
         null,
         null,
         null,
         null,
         null,
         null,
         null,
         null,
         null,
         null,
         null,
         null,
         null,
         null,
         null,
         null,
         null,
         null,
         null,
         null,
         null,
         null,
         null,
         null,
         null,
         null,
         null,
         null,
         null,
         null,
         null,
         null,
         null,
         null,
         null,
         null,
         null,
         null,
         null,
         null,
         null,
         null,
         null,
         null,
         null,
         null,
         null,
         null,
         null,
         null,
         null,
         null,
         null,
         null,
         null,
         null,
         null,
         null,
         null,
         null,
         null,
         null,
         null,
         null,
         null,
         null,
         null,
         null,
         null,
         null,
         null,
         null,
         null,
         null,
         null,
         null,
         null,
         null,
         null,
         null,
         null,
         null,
         null,
         null,
         null,
         null,
         null,
         null,
         null,
         null,
         null,
         null,
         null,
         null,
         null,
         null,
         null,
         null,
         null,
         null,
         null,
         null,
         null,
         null,
         null,
         null,
         null,
         null,
         null,
         null,
         null,
         null,
         null,
         null,
         null,
         null,
         null,
         null,
         null,
         null
        ],
        [
         "00v0az4g792svil00vn6y1kfm9hq8vy9",
         34,
         "30-34",
         "Masculino",
         "Branca",
         "Não",
         null,
         null,
         null,
         null,
         null,
         null,
         null,
         null,
         null,
         null,
         null,
         null,
         null,
         null,
         null,
         1,
         "Minas Gerais (MG)",
         "MG",
         "Sudeste",
         "1",
         null,
         "Doutorado ou Phd",
         "Economia/ Administração / Contabilidade / Finanças/ Negócios",
         "Empreendedor ou Empregado (CNPJ)",
         "Outra Opção",
         "de 101 a 500",
         "0",
         null,
         "Analista de Dados/Data Analyst",
         "Júnior",
         "de R$ 4.001/mês a R$ 6.000/mês",
         "Menos de 1 ano",
         "Menos de 1 ano",
         "1",
         null,
         null,
         null,
         null,
         null,
         null,
         null,
         null,
         "Sim, fui aprovado no meu primeiro emprego (ou estava sem emprego)",
         "Não estou buscando e não pretendo mudar de emprego nos próximos 6 meses",
         "Remuneração/Salário, Flexibilidade de trabalho remoto, Plano de carreira e oportunidades de crescimento profissional",
         "1",
         "0",
         0,
         1,
         0,
         0,
         1,
         0,
         0,
         0,
         "Não ocorreram layoffs/demissões em massa na empresa em que trabalho",
         "Modelo 100% remoto",
         "Modelo 100% remoto",
         "Vou procurar outra oportunidade no modelo híbrido ou remoto",
         null,
         null,
         null,
         null,
         null,
         null,
         null,
         null,
         null,
         null,
         null,
         null,
         null,
         null,
         null,
         null,
         null,
         null,
         null,
         null,
         null,
         null,
         null,
         null,
         null,
         null,
         null,
         null,
         null,
         null,
         null,
         null,
         null,
         null,
         null,
         null,
         null,
         null,
         null,
         null,
         null,
         null,
         null,
         null,
         null,
         null,
         null,
         null,
         null,
         null,
         null,
         null,
         null,
         null,
         null,
         null,
         null,
         null,
         "*Análise de Dados/BI:* Extrai e cruza dados unindo diferentes fontes da informação; analisa dados visando identificar padrões, gerar insights e levantar perguntas; desenvolve dashboards, relatórios e visualizações de dados em ferramentas de BI.",
         "Análise de Dados",
         "Dados relacionais (estruturados em bancos SQL), Textos/Documentos, Planilhas, Áudios",
         "1",
         "0",
         0,
         1,
         0,
         1,
         1,
         0,
         "Dados relacionais (estruturados em bancos SQL), Planilhas",
         1,
         "0",
         0,
         0,
         0,
         0,
         1,
         0,
         "SQL, Python",
         1,
         "0",
         1,
         0,
         0,
         0,
         0,
         0,
         0,
         0,
         0,
         0,
         0,
         0,
         0,
         "Python",
         "Python",
         "Google BigQuery, Snowflake",
         0,
         "0",
         0,
         0,
         0,
         0,
         0,
         0,
         0,
         0,
         0,
         0,
         0,
         0,
         0,
         0,
         0,
         0,
         0,
         0,
         0,
         1,
         0,
         0,
         0,
         1,
         0,
         0,
         0,
         0,
         0,
         0,
         0,
         "Snowflake",
         0,
         "0",
         0,
         0,
         0,
         0,
         0,
         "Amazon Web Services (AWS)",
         "Microsoft PowerBI, Metabase",
         "1",
         "0",
         0,
         1,
         0,
         0,
         0,
         0,
         0,
         0,
         0,
         0,
         0,
         0,
         0,
         0,
         0,
         0,
         0,
         0,
         0,
         0,
         0,
         "Microsoft PowerBI",
         "Não sei opinar.",
         "0",
         "0",
         0,
         0,
         0,
         0,
         0,
         1,
         "Utilizo apenas soluções gratuitas (como por exemplo o ChatGPT), para me ajudar a ser mais produtivo no dia a dia.",
         "0",
         "1",
         "0",
         0,
         0,
         null,
         null,
         null,
         null,
         null,
         null,
         null,
         null,
         null,
         null,
         null,
         null,
         null,
         null,
         null,
         null,
         null,
         null,
         null,
         null,
         null,
         null,
         null,
         null,
         null,
         null,
         null,
         null,
         null,
         null,
         null,
         null,
         null,
         null,
         null,
         null,
         null,
         null,
         null,
         null,
         null,
         null,
         null,
         null,
         null,
         null,
         null,
         null,
         null,
         null,
         null,
         "Processo e analiso dados utilizando linguagens de programação como Python, R etc., Realizo construções de dashboards em ferramentas de BI como PowerBI, Tableau, Looker, Qlik etc., Crio consultas através da linguagem SQL para exportar informações e compartilhar com as áreas de negócio., Realizo experimentos e estudos utilizando metodologias estatísticas como teste de hipótese, modelos de regressão etc., Atuo na modelagem dos dados, com o objetivo de criar conjuntos de dados como Data Warehouses, Data Marts, Datasets etc.",
         "1",
         "1",
         "1",
         0,
         1,
         0,
         1,
         0,
         0,
         0,
         "Scripts Python, DBT",
         "1",
         "0",
         "0",
         0,
         0,
         0,
         0,
         0,
         0,
         0,
         0,
         0,
         0,
         0,
         0,
         0,
         0,
         0,
         0,
         0,
         0,
         "Minha empresa não utiliza essas ferramentas.",
         "0",
         "0",
         "0",
         "0",
         "1",
         "0",
         "Processando e analisando dados utilizando linguagens de programação como Python, R etc., Realizando construções de dashboards em ferramentas de BI como PowerBI, Tableau, Looker, Qlik etc.",
         "1",
         "1",
         "0",
         0,
         "0",
         "0",
         0,
         "0",
         0,
         0,
         null,
         null,
         null,
         null,
         null,
         null,
         null,
         null,
         null,
         null,
         null,
         null,
         null,
         null,
         null,
         null,
         null,
         null,
         null,
         null,
         null,
         null,
         null,
         null,
         null,
         null,
         null,
         null,
         null,
         null,
         null,
         null,
         null,
         null,
         null,
         null,
         null,
         null,
         null,
         null,
         null,
         null,
         null,
         null,
         null,
         null,
         null,
         null,
         null,
         null,
         null,
         null,
         null,
         null,
         null,
         null,
         null,
         null,
         null,
         null,
         null,
         null,
         null,
         null,
         null,
         null,
         null,
         null,
         null,
         null,
         null,
         null,
         null,
         null,
         null,
         null,
         null,
         null,
         null,
         null,
         null,
         null,
         null,
         null
        ],
        [
         "015qqbrh4rr015qje9gvkbsb7ti1n5df",
         30,
         "30-34",
         "Masculino",
         "Branca",
         "Não",
         null,
         null,
         null,
         null,
         null,
         null,
         null,
         null,
         null,
         null,
         null,
         null,
         null,
         null,
         null,
         1,
         "Rio de Janeiro (RJ)",
         "RJ",
         "Sudeste",
         "1",
         null,
         "Estudante de Graduação",
         "Computação / Engenharia de Software / Sistemas de Informação/ TI",
         "Empreendedor ou Empregado (CNPJ)",
         "Tecnologia/Fábrica de Software",
         "de 51 a 100",
         "0",
         null,
         "Engenheiro de Dados/Arquiteto de Dados/Data Engineer/Data Architect",
         "Pleno",
         "de R$ 8.001/mês a R$ 12.000/mês",
         "de 1 a 2 anos",
         "Não tive experiência na área de TI/Engenharia de Software antes de começar a trabalhar na área de dados",
         "1",
         null,
         null,
         null,
         null,
         null,
         null,
         null,
         null,
         "Sim, fui aprovado e mudei de emprego",
         "Não estou buscando e não pretendo mudar de emprego nos próximos 6 meses",
         "Flexibilidade de trabalho remoto, Remuneração/Salário, Propósito do trabalho e da empresa",
         "1",
         "0",
         1,
         1,
         0,
         0,
         0,
         0,
         0,
         0,
         "Sim, ocorreram layoffs/demissões em massa na empresa em que trabalhava e eu fui afetado",
         "Modelo 100% remoto",
         "Modelo 100% remoto",
         "Vou procurar outra oportunidade no modelo 100% remoto",
         null,
         null,
         null,
         null,
         null,
         null,
         null,
         null,
         null,
         null,
         null,
         null,
         null,
         null,
         null,
         null,
         null,
         null,
         null,
         null,
         null,
         null,
         null,
         null,
         null,
         null,
         null,
         null,
         null,
         null,
         null,
         null,
         null,
         null,
         null,
         null,
         null,
         null,
         null,
         null,
         null,
         null,
         null,
         null,
         null,
         null,
         null,
         null,
         null,
         null,
         null,
         null,
         null,
         null,
         null,
         null,
         null,
         null,
         "*Engenharia de Dados:* Modela soluções de arquitetura de dados; define modelagens de repositórios de dados (Data Lake, Data Warehouse, Data Lakehouse); desenvolve estratégias de aquisição de dados, recuperação de informação e pipelines de dados.",
         "Engenharia de Dados",
         "Dados relacionais (estruturados em bancos SQL), Dados armazenados em bancos NoSQL, Textos/Documentos, Planilhas",
         "1",
         "1",
         0,
         1,
         0,
         0,
         1,
         0,
         "Dados relacionais (estruturados em bancos SQL), Textos/Documentos",
         1,
         "0",
         0,
         1,
         0,
         0,
         0,
         0,
         "Python, SQL",
         1,
         "0",
         1,
         0,
         0,
         0,
         0,
         0,
         0,
         0,
         0,
         0,
         0,
         0,
         0,
         "SQL",
         "Python",
         "Amazon Athena, Hive, Databricks, Amazon Redshift, DynamoDB, Google BigQuery, Snowflake, SQL SERVER, Amazon Aurora ou RDS, PostgreSQL, MariaDB",
         0,
         "0",
         1,
         1,
         1,
         0,
         0,
         0,
         1,
         0,
         0,
         1,
         0,
         0,
         0,
         0,
         0,
         0,
         0,
         0,
         0,
         1,
         0,
         1,
         1,
         1,
         1,
         0,
         0,
         0,
         0,
         1,
         0,
         "Google Cloud (GCP), Amazon Web Services (AWS)",
         1,
         "1",
         0,
         0,
         0,
         0,
         0,
         "Amazon Web Services (AWS)",
         "Looker, Microsoft PowerBI",
         "1",
         "0",
         0,
         0,
         0,
         0,
         1,
         0,
         0,
         0,
         0,
         0,
         0,
         0,
         0,
         0,
         0,
         0,
         0,
         0,
         0,
         0,
         0,
         "Metabase",
         "Não tenho visto soluções de IA Generatica e LLMs sendo tradadas como prioridade pela empresa e pessoas, os poucos casos de uso são isolados ou ainda estão muito no início.",
         "0",
         "0",
         0,
         0,
         0,
         0,
         1,
         0,
         "Utilizo apenas soluções gratuitas (como por exemplo o ChatGPT), para me ajudar a ser mais produtivo no dia a dia.",
         "0",
         "1",
         "0",
         0,
         0,
         null,
         null,
         null,
         null,
         "Desenvolvo pipelines de dados utilizando linguagens de programação como Python, Scala, Java etc., Realizo construções de ETL's em ferramentas como Pentaho, Talend, Dataflow etc., Crio consultas através da linguagem SQL para exportar informações e compartilhar com as áreas de negócio., Desenvolvo/cuido da manutenção de repositórios de dados baseados em streaming de eventos como Data Lakes e Data Lakehouses.",
         "1",
         1,
         "1",
         0,
         0,
         1,
         0,
         0,
         0,
         "Scripts Python, AWS Glue",
         "1",
         0,
         "0",
         0,
         0,
         1,
         0,
         0,
         0,
         0,
         0,
         0,
         0,
         0,
         0,
         0,
         0,
         0,
         0,
         0,
         0,
         1,
         "Amazon S3 + Redshift + Athena",
         "1",
         "Postgres/MySQL",
         "great\\_expectations",
         "Desenvolvendo pipelines de dados utilizando linguagens de programação como Python, Scala, Java etc., Realizando construções de ETL's em ferramentas como Pentaho, Talend, Dataflow etc.",
         "1",
         "1",
         "0",
         0,
         0,
         0,
         0,
         0,
         0,
         null,
         null,
         null,
         null,
         null,
         null,
         null,
         null,
         null,
         null,
         null,
         null,
         null,
         null,
         null,
         null,
         null,
         null,
         null,
         null,
         null,
         null,
         null,
         null,
         null,
         null,
         null,
         null,
         null,
         null,
         null,
         null,
         null,
         null,
         null,
         null,
         null,
         null,
         null,
         null,
         null,
         null,
         null,
         null,
         null,
         null,
         null,
         null,
         null,
         null,
         null,
         null,
         null,
         null,
         null,
         null,
         null,
         null,
         null,
         null,
         null,
         null,
         null,
         null,
         null,
         null,
         null,
         null,
         null,
         null,
         null,
         null,
         null,
         null,
         null,
         null,
         null,
         null,
         null,
         null,
         null,
         null,
         null,
         null,
         null,
         null,
         null,
         null,
         null,
         null,
         null,
         null,
         null,
         null,
         null,
         null,
         null,
         null,
         null,
         null,
         null,
         null,
         null,
         null,
         null,
         null,
         null,
         null,
         null,
         null,
         null,
         null,
         null,
         null,
         null,
         null,
         null,
         null,
         null,
         null,
         null,
         null,
         null,
         null,
         null,
         null,
         null,
         null,
         null,
         null,
         null,
         null,
         null,
         null,
         null
        ],
        [
         "01810y9hweneb018to8t1p8ubyn1o04m",
         24,
         "22-24",
         "Masculino",
         "Branca",
         "Não",
         null,
         null,
         null,
         null,
         null,
         null,
         null,
         null,
         null,
         null,
         null,
         null,
         null,
         null,
         null,
         1,
         "São Paulo (SP)",
         "SP",
         "Sudeste",
         "1",
         null,
         "Graduação/Bacharelado",
         "Economia/ Administração / Contabilidade / Finanças/ Negócios",
         "Empregado (CLT)",
         "Finanças ou Bancos",
         "Acima de 3.000",
         "0",
         null,
         "Analista de Negócios/Business Analyst",
         "Pleno",
         "de R$ 4.001/mês a R$ 6.000/mês",
         "de 3 a 4 anos",
         "Não tive experiência na área de TI/Engenharia de Software antes de começar a trabalhar na área de dados",
         "1",
         null,
         null,
         null,
         null,
         null,
         null,
         null,
         null,
         "Não participei de entrevistas de emprego/processos seletivos nos últimos 6 meses",
         "Não estou buscando, mas me considero aberto a outras oportunidades",
         "Flexibilidade de trabalho remoto, Remuneração/Salário, Benefícios",
         "1",
         "1",
         0,
         1,
         0,
         0,
         0,
         0,
         0,
         0,
         "Sim, ocorreram layoffs/demissões em massa na empresa em que trabalho mas não fui afetado",
         "Modelo híbrido com dias fixos de trabalho presencial",
         "Modelo híbrido flexível (o funcionário tem liberdade para escolher quando estar no escritório presencialmente)",
         "Vou aceitar e retornar ao modelo 100% presencial",
         null,
         null,
         null,
         null,
         null,
         null,
         null,
         null,
         null,
         null,
         null,
         null,
         null,
         null,
         null,
         null,
         null,
         null,
         null,
         null,
         null,
         null,
         null,
         null,
         null,
         null,
         null,
         null,
         null,
         null,
         null,
         null,
         null,
         null,
         null,
         null,
         null,
         null,
         null,
         null,
         null,
         null,
         null,
         null,
         null,
         null,
         null,
         null,
         null,
         null,
         null,
         null,
         null,
         null,
         null,
         null,
         null,
         null,
         "*Análise de Dados/BI:* Extrai e cruza dados unindo diferentes fontes da informação; analisa dados visando identificar padrões, gerar insights e levantar perguntas; desenvolve dashboards, relatórios e visualizações de dados em ferramentas de BI.",
         "Análise de Dados",
         "Dados relacionais (estruturados em bancos SQL), Planilhas",
         "1",
         "0",
         0,
         0,
         0,
         0,
         1,
         0,
         "Dados relacionais (estruturados em bancos SQL)",
         1,
         "0",
         0,
         0,
         0,
         0,
         0,
         0,
         "SQL",
         1,
         "0",
         0,
         0,
         0,
         0,
         0,
         0,
         0,
         0,
         0,
         0,
         0,
         0,
         0,
         "SQL",
         "Python",
         "S3, Amazon Athena",
         0,
         "0",
         0,
         0,
         0,
         0,
         0,
         0,
         0,
         0,
         1,
         0,
         0,
         0,
         0,
         0,
         0,
         0,
         0,
         0,
         0,
         0,
         0,
         0,
         1,
         0,
         0,
         0,
         0,
         0,
         0,
         0,
         0,
         "Amazon Web Services (AWS)",
         1,
         "0",
         0,
         0,
         0,
         0,
         0,
         "Amazon Web Services (AWS)",
         "Fazemos todas as análises utilizando apenas Excel ou planilhas do google",
         "0",
         "0",
         0,
         0,
         0,
         0,
         0,
         0,
         0,
         0,
         0,
         0,
         0,
         0,
         0,
         0,
         0,
         0,
         0,
         0,
         0,
         1,
         0,
         "Microsoft PowerBI",
         "Existe um direcionamento centralizado para que colaboradores utilizem soluções baseadas em AI Generativa (como o ChatGPT por exemplo), incluindo apoio nos custos das ferramentas.",
         "0",
         "1",
         0,
         0,
         0,
         0,
         0,
         0,
         "Utilizo apenas soluções gratuitas (como por exemplo o ChatGPT), para me ajudar a ser mais produtivo no dia a dia.",
         "0",
         "1",
         "0",
         0,
         0,
         null,
         null,
         null,
         null,
         null,
         null,
         null,
         null,
         null,
         null,
         null,
         null,
         null,
         null,
         null,
         null,
         null,
         null,
         null,
         null,
         null,
         null,
         null,
         null,
         null,
         null,
         null,
         null,
         null,
         null,
         null,
         null,
         null,
         null,
         null,
         null,
         null,
         null,
         null,
         null,
         null,
         null,
         null,
         null,
         null,
         null,
         null,
         null,
         null,
         null,
         null,
         "Nenhuma das opções listadas refletem meu dia a dia., Crio consultas através da linguagem SQL para exportar informações e compartilhar com as áreas de negócio.",
         "0",
         "0",
         "1",
         0,
         0,
         0,
         0,
         0,
         0,
         1,
         "SQL & Stored Procedures",
         "0",
         "1",
         "0",
         0,
         0,
         0,
         0,
         0,
         0,
         0,
         0,
         0,
         0,
         0,
         0,
         0,
         0,
         0,
         0,
         0,
         0,
         "\"\"\"Point and Click\"\" Analytics como Alteryx",
         " Knime",
         " Rapidminer etc.\"",
         "0",
         "1",
         "0",
         "0",
         "0",
         "0",
         "Realizando construções de dashboards em ferramentas de BI como PowerBI, Tableau, Looker, Qlik etc., Criando consultas através da linguagem SQL para exportar informações e compartilhar com as áreas de negócio.",
         "0",
         1,
         "1",
         "0",
         0,
         "0",
         0,
         0,
         "0",
         "0",
         null,
         null,
         null,
         null,
         null,
         null,
         null,
         null,
         null,
         null,
         null,
         null,
         null,
         null,
         null,
         null,
         null,
         null,
         null,
         null,
         null,
         null,
         null,
         null,
         null,
         null,
         null,
         null,
         null,
         null,
         null,
         null,
         null,
         null,
         null,
         null,
         null,
         null,
         null,
         null,
         null,
         null,
         null,
         null,
         null,
         null,
         null,
         null,
         null,
         null,
         null,
         null,
         null,
         null,
         null,
         null,
         null,
         null,
         null,
         null,
         null,
         null,
         null,
         null,
         null,
         null,
         null,
         null,
         null,
         null,
         null,
         null,
         null,
         null,
         null,
         null,
         null,
         null,
         null,
         null,
         null,
         null
        ],
        [
         "01k1i8w42ljmgee01k1eay1n1283ot23",
         35,
         "35-39",
         "Masculino",
         "Branca",
         "Não",
         null,
         null,
         null,
         null,
         null,
         null,
         null,
         null,
         null,
         null,
         null,
         null,
         null,
         null,
         null,
         1,
         "São Paulo (SP)",
         "SP",
         "Sudeste",
         "0",
         "São Paulo (SP)",
         "Pós-graduação",
         "Computação / Engenharia de Software / Sistemas de Informação/ TI",
         "Empregado (CLT)",
         "Varejo",
         "Acima de 3.000",
         "1",
         "Gerente/Head",
         null,
         null,
         "de R$ 20.001/mês a R$ 25.000/mês",
         "de 7 a 10 anos",
         "de 7 a 10 anos",
         "1",
         null,
         null,
         null,
         null,
         null,
         null,
         null,
         null,
         "Sim, fui aprovado e mudei de emprego",
         "Não estou buscando e não pretendo mudar de emprego nos próximos 6 meses",
         "Flexibilidade de trabalho remoto, Maturidade da empresa em termos de tecnologia e dados, Qualidade dos gestores e líderes",
         "0",
         "0",
         0,
         1,
         0,
         0,
         0,
         1,
         1,
         0,
         "Sim, ocorreram layoffs/demissões em massa na empresa em que trabalho mas não fui afetado",
         "Modelo 100% remoto",
         "Modelo 100% remoto",
         "Vou procurar outra oportunidade no modelo 100% remoto",
         "4 - 10",
         "Engenharia de Dados/Data Engineer",
         0,
         1,
         0,
         0,
         0,
         0,
         0,
         0,
         0,
         "Sou gestor da equipe responsável pela engenharia de dados e por manter o Data Lake da empresa como fonte única dos dados, garantindo a qualidade e confiabilidade da informação.",
         0,
         0,
         0,
         0,
         1,
         0,
         0,
         0,
         0,
         0,
         0,
         "Gerenciar a expectativa das áreas de negócio em relação as entregas das equipes de dados., Contratar novos talentos., Garantir retorno do investimento (ROI) em projetos de dados.",
         1,
         0,
         0,
         0,
         0,
         0,
         0,
         0,
         0,
         1,
         0,
         0,
         1,
         0,
         "Mais ou menos... É uma das várias iniciativas que estamos impulsionando, mas não é uma prioridade (iniciativas isoladas e pouco foco).",
         "Não tenho visto soluções de IA Generatica e LLMs sendo tradadas como prioridade pela empresa e pessoas, os poucos casos de uso são isolados ou ainda estão muito no início.",
         0,
         0,
         0,
         0,
         0,
         0,
         1,
         0,
         "Dados da empresa não estão prontos para uso de IA Generativa., Preocupações com segurança e privacidade de dados., Falta de expertise das equipes técnicas ou falta de recursos internos.",
         0,
         0,
         0,
         1,
         0,
         1,
         1,
         0,
         0,
         null,
         "Gestor",
         null,
         null,
         null,
         null,
         null,
         null,
         null,
         null,
         null,
         null,
         null,
         null,
         null,
         null,
         null,
         null,
         null,
         null,
         null,
         null,
         null,
         null,
         null,
         null,
         null,
         null,
         null,
         null,
         null,
         null,
         null,
         null,
         null,
         null,
         null,
         null,
         null,
         null,
         null,
         null,
         null,
         null,
         null,
         null,
         null,
         null,
         null,
         null,
         null,
         null,
         null,
         null,
         null,
         null,
         null,
         null,
         null,
         null,
         null,
         null,
         null,
         null,
         null,
         null,
         null,
         null,
         null,
         null,
         null,
         null,
         null,
         null,
         null,
         null,
         null,
         null,
         null,
         null,
         null,
         null,
         null,
         null,
         null,
         null,
         null,
         null,
         null,
         null,
         null,
         null,
         null,
         null,
         null,
         null,
         null,
         null,
         null,
         null,
         null,
         null,
         null,
         null,
         null,
         null,
         null,
         null,
         null,
         null,
         null,
         null,
         null,
         null,
         null,
         null,
         null,
         null,
         null,
         null,
         null,
         null,
         null,
         null,
         null,
         null,
         null,
         null,
         null,
         null,
         null,
         null,
         null,
         null,
         null,
         null,
         null,
         null,
         null,
         null,
         null,
         null,
         null,
         null,
         null,
         null,
         null,
         null,
         null,
         null,
         null,
         null,
         null,
         null,
         null,
         null,
         null,
         null,
         null,
         null,
         null,
         null,
         null,
         null,
         null,
         null,
         null,
         null,
         null,
         null,
         null,
         null,
         null,
         null,
         null,
         null,
         null,
         null,
         null,
         null,
         null,
         null,
         null,
         null,
         null,
         null,
         null,
         null,
         null,
         null,
         null,
         null,
         null,
         null,
         null,
         null,
         null,
         null,
         null,
         null,
         null,
         null,
         null,
         null,
         null,
         null,
         null,
         null,
         null,
         null,
         null,
         null,
         null,
         null,
         null,
         null,
         null,
         null,
         null,
         null,
         null,
         null,
         null,
         null,
         null,
         null,
         null,
         null,
         null,
         null,
         null,
         null,
         null,
         null,
         null,
         null,
         null,
         null,
         null,
         null,
         null,
         null,
         null,
         null,
         null,
         null,
         null,
         null,
         null,
         null,
         null,
         null,
         null,
         null,
         null,
         null,
         null,
         null,
         null,
         null,
         null,
         null,
         null,
         null,
         null,
         null,
         null,
         null,
         null,
         null,
         null,
         null,
         null,
         null,
         null,
         null,
         null,
         null,
         null,
         null,
         null,
         null,
         null,
         null,
         null,
         null,
         null,
         null,
         null,
         null,
         null,
         null,
         null,
         null,
         null,
         null,
         null,
         null,
         null,
         null,
         null,
         null,
         null,
         null,
         null,
         null,
         null
        ],
        [
         "01n9nd73iv68k81iefenxv01n9nd7wjt",
         27,
         "25-29",
         "Masculino",
         "Parda",
         "Não",
         "Não acredito que minha experiência profissional seja afetada devido a esses fatores",
         1,
         0,
         0,
         0,
         null,
         null,
         null,
         null,
         null,
         null,
         null,
         null,
         null,
         null,
         1,
         "Rio de Janeiro (RJ)",
         "RJ",
         "Sudeste",
         "1",
         null,
         "Graduação/Bacharelado",
         "Economia/ Administração / Contabilidade / Finanças/ Negócios",
         "Trabalho na área Acadêmica/Pesquisador",
         null,
         null,
         null,
         null,
         null,
         null,
         null,
         null,
         null,
         null,
         null,
         null,
         null,
         null,
         null,
         null,
         null,
         null,
         null,
         null,
         null,
         null,
         null,
         null,
         null,
         null,
         null,
         null,
         null,
         null,
         null,
         null,
         null,
         null,
         null,
         null,
         null,
         null,
         null,
         null,
         null,
         null,
         null,
         null,
         null,
         null,
         null,
         null,
         null,
         null,
         null,
         null,
         null,
         null,
         null,
         null,
         null,
         null,
         null,
         null,
         null,
         null,
         null,
         null,
         null,
         null,
         null,
         null,
         null,
         null,
         null,
         null,
         null,
         null,
         null,
         null,
         null,
         null,
         null,
         null,
         null,
         null,
         null,
         null,
         null,
         null,
         null,
         null,
         null,
         null,
         null,
         null,
         null,
         null,
         "Buscando oportunidade na área de dados",
         null,
         null,
         null,
         null,
         null,
         null,
         null,
         null,
         null,
         null,
         null,
         null,
         null,
         null,
         null,
         null,
         null,
         null,
         null,
         null,
         null,
         null,
         null,
         null,
         null,
         null,
         null,
         null,
         null,
         null,
         null,
         null,
         null,
         null,
         null,
         null,
         null,
         null,
         null,
         null,
         null,
         null,
         null,
         null,
         null,
         null,
         null,
         null,
         null,
         null,
         null,
         null,
         null,
         null,
         null,
         null,
         null,
         null,
         null,
         null,
         null,
         null,
         null,
         null,
         null,
         null,
         null,
         null,
         null,
         null,
         null,
         null,
         null,
         null,
         null,
         null,
         null,
         null,
         null,
         null,
         null,
         null,
         null,
         null,
         null,
         null,
         null,
         null,
         null,
         null,
         null,
         null,
         null,
         null,
         null,
         null,
         null,
         null,
         null,
         null,
         null,
         null,
         null,
         null,
         null,
         null,
         null,
         null,
         null,
         null,
         null,
         null,
         null,
         null,
         null,
         null,
         null,
         null,
         null,
         "Migração de carreira: Trabalho em outra área e busco recolocação na área de dados",
         "Analista de Dados/Data Analyst",
         "0 - 6 meses",
         "Ainda não me candidatei a nenhuma vaga na área",
         null,
         null,
         null,
         null,
         null,
         null,
         null,
         null,
         null,
         null,
         null,
         null,
         null,
         null,
         null,
         null,
         null,
         null,
         null,
         null,
         null,
         null,
         null,
         null,
         null,
         null,
         null,
         null,
         null,
         null,
         null,
         null,
         null,
         null,
         null,
         null,
         null,
         null,
         null,
         null,
         null,
         null,
         null,
         null,
         null,
         null,
         null,
         null,
         null,
         null,
         null,
         null,
         null,
         null,
         null,
         null,
         null,
         null,
         null,
         null,
         null,
         null,
         null,
         null,
         null,
         null,
         null,
         null,
         null,
         null,
         null,
         null,
         null,
         null,
         null,
         null,
         null,
         null,
         null,
         null,
         null,
         null,
         null,
         null,
         null,
         null,
         null,
         null,
         null,
         null,
         null,
         null,
         null,
         null,
         null,
         null,
         null,
         null,
         null,
         null,
         null,
         null,
         null,
         null,
         null,
         null,
         null,
         null,
         null,
         null,
         null,
         null,
         null,
         null,
         null,
         null,
         null,
         null,
         null,
         null,
         null,
         null,
         null,
         null,
         null,
         null,
         null,
         null,
         null,
         null,
         null,
         null,
         null,
         null,
         null,
         null,
         null,
         null,
         null,
         null,
         null,
         null,
         null,
         null,
         null,
         null,
         null,
         null,
         null,
         null,
         null,
         null,
         null,
         null,
         null,
         null,
         null,
         null,
         null,
         null,
         null,
         null,
         null,
         null,
         null,
         null,
         null,
         null,
         null,
         null,
         null,
         null,
         null,
         null,
         null,
         null,
         null,
         null,
         null,
         null,
         null,
         null
        ],
        [
         "01v9nqn7mz93ace01v9ig2aswc6oy2zq",
         28,
         "25-29",
         "Masculino",
         "Parda",
         "Não",
         "Não acredito que minha experiência profissional seja afetada devido a esses fatores",
         1,
         0,
         0,
         0,
         null,
         null,
         null,
         null,
         null,
         null,
         null,
         null,
         null,
         null,
         1,
         "São Paulo (SP)",
         "SP",
         "Sudeste",
         "1",
         null,
         "Graduação/Bacharelado",
         "Economia/ Administração / Contabilidade / Finanças/ Negócios",
         "Desempregado, buscando recolocação",
         null,
         null,
         null,
         null,
         null,
         null,
         null,
         null,
         null,
         null,
         null,
         null,
         null,
         null,
         null,
         null,
         null,
         null,
         null,
         null,
         null,
         null,
         null,
         null,
         null,
         null,
         null,
         null,
         null,
         null,
         null,
         null,
         null,
         null,
         null,
         null,
         null,
         null,
         null,
         null,
         null,
         null,
         null,
         null,
         null,
         null,
         null,
         null,
         null,
         null,
         null,
         null,
         null,
         null,
         null,
         null,
         null,
         null,
         null,
         null,
         null,
         null,
         null,
         null,
         null,
         null,
         null,
         null,
         null,
         null,
         null,
         null,
         null,
         null,
         null,
         null,
         null,
         null,
         null,
         null,
         null,
         null,
         null,
         null,
         null,
         null,
         null,
         null,
         null,
         null,
         null,
         null,
         null,
         null,
         "Buscando oportunidade na área de dados",
         null,
         null,
         null,
         null,
         null,
         null,
         null,
         null,
         null,
         null,
         null,
         null,
         null,
         null,
         null,
         null,
         null,
         null,
         null,
         null,
         null,
         null,
         null,
         null,
         null,
         null,
         null,
         null,
         null,
         null,
         null,
         null,
         null,
         null,
         null,
         null,
         null,
         null,
         null,
         null,
         null,
         null,
         null,
         null,
         null,
         null,
         null,
         null,
         null,
         null,
         null,
         null,
         null,
         null,
         null,
         null,
         null,
         null,
         null,
         null,
         null,
         null,
         null,
         null,
         null,
         null,
         null,
         null,
         null,
         null,
         null,
         null,
         null,
         null,
         null,
         null,
         null,
         null,
         null,
         null,
         null,
         null,
         null,
         null,
         null,
         null,
         null,
         null,
         null,
         null,
         null,
         null,
         null,
         null,
         null,
         null,
         null,
         null,
         null,
         null,
         null,
         null,
         null,
         null,
         null,
         null,
         null,
         null,
         null,
         null,
         null,
         null,
         null,
         null,
         null,
         null,
         null,
         null,
         null,
         "Preparação profissional: Estou buscando conhecimentos técnicos para no futuro assumir algum cargo na área de dados",
         null,
         null,
         null,
         null,
         null,
         null,
         null,
         null,
         null,
         null,
         null,
         null,
         null,
         null,
         null,
         null,
         null,
         null,
         null,
         null,
         null,
         null,
         null,
         null,
         null,
         null,
         null,
         null,
         null,
         null,
         null,
         null,
         null,
         null,
         null,
         null,
         null,
         null,
         null,
         null,
         null,
         null,
         null,
         null,
         null,
         null,
         null,
         null,
         null,
         null,
         null,
         null,
         null,
         null,
         null,
         null,
         null,
         null,
         null,
         null,
         null,
         null,
         null,
         null,
         null,
         null,
         null,
         null,
         null,
         null,
         null,
         null,
         null,
         null,
         null,
         null,
         null,
         null,
         null,
         null,
         null,
         null,
         null,
         null,
         null,
         null,
         null,
         null,
         null,
         null,
         null,
         null,
         null,
         null,
         null,
         null,
         null,
         null,
         null,
         null,
         null,
         null,
         null,
         null,
         null,
         null,
         null,
         null,
         null,
         null,
         null,
         null,
         null,
         null,
         null,
         null,
         null,
         null,
         null,
         null,
         null,
         null,
         null,
         null,
         null,
         null,
         null,
         null,
         null,
         null,
         null,
         null,
         null,
         null,
         null,
         null,
         null,
         null,
         null,
         null,
         null,
         null,
         null,
         null,
         null,
         null,
         null,
         null,
         null,
         null,
         null,
         null,
         null,
         null,
         null,
         null,
         null,
         null,
         null,
         null,
         null,
         null,
         null,
         null,
         null,
         null,
         null,
         null,
         null,
         null,
         null,
         null,
         null,
         null,
         null,
         null,
         null,
         null,
         null,
         null,
         null,
         null,
         null,
         null,
         null
        ]
       ],
       "datasetInfos": [],
       "dbfsResultPath": null,
       "isJsonSchema": true,
       "metadata": {},
       "overflow": false,
       "plotOptions": {
        "customPlotOptions": {},
        "displayType": "table",
        "pivotAggregation": null,
        "pivotColumns": null,
        "xColumns": null,
        "yColumns": null
       },
       "removedWidgets": [],
       "schema": [
        {
         "metadata": "{}",
         "name": "P0_id",
         "type": "\"string\""
        },
        {
         "metadata": "{}",
         "name": "P1_a_Idade",
         "type": "\"integer\""
        },
        {
         "metadata": "{}",
         "name": "P1_a_1_Faixa_idade",
         "type": "\"string\""
        },
        {
         "metadata": "{}",
         "name": "P1_b_Genero",
         "type": "\"string\""
        },
        {
         "metadata": "{}",
         "name": "P1_c_Cor_raca_etnia",
         "type": "\"string\""
        },
        {
         "metadata": "{}",
         "name": "P1_d_PCD",
         "type": "\"string\""
        },
        {
         "metadata": "{}",
         "name": "P1_e_experiencia_profissional_prejudicada",
         "type": "\"string\""
        },
        {
         "metadata": "{}",
         "name": "P1_e_1_Nao_acredito_que_minha_experiencia_profissional_seja_afetada",
         "type": "\"integer\""
        },
        {
         "metadata": "{}",
         "name": "P1_e_2_Experiencia_prejudicada_devido_a_minha_Cor_Raca_Etnia",
         "type": "\"integer\""
        },
        {
         "metadata": "{}",
         "name": "P1_e_3_Experiencia_prejudicada_devido_a_minha_identidade_de_genero",
         "type": "\"integer\""
        },
        {
         "metadata": "{}",
         "name": "P1_e_4_Experiencia_prejudicada_devido_ao_fato_de_ser_PCD",
         "type": "\"integer\""
        },
        {
         "metadata": "{}",
         "name": "P1_f_aspectos_prejudicados",
         "type": "\"string\""
        },
        {
         "metadata": "{}",
         "name": "P1_f_1_Quantidade_de_oportunidades_de_emprego_vagas_recebidas",
         "type": "\"string\""
        },
        {
         "metadata": "{}",
         "name": "P1_f_2_Senioridade_das_vagas_recebidas_em_relacao_a_sua_experiencia",
         "type": "\"string\""
        },
        {
         "metadata": "{}",
         "name": "P1_f_3_Aprovacao_em_processos_seletivos_entrevistas",
         "type": "\"integer\""
        },
        {
         "metadata": "{}",
         "name": "P1_f_4_Oportunidades_de_progressao_de_carreira",
         "type": "\"integer\""
        },
        {
         "metadata": "{}",
         "name": "P1_f_5_Velocidade_de_progressao_de_carreira",
         "type": "\"integer\""
        },
        {
         "metadata": "{}",
         "name": "P1_f_6_Nivel_de_cobranca_no_trabalho_Stress_no_trabalho",
         "type": "\"integer\""
        },
        {
         "metadata": "{}",
         "name": "P1_f_7_Atencao_dada_diante_das_minhas_opinioes_e_ideias",
         "type": "\"integer\""
        },
        {
         "metadata": "{}",
         "name": "P1_f_8_Relacao_com_outros_membros_da_empresa_em_momentos_de_trabalho",
         "type": "\"integer\""
        },
        {
         "metadata": "{}",
         "name": "P1_f_9_Relacao_com_outros_membros_da_empresa_em_momentos_de_integracao_e_outros_momentos_fora_do_trabalho",
         "type": "\"integer\""
        },
        {
         "metadata": "{}",
         "name": "P1_g_vive_no_brasil",
         "type": "\"integer\""
        },
        {
         "metadata": "{}",
         "name": "P1_i_Estado_onde_mora",
         "type": "\"string\""
        },
        {
         "metadata": "{}",
         "name": "P1_i_1_uf_onde_mora",
         "type": "\"string\""
        },
        {
         "metadata": "{}",
         "name": "P1_i_2_Regiao_onde_mora",
         "type": "\"string\""
        },
        {
         "metadata": "{}",
         "name": "P1_j_Mudou_de_Estado",
         "type": "\"string\""
        },
        {
         "metadata": "{}",
         "name": "P1_k_Regiao_de_origem",
         "type": "\"string\""
        },
        {
         "metadata": "{}",
         "name": "P1_l_Nivel_de_Ensino",
         "type": "\"string\""
        },
        {
         "metadata": "{}",
         "name": "P1_m_Area_de_Formacao",
         "type": "\"string\""
        },
        {
         "metadata": "{}",
         "name": "P2_a_Qual_sua_situacao_atual_de_trabalho",
         "type": "\"string\""
        },
        {
         "metadata": "{}",
         "name": "P2_b_Setor",
         "type": "\"string\""
        },
        {
         "metadata": "{}",
         "name": "P2_c_Numero_de_Funcionarios",
         "type": "\"string\""
        },
        {
         "metadata": "{}",
         "name": "P2_d_Gestor",
         "type": "\"string\""
        },
        {
         "metadata": "{}",
         "name": "P2_e_Cargo_como_Gestor",
         "type": "\"string\""
        },
        {
         "metadata": "{}",
         "name": "P2_f_Cargo_Atual",
         "type": "\"string\""
        },
        {
         "metadata": "{}",
         "name": "P2_g_Nivel",
         "type": "\"string\""
        },
        {
         "metadata": "{}",
         "name": "P2_h_Faixa_salarial",
         "type": "\"string\""
        },
        {
         "metadata": "{}",
         "name": "P2_i_Quanto_tempo_de_experiencia_na_area_de_dados_voce_tem",
         "type": "\"string\""
        },
        {
         "metadata": "{}",
         "name": "P2_j_Quanto_tempo_de_experiencia_na_area_de_TI_Engenharia_de_Software_voce_teve_antes_de_comecar_a_trabalhar_na_area_de_dados",
         "type": "\"string\""
        },
        {
         "metadata": "{}",
         "name": "P2_k_Voce_esta_satisfeito_na_sua_empresa_atual",
         "type": "\"string\""
        },
        {
         "metadata": "{}",
         "name": "P2_l_Qual_o_principal_motivo_da_sua_insatisfacao_com_a_empresa_atual",
         "type": "\"string\""
        },
        {
         "metadata": "{}",
         "name": "P2_l_1_Falta_de_oportunidade_de_crescimento_no_emprego_atual",
         "type": "\"integer\""
        },
        {
         "metadata": "{}",
         "name": "P2_l_2_Salario_atual_nao_corresponde_ao_mercado",
         "type": "\"string\""
        },
        {
         "metadata": "{}",
         "name": "P2_l_3_Nao_tenho_uma_boa_relacao_com_meu_lider_gestor",
         "type": "\"integer\""
        },
        {
         "metadata": "{}",
         "name": "P2_l_4_Gostaria_de_trabalhar_em_em_outra_area_de_atuacao",
         "type": "\"integer\""
        },
        {
         "metadata": "{}",
         "name": "P2_l_5_Gostaria_de_receber_mais_beneficios",
         "type": "\"integer\""
        },
        {
         "metadata": "{}",
         "name": "P2_l_6_O_clima_de_trabalho_ambiente_nao_e_bom",
         "type": "\"integer\""
        },
        {
         "metadata": "{}",
         "name": "P2_l_7_Falta_de_maturidade_analitica_na_empresa",
         "type": "\"integer\""
        },
        {
         "metadata": "{}",
         "name": "P2_m_Voce_participou_de_entrevistas_de_emprego_nos_ultimos_6_meses",
         "type": "\"string\""
        },
        {
         "metadata": "{}",
         "name": "P2_n_Voce_pretende_mudar_de_emprego_nos_proximos_6_meses",
         "type": "\"string\""
        },
        {
         "metadata": "{}",
         "name": "P2_o_Quais_os_principais_criterios_que_voce_leva_em_consideracao_no_momento_de_decidir_onde_trabalhar",
         "type": "\"string\""
        },
        {
         "metadata": "{}",
         "name": "P2_o_1_Remuneracao_Salario",
         "type": "\"string\""
        },
        {
         "metadata": "{}",
         "name": "P2_o_2_Beneficios",
         "type": "\"string\""
        },
        {
         "metadata": "{}",
         "name": "P2_o_3_Proposito_do_trabalho_e_da_empresa",
         "type": "\"integer\""
        },
        {
         "metadata": "{}",
         "name": "P2_o_4_Flexibilidade_de_trabalho_remoto",
         "type": "\"integer\""
        },
        {
         "metadata": "{}",
         "name": "P2_o_5_Ambiente_e_clima_de_trabalho",
         "type": "\"integer\""
        },
        {
         "metadata": "{}",
         "name": "P2_o_6_Oportunidade_de_aprendizado_e_trabalhar_com_referencias_na_area",
         "type": "\"integer\""
        },
        {
         "metadata": "{}",
         "name": "P2_o_7_Plano_de_carreira_e_oportunidades_de_crescimento_profissional",
         "type": "\"integer\""
        },
        {
         "metadata": "{}",
         "name": "P2_o_8_Maturidade_da_empresa_em_termos_de_tecnologia_e_dados",
         "type": "\"integer\""
        },
        {
         "metadata": "{}",
         "name": "P2_o_9_Qualidade_dos_gestores_e_lideres",
         "type": "\"integer\""
        },
        {
         "metadata": "{}",
         "name": "P2_o_10_Reputacao_que_a_empresa_tem_no_mercado",
         "type": "\"integer\""
        },
        {
         "metadata": "{}",
         "name": "P2_q_Empresa_que_trabaha_passou_por_layoff_em_2023",
         "type": "\"string\""
        },
        {
         "metadata": "{}",
         "name": "P2_r_Atualmente_qual_a_sua_forma_de_trabalho",
         "type": "\"string\""
        },
        {
         "metadata": "{}",
         "name": "P2_s_Qual_a_forma_de_trabalho_ideal_para_voce",
         "type": "\"string\""
        },
        {
         "metadata": "{}",
         "name": "P2_t_Caso_sua_empresa_decida_pelo_modelo_100_presencial_qual_sera_sua_atitude",
         "type": "\"string\""
        },
        {
         "metadata": "{}",
         "name": "P3_a_Qual_o_numero_aproximado_de_pessoas_que_atuam_com_dados_na_sua_empresa_hoje",
         "type": "\"string\""
        },
        {
         "metadata": "{}",
         "name": "P3_b_Quais_desses_papeis_cargos_fazem_parte_do_time_ou_chapter_de_dados_da_sua_empresa",
         "type": "\"string\""
        },
        {
         "metadata": "{}",
         "name": "P3_b_1_Analytics_Engineer",
         "type": "\"integer\""
        },
        {
         "metadata": "{}",
         "name": "P3_b_2_Engenharia_de_Dados_Data_Engineer",
         "type": "\"integer\""
        },
        {
         "metadata": "{}",
         "name": "P3_b_3_Analista_de_Dados_Data_Analyst",
         "type": "\"integer\""
        },
        {
         "metadata": "{}",
         "name": "P3_b_4_Cientista_de_Dados_Data_Scientist",
         "type": "\"integer\""
        },
        {
         "metadata": "{}",
         "name": "P3_b_5_Database_Administrator_DBA",
         "type": "\"integer\""
        },
        {
         "metadata": "{}",
         "name": "P3_b_6_Analista_de_Business_Intelligence_BI",
         "type": "\"integer\""
        },
        {
         "metadata": "{}",
         "name": "P3_b_7_Arquiteto_de_Dados_Data_Architect",
         "type": "\"integer\""
        },
        {
         "metadata": "{}",
         "name": "P3_b_8_Data_Product_Manager_DPM",
         "type": "\"integer\""
        },
        {
         "metadata": "{}",
         "name": "P3_b_9_Business_Analyst",
         "type": "\"integer\""
        },
        {
         "metadata": "{}",
         "name": "P3_c_Quais_dessas_responsabilidades_fazem_parte_da_sua_rotina_atual_de_trabalho_como_gestor",
         "type": "\"string\""
        },
        {
         "metadata": "{}",
         "name": "P3_c_1_Pensar_na_visao_de_longo_prazo_de_dados_da_empresa_e_fortalecimento_da_cultura_analitica_da_companhia",
         "type": "\"integer\""
        },
        {
         "metadata": "{}",
         "name": "P3_c_2_Organizacao_de_treinamentos_e_iniciativas_com_o_objetivo_de_aumentar_a_maturidade_analitica_das_areas_de_negocios",
         "type": "\"integer\""
        },
        {
         "metadata": "{}",
         "name": "P3_c_3_Atracao_selecao_e_contratacao_de_talentos_para_o_time_de_dados",
         "type": "\"integer\""
        },
        {
         "metadata": "{}",
         "name": "P3_c_4_Decisao_sobre_contratacao_de_ferramentas_e_tecnologias_relacionadas_a_dados",
         "type": "\"integer\""
        },
        {
         "metadata": "{}",
         "name": "P3_c_5_Sou_gestor_da_equipe_responsavel_pela_engenharia_de_dados_e_por_manter_o_Data_Lake_da_empresa_como_fonte_unica_dos_dados_garantindo_a_qualidade_e_confiabilidade_da_informacao",
         "type": "\"integer\""
        },
        {
         "metadata": "{}",
         "name": "P3_c_6_Sou_gestor_da_equipe_responsavel_pela_entrega_de_dados_estudos_relatorios_e_dashboards_para_as_areas_de_negocio_da_empresa",
         "type": "\"integer\""
        },
        {
         "metadata": "{}",
         "name": "P3_c_7_Sou_gestor_da_equipe_responsavel_por_iniciativas_e_projetos_envolvendo_Inteligencia_Artificial_e_Machine_Learning",
         "type": "\"integer\""
        },
        {
         "metadata": "{}",
         "name": "P3_c_8_Apesar_de_ser_gestor_ainda_atuo_na_parte_tecnica_construindo_solucoes_analises_modelos_etc",
         "type": "\"integer\""
        },
        {
         "metadata": "{}",
         "name": "P3_c_9_Gestao_de_projetos_de_dados_cuidando_das_etapas_equipes_envolvidas_atingimento_dos_objetivos_etc",
         "type": "\"integer\""
        },
        {
         "metadata": "{}",
         "name": "P3_c_10_Gestao_de_produtos_de_dados_cuidando_da_visao_dos_produtos_backlog_feedback_de_usuarios_etc",
         "type": "\"integer\""
        },
        {
         "metadata": "{}",
         "name": "P3_c_11_Gestao_de_pessoas_apoio_no_desenvolvimento_das_pessoas_evolucao_de_carreira",
         "type": "\"integer\""
        },
        {
         "metadata": "{}",
         "name": "P3_d_Quais_sao_os_3_maiores_desafios_que_voce_tem_como_gestor_no_atual_momento",
         "type": "\"string\""
        },
        {
         "metadata": "{}",
         "name": "P3_d_1_a_Contratar_novos_talentos",
         "type": "\"integer\""
        },
        {
         "metadata": "{}",
         "name": "P3_d_2_b_Reter_talentos",
         "type": "\"integer\""
        },
        {
         "metadata": "{}",
         "name": "P3_d_3_c_Convencer_a_empresa_a_aumentar_os_investimentos_na_area_de_dados",
         "type": "\"integer\""
        },
        {
         "metadata": "{}",
         "name": "P3_d_4_d_Gestao_de_equipes_no_ambiente_remoto",
         "type": "\"integer\""
        },
        {
         "metadata": "{}",
         "name": "P3_d_5_e_Gestao_de_projetos_envolvendo_areas_multidisciplinares_da_empresa",
         "type": "\"integer\""
        },
        {
         "metadata": "{}",
         "name": "P3_d_6_f_Organizar_as_informacoes_e_garantir_a_qualidade_e_confiabilidade",
         "type": "\"integer\""
        },
        {
         "metadata": "{}",
         "name": "P3_d_7_g_Conseguir_processar_e_armazenar_um_alto_volume_de_dados",
         "type": "\"integer\""
        },
        {
         "metadata": "{}",
         "name": "P3_d_8_h_Conseguir_gerar_valor_para_as_areas_de_negocios_atraves_de_estudos_e_experimentos",
         "type": "\"integer\""
        },
        {
         "metadata": "{}",
         "name": "P3_d_9_i_Desenvolver_e_manter_modelos_Machine_Learning_em_producao",
         "type": "\"integer\""
        },
        {
         "metadata": "{}",
         "name": "P3_d_10_j_Gerenciar_a_expectativa_das_areas_de_negocio_em_relacao_as_entregas_das_equipes_de_dados",
         "type": "\"integer\""
        },
        {
         "metadata": "{}",
         "name": "P3_d_11_k_Garantir_a_manutencao_dos_projetos_e_modelos_em_producao_em_meio_ao_crescimento_da_empresa",
         "type": "\"integer\""
        },
        {
         "metadata": "{}",
         "name": "P3_d_12_Conseguir_levar_inovacao_para_a_empresa_atraves_dos_dados",
         "type": "\"integer\""
        },
        {
         "metadata": "{}",
         "name": "P3_d_13_Garantir_retorno_do_investimento_ROI_em_projetos_de_dados",
         "type": "\"integer\""
        },
        {
         "metadata": "{}",
         "name": "P3_d_14_Dividir_o_tempo_entre_entregas_tecnicas_e_gestao",
         "type": "\"integer\""
        },
        {
         "metadata": "{}",
         "name": "P3_e_AI_Generativa_e_uma_prioridade_em_sua_empresa",
         "type": "\"string\""
        },
        {
         "metadata": "{}",
         "name": "P3_f_Tipos_de_uso_de_AI_Generativa_e_LLMs_na_empresa",
         "type": "\"string\""
        },
        {
         "metadata": "{}",
         "name": "P3_f_1_Colaboradores_usando_AI_generativa_de_forma_independente_e_descentralizada",
         "type": "\"integer\""
        },
        {
         "metadata": "{}",
         "name": "P3_f_2_Direcionamento_centralizado_do_uso_de_AI_generativa",
         "type": "\"integer\""
        },
        {
         "metadata": "{}",
         "name": "P3_f_3_Desenvolvedores_utilizando_Copilots",
         "type": "\"integer\""
        },
        {
         "metadata": "{}",
         "name": "P3_f_4_AI_Generativa_e_LLMs_para_melhorar_produtos_externos",
         "type": "\"integer\""
        },
        {
         "metadata": "{}",
         "name": "P3_f_5_AI_Generativa_e_LLMs_para_melhorar_produtos_internos_para_os_colaboradores",
         "type": "\"integer\""
        },
        {
         "metadata": "{}",
         "name": "P3_f_6_IA_Generativa_e_LLMs_como_principal_frente_do_negocio",
         "type": "\"integer\""
        },
        {
         "metadata": "{}",
         "name": "P3_f_7_IA_Generativa_e_LLMs_nao_e_prioridade",
         "type": "\"integer\""
        },
        {
         "metadata": "{}",
         "name": "P3_f_8_Nao_sei_opinar_sobre_o_uso_de_IA_Generativa_e_LLMs_na_empresa",
         "type": "\"integer\""
        },
        {
         "metadata": "{}",
         "name": "P3_g_Motivos_que_levam_a_empresa_a_nao_usar_AI_Genrativa_e_LLMs",
         "type": "\"string\""
        },
        {
         "metadata": "{}",
         "name": "P3_g_1_Falta_de_compreensao_dos_casos_de_uso",
         "type": "\"integer\""
        },
        {
         "metadata": "{}",
         "name": "P3_g_2_Falta_de_confiabilidade_das_saidas_alucinacao_dos_modelos",
         "type": "\"integer\""
        },
        {
         "metadata": "{}",
         "name": "P3_g_3_Incerteza_em_relacao_a_regulamentacao",
         "type": "\"integer\""
        },
        {
         "metadata": "{}",
         "name": "P3_g_4_Preocupacoes_com_seguranca_e_privacidade_de_dados",
         "type": "\"integer\""
        },
        {
         "metadata": "{}",
         "name": "P3_g_5_Retorno_sobre_investimento_ROI_nao_comprovado_de_IA_Generativa",
         "type": "\"integer\""
        },
        {
         "metadata": "{}",
         "name": "P3_g_6_Dados_da_empresa_nao_estao_prontos_para_uso_de_IA_Generativa",
         "type": "\"integer\""
        },
        {
         "metadata": "{}",
         "name": "P3_g_7_Falta_de_expertise_ou_falta_de_recursos",
         "type": "\"integer\""
        },
        {
         "metadata": "{}",
         "name": "P3_g_8_Alta_direcao_da_empresa_nao_ve_valor_ou_nao_ve_como_prioridade",
         "type": "\"integer\""
        },
        {
         "metadata": "{}",
         "name": "P3_g_9_Preocupacoes_com_propriedade_intelectual",
         "type": "\"integer\""
        },
        {
         "metadata": "{}",
         "name": "P4_a_Mesmo_que_esse_nao_seja_seu_cargo_formal_voce_considera_que_sua_atuacao_no_dia_a_dia_reflete_alguma_das_opcoes_listadas_abaixo",
         "type": "\"string\""
        },
        {
         "metadata": "{}",
         "name": "P4_a_1_Atuacao",
         "type": "\"string\""
        },
        {
         "metadata": "{}",
         "name": "P4_b_Quais_das_fontes_de_dados_listadas_voce_ja_analisou_ou_processou_no_trabalho",
         "type": "\"string\""
        },
        {
         "metadata": "{}",
         "name": "P4_b_1_Dados_relacionais_estruturados_em_bancos_SQL",
         "type": "\"string\""
        },
        {
         "metadata": "{}",
         "name": "P4_b_2_Dados_armazenados_em_bancos_NoSQL",
         "type": "\"string\""
        },
        {
         "metadata": "{}",
         "name": "P4_b_3_Imagens",
         "type": "\"integer\""
        },
        {
         "metadata": "{}",
         "name": "P4_b_4_Textos_Documentos",
         "type": "\"integer\""
        },
        {
         "metadata": "{}",
         "name": "P4_b_5_Videos",
         "type": "\"integer\""
        },
        {
         "metadata": "{}",
         "name": "P4_b_6_Audios",
         "type": "\"integer\""
        },
        {
         "metadata": "{}",
         "name": "P4_b_7_Planilhas",
         "type": "\"integer\""
        },
        {
         "metadata": "{}",
         "name": "P4_b_8_Dados_georeferenciados",
         "type": "\"integer\""
        },
        {
         "metadata": "{}",
         "name": "P4_c_Entre_as_fontes_de_dados_listadas_quais_voce_utiliza_na_maior_parte_do_tempo",
         "type": "\"string\""
        },
        {
         "metadata": "{}",
         "name": "P4_c_1_Dados_relacionais_estruturados_em_bancos_SQL",
         "type": "\"integer\""
        },
        {
         "metadata": "{}",
         "name": "P4_c_2_Dados_armazenados_em_bancos_NoSQL",
         "type": "\"string\""
        },
        {
         "metadata": "{}",
         "name": "P4_c_3_Imagens",
         "type": "\"integer\""
        },
        {
         "metadata": "{}",
         "name": "P4_c_4_Textos_Documentos",
         "type": "\"integer\""
        },
        {
         "metadata": "{}",
         "name": "P4_c_5_Videos",
         "type": "\"integer\""
        },
        {
         "metadata": "{}",
         "name": "P4_c_6_Audios",
         "type": "\"integer\""
        },
        {
         "metadata": "{}",
         "name": "P4_c_7_Planilhas",
         "type": "\"integer\""
        },
        {
         "metadata": "{}",
         "name": "P4_c_8_Dados_georeferenciados",
         "type": "\"integer\""
        },
        {
         "metadata": "{}",
         "name": "P4_d_Quais_das_linguagens_listadas_abaixo_voce_utiliza_no_trabalho",
         "type": "\"string\""
        },
        {
         "metadata": "{}",
         "name": "P4_d_1_SQL",
         "type": "\"integer\""
        },
        {
         "metadata": "{}",
         "name": "P4_d_2_R",
         "type": "\"string\""
        },
        {
         "metadata": "{}",
         "name": "P4_d_3_Python",
         "type": "\"integer\""
        },
        {
         "metadata": "{}",
         "name": "P4_d_4_C_C_C",
         "type": "\"integer\""
        },
        {
         "metadata": "{}",
         "name": "P4_d_5_NET",
         "type": "\"integer\""
        },
        {
         "metadata": "{}",
         "name": "P4_d_6_Java",
         "type": "\"integer\""
        },
        {
         "metadata": "{}",
         "name": "P4_d_7_Julia",
         "type": "\"integer\""
        },
        {
         "metadata": "{}",
         "name": "P4_d_8_SAS_Stata",
         "type": "\"integer\""
        },
        {
         "metadata": "{}",
         "name": "P4_d_9_Visual_Basic_VBA",
         "type": "\"integer\""
        },
        {
         "metadata": "{}",
         "name": "P4_d_10_Scala",
         "type": "\"integer\""
        },
        {
         "metadata": "{}",
         "name": "P4_d_11_Matlab",
         "type": "\"integer\""
        },
        {
         "metadata": "{}",
         "name": "P4_d_12_Rust",
         "type": "\"integer\""
        },
        {
         "metadata": "{}",
         "name": "P4_d_13_PHP",
         "type": "\"integer\""
        },
        {
         "metadata": "{}",
         "name": "P4_d_14_JavaScript",
         "type": "\"integer\""
        },
        {
         "metadata": "{}",
         "name": "P4_d_15_Nao_utilizo_nenhuma_linguagem",
         "type": "\"integer\""
        },
        {
         "metadata": "{}",
         "name": "P4_e_Entre_as_linguagens_listadas_abaixo_qual_e_a_que_voce_mais_utiliza_no_trabalho",
         "type": "\"string\""
        },
        {
         "metadata": "{}",
         "name": "P4_f_Entre_as_linguagens_listadas_abaixo_qual_e_a_sua_preferida",
         "type": "\"string\""
        },
        {
         "metadata": "{}",
         "name": "P4_g_Quais_dos_bancos_de_dados_fontes_de_dados_listados_abaixo_voce_utiliza_no_trabalho",
         "type": "\"string\""
        },
        {
         "metadata": "{}",
         "name": "P4_g_1_MySQL",
         "type": "\"integer\""
        },
        {
         "metadata": "{}",
         "name": "P4_g_2_Oracle",
         "type": "\"string\""
        },
        {
         "metadata": "{}",
         "name": "P4_g_3_SQL_SERVER",
         "type": "\"integer\""
        },
        {
         "metadata": "{}",
         "name": "P4_g_4_Amazon_Aurora_ou_RDS",
         "type": "\"integer\""
        },
        {
         "metadata": "{}",
         "name": "P4_g_5_DynamoDB",
         "type": "\"integer\""
        },
        {
         "metadata": "{}",
         "name": "P4_g_6_CoachDB",
         "type": "\"integer\""
        },
        {
         "metadata": "{}",
         "name": "P4_g_7_Cassandra",
         "type": "\"integer\""
        },
        {
         "metadata": "{}",
         "name": "P4_g_8_MongoDB",
         "type": "\"integer\""
        },
        {
         "metadata": "{}",
         "name": "P4_g_9_MariaDB",
         "type": "\"integer\""
        },
        {
         "metadata": "{}",
         "name": "P4_g_10_Datomic",
         "type": "\"integer\""
        },
        {
         "metadata": "{}",
         "name": "P4_g_11_S3",
         "type": "\"integer\""
        },
        {
         "metadata": "{}",
         "name": "P4_g_12_PostgreSQL",
         "type": "\"integer\""
        },
        {
         "metadata": "{}",
         "name": "P4_g_13_ElasticSearch",
         "type": "\"integer\""
        },
        {
         "metadata": "{}",
         "name": "P4_g_14_DB2",
         "type": "\"integer\""
        },
        {
         "metadata": "{}",
         "name": "P4_g_15_Microsoft_Access",
         "type": "\"integer\""
        },
        {
         "metadata": "{}",
         "name": "P4_g_16_SQLite",
         "type": "\"integer\""
        },
        {
         "metadata": "{}",
         "name": "P4_g_17_Sybase",
         "type": "\"integer\""
        },
        {
         "metadata": "{}",
         "name": "P4_g_18_Firebase",
         "type": "\"integer\""
        },
        {
         "metadata": "{}",
         "name": "P4_g_19_Vertica",
         "type": "\"integer\""
        },
        {
         "metadata": "{}",
         "name": "P4_g_20_Redis",
         "type": "\"integer\""
        },
        {
         "metadata": "{}",
         "name": "P4_g_21_Neo4J",
         "type": "\"integer\""
        },
        {
         "metadata": "{}",
         "name": "P4_g_22_Google_BigQuery",
         "type": "\"integer\""
        },
        {
         "metadata": "{}",
         "name": "P4_g_23_Google_Firestore",
         "type": "\"integer\""
        },
        {
         "metadata": "{}",
         "name": "P4_g_24_Amazon_Redshift",
         "type": "\"integer\""
        },
        {
         "metadata": "{}",
         "name": "P4_g_25_Amazon_Athena",
         "type": "\"integer\""
        },
        {
         "metadata": "{}",
         "name": "P4_g_26_Snowflake",
         "type": "\"integer\""
        },
        {
         "metadata": "{}",
         "name": "P4_g_27_Databricks",
         "type": "\"integer\""
        },
        {
         "metadata": "{}",
         "name": "P4_g_28_HBase",
         "type": "\"integer\""
        },
        {
         "metadata": "{}",
         "name": "P4_g_29_Presto",
         "type": "\"integer\""
        },
        {
         "metadata": "{}",
         "name": "P4_g_30_Splunk",
         "type": "\"integer\""
        },
        {
         "metadata": "{}",
         "name": "P4_g_31_SAP_HANA",
         "type": "\"integer\""
        },
        {
         "metadata": "{}",
         "name": "P4_g_32_Hive",
         "type": "\"integer\""
        },
        {
         "metadata": "{}",
         "name": "P4_g_33_Firebird",
         "type": "\"integer\""
        },
        {
         "metadata": "{}",
         "name": "P4_h_Dentre_as_opcoes_listadas_qual_sua_Cloud_preferida",
         "type": "\"string\""
        },
        {
         "metadata": "{}",
         "name": "P4_h_1_Azure_Microsoft",
         "type": "\"integer\""
        },
        {
         "metadata": "{}",
         "name": "P4_h_2_Amazon_Web_Services_AWS",
         "type": "\"string\""
        },
        {
         "metadata": "{}",
         "name": "P4_h_3_Google_Cloud_GCP",
         "type": "\"integer\""
        },
        {
         "metadata": "{}",
         "name": "P4_h_4_Oracle_Cloud",
         "type": "\"integer\""
        },
        {
         "metadata": "{}",
         "name": "P4_h_5_IBM",
         "type": "\"integer\""
        },
        {
         "metadata": "{}",
         "name": "P4_h_6_Servidores_On_Premise_Nao_utilizamos_Cloud",
         "type": "\"integer\""
        },
        {
         "metadata": "{}",
         "name": "P4_h_7_Cloud_Propria",
         "type": "\"integer\""
        },
        {
         "metadata": "{}",
         "name": "P4_i_Cloud_preferida",
         "type": "\"string\""
        },
        {
         "metadata": "{}",
         "name": "P4_j_Ferramenta_de_BI_utilizada_no_dia_a_dia",
         "type": "\"string\""
        },
        {
         "metadata": "{}",
         "name": "P4_j_1_Microsoft_PowerBI",
         "type": "\"string\""
        },
        {
         "metadata": "{}",
         "name": "P4_j_2_Qlik_View_Qlik_Sense",
         "type": "\"string\""
        },
        {
         "metadata": "{}",
         "name": "P4_j_3_Tableau",
         "type": "\"integer\""
        },
        {
         "metadata": "{}",
         "name": "P4_j_4_Metabase",
         "type": "\"integer\""
        },
        {
         "metadata": "{}",
         "name": "P4_j_5_Superset",
         "type": "\"integer\""
        },
        {
         "metadata": "{}",
         "name": "P4_j_6_Redash",
         "type": "\"integer\""
        },
        {
         "metadata": "{}",
         "name": "P4_j_7_Looker",
         "type": "\"integer\""
        },
        {
         "metadata": "{}",
         "name": "P4_j_8_Looker_Studio_Google_Data_Studio",
         "type": "\"integer\""
        },
        {
         "metadata": "{}",
         "name": "P4_j_9_Amazon_Quicksight",
         "type": "\"integer\""
        },
        {
         "metadata": "{}",
         "name": "P4_j_10_Mode",
         "type": "\"integer\""
        },
        {
         "metadata": "{}",
         "name": "P4_j_11_Alteryx",
         "type": "\"integer\""
        },
        {
         "metadata": "{}",
         "name": "P4_j_12_MicroStrategy",
         "type": "\"integer\""
        },
        {
         "metadata": "{}",
         "name": "P4_j_13_IBM_Analytics_Cognos",
         "type": "\"integer\""
        },
        {
         "metadata": "{}",
         "name": "P4_j_14_SAP_Business_Objects_SAP_Analytics",
         "type": "\"integer\""
        },
        {
         "metadata": "{}",
         "name": "P4_j_15_Oracle_Business_Intelligence",
         "type": "\"integer\""
        },
        {
         "metadata": "{}",
         "name": "P4_j_16_Salesforce_Einstein_Analytics",
         "type": "\"integer\""
        },
        {
         "metadata": "{}",
         "name": "P4_j_17_Birst",
         "type": "\"integer\""
        },
        {
         "metadata": "{}",
         "name": "P4_j_18_SAS_Visual_Analytics",
         "type": "\"integer\""
        },
        {
         "metadata": "{}",
         "name": "P4_j_19_Grafana",
         "type": "\"integer\""
        },
        {
         "metadata": "{}",
         "name": "P4_j_20_TIBCO_Spotfire",
         "type": "\"integer\""
        },
        {
         "metadata": "{}",
         "name": "P4_j_21_Pentaho",
         "type": "\"integer\""
        },
        {
         "metadata": "{}",
         "name": "P4_j_22_Fazemos_todas_as_analises_utilizando_apenas_Excel_ou_planilhas_do_google",
         "type": "\"integer\""
        },
        {
         "metadata": "{}",
         "name": "P4_j_23_Nao_utilizo_nenhuma_ferramenta_de_BI_no_trabalho",
         "type": "\"integer\""
        },
        {
         "metadata": "{}",
         "name": "P4_k_Qual_sua_ferramenta_de_BI_preferida",
         "type": "\"string\""
        },
        {
         "metadata": "{}",
         "name": "P4_l_Qual_o_tipo_de_uso_de_AI_Generativa_e_LLMs_na_empresa",
         "type": "\"string\""
        },
        {
         "metadata": "{}",
         "name": "P4_l_1_Colaboradores_usando_AI_generativa_de_forma_independente_e_descentralizada",
         "type": "\"string\""
        },
        {
         "metadata": "{}",
         "name": "P4_l_2_Direcionamento_centralizado_do_uso_de_AI_generativa",
         "type": "\"string\""
        },
        {
         "metadata": "{}",
         "name": "P4_l_3_Desenvolvedores_utilizando_Copilots",
         "type": "\"integer\""
        },
        {
         "metadata": "{}",
         "name": "P4_l_4_AI_Generativa_e_LLMs_para_melhorar_produtos_externos_para_os_clientes_finais",
         "type": "\"integer\""
        },
        {
         "metadata": "{}",
         "name": "P4_l_5_AI_Generativa_e_LLMs_para_melhorar_produtos_internos_para_os_colaboradores",
         "type": "\"integer\""
        },
        {
         "metadata": "{}",
         "name": "P4_l_6_IA_Generativa_e_LLMs_como_principal_frente_do_negocio",
         "type": "\"integer\""
        },
        {
         "metadata": "{}",
         "name": "P4_l_7_IA_Generativa_e_LLMs_nao_e_prioridade",
         "type": "\"integer\""
        },
        {
         "metadata": "{}",
         "name": "P4_l_8_Nao_sei_opinar_sobre_o_uso_de_IA_Generativa_e_LLMs_na_empresa",
         "type": "\"integer\""
        },
        {
         "metadata": "{}",
         "name": "P4_m_Utiliza_ChatGPT_ou_LLMs_no_trabalho",
         "type": "\"string\""
        },
        {
         "metadata": "{}",
         "name": "P4_m_1_Nao_uso_solucoes_de_AI_Generativa_com_foco_em_produtividade",
         "type": "\"string\""
        },
        {
         "metadata": "{}",
         "name": "P4_m_2_Uso_solucoes_gratuitas_de_AI_Generativa_com_foco_em_produtividade",
         "type": "\"string\""
        },
        {
         "metadata": "{}",
         "name": "P4_m_3_Uso_e_pago_pelas_solucoes_de_AI_Generativa_com_foco_em_produtividade",
         "type": "\"string\""
        },
        {
         "metadata": "{}",
         "name": "P4_m_4_A_empresa_que_trabalho_paga_pelas_solucoes_de_AI_Generativa_com_foco_em_produtividade",
         "type": "\"integer\""
        },
        {
         "metadata": "{}",
         "name": "P4_m_5_Uso_solucoes_do_tipo_Copilot",
         "type": "\"integer\""
        },
        {
         "metadata": "{}",
         "name": "P5_a_Qual_seu_objetivo_na_area_de_dados",
         "type": "\"string\""
        },
        {
         "metadata": "{}",
         "name": "P5_b_Qual_oportunidade_voce_esta_buscando",
         "type": "\"string\""
        },
        {
         "metadata": "{}",
         "name": "P5_c_Ha_quanto_tempo_voce_busca_uma_oportunidade_na_area_de_dados",
         "type": "\"string\""
        },
        {
         "metadata": "{}",
         "name": "P5_d_Como_tem_sido_a_busca_por_um_emprego_na_area_de_dados",
         "type": "\"string\""
        },
        {
         "metadata": "{}",
         "name": "P6_a_Quais_das_opcoes_abaixo_fazem_parte_da_sua_rotina_no_trabalho_atual_como_engenheiro_de_dados",
         "type": "\"string\""
        },
        {
         "metadata": "{}",
         "name": "P6_a_1_Desenvolvo_pipelines_de_dados_utilizando_linguagens_de_programacao_como_Python_Scala_Java_etc",
         "type": "\"string\""
        },
        {
         "metadata": "{}",
         "name": "P6_a_2_Realizo_construcoes_de_ETL_s_em_ferramentas_como_Pentaho_Talend_Dataflow_etc",
         "type": "\"integer\""
        },
        {
         "metadata": "{}",
         "name": "P6_a_3_Crio_consultas_atraves_da_linguagem_SQL_para_exportar_informacoes_e_compartilhar_com_as_areas_de_negocio",
         "type": "\"string\""
        },
        {
         "metadata": "{}",
         "name": "P6_a_4_Atuo_na_integracao_de_diferentes_fontes_de_dados_atraves_de_plataformas_proprietarias_como_Stitch_Data_Fivetran_etc",
         "type": "\"integer\""
        },
        {
         "metadata": "{}",
         "name": "P6_a_5_Modelo_solucoes_de_arquitetura_de_dados_criando_componentes_de_ingestao_de_dados_transformacao_e_recuperacao_da_informacao",
         "type": "\"integer\""
        },
        {
         "metadata": "{}",
         "name": "P6_a_6_Desenvolvo_cuido_da_manutencao_de_repositorios_de_dados_baseados_em_streaming_de_eventos_como_Data_Lakes_e_Data_Lakehouses",
         "type": "\"integer\""
        },
        {
         "metadata": "{}",
         "name": "P6_a_7_Atuo_na_modelagem_dos_dados_com_o_objetivo_de_criar_conjuntos_de_dados_como_Data_Warehouses_Data_Marts_etc",
         "type": "\"integer\""
        },
        {
         "metadata": "{}",
         "name": "P6_a_8_Cuido_da_qualidade_dos_dados_metadados_e_dicionario_de_dados",
         "type": "\"integer\""
        },
        {
         "metadata": "{}",
         "name": "P6_a_9_Nenhuma_das_opcoes_listadas_refletem_meu_dia_a_dia",
         "type": "\"integer\""
        },
        {
         "metadata": "{}",
         "name": "P6_b_Quais_as_ferramentas_tecnologias_de_ETL_que_voce_utiliza_no_trabalho_como_Data_Engineer",
         "type": "\"string\""
        },
        {
         "metadata": "{}",
         "name": "P6_b_1_Scripts_Python",
         "type": "\"string\""
        },
        {
         "metadata": "{}",
         "name": "P6_b_2_SQL_Stored_Procedures",
         "type": "\"integer\""
        },
        {
         "metadata": "{}",
         "name": "P6_b_3_Apache_Airflow",
         "type": "\"string\""
        },
        {
         "metadata": "{}",
         "name": "P6_b_4_Apache_NiFi",
         "type": "\"integer\""
        },
        {
         "metadata": "{}",
         "name": "P6_b_5_Luigi",
         "type": "\"integer\""
        },
        {
         "metadata": "{}",
         "name": "P6_b_6_AWS_Glue",
         "type": "\"integer\""
        },
        {
         "metadata": "{}",
         "name": "P6_b_7_Talend",
         "type": "\"integer\""
        },
        {
         "metadata": "{}",
         "name": "P6_b_8_Pentaho",
         "type": "\"integer\""
        },
        {
         "metadata": "{}",
         "name": "P6_b_9_Alteryx",
         "type": "\"integer\""
        },
        {
         "metadata": "{}",
         "name": "P6_b_10_Stitch",
         "type": "\"integer\""
        },
        {
         "metadata": "{}",
         "name": "P6_b_11_Fivetran",
         "type": "\"integer\""
        },
        {
         "metadata": "{}",
         "name": "P6_b_12_Google_Dataflow",
         "type": "\"integer\""
        },
        {
         "metadata": "{}",
         "name": "P6_b_13_Oracle_Data_Integrator",
         "type": "\"integer\""
        },
        {
         "metadata": "{}",
         "name": "P6_b_14_IBM_DataStage",
         "type": "\"integer\""
        },
        {
         "metadata": "{}",
         "name": "P6_b_15_SAP_BW_ETL",
         "type": "\"integer\""
        },
        {
         "metadata": "{}",
         "name": "P6_b_16_SQL_Server_Integration_Services_SSIS",
         "type": "\"integer\""
        },
        {
         "metadata": "{}",
         "name": "P6_b_17_SAS_Data_Integration",
         "type": "\"integer\""
        },
        {
         "metadata": "{}",
         "name": "P6_b_18_Qlik_Sense",
         "type": "\"integer\""
        },
        {
         "metadata": "{}",
         "name": "P6_b_19_Knime",
         "type": "\"integer\""
        },
        {
         "metadata": "{}",
         "name": "P6_b_20_Databricks",
         "type": "\"integer\""
        },
        {
         "metadata": "{}",
         "name": "P6_b_21_Nao_utilizo_ferramentas_de_ETL",
         "type": "\"integer\""
        },
        {
         "metadata": "{}",
         "name": "P6_c_Sua_organizacao_possui_um_Data_Lake",
         "type": "\"integer\""
        },
        {
         "metadata": "{}",
         "name": "P6_d_Qual_tecnologia_utilizada_como_plataforma_do_Data_Lake",
         "type": "\"string\""
        },
        {
         "metadata": "{}",
         "name": "P6_e_Sua_organizacao_possui_um_Data_Warehouse",
         "type": "\"string\""
        },
        {
         "metadata": "{}",
         "name": "P6_f_Qual_tecnologia_utilizada_como_plataforma_do_Data_Warehouse",
         "type": "\"string\""
        },
        {
         "metadata": "{}",
         "name": "P6_g_Quais_as_ferramentas_de_gestao_de_Qualidade_de_dados_Metadados_e_catalogo_de_dados_voce_utiliza_no_trabalho",
         "type": "\"string\""
        },
        {
         "metadata": "{}",
         "name": "P6_h_Em_qual_das_opcoes_abaixo_voce_gasta_a_maior_parte_do_seu_tempo",
         "type": "\"string\""
        },
        {
         "metadata": "{}",
         "name": "P6_h_1_Desenvolvendo_pipelines_de_dados_utilizando_linguagens_de_programacao_como_Python_Scala_Java_etc",
         "type": "\"string\""
        },
        {
         "metadata": "{}",
         "name": "P6_h_2_Realizando_construcoes_de_ETL_s_em_ferramentas_como_Pentaho_Talend_Dataflow_etc",
         "type": "\"string\""
        },
        {
         "metadata": "{}",
         "name": "P6_h_3_Criando_consultas_atraves_da_linguagem_SQL_para_exportar_informacoes_e_compartilhar_com_as_areas_de_negocio",
         "type": "\"string\""
        },
        {
         "metadata": "{}",
         "name": "P6_h_4_Atuando_na_integracao_de_diferentes_fontes_de_dados_atraves_de_plataformas_proprietarias_como_Stitch_Data_Fivetran_etc",
         "type": "\"integer\""
        },
        {
         "metadata": "{}",
         "name": "P6_h_5_Modelando_solucoes_de_arquitetura_de_dados_criando_componentes_de_ingestao_de_dados_transformacao_e_recuperacao_da_informacao",
         "type": "\"integer\""
        },
        {
         "metadata": "{}",
         "name": "P6_h_6_Desenvolvendo_cuidando_da_manutencao_de_repositorios_de_dados_baseados_em_streaming_de_eventos_como_Data_Lakes_e_Data_Lakehouses",
         "type": "\"integer\""
        },
        {
         "metadata": "{}",
         "name": "P6_h_7_Atuando_na_modelagem_dos_dados_com_o_objetivo_de_criar_conjuntos_de_dados_como_Data_Warehouses_Data_Marts_etc",
         "type": "\"integer\""
        },
        {
         "metadata": "{}",
         "name": "P6_h_8_Cuidando_da_qualidade_dos_dados_metadados_e_dicionario_de_dados",
         "type": "\"integer\""
        },
        {
         "metadata": "{}",
         "name": "P6_h_9_Nenhuma_das_opcoes_listadas_refletem_meu_dia_a_dia",
         "type": "\"integer\""
        },
        {
         "metadata": "{}",
         "name": "P7_1_Quais_das_opcoes_abaixo_fazem_parte_da_sua_rotina_no_trabalho_atual_com_analise_de_dados",
         "type": "\"string\""
        },
        {
         "metadata": "{}",
         "name": "P7_a_1_Processo_e_analiso_dados_utilizando_linguagens_de_programacao_como_Python_R_etc",
         "type": "\"string\""
        },
        {
         "metadata": "{}",
         "name": "P7_a_2_Realizo_construcoes_de_dashboards_em_ferramentas_de_BI_como_PowerBI_Tableau_Looker_Qlik_etc",
         "type": "\"string\""
        },
        {
         "metadata": "{}",
         "name": "P7_a_3_Crio_consultas_atraves_da_linguagem_SQL_para_exportar_informacoes_e_compartilhar_com_as_areas_de_negocio",
         "type": "\"string\""
        },
        {
         "metadata": "{}",
         "name": "P7_a_4_Utilizo_API_s_para_extrair_dados_e_complementar_minhas_analises",
         "type": "\"integer\""
        },
        {
         "metadata": "{}",
         "name": "P7_a_5_Realizo_experimentos_e_estudos_utilizando_metodologias_estatisticas_como_teste_de_hipotese_modelos_de_regressao_etc",
         "type": "\"integer\""
        },
        {
         "metadata": "{}",
         "name": "P7_a_6_Desenvolvo_cuido_da_manutencao_de_ETL_s_utilizando_tecnologias_como_Talend_Pentaho_Airflow_Dataflow_etc",
         "type": "\"integer\""
        },
        {
         "metadata": "{}",
         "name": "P7_a_7_Atuo_na_modelagem_dos_dados_com_o_objetivo_de_criar_conjuntos_de_dados_Data_Warehouses_Data_Marts_etc",
         "type": "\"integer\""
        },
        {
         "metadata": "{}",
         "name": "P7_a_8_Desenvolvo_cuido_da_manutencao_de_planilhas_para_atender_as_areas_de_negocio",
         "type": "\"integer\""
        },
        {
         "metadata": "{}",
         "name": "P7_a_9_Utilizo_ferramentas_avancadas_de_estatistica_como_SASS_PSS_Stata_etc",
         "type": "\"integer\""
        },
        {
         "metadata": "{}",
         "name": "P7_a_10_Nenhuma_das_opcoes_listadas_refletem_meu_dia_a_dia",
         "type": "\"integer\""
        },
        {
         "metadata": "{}",
         "name": "P7_b_Quais_as_ferramentas_tecnologias_de_ETL_que_voce_utiliza_no_trabalho_como_Data_Analyst",
         "type": "\"string\""
        },
        {
         "metadata": "{}",
         "name": "P7_b_1_Scripts_Python",
         "type": "\"string\""
        },
        {
         "metadata": "{}",
         "name": "P7_b_2_SQL_Stored_Procedures",
         "type": "\"string\""
        },
        {
         "metadata": "{}",
         "name": "P7_b_3_Apache_Airflow",
         "type": "\"string\""
        },
        {
         "metadata": "{}",
         "name": "P7_b_4_Apache_NiFi",
         "type": "\"integer\""
        },
        {
         "metadata": "{}",
         "name": "P7_b_5_Luigi",
         "type": "\"integer\""
        },
        {
         "metadata": "{}",
         "name": "P7_b_6_AWS_Glue",
         "type": "\"integer\""
        },
        {
         "metadata": "{}",
         "name": "P7_b_7_Talend",
         "type": "\"integer\""
        },
        {
         "metadata": "{}",
         "name": "P7_b_8_Pentaho",
         "type": "\"integer\""
        },
        {
         "metadata": "{}",
         "name": "P7_b_9_Alteryx",
         "type": "\"integer\""
        },
        {
         "metadata": "{}",
         "name": "P7_b_10_Stitch",
         "type": "\"integer\""
        },
        {
         "metadata": "{}",
         "name": "P7_b_11_Fivetran",
         "type": "\"integer\""
        },
        {
         "metadata": "{}",
         "name": "P7_b_12_Google_Dataflow",
         "type": "\"integer\""
        },
        {
         "metadata": "{}",
         "name": "P7_b_13_Oracle_Data_Integrator",
         "type": "\"integer\""
        },
        {
         "metadata": "{}",
         "name": "P7_b_14_IBM_DataStage",
         "type": "\"integer\""
        },
        {
         "metadata": "{}",
         "name": "P7_b_15_SAP_BW_ETL",
         "type": "\"integer\""
        },
        {
         "metadata": "{}",
         "name": "P7_b_16_SQL_Server_Integration_Services_SSIS",
         "type": "\"integer\""
        },
        {
         "metadata": "{}",
         "name": "P7_b_17_SAS_Data_Integration",
         "type": "\"integer\""
        },
        {
         "metadata": "{}",
         "name": "P7_b_18_Qlik_Sense",
         "type": "\"integer\""
        },
        {
         "metadata": "{}",
         "name": "P7_b_19_Knime",
         "type": "\"integer\""
        },
        {
         "metadata": "{}",
         "name": "P7_b_20_Databricks",
         "type": "\"integer\""
        },
        {
         "metadata": "{}",
         "name": "P7_b_21_Nao_utilizo_ferramentas_de_ETL",
         "type": "\"integer\""
        },
        {
         "metadata": "{}",
         "name": "P7_c_Sua_empresa_utiliza_alguma_das_ferramentas_listadas_para_dar_mais_autonomia_em_analise_de_dados_para_as_areas_de_negocio",
         "type": "\"string\""
        },
        {
         "metadata": "{}",
         "name": "P7_c_1_Ferramentas_de_AutoML_como_H2O_ai_Data_Robot_BigML_etc",
         "type": "\"string\""
        },
        {
         "metadata": "{}",
         "name": "P7_c_2_Point_and_Click_Analytics_como_Alteryx",
         "type": "\"string\""
        },
        {
         "metadata": "{}",
         "name": "Knime",
         "type": "\"string\""
        },
        {
         "metadata": "{}",
         "name": "Rapidminer_etc",
         "type": "\"string\""
        },
        {
         "metadata": "{}",
         "name": "P7_c_3_Product_metricts_Insights_como_Mixpanel_Amplitude_Adobe_Analytics",
         "type": "\"string\""
        },
        {
         "metadata": "{}",
         "name": "P7_c_4_Ferramentas_de_analise_dentro_de_ferramentas_de_CRM_como_Salesforce_Einstein_Anaytics_ou_Zendesk_dashboards",
         "type": "\"string\""
        },
        {
         "metadata": "{}",
         "name": "P7_c_5_Minha_empresa_nao_utiliza_essas_ferramentas",
         "type": "\"string\""
        },
        {
         "metadata": "{}",
         "name": "P7_c_6_Nao_sei_informar",
         "type": "\"string\""
        },
        {
         "metadata": "{}",
         "name": "P7_d_Em_qual_das_opcoes_abaixo_voce_gasta_a_maior_parte_do_seu_tempo_de_trabalho",
         "type": "\"string\""
        },
        {
         "metadata": "{}",
         "name": "P7_d_1_Processando_e_analisando_dados_utilizando_linguagens_de_programacao_como_Python_R_etc",
         "type": "\"string\""
        },
        {
         "metadata": "{}",
         "name": "P7_d_2_Realizando_construcoes_de_dashboards_em_ferramentas_de_BI_como_PowerBI_Tableau_Looker_Qlik_etc",
         "type": "\"integer\""
        },
        {
         "metadata": "{}",
         "name": "P7_d_3_Criando_consultas_atraves_da_linguagem_SQL_para_exportar_informacoes_e_compartilhar_com_as_areas_de_negocio",
         "type": "\"string\""
        },
        {
         "metadata": "{}",
         "name": "P7_d_4_Utilizando_API_s_para_extrair_dados_e_complementar_minhas_analises",
         "type": "\"string\""
        },
        {
         "metadata": "{}",
         "name": "P7_d_5_Realizando_experimentos_e_estudos_utilizando_metodologias_estatisticas_como_teste_de_hipotese_modelos_de_regressao_etc",
         "type": "\"integer\""
        },
        {
         "metadata": "{}",
         "name": "P7_d_6_Desenvolvendo_cuidando_da_manutencao_de_ETL_s_utilizando_tecnologias_como_Talend_Pentaho_Airflow_Dataflow_etc",
         "type": "\"string\""
        },
        {
         "metadata": "{}",
         "name": "P7_d_7_Atuando_na_modelagem_dos_dados_com_o_objetivo_de_criar_conjuntos_de_dados_Data_Warehouses_Data_Marts_etc",
         "type": "\"integer\""
        },
        {
         "metadata": "{}",
         "name": "P7_d_8_Desenvolvendo_cuidando_da_manutencao_de_planilhas_do_Excel_ou_Google_Sheets_para_atender_as_areas_de_negocio",
         "type": "\"integer\""
        },
        {
         "metadata": "{}",
         "name": "P7_d_9_Utilizando_ferramentas_avancadas_de_estatistica_como_SAS_SPSS_Stata_etc_para_realizar_analises",
         "type": "\"string\""
        },
        {
         "metadata": "{}",
         "name": "P7_d_10_Nenhuma_das_opcoes_listadas_refletem_meu_dia_a_dia",
         "type": "\"string\""
        },
        {
         "metadata": "{}",
         "name": "P8_a_Quais_das_opcoes_abaixo_fazem_parte_da_sua_rotina_no_trabalho_atual_com_ciencia_de_dados",
         "type": "\"integer\""
        },
        {
         "metadata": "{}",
         "name": "P8_a_1_Estudos_Ad_hoc_com_o_objetivo_de_confirmar_hipoteses_realizar_modelos_preditivos_forecasts_analise_de_cluster_para_resolver_problemas_pontuais_e_responder_perguntas_das_areas_de_negocio",
         "type": "\"string\""
        },
        {
         "metadata": "{}",
         "name": "P8_a_2_Sou_responsavel_pela_coleta_e_limpeza_dos_dados_que_uso_para_analise_e_modelagem",
         "type": "\"integer\""
        },
        {
         "metadata": "{}",
         "name": "P8_a_3_Sou_responsavel_por_entrar_em_contato_com_os_times_de_negocio_para_definicao_do_problema_identificar_a_solucao_e_apresentacao_de_resultados",
         "type": "\"integer\""
        },
        {
         "metadata": "{}",
         "name": "P8_a_4_Desenvolvo_modelos_de_Machine_Learning_com_o_objetivo_de_colocar_em_producao_em_sistemas_produtos_de_dados",
         "type": "\"integer\""
        },
        {
         "metadata": "{}",
         "name": "P8_a_5_Sou_responsavel_por_colocar_modelos_em_producao_criar_os_pipelines_de_dados_APIs_de_consumo_e_monitoramento",
         "type": "\"integer\""
        },
        {
         "metadata": "{}",
         "name": "P8_a_6_Cuido_da_manutencao_de_modelos_de_Machine_Learning_ja_em_producao_atuando_no_monitoramento_ajustes_e_refatoracao_quando_necessario",
         "type": "\"integer\""
        },
        {
         "metadata": "{}",
         "name": "P8_a_7_Realizo_construcoes_de_dashboards_em_ferramentas_de_BI_como_PowerBI_Tableau_Looker_Qlik_etc",
         "type": "\"integer\""
        },
        {
         "metadata": "{}",
         "name": "P8_a_8_Utilizo_ferramentas_avancadas_de_estatistica_como_SAS_SPSS_Stata_etc_para_realizar_analises_estatisticas_e_ajustar_modelos",
         "type": "\"integer\""
        },
        {
         "metadata": "{}",
         "name": "P8_a_9_Crio_e_dou_manutencao_em_ETLs_DAGs_e_automacoes_de_pipelines_de_dados",
         "type": "\"integer\""
        },
        {
         "metadata": "{}",
         "name": "P8_a_10_Crio_e_gerencio_solucoes_de_Feature_Store_e_cultura_de_MLOps",
         "type": "\"integer\""
        },
        {
         "metadata": "{}",
         "name": "P8_a_11_Sou_responsavel_por_criar_e_manter_a_infra_que_meus_modelos_e_solucoes_rodam_clusters_servidores_API_containers_etc",
         "type": "\"string\""
        },
        {
         "metadata": "{}",
         "name": "P8_a_12_Treino_e_aplico_LLM_s_para_solucionar_problemas_de_negocio",
         "type": "\"string\""
        },
        {
         "metadata": "{}",
         "name": "P8_b_Quais_as_tecnicas_e_metodos_listados_abaixo_voce_costuma_utilizar_no_trabalho",
         "type": "\"integer\""
        },
        {
         "metadata": "{}",
         "name": "P8_b_1_Utilizo_modelos_de_regressao_linear_logistica_GLM",
         "type": "\"string\""
        },
        {
         "metadata": "{}",
         "name": "P8_b_2_Utilizo_redes_neurais_ou_modelos_baseados_em_arvore_para_criar_modelos_de_classificacao",
         "type": "\"integer\""
        },
        {
         "metadata": "{}",
         "name": "P8_b_3_Desenvolvo_sistemas_de_recomendacao_RecSys",
         "type": "\"integer\""
        },
        {
         "metadata": "{}",
         "name": "P8_b_4_Utilizo_metodos_estatisticos_Bayesianos_para_analisar_dados",
         "type": "\"integer\""
        },
        {
         "metadata": "{}",
         "name": "P8_b_5_Utilizo_tecnicas_de_NLP_Natural_Language_Processing_para_analisar_dados_nao_estruturados",
         "type": "\"integer\""
        },
        {
         "metadata": "{}",
         "name": "P8_b_6_Utilizo_metodos_estatisticos_classicos_Testes_de_hipotese_analise_multivariada_sobrevivencia_dados_longitudinais_inferencia_estatistica_para_analisar_dados",
         "type": "\"integer\""
        },
        {
         "metadata": "{}",
         "name": "P8_b_7_Utilizo_cadeias_de_Markov_ou_HMM_s_para_realizar_analises_de_dados",
         "type": "\"integer\""
        },
        {
         "metadata": "{}",
         "name": "P8_b_8_Desenvolvo_tecnicas_de_Clusterizacao_K_means_Spectral_DBScan_etc",
         "type": "\"integer\""
        },
        {
         "metadata": "{}",
         "name": "P8_b_9_Realizo_previsoes_atraves_de_modelos_de_Series_Temporais_Time_Series",
         "type": "\"integer\""
        },
        {
         "metadata": "{}",
         "name": "P8_b_10_Utilizo_modelos_de_Reinforcement_Learning_aprendizado_por_reforco",
         "type": "\"integer\""
        },
        {
         "metadata": "{}",
         "name": "P8_b_11_Utilizo_modelos_de_Machine_Learning_para_deteccao_de_fraude",
         "type": "\"integer\""
        },
        {
         "metadata": "{}",
         "name": "P8_b_12_Utilizo_metodos_de_Visao_Computacional",
         "type": "\"integer\""
        },
        {
         "metadata": "{}",
         "name": "P8_b_13_Utilizo_modelos_de_Deteccao_de_Churn",
         "type": "\"string\""
        },
        {
         "metadata": "{}",
         "name": "P8_b_14_Utilizo_LLM_s_para_solucionar_problemas_de_negocio",
         "type": "\"string\""
        },
        {
         "metadata": "{}",
         "name": "P8_3_Quais_dessas_tecnologias_fazem_parte_do_seu_dia_a_dia_como_cientista_de_dados",
         "type": "\"integer\""
        },
        {
         "metadata": "{}",
         "name": "P8_c_1_Ferramentas_de_BI_PowerBI_Looker_Tableau_Qlik_etc",
         "type": "\"string\""
        },
        {
         "metadata": "{}",
         "name": "P8_c_2_Planilhas_Excel_Google_Sheets_etc",
         "type": "\"integer\""
        },
        {
         "metadata": "{}",
         "name": "P8_c_3_Ambientes_de_desenvolvimento_local_R_studio_JupyterLab_Anaconda",
         "type": "\"integer\""
        },
        {
         "metadata": "{}",
         "name": "P8_c_4_Ambientes_de_desenvolvimento_na_nuvem_Google_Colab_AWS_Sagemaker_Kaggle_Notebooks_etc",
         "type": "\"integer\""
        },
        {
         "metadata": "{}",
         "name": "P8_c_5_Ferramentas_de_AutoML_Datarobot_H2O_Auto_Keras_etc",
         "type": "\"integer\""
        },
        {
         "metadata": "{}",
         "name": "P8_c_6_Ferramentas_de_ETL_Apache_Airflow_NiFi_Stitch_Fivetran_Pentaho_etc",
         "type": "\"integer\""
        },
        {
         "metadata": "{}",
         "name": "P8_c_7_Plataformas_de_Machine_Learning_TensorFlow_Azure_Machine_Learning_Kubeflow_etc",
         "type": "\"integer\""
        },
        {
         "metadata": "{}",
         "name": "P8_c_8_Feature_Store_Feast_Hopsworks_AWS_Feature_Store_Databricks_Feature_Store_etc",
         "type": "\"integer\""
        },
        {
         "metadata": "{}",
         "name": "P8_c_9_Sistemas_de_controle_de_versao_Github_DVC_Neptune_Gitlab_etc",
         "type": "\"integer\""
        },
        {
         "metadata": "{}",
         "name": "P8_c_10_Plataformas_de_Data_Apps_Streamlit_Shiny_Plotly_Dash_etc",
         "type": "\"string\""
        },
        {
         "metadata": "{}",
         "name": "P8_c_11_Ferramentas_de_estatistica_avancada_como_SPSS_SAS_etc",
         "type": "\"string\""
        },
        {
         "metadata": "{}",
         "name": "P8_d_Em_qual_das_opcoes_abaixo_voce_gasta_a_maior_parte_do_seu_tempo_no_trabalho",
         "type": "\"integer\""
        },
        {
         "metadata": "{}",
         "name": "P8_d_1_Estudos_Ad_hoc_com_o_objetivo_de_confirmar_hipoteses_realizar_modelos_preditivos_forecasts_analise_de_cluster_para_resolver_problemas_pontuais_e_responder_perguntas_das_areas_de_negocio",
         "type": "\"string\""
        },
        {
         "metadata": "{}",
         "name": "P8_d_2_Coletando_e_limpando_os_dados_que_uso_para_analise_e_modelagem",
         "type": "\"integer\""
        },
        {
         "metadata": "{}",
         "name": "P8_d_3_Entrando_em_contato_com_os_times_de_negocio_para_definicao_do_problema_identificar_a_solucao_e_apresentacao_de_resultados",
         "type": "\"integer\""
        },
        {
         "metadata": "{}",
         "name": "P8_d_4_Desenvolvendo_modelos_de_Machine_Learning_com_o_objetivo_de_colocar_em_producao_em_sistemas_produtos_de_dados",
         "type": "\"integer\""
        },
        {
         "metadata": "{}",
         "name": "P8_d_5_Colocando_modelos_em_producao_criando_os_pipelines_de_dados_APIs_de_consumo_e_monitoramento",
         "type": "\"integer\""
        },
        {
         "metadata": "{}",
         "name": "P8_d_6_Cuidando_da_manutencao_de_modelos_de_Machine_Learning_ja_em_producao_atuando_no_monitoramento_ajustes_e_refatoracao_quando_necessario",
         "type": "\"integer\""
        },
        {
         "metadata": "{}",
         "name": "P8_d_7_Realizando_construcoes_de_dashboards_em_ferramentas_de_BI_como_PowerBI_Tableau_Looker_Qlik_etc",
         "type": "\"integer\""
        },
        {
         "metadata": "{}",
         "name": "P8_d_8_Utilizando_ferramentas_avancadas_de_estatistica_como_SAS_SPSS_Stata_etc_para_realizar_analises",
         "type": "\"integer\""
        },
        {
         "metadata": "{}",
         "name": "P8_d_9_Criando_e_dando_manutencao_em_ETLs_DAGs_e_automacoes_de_pipelines_de_dados",
         "type": "\"integer\""
        },
        {
         "metadata": "{}",
         "name": "P8_d_10_Criando_e_gerenciando_solucoes_de_Feature_Store_e_cultura_de_MLOps",
         "type": "\"integer\""
        },
        {
         "metadata": "{}",
         "name": "P8_d_11_Criando_e_mantendo_a_infra_que_meus_modelos_e_solucoes_rodam_clusters_servidores_API_containers_etc",
         "type": "\"integer\""
        },
        {
         "metadata": "{}",
         "name": "P8_d_12_Treinando_e_aplicando_LLM_s_para_solucionar_problemas_de_negocio",
         "type": "\"integer\""
        },
        {
         "metadata": "{}",
         "name": "ID",
         "type": "\"string\""
        },
        {
         "metadata": "{}",
         "name": "IDADE",
         "type": "\"integer\""
        },
        {
         "metadata": "{}",
         "name": "FAIXA_IDADE",
         "type": "\"string\""
        },
        {
         "metadata": "{}",
         "name": "GENERO",
         "type": "\"string\""
        },
        {
         "metadata": "{}",
         "name": "COR_RACA_ETNIA",
         "type": "\"string\""
        },
        {
         "metadata": "{}",
         "name": "PCD",
         "type": "\"string\""
        },
        {
         "metadata": "{}",
         "name": "EXPERIENCIA_PROFISSIONAL_PREJUDICADA",
         "type": "\"string\""
        },
        {
         "metadata": "{}",
         "name": "NAO_ACREDITO_EXPERIENCIA_AFETADA",
         "type": "\"integer\""
        },
        {
         "metadata": "{}",
         "name": "EXPERIENCIA_PREJUDICADA_COR_RACA_ETNIA",
         "type": "\"integer\""
        },
        {
         "metadata": "{}",
         "name": "EXPERIENCIA_PREJUDICADA_IDENTIDADE_GENERO",
         "type": "\"integer\""
        },
        {
         "metadata": "{}",
         "name": "EXPERIENCIA_PREJUDICADA_PCD",
         "type": "\"integer\""
        },
        {
         "metadata": "{}",
         "name": "ASPECTOS_PREJUDICADOS",
         "type": "\"string\""
        },
        {
         "metadata": "{}",
         "name": "QTDE_OPORTUNIDADES_EMPREGOS",
         "type": "\"string\""
        },
        {
         "metadata": "{}",
         "name": "SENIORIDADE_VAGAS",
         "type": "\"string\""
        },
        {
         "metadata": "{}",
         "name": "APROVACAO_PROCESSOS_SELETIVOS",
         "type": "\"integer\""
        },
        {
         "metadata": "{}",
         "name": "OPORTUNIDADES_PROGRESSION_CARREIRA",
         "type": "\"integer\""
        },
        {
         "metadata": "{}",
         "name": "VELOCIDADE_PROGRESSAO_CARREIRA",
         "type": "\"integer\""
        },
        {
         "metadata": "{}",
         "name": "NIVEL_COBRANCA_STRESS",
         "type": "\"integer\""
        },
        {
         "metadata": "{}",
         "name": "ATENCAO_OPINICOES_IDEIAS",
         "type": "\"integer\""
        },
        {
         "metadata": "{}",
         "name": "RELACAO_TRABALHO",
         "type": "\"integer\""
        },
        {
         "metadata": "{}",
         "name": "RELACAO_INTEGRACAO",
         "type": "\"integer\""
        },
        {
         "metadata": "{}",
         "name": "VIVE_NO_BRASIL",
         "type": "\"integer\""
        },
        {
         "metadata": "{}",
         "name": "ESTADO_ONDE_MORA",
         "type": "\"string\""
        },
        {
         "metadata": "{}",
         "name": "UF_ONDE_MORA",
         "type": "\"string\""
        },
        {
         "metadata": "{}",
         "name": "REGIAO_ONDE_MORA",
         "type": "\"string\""
        },
        {
         "metadata": "{}",
         "name": "MUDOU_DE_ESTADO",
         "type": "\"string\""
        },
        {
         "metadata": "{}",
         "name": "REGIAO_DE_ORIGEM",
         "type": "\"string\""
        },
        {
         "metadata": "{}",
         "name": "NIVEL_DE_ENSINO",
         "type": "\"string\""
        },
        {
         "metadata": "{}",
         "name": "AREA_DE_FORMACAO",
         "type": "\"string\""
        }
       ],
       "type": "table"
      }
     },
     "output_type": "display_data"
    }
   ],
   "source": [
    "%sql -- visualizando os dados com limit 10\n",
    "select * from bronze.state_of_data_2023 limit 10"
   ]
  },
  {
   "cell_type": "markdown",
   "metadata": {
    "application/vnd.databricks.v1+cell": {
     "cellMetadata": {
      "byteLimit": 2048000,
      "rowLimit": 10000
     },
     "inputWidgets": {},
     "nuid": "d22ea35d-7006-4b15-a45e-6c3e6ef5e6f1",
     "showTitle": false,
     "tableResultSettingsMap": {},
     "title": ""
    }
   },
   "source": [
    "## Etapa 3 - Camada Silver"
   ]
  },
  {
   "cell_type": "markdown",
   "metadata": {
    "application/vnd.databricks.v1+cell": {
     "cellMetadata": {
      "byteLimit": 2048000,
      "rowLimit": 10000
     },
     "inputWidgets": {},
     "nuid": "435a6827-f4ae-40e1-aea5-b57670354c58",
     "showTitle": false,
     "tableResultSettingsMap": {},
     "title": ""
    }
   },
   "source": [
    "#### Etapas\n",
    "Aqui dividiremos o trabalho em algumas etapas:\n",
    "- Tratar as colunas, ajustar os nomes para ficarem padronizados\n",
    "- Tratar os dados dentro, remover nulos\n",
    "- Selecionar a tipagem de cada coluna, descrição\n",
    "- Ajustar os valores padronizando em algumas colunas\n",
    "\n",
    "Os dados são normalizados em seus nomes de colunas para garantir compatibilidade com o Databricks."
   ]
  },
  {
   "cell_type": "code",
   "execution_count": 0,
   "metadata": {
    "application/vnd.databricks.v1+cell": {
     "cellMetadata": {
      "byteLimit": 2048000,
      "rowLimit": 10000
     },
     "inputWidgets": {},
     "nuid": "b716a195-087e-4313-b8e1-cd483af8b680",
     "showTitle": true,
     "tableResultSettingsMap": {},
     "title": "Normalização e renomeação de colunas para a camada silver"
    }
   },
   "outputs": [],
   "source": [
    "from pyspark.sql.functions import col, current_date\n",
    "# Caminho da Silver\n",
    "silver_path = \"dbfs:/mnt/silver/state_of_data_2023\"\n",
    "\n",
    "# Criação da camada silver\n",
    "spark.sql(\"CREATE SCHEMA IF NOT EXISTS silver\");\n",
    "\n",
    "# Colunas da Bronze (nomes atuais da tabela)\n",
    "selected_columns = [\n",
    "    \"P0_id\", \"P1_a_Idade\", \"P1_a_1_Faixa_idade\", \"P1_b_Genero\", \"P1_c_Cor_raca_etnia\",\n",
    "    \"P1_d_PCD\", \"P1_e_experiencia_profissional_prejudicada\",\n",
    "    \"P1_e_1_Nao_acredito_que_minha_experiencia_profissional_seja_afetada\",\n",
    "    \"P1_e_2_Experiencia_prejudicada_devido_a_minha_Cor_Raca_Etnia\",\n",
    "    \"P1_e_3_Experiencia_prejudicada_devido_a_minha_identidade_de_genero\",\n",
    "    \"P1_e_4_Experiencia_prejudicada_devido_ao_fato_de_ser_PCD\",\n",
    "    \"P1_f_aspectos_prejudicados\", \"P1_f_1_Quantidade_de_oportunidades_de_emprego_vagas_recebidas\",\n",
    "    \"P1_f_2_Senioridade_das_vagas_recebidas_em_relacao_a_sua_experiencia\",\n",
    "    \"P1_f_3_Aprovacao_em_processos_seletivos_entrevistas\",\n",
    "    \"P1_f_4_Oportunidades_de_progressao_de_carreira\",\n",
    "    \"P1_f_5_Velocidade_de_progressao_de_carreira\",\n",
    "    \"P1_f_6_Nivel_de_cobranca_no_trabalho_Stress_no_trabalho\",\n",
    "    \"P1_f_7_Atencao_dada_diante_das_minhas_opinioes_e_ideias\",\n",
    "    \"P1_f_8_Relacao_com_outros_membros_da_empresa_em_momentos_de_trabalho\",\n",
    "    \"P1_f_9_Relacao_com_outros_membros_da_empresa_em_momentos_de_integracao_e_outros_momentos_fora_do_trabalho\",\n",
    "    \"P1_g_vive_no_brasil\", \"P1_i_Estado_onde_mora\", \"P1_i_1_uf_onde_mora\", \"P1_i_2_Regiao_onde_mora\",\n",
    "    \"P1_j_Mudou_de_Estado\", \"P1_k_Regiao_de_origem\", \"P1_l_Nivel_de_Ensino\", \"P1_m_Area_de_Formacao\",\n",
    "    \"P2_G_NIVEL\", \"P2_H_FAIXA_SALARIAL\", \"P2_I_QUANTO_TEMPO_DE_EXPERIENCIA_NA_AREA_DE_DADOS_VOCE_TEM\"\n",
    "]\n",
    "\n",
    "# Novos nomes desejados (para a camada Silver)\n",
    "novos_nomes = [\n",
    "    \"id\", \"idade\", \"faixa_idade\", \"genero\", \"cor_raca_etnia\", \"pcd\", \"exp_profissional_prejudicada\",\n",
    "    \"nao_acredita_afetado\", \"exp_prejud_cor_raca\", \"exp_prejud_genero\", \"exp_prejud_pcd\",\n",
    "    \"aspectos_prejudicados\", \"qtde_oportunidades\", \"senioridade_vagas\", \"aprovacao_seletivos\",\n",
    "    \"prog_carreira\", \"vel_prog_carreira\", \"nivel_cobranca\", \"atencao_ideias\", \"relacao_trabalho\",\n",
    "    \"relacao_integracao\", \"vive_no_brasil\", \"estado_mora\", \"uf_mora\", \"regiao_mora\", \"mudou_estado\",\n",
    "    \"regiao_origem\", \"nivel_ensino\", \"area_formacao\", \"senioridade\", \"faixa_salarial\", \"tempo_experiencia\"\n",
    "]\n",
    "\n",
    "# Mapeamento {coluna_bronze: coluna_silver}\n",
    "colunas_renomeadas = dict(zip(selected_columns, novos_nomes))\n",
    "\n",
    "# Leitura da Bronze\n",
    "df_bronze = spark.table(\"bronze.state_of_data_2023\")\n",
    "\n",
    "# Selecionar e renomear colunas\n",
    "df_silver = df_bronze.select([col(old).alias(new) for old, new in colunas_renomeadas.items()])\n",
    "\n",
    "# Adiciona coluna de data da silver, data de quando foi alterado da bronze>silver\n",
    "df_silver = df_silver.withColumn(\"dt_silver\", current_date())"
   ]
  },
  {
   "cell_type": "code",
   "execution_count": 0,
   "metadata": {
    "application/vnd.databricks.v1+cell": {
     "cellMetadata": {
      "byteLimit": 2048000,
      "rowLimit": 10000
     },
     "inputWidgets": {},
     "nuid": "b98a9c52-d126-424b-8a1e-9b27a2b475e7",
     "showTitle": true,
     "tableResultSettingsMap": {},
     "title": "Gravação na tabela silver : state_of_data_2023"
    }
   },
   "outputs": [
    {
     "output_type": "stream",
     "name": "stdout",
     "output_type": "stream",
     "text": [
      "Out[19]: True"
     ]
    }
   ],
   "source": [
    "# Caminho onde os dados da Silver serão salvos\n",
    "silver_path = \"dbfs:/mnt/silver/state_of_data_2023\"\n",
    "\n",
    "# Escrevendo no Delta Lake\n",
    "df_silver.write.format(\"delta\") \\\n",
    "    .mode(\"overwrite\") \\\n",
    "    .option(\"overwriteSchema\", \"true\") \\\n",
    "    .save(silver_path)\n",
    "\n",
    "# Cria o schema silver se ainda não existir\n",
    "spark.sql(\"DROP TABLE IF EXISTS silver.state_of_data\")\n",
    "\n",
    "# Apagar a tabela lógica e os dados físicos (evitando problema de execução)\n",
    "spark.sql(\"DROP TABLE IF EXISTS silver.state_of_data\")\n",
    "dbutils.fs.rm(\"dbfs:/mnt/silver/state_of_data_2023\", recurse=True)"
   ]
  },
  {
   "cell_type": "code",
   "execution_count": 0,
   "metadata": {
    "application/vnd.databricks.v1+cell": {
     "cellMetadata": {
      "byteLimit": 2048000,
      "rowLimit": 10000
     },
     "inputWidgets": {},
     "nuid": "84f688fe-b933-4693-b87e-67cfc4cd164d",
     "showTitle": true,
     "tableResultSettingsMap": {},
     "title": "Criação da tabela silver"
    }
   },
   "outputs": [],
   "source": [
    "# Criação da tabela já com os comentários e tipagem, para facilitar documentação e identificação\n",
    "spark.sql(\"\"\"\n",
    "CREATE OR REPLACE TABLE silver.state_of_data (\n",
    "  id STRING COMMENT 'Identificador único do respondente',\n",
    "  idade INT COMMENT 'Idade do respondente',\n",
    "  faixa_idade STRING COMMENT 'Faixa etária do respondente',\n",
    "  genero STRING COMMENT 'Identidade de gênero',\n",
    "  cor_raca_etnia STRING COMMENT 'Cor, raça ou etnia',\n",
    "  pcd STRING COMMENT 'Pessoa com deficiência (PCD)',\n",
    "  exp_profissional_prejudicada STRING COMMENT 'Declaração de impacto na experiência profissional',\n",
    "  nao_acredita_afetado INT COMMENT 'Não acredita que sua experiência tenha sido afetada',\n",
    "  exp_prejud_cor_raca INT COMMENT 'Experiência prejudicada por cor, raça ou etnia',\n",
    "  exp_prejud_genero INT COMMENT 'Experiência prejudicada por identidade de gênero',\n",
    "  exp_prejud_pcd INT COMMENT 'Experiência prejudicada por ser PCD',\n",
    "  aspectos_prejudicados STRING COMMENT 'Aspectos considerados prejudicados na carreira',\n",
    "  qtde_oportunidades STRING COMMENT 'Quantidade de oportunidades de emprego recebidas',\n",
    "  senioridade_vagas STRING COMMENT 'Senioridade das vagas recebidas',\n",
    "  aprovacao_seletivos INT COMMENT 'Aprovação em processos seletivos/entrevistas',\n",
    "  prog_carreira INT COMMENT 'Oportunidades de progressão de carreira',\n",
    "  vel_prog_carreira INT COMMENT 'Velocidade da progressão de carreira',\n",
    "  nivel_cobranca INT COMMENT 'Nível de cobrança ou estresse no trabalho',\n",
    "  atencao_ideias INT COMMENT 'Atenção dada às opiniões e ideias',\n",
    "  relacao_trabalho INT COMMENT 'Relação com colegas no ambiente de trabalho',\n",
    "  relacao_integracao INT COMMENT 'Relação com colegas fora do trabalho',\n",
    "  vive_no_brasil INT COMMENT 'Indica se reside no Brasil',\n",
    "  estado_mora STRING COMMENT 'Estado onde reside atualmente',\n",
    "  uf_mora STRING COMMENT 'UF onde reside',\n",
    "  regiao_mora STRING COMMENT 'Região onde reside',\n",
    "  mudou_estado STRING COMMENT 'Indica se mudou de estado',\n",
    "  regiao_origem STRING COMMENT 'Região de origem',\n",
    "  nivel_ensino STRING COMMENT 'Nível de escolaridade',\n",
    "  area_formacao STRING COMMENT 'Área de formação acadêmica',\n",
    "  senioridade STRING COMMENT 'Senioridade',\n",
    "  faixa_salarial STRING COMMENT 'Faixa salarial atual',\n",
    "  tempo_experiencia STRING COMMENT 'Tempo de experiencia na area de dados',\n",
    "  dt_silver DATE COMMENT 'Data de ingestão na camada silver'\n",
    ")\n",
    "USING DELTA\n",
    "LOCATION 'dbfs:/mnt/silver/state_of_data_2023'\n",
    "\"\"\")\n",
    "\n",
    "# Reescrever os dados com o DataFrame\n",
    "df_silver.write.format(\"delta\").mode(\"overwrite\").save(\"dbfs:/mnt/silver/state_of_data_2023\")\n"
   ]
  },
  {
   "cell_type": "code",
   "execution_count": 0,
   "metadata": {
    "application/vnd.databricks.v1+cell": {
     "cellMetadata": {
      "byteLimit": 2048000,
      "rowLimit": 10000
     },
     "inputWidgets": {},
     "nuid": "7a7d0489-6b34-4329-a744-4ea9bd6fd3e0",
     "showTitle": true,
     "tableResultSettingsMap": {},
     "title": "Padronização da Coluna tempo_experiencia"
    }
   },
   "outputs": [],
   "source": [
    "from pyspark.sql.functions import col, when, regexp_replace\n",
    "\n",
    "# Carrega a silver atual\n",
    "df = spark.table(\"silver.state_of_data\")\n",
    "\n",
    "# Criando um de-para\n",
    "de_para_exp = {\n",
    "    'Menos de 1 ano': '0-1',\n",
    "    'de 1 a 2 anos': '1-2',\n",
    "    'de 3 a 4 anos': '3-4',\n",
    "    'de 4 a 6 anos': '4-6',\n",
    "    'de 5 a 6 anos': '5-6',\n",
    "    'de 7 a 10 anos': '7-10',\n",
    "    'Mais de 10 anos': '10+',\n",
    "    'Não tenho experiência na área de dados': '0'\n",
    "}\n",
    "\n",
    "# Cria coluna com os valores válidos apenas\n",
    "df = df.withColumn(\"tempo_experiencia_tratada\",\n",
    "                   when(col(\"tempo_experiencia\").isin(list(de_para_exp.keys())), col(\"tempo_experiencia\")))\n",
    "\n",
    "# Aplica o de-para\n",
    "for original, novo in de_para_exp.items():\n",
    "    df = df.withColumn(\"tempo_experiencia_tratada\",\n",
    "                       when(col(\"tempo_experiencia\") == original, novo).otherwise(col(\"tempo_experiencia_tratada\")))\n",
    "\n",
    "# Remove registros não mapeados\n",
    "df = df.filter(col(\"tempo_experiencia_tratada\").isNotNull())"
   ]
  },
  {
   "cell_type": "code",
   "execution_count": 0,
   "metadata": {
    "application/vnd.databricks.v1+cell": {
     "cellMetadata": {
      "byteLimit": 2048000,
      "rowLimit": 10000
     },
     "inputWidgets": {},
     "nuid": "0e4a065d-e213-4107-9225-9835e9403382",
     "showTitle": true,
     "tableResultSettingsMap": {},
     "title": "Normalização da Coluna faixa_salarial"
    }
   },
   "outputs": [],
   "source": [
    "# Filtrando valores nulos e Outra Opção, para manter a coluna com informações relevantes\n",
    "df = df.filter(\n",
    "    col(\"faixa_salarial\").isNotNull() &\n",
    "    (~col(\"faixa_salarial\").rlike(\"Outra Opção\"))\n",
    ")\n",
    "\n",
    "# Removendo caracteres e palavras que não compoem a faixa_salarial, mantendo apenas os valores\n",
    "df = (\n",
    "    df\n",
    "    .withColumn(\"faixa_salarial_tratada\", regexp_replace(\"faixa_salarial\", \"\\\\.\", \"\"))\n",
    "    .withColumn(\"faixa_salarial_tratada\", regexp_replace(\"faixa_salarial_tratada\", \",\", \"\"))\n",
    "    .withColumn(\"faixa_salarial_tratada\", regexp_replace(\"faixa_salarial_tratada\", \"R\\\\$\", \"\"))\n",
    "    .withColumn(\"faixa_salarial_tratada\", regexp_replace(\"faixa_salarial_tratada\", \"/mês\", \"\"))\n",
    "    .withColumn(\"faixa_salarial_tratada\", regexp_replace(\"faixa_salarial_tratada\", \"de \", \"\"))\n",
    "    .withColumn(\"faixa_salarial_tratada\", regexp_replace(\"faixa_salarial_tratada\", \" a \", \" - \"))\n",
    "    .withColumn(\"faixa_salarial_tratada\", regexp_replace(\"faixa_salarial_tratada\", \"Menos de \", \"0 - \"))\n",
    "    .withColumn(\"faixa_salarial_tratada\", regexp_replace(\"faixa_salarial_tratada\", \"Acima de \", \"40001 - \"))\n",
    "    \n",
    ")\n",
    "\n",
    "# Aplicando tratamento da faixa_salarial no dataframe\n",
    "df_final = (\n",
    "    df\n",
    "    .drop(\"tempo_experiencia\", \"faixa_salarial\")\n",
    "    .withColumnRenamed(\"tempo_experiencia_tratada\", \"tempo_experiencia\")\n",
    "    .withColumnRenamed(\"faixa_salarial_tratada\", \"faixa_salarial\")\n",
    ")\n",
    "\n"
   ]
  },
  {
   "cell_type": "code",
   "execution_count": 0,
   "metadata": {
    "application/vnd.databricks.v1+cell": {
     "cellMetadata": {
      "byteLimit": 2048000,
      "rowLimit": 10000
     },
     "inputWidgets": {},
     "nuid": "602283dc-9b59-460e-8ff9-f83a7afe6b4b",
     "showTitle": true,
     "tableResultSettingsMap": {},
     "title": "Escrevendo dados na tabela silver.state_of_data"
    }
   },
   "outputs": [],
   "source": [
    "# Escrevendo na tabela silver\n",
    "df_final.write.format(\"delta\").mode(\"overwrite\").saveAsTable(\"silver.state_of_data\")\n"
   ]
  },
  {
   "cell_type": "code",
   "execution_count": 0,
   "metadata": {
    "application/vnd.databricks.v1+cell": {
     "cellMetadata": {
      "byteLimit": 2048000,
      "implicitDf": true,
      "rowLimit": 10000
     },
     "inputWidgets": {},
     "nuid": "ffe9ca2f-20bd-43eb-be6c-62e8d0e254c1",
     "showTitle": true,
     "tableResultSettingsMap": {},
     "title": "Select na tabela silver"
    }
   },
   "outputs": [
    {
     "output_type": "display_data",
     "data": {
      "text/html": [
       "<style scoped>\n",
       "  .table-result-container {\n",
       "    max-height: 300px;\n",
       "    overflow: auto;\n",
       "  }\n",
       "  table, th, td {\n",
       "    border: 1px solid black;\n",
       "    border-collapse: collapse;\n",
       "  }\n",
       "  th, td {\n",
       "    padding: 5px;\n",
       "  }\n",
       "  th {\n",
       "    text-align: left;\n",
       "  }\n",
       "</style><div class='table-result-container'><table class='table-result'><thead style='background-color: white'><tr><th>id</th><th>idade</th><th>faixa_idade</th><th>faixa_salarial</th><th>tempo_experiencia</th><th>id</th><th>idade</th><th>faixa_idade</th><th>genero</th><th>cor_raca_etnia</th><th>pcd</th><th>exp_profissional_prejudicada</th><th>nao_acredita_afetado</th><th>exp_prejud_cor_raca</th><th>exp_prejud_genero</th><th>exp_prejud_pcd</th><th>aspectos_prejudicados</th><th>qtde_oportunidades</th><th>senioridade_vagas</th><th>aprovacao_seletivos</th><th>prog_carreira</th><th>vel_prog_carreira</th><th>nivel_cobranca</th><th>atencao_ideias</th><th>relacao_trabalho</th><th>relacao_integracao</th><th>vive_no_brasil</th><th>estado_mora</th><th>uf_mora</th><th>regiao_mora</th><th>mudou_estado</th><th>regiao_origem</th><th>nivel_ensino</th><th>area_formacao</th><th>senioridade</th><th>faixa_salarial</th><th>tempo_experiencia</th><th>dt_silver</th></tr></thead><tbody><tr><td>001b2d1qtli8t9z7oqgdhj001b2d4i0g</td><td>31</td><td>30-34</td><td> 12001 -  16000</td><td>3-4</td><td>001b2d1qtli8t9z7oqgdhj001b2d4i0g</td><td>31</td><td>30-34</td><td>Masculino</td><td>Branca</td><td>Não</td><td>null</td><td>null</td><td>null</td><td>null</td><td>null</td><td>null</td><td>null</td><td>null</td><td>null</td><td>null</td><td>null</td><td>null</td><td>null</td><td>null</td><td>null</td><td>1</td><td>Minas Gerais (MG)</td><td>MG</td><td>Sudeste</td><td>1</td><td>null</td><td>Doutorado ou Phd</td><td>Computação / Engenharia de Software / Sistemas de Informação/ TI</td><td>Sênior</td><td> 12001 -  16000</td><td>3-4</td><td>2025-04-12</td></tr><tr><td>0026aa3fwd78u0026asg7456tfkjg2cs</td><td>30</td><td>30-34</td><td> 6001 -  8000</td><td>3-4</td><td>0026aa3fwd78u0026asg7456tfkjg2cs</td><td>30</td><td>30-34</td><td>Masculino</td><td>Branca</td><td>Não</td><td>null</td><td>null</td><td>null</td><td>null</td><td>null</td><td>null</td><td>null</td><td>null</td><td>null</td><td>null</td><td>null</td><td>null</td><td>null</td><td>null</td><td>null</td><td>1</td><td>Espírito Santo (ES)</td><td>ES</td><td>Sudeste</td><td>1</td><td>null</td><td>Graduação/Bacharelado</td><td>Computação / Engenharia de Software / Sistemas de Informação/ TI</td><td>Pleno</td><td> 6001 -  8000</td><td>3-4</td><td>2025-04-12</td></tr><tr><td>00r21rb9pusd1b0v7ew00r21rw3dy69w</td><td>37</td><td>35-39</td><td> 6001 -  8000</td><td>1-2</td><td>00r21rb9pusd1b0v7ew00r21rw3dy69w</td><td>37</td><td>35-39</td><td>Feminino</td><td>Amarela</td><td>Não</td><td>Sim, acredito que a minha a experiência profissional seja afetada devido a minha identidade de gênero</td><td>0</td><td>0</td><td>1</td><td>0</td><td>Atenção dada pelas pessoas diante das minhas opiniões e ideias, Aprovação em processos seletivos/entrevistas, Quantidade de oportunidades de emprego/vagas recebidas</td><td>1</td><td>0</td><td>1</td><td>0</td><td>0</td><td>0</td><td>1</td><td>0</td><td>0</td><td>1</td><td>São Paulo (SP)</td><td>SP</td><td>Sudeste</td><td>1</td><td>null</td><td>Graduação/Bacharelado</td><td>Computação / Engenharia de Software / Sistemas de Informação/ TI</td><td>Júnior</td><td> 6001 -  8000</td><td>1-2</td><td>2025-04-12</td></tr><tr><td>00v0az4g792svil00vn6y1kfm9hq8vy9</td><td>34</td><td>30-34</td><td> 4001 -  6000</td><td>0-1</td><td>00v0az4g792svil00vn6y1kfm9hq8vy9</td><td>34</td><td>30-34</td><td>Masculino</td><td>Branca</td><td>Não</td><td>null</td><td>null</td><td>null</td><td>null</td><td>null</td><td>null</td><td>null</td><td>null</td><td>null</td><td>null</td><td>null</td><td>null</td><td>null</td><td>null</td><td>null</td><td>1</td><td>Minas Gerais (MG)</td><td>MG</td><td>Sudeste</td><td>1</td><td>null</td><td>Doutorado ou Phd</td><td>Economia/ Administração / Contabilidade / Finanças/ Negócios</td><td>Júnior</td><td> 4001 -  6000</td><td>0-1</td><td>2025-04-12</td></tr><tr><td>015qqbrh4rr015qje9gvkbsb7ti1n5df</td><td>30</td><td>30-34</td><td> 8001 -  12000</td><td>1-2</td><td>015qqbrh4rr015qje9gvkbsb7ti1n5df</td><td>30</td><td>30-34</td><td>Masculino</td><td>Branca</td><td>Não</td><td>null</td><td>null</td><td>null</td><td>null</td><td>null</td><td>null</td><td>null</td><td>null</td><td>null</td><td>null</td><td>null</td><td>null</td><td>null</td><td>null</td><td>null</td><td>1</td><td>Rio de Janeiro (RJ)</td><td>RJ</td><td>Sudeste</td><td>1</td><td>null</td><td>Estudante de Graduação</td><td>Computação / Engenharia de Software / Sistemas de Informação/ TI</td><td>Pleno</td><td> 8001 -  12000</td><td>1-2</td><td>2025-04-12</td></tr><tr><td>01810y9hweneb018to8t1p8ubyn1o04m</td><td>24</td><td>22-24</td><td> 4001 -  6000</td><td>3-4</td><td>01810y9hweneb018to8t1p8ubyn1o04m</td><td>24</td><td>22-24</td><td>Masculino</td><td>Branca</td><td>Não</td><td>null</td><td>null</td><td>null</td><td>null</td><td>null</td><td>null</td><td>null</td><td>null</td><td>null</td><td>null</td><td>null</td><td>null</td><td>null</td><td>null</td><td>null</td><td>1</td><td>São Paulo (SP)</td><td>SP</td><td>Sudeste</td><td>1</td><td>null</td><td>Graduação/Bacharelado</td><td>Economia/ Administração / Contabilidade / Finanças/ Negócios</td><td>Pleno</td><td> 4001 -  6000</td><td>3-4</td><td>2025-04-12</td></tr><tr><td>01k1i8w42ljmgee01k1eay1n1283ot23</td><td>35</td><td>35-39</td><td> 20001 -  25000</td><td>7-10</td><td>01k1i8w42ljmgee01k1eay1n1283ot23</td><td>35</td><td>35-39</td><td>Masculino</td><td>Branca</td><td>Não</td><td>null</td><td>null</td><td>null</td><td>null</td><td>null</td><td>null</td><td>null</td><td>null</td><td>null</td><td>null</td><td>null</td><td>null</td><td>null</td><td>null</td><td>null</td><td>1</td><td>São Paulo (SP)</td><td>SP</td><td>Sudeste</td><td>0</td><td>São Paulo (SP)</td><td>Pós-graduação</td><td>Computação / Engenharia de Software / Sistemas de Informação/ TI</td><td>null</td><td> 20001 -  25000</td><td>7-10</td><td>2025-04-12</td></tr><tr><td>01zusm1faol2k2601zlthh05cj7iqyit</td><td>25</td><td>25-29</td><td> 1001 -  2000</td><td>1-2</td><td>01zusm1faol2k2601zlthh05cj7iqyit</td><td>25</td><td>25-29</td><td>Masculino</td><td>Preta</td><td>Sim</td><td>Sim, acredito que a minha a experiência profissional seja afetada devido a minha Cor/Raça/Etnia, Sim, acredito que minha experiência profissional seja afetada devido ao fato de ser PCD</td><td>0</td><td>1</td><td>0</td><td>1</td><td>Quantidade de oportunidades de emprego/vagas recebidas, Aprovação em processos seletivos/entrevistas, Nível de cobrança no trabalho / Stress no trabalho, Relação com outros membros da empresa, em momentos de trabalho</td><td>1</td><td>0</td><td>1</td><td>0</td><td>0</td><td>1</td><td>0</td><td>1</td><td>0</td><td>1</td><td>Sergipe (SE)</td><td>SE</td><td>Nordeste</td><td>1</td><td>null</td><td>Estudante de Graduação</td><td>Computação / Engenharia de Software / Sistemas de Informação/ TI</td><td>Júnior</td><td> 1001 -  2000</td><td>1-2</td><td>2025-04-12</td></tr><tr><td>02yuxvtb6698rqwq8w02yuza594l7cut</td><td>32</td><td>30-34</td><td> 3001 -  4000</td><td>1-2</td><td>02yuxvtb6698rqwq8w02yuza594l7cut</td><td>32</td><td>30-34</td><td>Feminino</td><td>Preta</td><td>Não</td><td>Sim, acredito que a minha a experiência profissional seja afetada devido a minha Cor/Raça/Etnia</td><td>0</td><td>1</td><td>0</td><td>0</td><td>Velocidade de progressão de carreira, Aprovação em processos seletivos/entrevistas</td><td>0</td><td>0</td><td>1</td><td>0</td><td>1</td><td>0</td><td>0</td><td>0</td><td>0</td><td>1</td><td>Rio Grande do Sul (RS)</td><td>RS</td><td>Sul</td><td>1</td><td>null</td><td>Pós-graduação</td><td>Economia/ Administração / Contabilidade / Finanças/ Negócios</td><td>Pleno</td><td> 3001 -  4000</td><td>1-2</td><td>2025-04-12</td></tr><tr><td>03hoy11ga4jko92xixsfb03hogk1wpa8</td><td>39</td><td>35-39</td><td> 16001 -  20000</td><td>10+</td><td>03hoy11ga4jko92xixsfb03hogk1wpa8</td><td>39</td><td>35-39</td><td>Masculino</td><td>Branca</td><td>Não</td><td>null</td><td>null</td><td>null</td><td>null</td><td>null</td><td>null</td><td>null</td><td>null</td><td>null</td><td>null</td><td>null</td><td>null</td><td>null</td><td>null</td><td>null</td><td>1</td><td>São Paulo (SP)</td><td>SP</td><td>Sudeste</td><td>1</td><td>null</td><td>Graduação/Bacharelado</td><td>Computação / Engenharia de Software / Sistemas de Informação/ TI</td><td>null</td><td> 16001 -  20000</td><td>10+</td><td>2025-04-12</td></tr></tbody></table></div>"
      ]
     },
     "metadata": {
      "application/vnd.databricks.v1+output": {
       "addedWidgets": {},
       "aggData": [],
       "aggError": "",
       "aggOverflow": false,
       "aggSchema": [],
       "aggSeriesLimitReached": false,
       "aggType": "",
       "arguments": {},
       "columnCustomDisplayInfos": {},
       "data": [
        [
         "001b2d1qtli8t9z7oqgdhj001b2d4i0g",
         31,
         "30-34",
         " 12001 -  16000",
         "3-4",
         "001b2d1qtli8t9z7oqgdhj001b2d4i0g",
         31,
         "30-34",
         "Masculino",
         "Branca",
         "Não",
         null,
         null,
         null,
         null,
         null,
         null,
         null,
         null,
         null,
         null,
         null,
         null,
         null,
         null,
         null,
         1,
         "Minas Gerais (MG)",
         "MG",
         "Sudeste",
         "1",
         null,
         "Doutorado ou Phd",
         "Computação / Engenharia de Software / Sistemas de Informação/ TI",
         "Sênior",
         " 12001 -  16000",
         "3-4",
         "2025-04-12"
        ],
        [
         "0026aa3fwd78u0026asg7456tfkjg2cs",
         30,
         "30-34",
         " 6001 -  8000",
         "3-4",
         "0026aa3fwd78u0026asg7456tfkjg2cs",
         30,
         "30-34",
         "Masculino",
         "Branca",
         "Não",
         null,
         null,
         null,
         null,
         null,
         null,
         null,
         null,
         null,
         null,
         null,
         null,
         null,
         null,
         null,
         1,
         "Espírito Santo (ES)",
         "ES",
         "Sudeste",
         "1",
         null,
         "Graduação/Bacharelado",
         "Computação / Engenharia de Software / Sistemas de Informação/ TI",
         "Pleno",
         " 6001 -  8000",
         "3-4",
         "2025-04-12"
        ],
        [
         "00r21rb9pusd1b0v7ew00r21rw3dy69w",
         37,
         "35-39",
         " 6001 -  8000",
         "1-2",
         "00r21rb9pusd1b0v7ew00r21rw3dy69w",
         37,
         "35-39",
         "Feminino",
         "Amarela",
         "Não",
         "Sim, acredito que a minha a experiência profissional seja afetada devido a minha identidade de gênero",
         0,
         0,
         1,
         0,
         "Atenção dada pelas pessoas diante das minhas opiniões e ideias, Aprovação em processos seletivos/entrevistas, Quantidade de oportunidades de emprego/vagas recebidas",
         "1",
         "0",
         1,
         0,
         0,
         0,
         1,
         0,
         0,
         1,
         "São Paulo (SP)",
         "SP",
         "Sudeste",
         "1",
         null,
         "Graduação/Bacharelado",
         "Computação / Engenharia de Software / Sistemas de Informação/ TI",
         "Júnior",
         " 6001 -  8000",
         "1-2",
         "2025-04-12"
        ],
        [
         "00v0az4g792svil00vn6y1kfm9hq8vy9",
         34,
         "30-34",
         " 4001 -  6000",
         "0-1",
         "00v0az4g792svil00vn6y1kfm9hq8vy9",
         34,
         "30-34",
         "Masculino",
         "Branca",
         "Não",
         null,
         null,
         null,
         null,
         null,
         null,
         null,
         null,
         null,
         null,
         null,
         null,
         null,
         null,
         null,
         1,
         "Minas Gerais (MG)",
         "MG",
         "Sudeste",
         "1",
         null,
         "Doutorado ou Phd",
         "Economia/ Administração / Contabilidade / Finanças/ Negócios",
         "Júnior",
         " 4001 -  6000",
         "0-1",
         "2025-04-12"
        ],
        [
         "015qqbrh4rr015qje9gvkbsb7ti1n5df",
         30,
         "30-34",
         " 8001 -  12000",
         "1-2",
         "015qqbrh4rr015qje9gvkbsb7ti1n5df",
         30,
         "30-34",
         "Masculino",
         "Branca",
         "Não",
         null,
         null,
         null,
         null,
         null,
         null,
         null,
         null,
         null,
         null,
         null,
         null,
         null,
         null,
         null,
         1,
         "Rio de Janeiro (RJ)",
         "RJ",
         "Sudeste",
         "1",
         null,
         "Estudante de Graduação",
         "Computação / Engenharia de Software / Sistemas de Informação/ TI",
         "Pleno",
         " 8001 -  12000",
         "1-2",
         "2025-04-12"
        ],
        [
         "01810y9hweneb018to8t1p8ubyn1o04m",
         24,
         "22-24",
         " 4001 -  6000",
         "3-4",
         "01810y9hweneb018to8t1p8ubyn1o04m",
         24,
         "22-24",
         "Masculino",
         "Branca",
         "Não",
         null,
         null,
         null,
         null,
         null,
         null,
         null,
         null,
         null,
         null,
         null,
         null,
         null,
         null,
         null,
         1,
         "São Paulo (SP)",
         "SP",
         "Sudeste",
         "1",
         null,
         "Graduação/Bacharelado",
         "Economia/ Administração / Contabilidade / Finanças/ Negócios",
         "Pleno",
         " 4001 -  6000",
         "3-4",
         "2025-04-12"
        ],
        [
         "01k1i8w42ljmgee01k1eay1n1283ot23",
         35,
         "35-39",
         " 20001 -  25000",
         "7-10",
         "01k1i8w42ljmgee01k1eay1n1283ot23",
         35,
         "35-39",
         "Masculino",
         "Branca",
         "Não",
         null,
         null,
         null,
         null,
         null,
         null,
         null,
         null,
         null,
         null,
         null,
         null,
         null,
         null,
         null,
         1,
         "São Paulo (SP)",
         "SP",
         "Sudeste",
         "0",
         "São Paulo (SP)",
         "Pós-graduação",
         "Computação / Engenharia de Software / Sistemas de Informação/ TI",
         null,
         " 20001 -  25000",
         "7-10",
         "2025-04-12"
        ],
        [
         "01zusm1faol2k2601zlthh05cj7iqyit",
         25,
         "25-29",
         " 1001 -  2000",
         "1-2",
         "01zusm1faol2k2601zlthh05cj7iqyit",
         25,
         "25-29",
         "Masculino",
         "Preta",
         "Sim",
         "Sim, acredito que a minha a experiência profissional seja afetada devido a minha Cor/Raça/Etnia, Sim, acredito que minha experiência profissional seja afetada devido ao fato de ser PCD",
         0,
         1,
         0,
         1,
         "Quantidade de oportunidades de emprego/vagas recebidas, Aprovação em processos seletivos/entrevistas, Nível de cobrança no trabalho / Stress no trabalho, Relação com outros membros da empresa, em momentos de trabalho",
         "1",
         "0",
         1,
         0,
         0,
         1,
         0,
         1,
         0,
         1,
         "Sergipe (SE)",
         "SE",
         "Nordeste",
         "1",
         null,
         "Estudante de Graduação",
         "Computação / Engenharia de Software / Sistemas de Informação/ TI",
         "Júnior",
         " 1001 -  2000",
         "1-2",
         "2025-04-12"
        ],
        [
         "02yuxvtb6698rqwq8w02yuza594l7cut",
         32,
         "30-34",
         " 3001 -  4000",
         "1-2",
         "02yuxvtb6698rqwq8w02yuza594l7cut",
         32,
         "30-34",
         "Feminino",
         "Preta",
         "Não",
         "Sim, acredito que a minha a experiência profissional seja afetada devido a minha Cor/Raça/Etnia",
         0,
         1,
         0,
         0,
         "Velocidade de progressão de carreira, Aprovação em processos seletivos/entrevistas",
         "0",
         "0",
         1,
         0,
         1,
         0,
         0,
         0,
         0,
         1,
         "Rio Grande do Sul (RS)",
         "RS",
         "Sul",
         "1",
         null,
         "Pós-graduação",
         "Economia/ Administração / Contabilidade / Finanças/ Negócios",
         "Pleno",
         " 3001 -  4000",
         "1-2",
         "2025-04-12"
        ],
        [
         "03hoy11ga4jko92xixsfb03hogk1wpa8",
         39,
         "35-39",
         " 16001 -  20000",
         "10+",
         "03hoy11ga4jko92xixsfb03hogk1wpa8",
         39,
         "35-39",
         "Masculino",
         "Branca",
         "Não",
         null,
         null,
         null,
         null,
         null,
         null,
         null,
         null,
         null,
         null,
         null,
         null,
         null,
         null,
         null,
         1,
         "São Paulo (SP)",
         "SP",
         "Sudeste",
         "1",
         null,
         "Graduação/Bacharelado",
         "Computação / Engenharia de Software / Sistemas de Informação/ TI",
         null,
         " 16001 -  20000",
         "10+",
         "2025-04-12"
        ]
       ],
       "datasetInfos": [],
       "dbfsResultPath": null,
       "isJsonSchema": true,
       "metadata": {},
       "overflow": false,
       "plotOptions": {
        "customPlotOptions": {},
        "displayType": "table",
        "pivotAggregation": null,
        "pivotColumns": null,
        "xColumns": null,
        "yColumns": null
       },
       "removedWidgets": [],
       "schema": [
        {
         "metadata": "{\"comment\":\"Identificador único do respondente\"}",
         "name": "id",
         "type": "\"string\""
        },
        {
         "metadata": "{\"comment\":\"Idade do respondente\"}",
         "name": "idade",
         "type": "\"integer\""
        },
        {
         "metadata": "{\"comment\":\"Faixa etária do respondente\"}",
         "name": "faixa_idade",
         "type": "\"string\""
        },
        {
         "metadata": "{\"comment\":\"Faixa salarial atual\"}",
         "name": "faixa_salarial",
         "type": "\"string\""
        },
        {
         "metadata": "{\"comment\":\"Tempo de experiencia na area de dados\"}",
         "name": "tempo_experiencia",
         "type": "\"string\""
        },
        {
         "metadata": "{\"comment\":\"Identificador único do respondente\"}",
         "name": "id",
         "type": "\"string\""
        },
        {
         "metadata": "{\"comment\":\"Idade do respondente\"}",
         "name": "idade",
         "type": "\"integer\""
        },
        {
         "metadata": "{\"comment\":\"Faixa etária do respondente\"}",
         "name": "faixa_idade",
         "type": "\"string\""
        },
        {
         "metadata": "{\"comment\":\"Identidade de gênero\"}",
         "name": "genero",
         "type": "\"string\""
        },
        {
         "metadata": "{\"comment\":\"Cor, raça ou etnia\"}",
         "name": "cor_raca_etnia",
         "type": "\"string\""
        },
        {
         "metadata": "{\"comment\":\"Pessoa com deficiência (PCD)\"}",
         "name": "pcd",
         "type": "\"string\""
        },
        {
         "metadata": "{\"comment\":\"Declaração de impacto na experiência profissional\"}",
         "name": "exp_profissional_prejudicada",
         "type": "\"string\""
        },
        {
         "metadata": "{\"comment\":\"Não acredita que sua experiência tenha sido afetada\"}",
         "name": "nao_acredita_afetado",
         "type": "\"integer\""
        },
        {
         "metadata": "{\"comment\":\"Experiência prejudicada por cor, raça ou etnia\"}",
         "name": "exp_prejud_cor_raca",
         "type": "\"integer\""
        },
        {
         "metadata": "{\"comment\":\"Experiência prejudicada por identidade de gênero\"}",
         "name": "exp_prejud_genero",
         "type": "\"integer\""
        },
        {
         "metadata": "{\"comment\":\"Experiência prejudicada por ser PCD\"}",
         "name": "exp_prejud_pcd",
         "type": "\"integer\""
        },
        {
         "metadata": "{\"comment\":\"Aspectos considerados prejudicados na carreira\"}",
         "name": "aspectos_prejudicados",
         "type": "\"string\""
        },
        {
         "metadata": "{\"comment\":\"Quantidade de oportunidades de emprego recebidas\"}",
         "name": "qtde_oportunidades",
         "type": "\"string\""
        },
        {
         "metadata": "{\"comment\":\"Senioridade das vagas recebidas\"}",
         "name": "senioridade_vagas",
         "type": "\"string\""
        },
        {
         "metadata": "{\"comment\":\"Aprovação em processos seletivos/entrevistas\"}",
         "name": "aprovacao_seletivos",
         "type": "\"integer\""
        },
        {
         "metadata": "{\"comment\":\"Oportunidades de progressão de carreira\"}",
         "name": "prog_carreira",
         "type": "\"integer\""
        },
        {
         "metadata": "{\"comment\":\"Velocidade da progressão de carreira\"}",
         "name": "vel_prog_carreira",
         "type": "\"integer\""
        },
        {
         "metadata": "{\"comment\":\"Nível de cobrança ou estresse no trabalho\"}",
         "name": "nivel_cobranca",
         "type": "\"integer\""
        },
        {
         "metadata": "{\"comment\":\"Atenção dada às opiniões e ideias\"}",
         "name": "atencao_ideias",
         "type": "\"integer\""
        },
        {
         "metadata": "{\"comment\":\"Relação com colegas no ambiente de trabalho\"}",
         "name": "relacao_trabalho",
         "type": "\"integer\""
        },
        {
         "metadata": "{\"comment\":\"Relação com colegas fora do trabalho\"}",
         "name": "relacao_integracao",
         "type": "\"integer\""
        },
        {
         "metadata": "{\"comment\":\"Indica se reside no Brasil\"}",
         "name": "vive_no_brasil",
         "type": "\"integer\""
        },
        {
         "metadata": "{\"comment\":\"Estado onde reside atualmente\"}",
         "name": "estado_mora",
         "type": "\"string\""
        },
        {
         "metadata": "{\"comment\":\"UF onde reside\"}",
         "name": "uf_mora",
         "type": "\"string\""
        },
        {
         "metadata": "{\"comment\":\"Região onde reside\"}",
         "name": "regiao_mora",
         "type": "\"string\""
        },
        {
         "metadata": "{\"comment\":\"Indica se mudou de estado\"}",
         "name": "mudou_estado",
         "type": "\"string\""
        },
        {
         "metadata": "{\"comment\":\"Região de origem\"}",
         "name": "regiao_origem",
         "type": "\"string\""
        },
        {
         "metadata": "{\"comment\":\"Nível de escolaridade\"}",
         "name": "nivel_ensino",
         "type": "\"string\""
        },
        {
         "metadata": "{\"comment\":\"Área de formação acadêmica\"}",
         "name": "area_formacao",
         "type": "\"string\""
        },
        {
         "metadata": "{\"comment\":\"Senioridade\"}",
         "name": "senioridade",
         "type": "\"string\""
        },
        {
         "metadata": "{\"comment\":\"Faixa salarial atual\"}",
         "name": "faixa_salarial",
         "type": "\"string\""
        },
        {
         "metadata": "{\"comment\":\"Tempo de experiencia na area de dados\"}",
         "name": "tempo_experiencia",
         "type": "\"string\""
        },
        {
         "metadata": "{\"comment\":\"Data de ingestão na camada silver\"}",
         "name": "dt_silver",
         "type": "\"date\""
        }
       ],
       "type": "table"
      }
     },
     "output_type": "display_data"
    }
   ],
   "source": [
    "%sql\n",
    "select id, idade, faixa_idade, faixa_salarial, tempo_experiencia, * from silver.state_of_data limit 10"
   ]
  },
  {
   "cell_type": "markdown",
   "metadata": {
    "application/vnd.databricks.v1+cell": {
     "cellMetadata": {
      "byteLimit": 2048000,
      "rowLimit": 10000
     },
     "inputWidgets": {},
     "nuid": "5672c43a-abab-44c1-8759-9f61f9751c84",
     "showTitle": false,
     "tableResultSettingsMap": {},
     "title": ""
    }
   },
   "source": [
    "## Etapa 4 - Visões Analiticas - Camada Gold\n"
   ]
  },
  {
   "cell_type": "code",
   "execution_count": 0,
   "metadata": {
    "application/vnd.databricks.v1+cell": {
     "cellMetadata": {
      "byteLimit": 2048000,
      "rowLimit": 10000
     },
     "inputWidgets": {},
     "nuid": "c364fc13-d2bf-40ba-841b-ab0e5469cf68",
     "showTitle": true,
     "tableResultSettingsMap": {},
     "title": "Criando camada Gold"
    }
   },
   "outputs": [],
   "source": [
    "spark.sql(\"CREATE SCHEMA IF NOT EXISTS gold\");"
   ]
  },
  {
   "cell_type": "markdown",
   "metadata": {
    "application/vnd.databricks.v1+cell": {
     "cellMetadata": {},
     "inputWidgets": {},
     "nuid": "224d049b-dbdd-4859-96fd-b261f2629da7",
     "showTitle": false,
     "tableResultSettingsMap": {},
     "title": ""
    }
   },
   "source": [
    "### Analise 1 - Faixa Salarial por Experiência (gold.faixa_salarial_por_experiencia)\n",
    "Objetivo: Relacionar o tempo de experiência com a faixa salarial informada.\n",
    "\n",
    "Analise:\n",
    "\n",
    "Profissionais com mais de 10 anos de experiência tendem a estar nas faixas salariais mais altas (acima de R$ 16.000).\n",
    "\n",
    "Já iniciantes (até 2 anos) concentram-se majoritariamente nas faixas de R$ 1.000 a R$ 4.000.\n",
    "\n",
    "Existe uma correlação positiva entre tempo de experiência e salário, embora com dispersão em alguns intervalos."
   ]
  },
  {
   "cell_type": "code",
   "execution_count": 0,
   "metadata": {
    "application/vnd.databricks.v1+cell": {
     "cellMetadata": {
      "byteLimit": 2048000,
      "implicitDf": true,
      "rowLimit": 10000
     },
     "inputWidgets": {},
     "nuid": "3fd7ffba-5355-470c-a566-dd9609ea4935",
     "showTitle": true,
     "tableResultSettingsMap": {},
     "title": "Faixa Salarial por Tempo de Experiência"
    }
   },
   "outputs": [
    {
     "output_type": "display_data",
     "data": {
      "text/html": [
       "<style scoped>\n",
       "  .table-result-container {\n",
       "    max-height: 300px;\n",
       "    overflow: auto;\n",
       "  }\n",
       "  table, th, td {\n",
       "    border: 1px solid black;\n",
       "    border-collapse: collapse;\n",
       "  }\n",
       "  th, td {\n",
       "    padding: 5px;\n",
       "  }\n",
       "  th {\n",
       "    text-align: left;\n",
       "  }\n",
       "</style><div class='table-result-container'><table class='table-result'><thead style='background-color: white'><tr><th>tempo_experiencia</th><th>faixa_salarial</th><th>total_pessoas</th></tr></thead><tbody><tr><td>3-4</td><td> 8001 -  12000</td><td>357</td></tr><tr><td>1-2</td><td> 4001 -  6000</td><td>351</td></tr><tr><td>3-4</td><td> 6001 -  8000</td><td>225</td></tr><tr><td>1-2</td><td> 6001 -  8000</td><td>217</td></tr><tr><td>3-4</td><td> 4001 -  6000</td><td>178</td></tr><tr><td>1-2</td><td> 8001 -  12000</td><td>175</td></tr><tr><td>1-2</td><td> 3001 -  4000</td><td>173</td></tr><tr><td>3-4</td><td> 12001 -  16000</td><td>144</td></tr><tr><td>4-6</td><td> 8001 -  12000</td><td>137</td></tr><tr><td>1-2</td><td> 2001 -  3000</td><td>127</td></tr><tr><td>4-6</td><td> 12001 -  16000</td><td>123</td></tr><tr><td>7-10</td><td> 12001 -  16000</td><td>117</td></tr><tr><td>5-6</td><td> 8001 -  12000</td><td>116</td></tr><tr><td>0-1</td><td> 1001 -  2000</td><td>109</td></tr><tr><td>10+</td><td> 12001 -  16000</td><td>107</td></tr><tr><td>5-6</td><td> 12001 -  16000</td><td>97</td></tr><tr><td>7-10</td><td> 8001 -  12000</td><td>97</td></tr><tr><td>0-1</td><td> 4001 -  6000</td><td>97</td></tr><tr><td>0-1</td><td> 2001 -  3000</td><td>97</td></tr><tr><td>10+</td><td> 8001 -  12000</td><td>93</td></tr><tr><td>10+</td><td> 16001 -  20000</td><td>87</td></tr><tr><td>10+</td><td> 20001 -  25000</td><td>73</td></tr><tr><td>0-1</td><td> 3001 -  4000</td><td>71</td></tr><tr><td>7-10</td><td> 16001 -  20000</td><td>68</td></tr><tr><td>3-4</td><td> 3001 -  4000</td><td>67</td></tr><tr><td>1-2</td><td> 1001 -  2000</td><td>67</td></tr><tr><td>3-4</td><td> 16001 -  20000</td><td>56</td></tr><tr><td>4-6</td><td> 16001 -  20000</td><td>55</td></tr><tr><td>1-2</td><td> 12001 -  16000</td><td>50</td></tr><tr><td>10+</td><td> 25001 -  30000</td><td>50</td></tr><tr><td>4-6</td><td> 6001 -  8000</td><td>46</td></tr><tr><td>7-10</td><td> 20001 -  25000</td><td>44</td></tr><tr><td>5-6</td><td> 6001 -  8000</td><td>42</td></tr><tr><td>10+</td><td> 30001 -  40000</td><td>41</td></tr><tr><td>0-1</td><td> 6001 -  8000</td><td>40</td></tr><tr><td>10+</td><td>Acima  40001</td><td>39</td></tr><tr><td>0</td><td> 4001 -  6000</td><td>34</td></tr><tr><td>0</td><td> 2001 -  3000</td><td>33</td></tr><tr><td>0-1</td><td> 8001 -  12000</td><td>31</td></tr><tr><td>5-6</td><td> 16001 -  20000</td><td>31</td></tr><tr><td>10+</td><td> 6001 -  8000</td><td>31</td></tr><tr><td>4-6</td><td> 4001 -  6000</td><td>29</td></tr><tr><td>7-10</td><td> 6001 -  8000</td><td>26</td></tr><tr><td>4-6</td><td> 20001 -  25000</td><td>25</td></tr><tr><td>7-10</td><td> 25001 -  30000</td><td>25</td></tr><tr><td>3-4</td><td> 20001 -  25000</td><td>24</td></tr><tr><td>10+</td><td> 4001 -  6000</td><td>23</td></tr><tr><td>0</td><td> 1001 -  2000</td><td>23</td></tr><tr><td>1-2</td><td> 16001 -  20000</td><td>21</td></tr><tr><td>0</td><td> 8001 -  12000</td><td>20</td></tr><tr><td>5-6</td><td> 4001 -  6000</td><td>19</td></tr><tr><td>3-4</td><td> 2001 -  3000</td><td>18</td></tr><tr><td>0</td><td> 3001 -  4000</td><td>17</td></tr><tr><td>4-6</td><td> 30001 -  40000</td><td>17</td></tr><tr><td>3-4</td><td> 25001 -  30000</td><td>16</td></tr><tr><td>5-6</td><td> 20001 -  25000</td><td>16</td></tr><tr><td>4-6</td><td> 25001 -  30000</td><td>15</td></tr><tr><td>5-6</td><td> 25001 -  30000</td><td>15</td></tr><tr><td>7-10</td><td>Acima  40001</td><td>14</td></tr><tr><td>0-1</td><td>Menos  1000</td><td>14</td></tr><tr><td>7-10</td><td> 4001 -  6000</td><td>14</td></tr><tr><td>7-10</td><td> 30001 -  40000</td><td>13</td></tr></tbody></table></div>"
      ]
     },
     "metadata": {
      "application/vnd.databricks.v1+output": {
       "addedWidgets": {},
       "aggData": [],
       "aggError": "",
       "aggOverflow": false,
       "aggSchema": [],
       "aggSeriesLimitReached": false,
       "aggType": "",
       "arguments": {},
       "columnCustomDisplayInfos": {},
       "data": [
        [
         "3-4",
         " 8001 -  12000",
         357
        ],
        [
         "1-2",
         " 4001 -  6000",
         351
        ],
        [
         "3-4",
         " 6001 -  8000",
         225
        ],
        [
         "1-2",
         " 6001 -  8000",
         217
        ],
        [
         "3-4",
         " 4001 -  6000",
         178
        ],
        [
         "1-2",
         " 8001 -  12000",
         175
        ],
        [
         "1-2",
         " 3001 -  4000",
         173
        ],
        [
         "3-4",
         " 12001 -  16000",
         144
        ],
        [
         "4-6",
         " 8001 -  12000",
         137
        ],
        [
         "1-2",
         " 2001 -  3000",
         127
        ],
        [
         "4-6",
         " 12001 -  16000",
         123
        ],
        [
         "7-10",
         " 12001 -  16000",
         117
        ],
        [
         "5-6",
         " 8001 -  12000",
         116
        ],
        [
         "0-1",
         " 1001 -  2000",
         109
        ],
        [
         "10+",
         " 12001 -  16000",
         107
        ],
        [
         "5-6",
         " 12001 -  16000",
         97
        ],
        [
         "7-10",
         " 8001 -  12000",
         97
        ],
        [
         "0-1",
         " 4001 -  6000",
         97
        ],
        [
         "0-1",
         " 2001 -  3000",
         97
        ],
        [
         "10+",
         " 8001 -  12000",
         93
        ],
        [
         "10+",
         " 16001 -  20000",
         87
        ],
        [
         "10+",
         " 20001 -  25000",
         73
        ],
        [
         "0-1",
         " 3001 -  4000",
         71
        ],
        [
         "7-10",
         " 16001 -  20000",
         68
        ],
        [
         "3-4",
         " 3001 -  4000",
         67
        ],
        [
         "1-2",
         " 1001 -  2000",
         67
        ],
        [
         "3-4",
         " 16001 -  20000",
         56
        ],
        [
         "4-6",
         " 16001 -  20000",
         55
        ],
        [
         "1-2",
         " 12001 -  16000",
         50
        ],
        [
         "10+",
         " 25001 -  30000",
         50
        ],
        [
         "4-6",
         " 6001 -  8000",
         46
        ],
        [
         "7-10",
         " 20001 -  25000",
         44
        ],
        [
         "5-6",
         " 6001 -  8000",
         42
        ],
        [
         "10+",
         " 30001 -  40000",
         41
        ],
        [
         "0-1",
         " 6001 -  8000",
         40
        ],
        [
         "10+",
         "Acima  40001",
         39
        ],
        [
         "0",
         " 4001 -  6000",
         34
        ],
        [
         "0",
         " 2001 -  3000",
         33
        ],
        [
         "0-1",
         " 8001 -  12000",
         31
        ],
        [
         "5-6",
         " 16001 -  20000",
         31
        ],
        [
         "10+",
         " 6001 -  8000",
         31
        ],
        [
         "4-6",
         " 4001 -  6000",
         29
        ],
        [
         "7-10",
         " 6001 -  8000",
         26
        ],
        [
         "4-6",
         " 20001 -  25000",
         25
        ],
        [
         "7-10",
         " 25001 -  30000",
         25
        ],
        [
         "3-4",
         " 20001 -  25000",
         24
        ],
        [
         "10+",
         " 4001 -  6000",
         23
        ],
        [
         "0",
         " 1001 -  2000",
         23
        ],
        [
         "1-2",
         " 16001 -  20000",
         21
        ],
        [
         "0",
         " 8001 -  12000",
         20
        ],
        [
         "5-6",
         " 4001 -  6000",
         19
        ],
        [
         "3-4",
         " 2001 -  3000",
         18
        ],
        [
         "0",
         " 3001 -  4000",
         17
        ],
        [
         "4-6",
         " 30001 -  40000",
         17
        ],
        [
         "3-4",
         " 25001 -  30000",
         16
        ],
        [
         "5-6",
         " 20001 -  25000",
         16
        ],
        [
         "4-6",
         " 25001 -  30000",
         15
        ],
        [
         "5-6",
         " 25001 -  30000",
         15
        ],
        [
         "7-10",
         "Acima  40001",
         14
        ],
        [
         "0-1",
         "Menos  1000",
         14
        ],
        [
         "7-10",
         " 4001 -  6000",
         14
        ],
        [
         "7-10",
         " 30001 -  40000",
         13
        ]
       ],
       "datasetInfos": [],
       "dbfsResultPath": null,
       "isJsonSchema": true,
       "metadata": {},
       "overflow": false,
       "plotOptions": {
        "customPlotOptions": {},
        "displayType": "table",
        "pivotAggregation": null,
        "pivotColumns": null,
        "xColumns": null,
        "yColumns": null
       },
       "removedWidgets": [],
       "schema": [
        {
         "metadata": "{\"comment\":\"Tempo de experiencia na area de dados\"}",
         "name": "tempo_experiencia",
         "type": "\"string\""
        },
        {
         "metadata": "{\"comment\":\"Faixa salarial atual\"}",
         "name": "faixa_salarial",
         "type": "\"string\""
        },
        {
         "metadata": "{}",
         "name": "total_pessoas",
         "type": "\"long\""
        }
       ],
       "type": "table"
      }
     },
     "output_type": "display_data"
    }
   ],
   "source": [
    "%sql\n",
    "CREATE OR REPLACE TABLE gold.faixa_salarial_por_experiencia AS -- criação da tabela gold\n",
    "SELECT\n",
    "  tempo_experiencia,\n",
    "  faixa_salarial,\n",
    "  COUNT(*) AS total_pessoas\n",
    "FROM silver.state_of_data\n",
    "WHERE faixa_salarial IS NOT NULL AND tempo_experiencia IS NOT NULL\n",
    "GROUP BY tempo_experiencia, faixa_salarial;\n",
    "\n",
    "-- Visualização de exemplo\n",
    "SELECT * FROM gold.faixa_salarial_por_experiencia\n",
    "WHERE total_pessoas > 10\n",
    "ORDER BY total_pessoas DESC;\n"
   ]
  },
  {
   "cell_type": "markdown",
   "metadata": {
    "application/vnd.databricks.v1+cell": {
     "cellMetadata": {},
     "inputWidgets": {},
     "nuid": "8c81dca3-fff0-4831-ad01-9daadb4bec5f",
     "showTitle": false,
     "tableResultSettingsMap": {},
     "title": ""
    }
   },
   "source": [
    "### Analise 2 - Salário por Gênero e Cor/Raça (gold.salario_genero_cor_raca)\n",
    "Objetivo: Avaliar se há diferenças salariais por gênero e etnia.\n",
    "\n",
    "Analise:\n",
    "\n",
    "Há maior concentração de homens brancos nas faixas salariais mais altas.\n",
    "\n",
    "Mulheres e pessoas negras ou pardas estão sub-representadas nas faixas salariais superiores, mesmo com senioridade compatível.\n",
    "\n",
    "Indício de desigualdade estrutural entre grupos."
   ]
  },
  {
   "cell_type": "code",
   "execution_count": 0,
   "metadata": {
    "application/vnd.databricks.v1+cell": {
     "cellMetadata": {
      "byteLimit": 2048000,
      "implicitDf": true,
      "rowLimit": 10000
     },
     "inputWidgets": {},
     "nuid": "ae41927f-c2af-4f7e-9707-0e827ffd0c4a",
     "showTitle": true,
     "tableResultSettingsMap": {},
     "title": "Comparação de Salários por Gênero e Cor/Raça"
    }
   },
   "outputs": [
    {
     "output_type": "display_data",
     "data": {
      "text/html": [
       "<style scoped>\n",
       "  .table-result-container {\n",
       "    max-height: 300px;\n",
       "    overflow: auto;\n",
       "  }\n",
       "  table, th, td {\n",
       "    border: 1px solid black;\n",
       "    border-collapse: collapse;\n",
       "  }\n",
       "  th, td {\n",
       "    padding: 5px;\n",
       "  }\n",
       "  th {\n",
       "    text-align: left;\n",
       "  }\n",
       "</style><div class='table-result-container'><table class='table-result'><thead style='background-color: white'><tr><th>genero</th><th>cor_raca_etnia</th><th>faixa_salarial</th><th>total_pessoas</th></tr></thead><tbody><tr><td>Masculino</td><td>Branca</td><td> 8001 -  12000</td><td>506</td></tr><tr><td>Masculino</td><td>Branca</td><td> 4001 -  6000</td><td>351</td></tr><tr><td>Masculino</td><td>Branca</td><td> 12001 -  16000</td><td>341</td></tr><tr><td>Masculino</td><td>Branca</td><td> 6001 -  8000</td><td>293</td></tr><tr><td>Masculino</td><td>Parda</td><td> 8001 -  12000</td><td>202</td></tr><tr><td>Masculino</td><td>Branca</td><td> 16001 -  20000</td><td>194</td></tr><tr><td>Feminino</td><td>Branca</td><td> 8001 -  12000</td><td>160</td></tr><tr><td>Masculino</td><td>Parda</td><td> 4001 -  6000</td><td>159</td></tr><tr><td>Masculino</td><td>Branca</td><td> 3001 -  4000</td><td>149</td></tr><tr><td>Masculino</td><td>Branca</td><td> 20001 -  25000</td><td>125</td></tr><tr><td>Masculino</td><td>Branca</td><td> 2001 -  3000</td><td>121</td></tr><tr><td>Masculino</td><td>Parda</td><td> 6001 -  8000</td><td>115</td></tr><tr><td>Masculino</td><td>Parda</td><td> 12001 -  16000</td><td>113</td></tr><tr><td>Feminino</td><td>Branca</td><td> 4001 -  6000</td><td>111</td></tr><tr><td>Feminino</td><td>Branca</td><td> 6001 -  8000</td><td>111</td></tr><tr><td>Feminino</td><td>Branca</td><td> 12001 -  16000</td><td>100</td></tr><tr><td>Masculino</td><td>Branca</td><td> 1001 -  2000</td><td>82</td></tr><tr><td>Masculino</td><td>Branca</td><td> 25001 -  30000</td><td>78</td></tr><tr><td>Masculino</td><td>Parda</td><td> 3001 -  4000</td><td>68</td></tr><tr><td>Masculino</td><td>Parda</td><td> 2001 -  3000</td><td>65</td></tr><tr><td>Feminino</td><td>Parda</td><td> 8001 -  12000</td><td>59</td></tr><tr><td>Feminino</td><td>Branca</td><td> 3001 -  4000</td><td>58</td></tr><tr><td>Masculino</td><td>Branca</td><td> 30001 -  40000</td><td>58</td></tr><tr><td>Feminino</td><td>Branca</td><td> 2001 -  3000</td><td>51</td></tr><tr><td>Masculino</td><td>Parda</td><td> 16001 -  20000</td><td>50</td></tr><tr><td>Masculino</td><td>Preta</td><td> 8001 -  12000</td><td>46</td></tr><tr><td>Feminino</td><td>Parda</td><td> 4001 -  6000</td><td>45</td></tr><tr><td>Feminino</td><td>Branca</td><td> 1001 -  2000</td><td>44</td></tr><tr><td>Feminino</td><td>Branca</td><td> 16001 -  20000</td><td>43</td></tr><tr><td>Masculino</td><td>Branca</td><td>Acima  40001</td><td>42</td></tr><tr><td>Masculino</td><td>Parda</td><td> 1001 -  2000</td><td>39</td></tr><tr><td>Feminino</td><td>Parda</td><td> 6001 -  8000</td><td>38</td></tr><tr><td>Masculino</td><td>Preta</td><td> 4001 -  6000</td><td>37</td></tr><tr><td>Masculino</td><td>Preta</td><td> 6001 -  8000</td><td>35</td></tr><tr><td>Masculino</td><td>Preta</td><td> 3001 -  4000</td><td>29</td></tr><tr><td>Feminino</td><td>Parda</td><td> 12001 -  16000</td><td>29</td></tr><tr><td>Masculino</td><td>Preta</td><td> 12001 -  16000</td><td>24</td></tr><tr><td>Feminino</td><td>Parda</td><td> 1001 -  2000</td><td>24</td></tr><tr><td>Masculino</td><td>Parda</td><td> 20001 -  25000</td><td>23</td></tr><tr><td>Feminino</td><td>Parda</td><td> 3001 -  4000</td><td>22</td></tr><tr><td>Feminino</td><td>Preta</td><td> 6001 -  8000</td><td>20</td></tr><tr><td>Masculino</td><td>Preta</td><td> 2001 -  3000</td><td>20</td></tr><tr><td>Masculino</td><td>Parda</td><td> 25001 -  30000</td><td>20</td></tr><tr><td>Masculino</td><td>Amarela</td><td> 8001 -  12000</td><td>19</td></tr><tr><td>Masculino</td><td>Preta</td><td> 16001 -  20000</td><td>18</td></tr><tr><td>Masculino</td><td>Preta</td><td> 1001 -  2000</td><td>16</td></tr><tr><td>Feminino</td><td>Branca</td><td> 20001 -  25000</td><td>16</td></tr><tr><td>Feminino</td><td>Preta</td><td> 4001 -  6000</td><td>16</td></tr><tr><td>Masculino</td><td>Amarela</td><td> 12001 -  16000</td><td>16</td></tr><tr><td>Feminino</td><td>Parda</td><td> 2001 -  3000</td><td>15</td></tr><tr><td>Feminino</td><td>Preta</td><td> 8001 -  12000</td><td>14</td></tr><tr><td>Masculino</td><td>Parda</td><td> 30001 -  40000</td><td>13</td></tr><tr><td>Masculino</td><td>Preta</td><td> 20001 -  25000</td><td>12</td></tr><tr><td>Masculino</td><td>Parda</td><td>Acima  40001</td><td>12</td></tr><tr><td>Feminino</td><td>Branca</td><td> 25001 -  30000</td><td>12</td></tr><tr><td>Masculino</td><td>Amarela</td><td> 4001 -  6000</td><td>11</td></tr><tr><td>Masculino</td><td>Branca</td><td>Menos  1000</td><td>11</td></tr><tr><td>Feminino</td><td>Preta</td><td> 3001 -  4000</td><td>11</td></tr></tbody></table></div>"
      ]
     },
     "metadata": {
      "application/vnd.databricks.v1+output": {
       "addedWidgets": {},
       "aggData": [],
       "aggError": "",
       "aggOverflow": false,
       "aggSchema": [],
       "aggSeriesLimitReached": false,
       "aggType": "",
       "arguments": {},
       "columnCustomDisplayInfos": {},
       "data": [
        [
         "Masculino",
         "Branca",
         " 8001 -  12000",
         506
        ],
        [
         "Masculino",
         "Branca",
         " 4001 -  6000",
         351
        ],
        [
         "Masculino",
         "Branca",
         " 12001 -  16000",
         341
        ],
        [
         "Masculino",
         "Branca",
         " 6001 -  8000",
         293
        ],
        [
         "Masculino",
         "Parda",
         " 8001 -  12000",
         202
        ],
        [
         "Masculino",
         "Branca",
         " 16001 -  20000",
         194
        ],
        [
         "Feminino",
         "Branca",
         " 8001 -  12000",
         160
        ],
        [
         "Masculino",
         "Parda",
         " 4001 -  6000",
         159
        ],
        [
         "Masculino",
         "Branca",
         " 3001 -  4000",
         149
        ],
        [
         "Masculino",
         "Branca",
         " 20001 -  25000",
         125
        ],
        [
         "Masculino",
         "Branca",
         " 2001 -  3000",
         121
        ],
        [
         "Masculino",
         "Parda",
         " 6001 -  8000",
         115
        ],
        [
         "Masculino",
         "Parda",
         " 12001 -  16000",
         113
        ],
        [
         "Feminino",
         "Branca",
         " 4001 -  6000",
         111
        ],
        [
         "Feminino",
         "Branca",
         " 6001 -  8000",
         111
        ],
        [
         "Feminino",
         "Branca",
         " 12001 -  16000",
         100
        ],
        [
         "Masculino",
         "Branca",
         " 1001 -  2000",
         82
        ],
        [
         "Masculino",
         "Branca",
         " 25001 -  30000",
         78
        ],
        [
         "Masculino",
         "Parda",
         " 3001 -  4000",
         68
        ],
        [
         "Masculino",
         "Parda",
         " 2001 -  3000",
         65
        ],
        [
         "Feminino",
         "Parda",
         " 8001 -  12000",
         59
        ],
        [
         "Feminino",
         "Branca",
         " 3001 -  4000",
         58
        ],
        [
         "Masculino",
         "Branca",
         " 30001 -  40000",
         58
        ],
        [
         "Feminino",
         "Branca",
         " 2001 -  3000",
         51
        ],
        [
         "Masculino",
         "Parda",
         " 16001 -  20000",
         50
        ],
        [
         "Masculino",
         "Preta",
         " 8001 -  12000",
         46
        ],
        [
         "Feminino",
         "Parda",
         " 4001 -  6000",
         45
        ],
        [
         "Feminino",
         "Branca",
         " 1001 -  2000",
         44
        ],
        [
         "Feminino",
         "Branca",
         " 16001 -  20000",
         43
        ],
        [
         "Masculino",
         "Branca",
         "Acima  40001",
         42
        ],
        [
         "Masculino",
         "Parda",
         " 1001 -  2000",
         39
        ],
        [
         "Feminino",
         "Parda",
         " 6001 -  8000",
         38
        ],
        [
         "Masculino",
         "Preta",
         " 4001 -  6000",
         37
        ],
        [
         "Masculino",
         "Preta",
         " 6001 -  8000",
         35
        ],
        [
         "Masculino",
         "Preta",
         " 3001 -  4000",
         29
        ],
        [
         "Feminino",
         "Parda",
         " 12001 -  16000",
         29
        ],
        [
         "Masculino",
         "Preta",
         " 12001 -  16000",
         24
        ],
        [
         "Feminino",
         "Parda",
         " 1001 -  2000",
         24
        ],
        [
         "Masculino",
         "Parda",
         " 20001 -  25000",
         23
        ],
        [
         "Feminino",
         "Parda",
         " 3001 -  4000",
         22
        ],
        [
         "Feminino",
         "Preta",
         " 6001 -  8000",
         20
        ],
        [
         "Masculino",
         "Preta",
         " 2001 -  3000",
         20
        ],
        [
         "Masculino",
         "Parda",
         " 25001 -  30000",
         20
        ],
        [
         "Masculino",
         "Amarela",
         " 8001 -  12000",
         19
        ],
        [
         "Masculino",
         "Preta",
         " 16001 -  20000",
         18
        ],
        [
         "Masculino",
         "Preta",
         " 1001 -  2000",
         16
        ],
        [
         "Feminino",
         "Branca",
         " 20001 -  25000",
         16
        ],
        [
         "Feminino",
         "Preta",
         " 4001 -  6000",
         16
        ],
        [
         "Masculino",
         "Amarela",
         " 12001 -  16000",
         16
        ],
        [
         "Feminino",
         "Parda",
         " 2001 -  3000",
         15
        ],
        [
         "Feminino",
         "Preta",
         " 8001 -  12000",
         14
        ],
        [
         "Masculino",
         "Parda",
         " 30001 -  40000",
         13
        ],
        [
         "Masculino",
         "Preta",
         " 20001 -  25000",
         12
        ],
        [
         "Masculino",
         "Parda",
         "Acima  40001",
         12
        ],
        [
         "Feminino",
         "Branca",
         " 25001 -  30000",
         12
        ],
        [
         "Masculino",
         "Amarela",
         " 4001 -  6000",
         11
        ],
        [
         "Masculino",
         "Branca",
         "Menos  1000",
         11
        ],
        [
         "Feminino",
         "Preta",
         " 3001 -  4000",
         11
        ]
       ],
       "datasetInfos": [],
       "dbfsResultPath": null,
       "isJsonSchema": true,
       "metadata": {},
       "overflow": false,
       "plotOptions": {
        "customPlotOptions": {},
        "displayType": "table",
        "pivotAggregation": null,
        "pivotColumns": null,
        "xColumns": null,
        "yColumns": null
       },
       "removedWidgets": [],
       "schema": [
        {
         "metadata": "{\"comment\":\"Identidade de gênero\"}",
         "name": "genero",
         "type": "\"string\""
        },
        {
         "metadata": "{\"comment\":\"Cor, raça ou etnia\"}",
         "name": "cor_raca_etnia",
         "type": "\"string\""
        },
        {
         "metadata": "{\"comment\":\"Faixa salarial atual\"}",
         "name": "faixa_salarial",
         "type": "\"string\""
        },
        {
         "metadata": "{}",
         "name": "total_pessoas",
         "type": "\"long\""
        }
       ],
       "type": "table"
      }
     },
     "output_type": "display_data"
    }
   ],
   "source": [
    "%sql\n",
    "CREATE OR REPLACE TABLE gold.salario_genero_cor_raca AS -- criação da tabela gold\n",
    "SELECT\n",
    "  genero,\n",
    "  cor_raca_etnia,\n",
    "  faixa_salarial,\n",
    "  COUNT(*) AS total_pessoas\n",
    "FROM silver.state_of_data\n",
    "WHERE genero IS NOT NULL AND cor_raca_etnia IS NOT NULL AND faixa_salarial IS NOT NULL\n",
    "GROUP BY genero, cor_raca_etnia, faixa_salarial;\n",
    "\n",
    "-- Visualização de exemplo\n",
    "SELECT * FROM gold.salario_genero_cor_raca\n",
    "WHERE total_pessoas > 10\n",
    "ORDER BY total_pessoas DESC;\n"
   ]
  },
  {
   "cell_type": "markdown",
   "metadata": {
    "application/vnd.databricks.v1+cell": {
     "cellMetadata": {},
     "inputWidgets": {},
     "nuid": "b629667f-5771-4ab7-8cae-9af3f7c2bd19",
     "showTitle": false,
     "tableResultSettingsMap": {},
     "title": ""
    }
   },
   "source": [
    "### Analise 3 - Nível de Ensino por Senioridade (gold.nivel_ensino_senioridade)\n",
    "Objetivo: Relacionar escolaridade com o nível de senioridade.\n",
    "\n",
    "Analise:\n",
    "\n",
    "Senioridade Pleno e Sênior estão mais associadas a Ensino Superior completo ou pós-graduação.\n",
    "\n",
    "Profissionais Júnior aparecem em todos os níveis de ensino, com destaque para cursos técnicos ou ensino superior incompleto.\n",
    "\n",
    "A formação acadêmica não é a única determinante da senioridade, mas há tendência."
   ]
  },
  {
   "cell_type": "code",
   "execution_count": 0,
   "metadata": {
    "application/vnd.databricks.v1+cell": {
     "cellMetadata": {
      "byteLimit": 2048000,
      "implicitDf": true,
      "rowLimit": 10000
     },
     "inputWidgets": {},
     "nuid": "9eb00b90-71b2-4609-bdf2-50e01c73b697",
     "showTitle": true,
     "tableResultSettingsMap": {},
     "title": "Nível de Ensino x Senioridade"
    }
   },
   "outputs": [
    {
     "output_type": "display_data",
     "data": {
      "text/html": [
       "<style scoped>\n",
       "  .table-result-container {\n",
       "    max-height: 300px;\n",
       "    overflow: auto;\n",
       "  }\n",
       "  table, th, td {\n",
       "    border: 1px solid black;\n",
       "    border-collapse: collapse;\n",
       "  }\n",
       "  th, td {\n",
       "    padding: 5px;\n",
       "  }\n",
       "  th {\n",
       "    text-align: left;\n",
       "  }\n",
       "</style><div class='table-result-container'><table class='table-result'><thead style='background-color: white'><tr><th>nivel_ensino</th><th>senioridade</th><th>total_pessoas</th></tr></thead><tbody><tr><td>Pós-graduação</td><td>Sênior</td><td>614</td></tr><tr><td>Graduação/Bacharelado</td><td>Pleno</td><td>573</td></tr><tr><td>Graduação/Bacharelado</td><td>Sênior</td><td>452</td></tr><tr><td>Pós-graduação</td><td>Pleno</td><td>446</td></tr><tr><td>Graduação/Bacharelado</td><td>Júnior</td><td>421</td></tr><tr><td>Estudante de Graduação</td><td>Júnior</td><td>324</td></tr><tr><td>Mestrado</td><td>Sênior</td><td>216</td></tr><tr><td>Pós-graduação</td><td>Júnior</td><td>203</td></tr><tr><td>Mestrado</td><td>Pleno</td><td>172</td></tr><tr><td>Estudante de Graduação</td><td>Pleno</td><td>131</td></tr><tr><td>Doutorado ou Phd</td><td>Sênior</td><td>77</td></tr><tr><td>Mestrado</td><td>Júnior</td><td>58</td></tr><tr><td>Doutorado ou Phd</td><td>Pleno</td><td>41</td></tr><tr><td>Estudante de Graduação</td><td>Sênior</td><td>41</td></tr><tr><td>Não tenho graduação formal</td><td>Pleno</td><td>27</td></tr><tr><td>Não tenho graduação formal</td><td>Júnior</td><td>23</td></tr><tr><td>Não tenho graduação formal</td><td>Sênior</td><td>18</td></tr><tr><td>Doutorado ou Phd</td><td>Júnior</td><td>15</td></tr></tbody></table></div>"
      ]
     },
     "metadata": {
      "application/vnd.databricks.v1+output": {
       "addedWidgets": {},
       "aggData": [],
       "aggError": "",
       "aggOverflow": false,
       "aggSchema": [],
       "aggSeriesLimitReached": false,
       "aggType": "",
       "arguments": {},
       "columnCustomDisplayInfos": {},
       "data": [
        [
         "Pós-graduação",
         "Sênior",
         614
        ],
        [
         "Graduação/Bacharelado",
         "Pleno",
         573
        ],
        [
         "Graduação/Bacharelado",
         "Sênior",
         452
        ],
        [
         "Pós-graduação",
         "Pleno",
         446
        ],
        [
         "Graduação/Bacharelado",
         "Júnior",
         421
        ],
        [
         "Estudante de Graduação",
         "Júnior",
         324
        ],
        [
         "Mestrado",
         "Sênior",
         216
        ],
        [
         "Pós-graduação",
         "Júnior",
         203
        ],
        [
         "Mestrado",
         "Pleno",
         172
        ],
        [
         "Estudante de Graduação",
         "Pleno",
         131
        ],
        [
         "Doutorado ou Phd",
         "Sênior",
         77
        ],
        [
         "Mestrado",
         "Júnior",
         58
        ],
        [
         "Doutorado ou Phd",
         "Pleno",
         41
        ],
        [
         "Estudante de Graduação",
         "Sênior",
         41
        ],
        [
         "Não tenho graduação formal",
         "Pleno",
         27
        ],
        [
         "Não tenho graduação formal",
         "Júnior",
         23
        ],
        [
         "Não tenho graduação formal",
         "Sênior",
         18
        ],
        [
         "Doutorado ou Phd",
         "Júnior",
         15
        ]
       ],
       "datasetInfos": [],
       "dbfsResultPath": null,
       "isJsonSchema": true,
       "metadata": {},
       "overflow": false,
       "plotOptions": {
        "customPlotOptions": {},
        "displayType": "table",
        "pivotAggregation": null,
        "pivotColumns": null,
        "xColumns": null,
        "yColumns": null
       },
       "removedWidgets": [],
       "schema": [
        {
         "metadata": "{\"comment\":\"Nível de escolaridade\"}",
         "name": "nivel_ensino",
         "type": "\"string\""
        },
        {
         "metadata": "{\"comment\":\"Senioridade\"}",
         "name": "senioridade",
         "type": "\"string\""
        },
        {
         "metadata": "{}",
         "name": "total_pessoas",
         "type": "\"long\""
        }
       ],
       "type": "table"
      }
     },
     "output_type": "display_data"
    }
   ],
   "source": [
    "%sql\n",
    "CREATE OR REPLACE TABLE gold.nivel_ensino_senioridade AS  -- criação da tabela gold\n",
    "SELECT\n",
    "  nivel_ensino,\n",
    "  senioridade,\n",
    "  COUNT(*) AS total_pessoas\n",
    "FROM silver.state_of_data\n",
    "WHERE senioridade IS NOT NULL AND nivel_ensino IS NOT NULL\n",
    "GROUP BY nivel_ensino, senioridade;\n",
    "\n",
    "-- Visualização de exemplo\n",
    "SELECT * FROM gold.nivel_ensino_senioridade\n",
    "WHERE total_pessoas > 10\n",
    "ORDER BY total_pessoas DESC;\n"
   ]
  },
  {
   "cell_type": "markdown",
   "metadata": {
    "application/vnd.databricks.v1+cell": {
     "cellMetadata": {},
     "inputWidgets": {},
     "nuid": "aad6f2ab-eb75-485f-bfd9-78338b443182",
     "showTitle": false,
     "tableResultSettingsMap": {},
     "title": ""
    }
   },
   "source": [
    "### Analise 4 - Mudança de Estado por Faixa Salarial (gold.mudanca_estado_salario)\n",
    "Objetivo: Entender se a mobilidade geográfica está relacionada à remuneração.\n",
    "\n",
    "Analise:\n",
    "\n",
    "Profissionais que mudaram de estado tendem a estar em faixas salariais mais altas.\n",
    "\n",
    "Isso sugere que a mobilidade pode estar associada a melhores oportunidades (promoções, novos empregos).\n",
    "\n",
    "Já quem permaneceu no mesmo estado está mais distribuído nas faixas inferiores."
   ]
  },
  {
   "cell_type": "code",
   "execution_count": 0,
   "metadata": {
    "application/vnd.databricks.v1+cell": {
     "cellMetadata": {
      "byteLimit": 2048000,
      "implicitDf": true,
      "rowLimit": 10000
     },
     "inputWidgets": {},
     "nuid": "d9165b56-e598-43a3-a40b-13665f6d9461",
     "showTitle": true,
     "tableResultSettingsMap": {},
     "title": "Mobilidade Geográfica x Faixa Salarial"
    }
   },
   "outputs": [
    {
     "output_type": "display_data",
     "data": {
      "text/html": [
       "<style scoped>\n",
       "  .table-result-container {\n",
       "    max-height: 300px;\n",
       "    overflow: auto;\n",
       "  }\n",
       "  table, th, td {\n",
       "    border: 1px solid black;\n",
       "    border-collapse: collapse;\n",
       "  }\n",
       "  th, td {\n",
       "    padding: 5px;\n",
       "  }\n",
       "  th {\n",
       "    text-align: left;\n",
       "  }\n",
       "</style><div class='table-result-container'><table class='table-result'><thead style='background-color: white'><tr><th>mudou_estado</th><th>faixa_salarial</th><th>total_pessoas</th></tr></thead><tbody><tr><td>false</td><td> 8001 -  12000</td><td>820</td></tr><tr><td>false</td><td> 4001 -  6000</td><td>603</td></tr><tr><td>false</td><td> 6001 -  8000</td><td>498</td></tr><tr><td>false</td><td> 12001 -  16000</td><td>479</td></tr><tr><td>false</td><td> 3001 -  4000</td><td>290</td></tr><tr><td>false</td><td> 16001 -  20000</td><td>242</td></tr><tr><td>false</td><td> 2001 -  3000</td><td>242</td></tr><tr><td>false</td><td> 8001 -  12000</td><td>191</td></tr><tr><td>false</td><td> 1001 -  2000</td><td>172</td></tr><tr><td>false</td><td> 12001 -  16000</td><td>158</td></tr><tr><td>false</td><td> 4001 -  6000</td><td>137</td></tr><tr><td>false</td><td> 6001 -  8000</td><td>131</td></tr><tr><td>false</td><td> 20001 -  25000</td><td>129</td></tr><tr><td>false</td><td> 25001 -  30000</td><td>90</td></tr><tr><td>false</td><td> 16001 -  20000</td><td>73</td></tr><tr><td>false</td><td> 3001 -  4000</td><td>59</td></tr><tr><td>false</td><td> 20001 -  25000</td><td>58</td></tr><tr><td>false</td><td> 30001 -  40000</td><td>57</td></tr><tr><td>false</td><td> 2001 -  3000</td><td>46</td></tr><tr><td>false</td><td>Acima  40001</td><td>46</td></tr><tr><td>false</td><td> 1001 -  2000</td><td>41</td></tr><tr><td>false</td><td> 25001 -  30000</td><td>27</td></tr><tr><td>false</td><td>Menos  1000</td><td>24</td></tr><tr><td>false</td><td> 30001 -  40000</td><td>19</td></tr><tr><td>false</td><td>Acima  40001</td><td>16</td></tr></tbody></table></div>"
      ]
     },
     "metadata": {
      "application/vnd.databricks.v1+output": {
       "addedWidgets": {},
       "aggData": [],
       "aggError": "",
       "aggOverflow": false,
       "aggSchema": [],
       "aggSeriesLimitReached": false,
       "aggType": "",
       "arguments": {},
       "columnCustomDisplayInfos": {},
       "data": [
        [
         false,
         " 8001 -  12000",
         820
        ],
        [
         false,
         " 4001 -  6000",
         603
        ],
        [
         false,
         " 6001 -  8000",
         498
        ],
        [
         false,
         " 12001 -  16000",
         479
        ],
        [
         false,
         " 3001 -  4000",
         290
        ],
        [
         false,
         " 16001 -  20000",
         242
        ],
        [
         false,
         " 2001 -  3000",
         242
        ],
        [
         false,
         " 8001 -  12000",
         191
        ],
        [
         false,
         " 1001 -  2000",
         172
        ],
        [
         false,
         " 12001 -  16000",
         158
        ],
        [
         false,
         " 4001 -  6000",
         137
        ],
        [
         false,
         " 6001 -  8000",
         131
        ],
        [
         false,
         " 20001 -  25000",
         129
        ],
        [
         false,
         " 25001 -  30000",
         90
        ],
        [
         false,
         " 16001 -  20000",
         73
        ],
        [
         false,
         " 3001 -  4000",
         59
        ],
        [
         false,
         " 20001 -  25000",
         58
        ],
        [
         false,
         " 30001 -  40000",
         57
        ],
        [
         false,
         " 2001 -  3000",
         46
        ],
        [
         false,
         "Acima  40001",
         46
        ],
        [
         false,
         " 1001 -  2000",
         41
        ],
        [
         false,
         " 25001 -  30000",
         27
        ],
        [
         false,
         "Menos  1000",
         24
        ],
        [
         false,
         " 30001 -  40000",
         19
        ],
        [
         false,
         "Acima  40001",
         16
        ]
       ],
       "datasetInfos": [],
       "dbfsResultPath": null,
       "isJsonSchema": true,
       "metadata": {},
       "overflow": false,
       "plotOptions": {
        "customPlotOptions": {},
        "displayType": "table",
        "pivotAggregation": null,
        "pivotColumns": null,
        "xColumns": null,
        "yColumns": null
       },
       "removedWidgets": [],
       "schema": [
        {
         "metadata": "{}",
         "name": "mudou_estado",
         "type": "\"boolean\""
        },
        {
         "metadata": "{\"comment\":\"Faixa salarial atual\"}",
         "name": "faixa_salarial",
         "type": "\"string\""
        },
        {
         "metadata": "{}",
         "name": "total_pessoas",
         "type": "\"long\""
        }
       ],
       "type": "table"
      }
     },
     "output_type": "display_data"
    }
   ],
   "source": [
    "%sql\n",
    "CREATE OR REPLACE TABLE gold.mudanca_estado_salario AS  -- criação da tabela gold\n",
    "SELECT\n",
    "  mudou_estado = 'Sim' AS mudou_estado,\n",
    "  faixa_salarial,\n",
    "  COUNT(*) AS total_pessoas\n",
    "FROM silver.state_of_data\n",
    "WHERE mudou_estado IS NOT NULL AND faixa_salarial IS NOT NULL\n",
    "GROUP BY mudou_estado, faixa_salarial;\n",
    "\n",
    "\n",
    "-- Visualização de exemplo\n",
    "SELECT * FROM gold.mudanca_estado_salario\n",
    "WHERE total_pessoas > 5\n",
    "ORDER BY total_pessoas DESC;\n"
   ]
  },
  {
   "cell_type": "markdown",
   "metadata": {
    "application/vnd.databricks.v1+cell": {
     "cellMetadata": {},
     "inputWidgets": {},
     "nuid": "bae49a2e-5930-4d42-8bd9-6e23d2642a7a",
     "showTitle": false,
     "tableResultSettingsMap": {},
     "title": ""
    }
   },
   "source": [
    "### Analise 5 - Discriminação na Carreira (gold.discriminacao_carreira)\n",
    "Objetivo: Analisar se a percepção de discriminação afeta salário e senioridade.\n",
    "\n",
    "Analise:\n",
    "\n",
    "Pessoas que afirmaram ter sofrido discriminação por cor/raça, gênero ou deficiência concentram-se nas faixas mais baixas de salário.\n",
    "\n",
    "A percepção de carreira prejudicada também aparece entre pessoas com senioridade alta, o que reforça um sentimento de barreira invisível à ascensão profissional.\n",
    "\n",
    "Grupos minorizados enfrentam desigualdade mesmo com qualificação."
   ]
  },
  {
   "cell_type": "code",
   "execution_count": 0,
   "metadata": {
    "application/vnd.databricks.v1+cell": {
     "cellMetadata": {
      "byteLimit": 2048000,
      "implicitDf": true,
      "rowLimit": 10000
     },
     "inputWidgets": {},
     "nuid": "5056b5a7-d023-4fe3-8918-9772504113e0",
     "showTitle": true,
     "tableResultSettingsMap": {},
     "title": "Discriminação e Progressão na Carreira"
    }
   },
   "outputs": [
    {
     "output_type": "display_data",
     "data": {
      "text/html": [
       "<style scoped>\n",
       "  .table-result-container {\n",
       "    max-height: 300px;\n",
       "    overflow: auto;\n",
       "  }\n",
       "  table, th, td {\n",
       "    border: 1px solid black;\n",
       "    border-collapse: collapse;\n",
       "  }\n",
       "  th, td {\n",
       "    padding: 5px;\n",
       "  }\n",
       "  th {\n",
       "    text-align: left;\n",
       "  }\n",
       "</style><div class='table-result-container'><table class='table-result'><thead style='background-color: white'><tr><th>exp_profissional_prejudicada</th><th>exp_prejud_cor_raca</th><th>exp_prejud_genero</th><th>exp_prejud_pcd</th><th>senioridade</th><th>faixa_salarial</th><th>total_pessoas</th></tr></thead><tbody><tr><td>Não acredito que minha experiência profissional seja afetada devido a esses fatores</td><td>0</td><td>0</td><td>0</td><td>Sênior</td><td> 8001 -  12000</td><td>131</td></tr><tr><td>Não acredito que minha experiência profissional seja afetada devido a esses fatores</td><td>0</td><td>0</td><td>0</td><td>Pleno</td><td> 8001 -  12000</td><td>113</td></tr><tr><td>Não acredito que minha experiência profissional seja afetada devido a esses fatores</td><td>0</td><td>0</td><td>0</td><td>Pleno</td><td> 4001 -  6000</td><td>100</td></tr><tr><td>Não acredito que minha experiência profissional seja afetada devido a esses fatores</td><td>0</td><td>0</td><td>0</td><td>Júnior</td><td> 4001 -  6000</td><td>99</td></tr><tr><td>Não acredito que minha experiência profissional seja afetada devido a esses fatores</td><td>0</td><td>0</td><td>0</td><td>Pleno</td><td> 6001 -  8000</td><td>98</td></tr><tr><td>Não acredito que minha experiência profissional seja afetada devido a esses fatores</td><td>0</td><td>0</td><td>0</td><td>Sênior</td><td> 12001 -  16000</td><td>91</td></tr><tr><td>Sim, acredito que a minha a experiência profissional seja afetada devido a minha identidade de gênero</td><td>0</td><td>1</td><td>0</td><td>Sênior</td><td> 8001 -  12000</td><td>69</td></tr><tr><td>Não acredito que minha experiência profissional seja afetada devido a esses fatores</td><td>0</td><td>0</td><td>0</td><td>Júnior</td><td> 3001 -  4000</td><td>69</td></tr><tr><td>Não acredito que minha experiência profissional seja afetada devido a esses fatores</td><td>0</td><td>0</td><td>0</td><td>Júnior</td><td> 1001 -  2000</td><td>61</td></tr><tr><td>Não acredito que minha experiência profissional seja afetada devido a esses fatores</td><td>0</td><td>0</td><td>0</td><td>Júnior</td><td> 2001 -  3000</td><td>59</td></tr><tr><td>Sim, acredito que a minha a experiência profissional seja afetada devido a minha identidade de gênero</td><td>0</td><td>1</td><td>0</td><td>Pleno</td><td> 6001 -  8000</td><td>59</td></tr><tr><td>Sim, acredito que a minha a experiência profissional seja afetada devido a minha identidade de gênero</td><td>0</td><td>1</td><td>0</td><td>Pleno</td><td> 4001 -  6000</td><td>51</td></tr><tr><td>Não acredito que minha experiência profissional seja afetada devido a esses fatores</td><td>0</td><td>0</td><td>0</td><td>null</td><td> 12001 -  16000</td><td>50</td></tr><tr><td>Sim, acredito que a minha a experiência profissional seja afetada devido a minha identidade de gênero</td><td>0</td><td>1</td><td>0</td><td>Sênior</td><td> 12001 -  16000</td><td>47</td></tr><tr><td>Sim, acredito que a minha a experiência profissional seja afetada devido a minha Cor/Raça/Etnia</td><td>1</td><td>0</td><td>0</td><td>Sênior</td><td> 8001 -  12000</td><td>47</td></tr><tr><td>Sim, acredito que a minha a experiência profissional seja afetada devido a minha identidade de gênero</td><td>0</td><td>1</td><td>0</td><td>Pleno</td><td> 8001 -  12000</td><td>42</td></tr><tr><td>Não acredito que minha experiência profissional seja afetada devido a esses fatores</td><td>0</td><td>0</td><td>0</td><td>Sênior</td><td> 6001 -  8000</td><td>41</td></tr><tr><td>Sim, acredito que a minha a experiência profissional seja afetada devido a minha identidade de gênero</td><td>0</td><td>1</td><td>0</td><td>Júnior</td><td> 2001 -  3000</td><td>38</td></tr><tr><td>Não acredito que minha experiência profissional seja afetada devido a esses fatores</td><td>0</td><td>0</td><td>0</td><td>null</td><td> 16001 -  20000</td><td>37</td></tr><tr><td>Não acredito que minha experiência profissional seja afetada devido a esses fatores</td><td>0</td><td>0</td><td>0</td><td>Sênior</td><td> 16001 -  20000</td><td>32</td></tr><tr><td>Sim, acredito que a minha a experiência profissional seja afetada devido a minha identidade de gênero</td><td>0</td><td>1</td><td>0</td><td>Júnior</td><td> 4001 -  6000</td><td>32</td></tr><tr><td>Não acredito que minha experiência profissional seja afetada devido a esses fatores</td><td>0</td><td>0</td><td>0</td><td>Pleno</td><td> 3001 -  4000</td><td>31</td></tr><tr><td>Sim, acredito que a minha a experiência profissional seja afetada devido a minha Cor/Raça/Etnia</td><td>1</td><td>0</td><td>0</td><td>Pleno</td><td> 6001 -  8000</td><td>30</td></tr><tr><td>Não acredito que minha experiência profissional seja afetada devido a esses fatores</td><td>0</td><td>0</td><td>0</td><td>null</td><td> 8001 -  12000</td><td>30</td></tr><tr><td>Sim, acredito que a minha a experiência profissional seja afetada devido a minha identidade de gênero</td><td>0</td><td>1</td><td>0</td><td>Júnior</td><td> 1001 -  2000</td><td>29</td></tr><tr><td>Sim, acredito que a minha a experiência profissional seja afetada devido a minha Cor/Raça/Etnia</td><td>1</td><td>0</td><td>0</td><td>Sênior</td><td> 12001 -  16000</td><td>29</td></tr><tr><td>Não acredito que minha experiência profissional seja afetada devido a esses fatores</td><td>0</td><td>0</td><td>0</td><td>null</td><td> 20001 -  25000</td><td>26</td></tr><tr><td>Não acredito que minha experiência profissional seja afetada devido a esses fatores</td><td>0</td><td>0</td><td>0</td><td>Júnior</td><td> 6001 -  8000</td><td>25</td></tr><tr><td>Sim, acredito que a minha a experiência profissional seja afetada devido a minha Cor/Raça/Etnia</td><td>1</td><td>0</td><td>0</td><td>Pleno</td><td> 8001 -  12000</td><td>24</td></tr><tr><td>Sim, acredito que a minha a experiência profissional seja afetada devido a minha Cor/Raça/Etnia</td><td>1</td><td>0</td><td>0</td><td>Júnior</td><td> 4001 -  6000</td><td>23</td></tr><tr><td>Sim, acredito que a minha a experiência profissional seja afetada devido a minha identidade de gênero</td><td>0</td><td>1</td><td>0</td><td>Júnior</td><td> 3001 -  4000</td><td>23</td></tr><tr><td>Sim, acredito que a minha a experiência profissional seja afetada devido a minha Cor/Raça/Etnia</td><td>1</td><td>0</td><td>0</td><td>Pleno</td><td> 4001 -  6000</td><td>23</td></tr><tr><td>Sim, acredito que a minha a experiência profissional seja afetada devido a minha identidade de gênero</td><td>0</td><td>1</td><td>0</td><td>null</td><td> 12001 -  16000</td><td>23</td></tr><tr><td>Sim, acredito que a minha a experiência profissional seja afetada devido a minha Cor/Raça/Etnia</td><td>1</td><td>0</td><td>0</td><td>Júnior</td><td> 1001 -  2000</td><td>20</td></tr><tr><td>Sim, acredito que a minha a experiência profissional seja afetada devido a minha Cor/Raça/Etnia</td><td>1</td><td>0</td><td>0</td><td>Júnior</td><td> 3001 -  4000</td><td>18</td></tr><tr><td>Sim, acredito que a minha a experiência profissional seja afetada devido a minha Cor/Raça/Etnia</td><td>1</td><td>0</td><td>0</td><td>Pleno</td><td> 3001 -  4000</td><td>17</td></tr><tr><td>Sim, acredito que a minha a experiência profissional seja afetada devido a minha Cor/Raça/Etnia</td><td>1</td><td>0</td><td>0</td><td>Júnior</td><td> 2001 -  3000</td><td>17</td></tr><tr><td>Não acredito que minha experiência profissional seja afetada devido a esses fatores</td><td>0</td><td>0</td><td>0</td><td>Pleno</td><td> 2001 -  3000</td><td>16</td></tr><tr><td>Sim, acredito que a minha a experiência profissional seja afetada devido a minha Cor/Raça/Etnia</td><td>1</td><td>0</td><td>0</td><td>null</td><td> 16001 -  20000</td><td>16</td></tr><tr><td>Não acredito que minha experiência profissional seja afetada devido a esses fatores</td><td>0</td><td>0</td><td>0</td><td>null</td><td> 25001 -  30000</td><td>15</td></tr><tr><td>Não acredito que minha experiência profissional seja afetada devido a esses fatores</td><td>0</td><td>0</td><td>0</td><td>Sênior</td><td> 20001 -  25000</td><td>15</td></tr><tr><td>Sim, acredito que a minha a experiência profissional seja afetada devido a minha identidade de gênero</td><td>0</td><td>1</td><td>0</td><td>Pleno</td><td> 3001 -  4000</td><td>15</td></tr><tr><td>Sim, acredito que a minha a experiência profissional seja afetada devido a minha Cor/Raça/Etnia</td><td>1</td><td>0</td><td>0</td><td>Sênior</td><td> 6001 -  8000</td><td>14</td></tr><tr><td>Não acredito que minha experiência profissional seja afetada devido a esses fatores</td><td>0</td><td>0</td><td>0</td><td>Pleno</td><td> 12001 -  16000</td><td>14</td></tr><tr><td>Não acredito que minha experiência profissional seja afetada devido a esses fatores</td><td>0</td><td>0</td><td>0</td><td>null</td><td> 4001 -  6000</td><td>14</td></tr><tr><td>Sim, acredito que a minha a experiência profissional seja afetada devido a minha identidade de gênero</td><td>0</td><td>1</td><td>0</td><td>null</td><td> 6001 -  8000</td><td>13</td></tr><tr><td>Não acredito que minha experiência profissional seja afetada devido a esses fatores</td><td>0</td><td>0</td><td>0</td><td>null</td><td>Acima  40001</td><td>13</td></tr><tr><td>Não acredito que minha experiência profissional seja afetada devido a esses fatores</td><td>0</td><td>0</td><td>0</td><td>Sênior</td><td> 4001 -  6000</td><td>12</td></tr><tr><td>Sim, acredito que a minha a experiência profissional seja afetada devido a minha identidade de gênero</td><td>0</td><td>1</td><td>0</td><td>null</td><td> 16001 -  20000</td><td>12</td></tr><tr><td>Sim, acredito que a minha a experiência profissional seja afetada devido a minha identidade de gênero</td><td>0</td><td>1</td><td>0</td><td>Sênior</td><td> 6001 -  8000</td><td>12</td></tr><tr><td>Sim, acredito que a minha a experiência profissional seja afetada devido a minha identidade de gênero</td><td>0</td><td>1</td><td>0</td><td>Pleno</td><td> 12001 -  16000</td><td>12</td></tr><tr><td>Sim, acredito que a minha a experiência profissional seja afetada devido a minha Cor/Raça/Etnia</td><td>1</td><td>0</td><td>0</td><td>null</td><td> 12001 -  16000</td><td>11</td></tr><tr><td>Sim, acredito que a minha a experiência profissional seja afetada devido a minha identidade de gênero</td><td>0</td><td>1</td><td>0</td><td>Júnior</td><td> 6001 -  8000</td><td>11</td></tr><tr><td>Sim, acredito que a minha a experiência profissional seja afetada devido a minha identidade de gênero</td><td>0</td><td>1</td><td>0</td><td>null</td><td> 8001 -  12000</td><td>11</td></tr><tr><td>Sim, acredito que a minha a experiência profissional seja afetada devido a minha identidade de gênero</td><td>0</td><td>1</td><td>0</td><td>Sênior</td><td> 16001 -  20000</td><td>11</td></tr><tr><td>Não acredito que minha experiência profissional seja afetada devido a esses fatores</td><td>0</td><td>0</td><td>0</td><td>Sênior</td><td> 25001 -  30000</td><td>11</td></tr><tr><td>Não acredito que minha experiência profissional seja afetada devido a esses fatores</td><td>0</td><td>0</td><td>0</td><td>null</td><td> 6001 -  8000</td><td>10</td></tr><tr><td>Não acredito que minha experiência profissional seja afetada devido a esses fatores</td><td>0</td><td>0</td><td>0</td><td>null</td><td> 3001 -  4000</td><td>9</td></tr><tr><td>Sim, acredito que a minha a experiência profissional seja afetada devido a minha Cor/Raça/Etnia</td><td>1</td><td>0</td><td>0</td><td>Sênior</td><td> 16001 -  20000</td><td>9</td></tr><tr><td>Não acredito que minha experiência profissional seja afetada devido a esses fatores</td><td>0</td><td>0</td><td>0</td><td>Júnior</td><td>Menos  1000</td><td>9</td></tr><tr><td>Sim, acredito que a minha a experiência profissional seja afetada devido a minha Cor/Raça/Etnia, Sim, acredito que a minha a experiência profissional seja afetada devido a minha identidade de gênero</td><td>1</td><td>1</td><td>0</td><td>Sênior</td><td> 12001 -  16000</td><td>9</td></tr><tr><td>Não acredito que minha experiência profissional seja afetada devido a esses fatores</td><td>0</td><td>0</td><td>0</td><td>null</td><td> 30001 -  40000</td><td>8</td></tr><tr><td>Não acredito que minha experiência profissional seja afetada devido a esses fatores</td><td>0</td><td>0</td><td>0</td><td>Sênior</td><td> 30001 -  40000</td><td>8</td></tr><tr><td>Não acredito que minha experiência profissional seja afetada devido a esses fatores</td><td>0</td><td>0</td><td>0</td><td>Pleno</td><td> 16001 -  20000</td><td>8</td></tr><tr><td>Sim, acredito que a minha a experiência profissional seja afetada devido a minha identidade de gênero</td><td>0</td><td>1</td><td>0</td><td>null</td><td> 20001 -  25000</td><td>8</td></tr><tr><td>Não acredito que minha experiência profissional seja afetada devido a esses fatores</td><td>0</td><td>0</td><td>0</td><td>Júnior</td><td> 8001 -  12000</td><td>8</td></tr><tr><td>Sim, acredito que a minha a experiência profissional seja afetada devido a minha Cor/Raça/Etnia</td><td>1</td><td>0</td><td>0</td><td>null</td><td> 20001 -  25000</td><td>7</td></tr><tr><td>Sim, acredito que a minha a experiência profissional seja afetada devido a minha Cor/Raça/Etnia</td><td>1</td><td>0</td><td>0</td><td>Pleno</td><td> 2001 -  3000</td><td>7</td></tr><tr><td>Sim, acredito que a minha a experiência profissional seja afetada devido a minha Cor/Raça/Etnia</td><td>1</td><td>0</td><td>0</td><td>null</td><td> 8001 -  12000</td><td>7</td></tr><tr><td>Sim, acredito que a minha a experiência profissional seja afetada devido a minha identidade de gênero</td><td>0</td><td>1</td><td>0</td><td>Júnior</td><td> 8001 -  12000</td><td>7</td></tr><tr><td>Sim, acredito que a minha a experiência profissional seja afetada devido a minha identidade de gênero</td><td>0</td><td>1</td><td>0</td><td>null</td><td> 25001 -  30000</td><td>7</td></tr><tr><td>Sim, acredito que a minha a experiência profissional seja afetada devido a minha Cor/Raça/Etnia, Sim, acredito que a minha a experiência profissional seja afetada devido a minha identidade de gênero</td><td>1</td><td>1</td><td>0</td><td>Pleno</td><td> 6001 -  8000</td><td>7</td></tr><tr><td>Sim, acredito que a minha a experiência profissional seja afetada devido a minha Cor/Raça/Etnia</td><td>1</td><td>0</td><td>0</td><td>null</td><td> 6001 -  8000</td><td>6</td></tr><tr><td>Sim, acredito que a minha a experiência profissional seja afetada devido a minha Cor/Raça/Etnia, Sim, acredito que a minha a experiência profissional seja afetada devido a minha identidade de gênero</td><td>1</td><td>1</td><td>0</td><td>Júnior</td><td> 4001 -  6000</td><td>6</td></tr><tr><td>Não acredito que minha experiência profissional seja afetada devido a esses fatores</td><td>0</td><td>0</td><td>0</td><td>Pleno</td><td> 1001 -  2000</td><td>6</td></tr><tr><td>Sim, acredito que a minha a experiência profissional seja afetada devido a minha Cor/Raça/Etnia</td><td>1</td><td>0</td><td>0</td><td>null</td><td>Acima  40001</td><td>6</td></tr></tbody></table></div>"
      ]
     },
     "metadata": {
      "application/vnd.databricks.v1+output": {
       "addedWidgets": {},
       "aggData": [],
       "aggError": "",
       "aggOverflow": false,
       "aggSchema": [],
       "aggSeriesLimitReached": false,
       "aggType": "",
       "arguments": {},
       "columnCustomDisplayInfos": {},
       "data": [
        [
         "Não acredito que minha experiência profissional seja afetada devido a esses fatores",
         0,
         0,
         0,
         "Sênior",
         " 8001 -  12000",
         131
        ],
        [
         "Não acredito que minha experiência profissional seja afetada devido a esses fatores",
         0,
         0,
         0,
         "Pleno",
         " 8001 -  12000",
         113
        ],
        [
         "Não acredito que minha experiência profissional seja afetada devido a esses fatores",
         0,
         0,
         0,
         "Pleno",
         " 4001 -  6000",
         100
        ],
        [
         "Não acredito que minha experiência profissional seja afetada devido a esses fatores",
         0,
         0,
         0,
         "Júnior",
         " 4001 -  6000",
         99
        ],
        [
         "Não acredito que minha experiência profissional seja afetada devido a esses fatores",
         0,
         0,
         0,
         "Pleno",
         " 6001 -  8000",
         98
        ],
        [
         "Não acredito que minha experiência profissional seja afetada devido a esses fatores",
         0,
         0,
         0,
         "Sênior",
         " 12001 -  16000",
         91
        ],
        [
         "Sim, acredito que a minha a experiência profissional seja afetada devido a minha identidade de gênero",
         0,
         1,
         0,
         "Sênior",
         " 8001 -  12000",
         69
        ],
        [
         "Não acredito que minha experiência profissional seja afetada devido a esses fatores",
         0,
         0,
         0,
         "Júnior",
         " 3001 -  4000",
         69
        ],
        [
         "Não acredito que minha experiência profissional seja afetada devido a esses fatores",
         0,
         0,
         0,
         "Júnior",
         " 1001 -  2000",
         61
        ],
        [
         "Não acredito que minha experiência profissional seja afetada devido a esses fatores",
         0,
         0,
         0,
         "Júnior",
         " 2001 -  3000",
         59
        ],
        [
         "Sim, acredito que a minha a experiência profissional seja afetada devido a minha identidade de gênero",
         0,
         1,
         0,
         "Pleno",
         " 6001 -  8000",
         59
        ],
        [
         "Sim, acredito que a minha a experiência profissional seja afetada devido a minha identidade de gênero",
         0,
         1,
         0,
         "Pleno",
         " 4001 -  6000",
         51
        ],
        [
         "Não acredito que minha experiência profissional seja afetada devido a esses fatores",
         0,
         0,
         0,
         null,
         " 12001 -  16000",
         50
        ],
        [
         "Sim, acredito que a minha a experiência profissional seja afetada devido a minha identidade de gênero",
         0,
         1,
         0,
         "Sênior",
         " 12001 -  16000",
         47
        ],
        [
         "Sim, acredito que a minha a experiência profissional seja afetada devido a minha Cor/Raça/Etnia",
         1,
         0,
         0,
         "Sênior",
         " 8001 -  12000",
         47
        ],
        [
         "Sim, acredito que a minha a experiência profissional seja afetada devido a minha identidade de gênero",
         0,
         1,
         0,
         "Pleno",
         " 8001 -  12000",
         42
        ],
        [
         "Não acredito que minha experiência profissional seja afetada devido a esses fatores",
         0,
         0,
         0,
         "Sênior",
         " 6001 -  8000",
         41
        ],
        [
         "Sim, acredito que a minha a experiência profissional seja afetada devido a minha identidade de gênero",
         0,
         1,
         0,
         "Júnior",
         " 2001 -  3000",
         38
        ],
        [
         "Não acredito que minha experiência profissional seja afetada devido a esses fatores",
         0,
         0,
         0,
         null,
         " 16001 -  20000",
         37
        ],
        [
         "Não acredito que minha experiência profissional seja afetada devido a esses fatores",
         0,
         0,
         0,
         "Sênior",
         " 16001 -  20000",
         32
        ],
        [
         "Sim, acredito que a minha a experiência profissional seja afetada devido a minha identidade de gênero",
         0,
         1,
         0,
         "Júnior",
         " 4001 -  6000",
         32
        ],
        [
         "Não acredito que minha experiência profissional seja afetada devido a esses fatores",
         0,
         0,
         0,
         "Pleno",
         " 3001 -  4000",
         31
        ],
        [
         "Sim, acredito que a minha a experiência profissional seja afetada devido a minha Cor/Raça/Etnia",
         1,
         0,
         0,
         "Pleno",
         " 6001 -  8000",
         30
        ],
        [
         "Não acredito que minha experiência profissional seja afetada devido a esses fatores",
         0,
         0,
         0,
         null,
         " 8001 -  12000",
         30
        ],
        [
         "Sim, acredito que a minha a experiência profissional seja afetada devido a minha identidade de gênero",
         0,
         1,
         0,
         "Júnior",
         " 1001 -  2000",
         29
        ],
        [
         "Sim, acredito que a minha a experiência profissional seja afetada devido a minha Cor/Raça/Etnia",
         1,
         0,
         0,
         "Sênior",
         " 12001 -  16000",
         29
        ],
        [
         "Não acredito que minha experiência profissional seja afetada devido a esses fatores",
         0,
         0,
         0,
         null,
         " 20001 -  25000",
         26
        ],
        [
         "Não acredito que minha experiência profissional seja afetada devido a esses fatores",
         0,
         0,
         0,
         "Júnior",
         " 6001 -  8000",
         25
        ],
        [
         "Sim, acredito que a minha a experiência profissional seja afetada devido a minha Cor/Raça/Etnia",
         1,
         0,
         0,
         "Pleno",
         " 8001 -  12000",
         24
        ],
        [
         "Sim, acredito que a minha a experiência profissional seja afetada devido a minha Cor/Raça/Etnia",
         1,
         0,
         0,
         "Júnior",
         " 4001 -  6000",
         23
        ],
        [
         "Sim, acredito que a minha a experiência profissional seja afetada devido a minha identidade de gênero",
         0,
         1,
         0,
         "Júnior",
         " 3001 -  4000",
         23
        ],
        [
         "Sim, acredito que a minha a experiência profissional seja afetada devido a minha Cor/Raça/Etnia",
         1,
         0,
         0,
         "Pleno",
         " 4001 -  6000",
         23
        ],
        [
         "Sim, acredito que a minha a experiência profissional seja afetada devido a minha identidade de gênero",
         0,
         1,
         0,
         null,
         " 12001 -  16000",
         23
        ],
        [
         "Sim, acredito que a minha a experiência profissional seja afetada devido a minha Cor/Raça/Etnia",
         1,
         0,
         0,
         "Júnior",
         " 1001 -  2000",
         20
        ],
        [
         "Sim, acredito que a minha a experiência profissional seja afetada devido a minha Cor/Raça/Etnia",
         1,
         0,
         0,
         "Júnior",
         " 3001 -  4000",
         18
        ],
        [
         "Sim, acredito que a minha a experiência profissional seja afetada devido a minha Cor/Raça/Etnia",
         1,
         0,
         0,
         "Pleno",
         " 3001 -  4000",
         17
        ],
        [
         "Sim, acredito que a minha a experiência profissional seja afetada devido a minha Cor/Raça/Etnia",
         1,
         0,
         0,
         "Júnior",
         " 2001 -  3000",
         17
        ],
        [
         "Não acredito que minha experiência profissional seja afetada devido a esses fatores",
         0,
         0,
         0,
         "Pleno",
         " 2001 -  3000",
         16
        ],
        [
         "Sim, acredito que a minha a experiência profissional seja afetada devido a minha Cor/Raça/Etnia",
         1,
         0,
         0,
         null,
         " 16001 -  20000",
         16
        ],
        [
         "Não acredito que minha experiência profissional seja afetada devido a esses fatores",
         0,
         0,
         0,
         null,
         " 25001 -  30000",
         15
        ],
        [
         "Não acredito que minha experiência profissional seja afetada devido a esses fatores",
         0,
         0,
         0,
         "Sênior",
         " 20001 -  25000",
         15
        ],
        [
         "Sim, acredito que a minha a experiência profissional seja afetada devido a minha identidade de gênero",
         0,
         1,
         0,
         "Pleno",
         " 3001 -  4000",
         15
        ],
        [
         "Sim, acredito que a minha a experiência profissional seja afetada devido a minha Cor/Raça/Etnia",
         1,
         0,
         0,
         "Sênior",
         " 6001 -  8000",
         14
        ],
        [
         "Não acredito que minha experiência profissional seja afetada devido a esses fatores",
         0,
         0,
         0,
         "Pleno",
         " 12001 -  16000",
         14
        ],
        [
         "Não acredito que minha experiência profissional seja afetada devido a esses fatores",
         0,
         0,
         0,
         null,
         " 4001 -  6000",
         14
        ],
        [
         "Sim, acredito que a minha a experiência profissional seja afetada devido a minha identidade de gênero",
         0,
         1,
         0,
         null,
         " 6001 -  8000",
         13
        ],
        [
         "Não acredito que minha experiência profissional seja afetada devido a esses fatores",
         0,
         0,
         0,
         null,
         "Acima  40001",
         13
        ],
        [
         "Não acredito que minha experiência profissional seja afetada devido a esses fatores",
         0,
         0,
         0,
         "Sênior",
         " 4001 -  6000",
         12
        ],
        [
         "Sim, acredito que a minha a experiência profissional seja afetada devido a minha identidade de gênero",
         0,
         1,
         0,
         null,
         " 16001 -  20000",
         12
        ],
        [
         "Sim, acredito que a minha a experiência profissional seja afetada devido a minha identidade de gênero",
         0,
         1,
         0,
         "Sênior",
         " 6001 -  8000",
         12
        ],
        [
         "Sim, acredito que a minha a experiência profissional seja afetada devido a minha identidade de gênero",
         0,
         1,
         0,
         "Pleno",
         " 12001 -  16000",
         12
        ],
        [
         "Sim, acredito que a minha a experiência profissional seja afetada devido a minha Cor/Raça/Etnia",
         1,
         0,
         0,
         null,
         " 12001 -  16000",
         11
        ],
        [
         "Sim, acredito que a minha a experiência profissional seja afetada devido a minha identidade de gênero",
         0,
         1,
         0,
         "Júnior",
         " 6001 -  8000",
         11
        ],
        [
         "Sim, acredito que a minha a experiência profissional seja afetada devido a minha identidade de gênero",
         0,
         1,
         0,
         null,
         " 8001 -  12000",
         11
        ],
        [
         "Sim, acredito que a minha a experiência profissional seja afetada devido a minha identidade de gênero",
         0,
         1,
         0,
         "Sênior",
         " 16001 -  20000",
         11
        ],
        [
         "Não acredito que minha experiência profissional seja afetada devido a esses fatores",
         0,
         0,
         0,
         "Sênior",
         " 25001 -  30000",
         11
        ],
        [
         "Não acredito que minha experiência profissional seja afetada devido a esses fatores",
         0,
         0,
         0,
         null,
         " 6001 -  8000",
         10
        ],
        [
         "Não acredito que minha experiência profissional seja afetada devido a esses fatores",
         0,
         0,
         0,
         null,
         " 3001 -  4000",
         9
        ],
        [
         "Sim, acredito que a minha a experiência profissional seja afetada devido a minha Cor/Raça/Etnia",
         1,
         0,
         0,
         "Sênior",
         " 16001 -  20000",
         9
        ],
        [
         "Não acredito que minha experiência profissional seja afetada devido a esses fatores",
         0,
         0,
         0,
         "Júnior",
         "Menos  1000",
         9
        ],
        [
         "Sim, acredito que a minha a experiência profissional seja afetada devido a minha Cor/Raça/Etnia, Sim, acredito que a minha a experiência profissional seja afetada devido a minha identidade de gênero",
         1,
         1,
         0,
         "Sênior",
         " 12001 -  16000",
         9
        ],
        [
         "Não acredito que minha experiência profissional seja afetada devido a esses fatores",
         0,
         0,
         0,
         null,
         " 30001 -  40000",
         8
        ],
        [
         "Não acredito que minha experiência profissional seja afetada devido a esses fatores",
         0,
         0,
         0,
         "Sênior",
         " 30001 -  40000",
         8
        ],
        [
         "Não acredito que minha experiência profissional seja afetada devido a esses fatores",
         0,
         0,
         0,
         "Pleno",
         " 16001 -  20000",
         8
        ],
        [
         "Sim, acredito que a minha a experiência profissional seja afetada devido a minha identidade de gênero",
         0,
         1,
         0,
         null,
         " 20001 -  25000",
         8
        ],
        [
         "Não acredito que minha experiência profissional seja afetada devido a esses fatores",
         0,
         0,
         0,
         "Júnior",
         " 8001 -  12000",
         8
        ],
        [
         "Sim, acredito que a minha a experiência profissional seja afetada devido a minha Cor/Raça/Etnia",
         1,
         0,
         0,
         null,
         " 20001 -  25000",
         7
        ],
        [
         "Sim, acredito que a minha a experiência profissional seja afetada devido a minha Cor/Raça/Etnia",
         1,
         0,
         0,
         "Pleno",
         " 2001 -  3000",
         7
        ],
        [
         "Sim, acredito que a minha a experiência profissional seja afetada devido a minha Cor/Raça/Etnia",
         1,
         0,
         0,
         null,
         " 8001 -  12000",
         7
        ],
        [
         "Sim, acredito que a minha a experiência profissional seja afetada devido a minha identidade de gênero",
         0,
         1,
         0,
         "Júnior",
         " 8001 -  12000",
         7
        ],
        [
         "Sim, acredito que a minha a experiência profissional seja afetada devido a minha identidade de gênero",
         0,
         1,
         0,
         null,
         " 25001 -  30000",
         7
        ],
        [
         "Sim, acredito que a minha a experiência profissional seja afetada devido a minha Cor/Raça/Etnia, Sim, acredito que a minha a experiência profissional seja afetada devido a minha identidade de gênero",
         1,
         1,
         0,
         "Pleno",
         " 6001 -  8000",
         7
        ],
        [
         "Sim, acredito que a minha a experiência profissional seja afetada devido a minha Cor/Raça/Etnia",
         1,
         0,
         0,
         null,
         " 6001 -  8000",
         6
        ],
        [
         "Sim, acredito que a minha a experiência profissional seja afetada devido a minha Cor/Raça/Etnia, Sim, acredito que a minha a experiência profissional seja afetada devido a minha identidade de gênero",
         1,
         1,
         0,
         "Júnior",
         " 4001 -  6000",
         6
        ],
        [
         "Não acredito que minha experiência profissional seja afetada devido a esses fatores",
         0,
         0,
         0,
         "Pleno",
         " 1001 -  2000",
         6
        ],
        [
         "Sim, acredito que a minha a experiência profissional seja afetada devido a minha Cor/Raça/Etnia",
         1,
         0,
         0,
         null,
         "Acima  40001",
         6
        ]
       ],
       "datasetInfos": [],
       "dbfsResultPath": null,
       "isJsonSchema": true,
       "metadata": {},
       "overflow": false,
       "plotOptions": {
        "customPlotOptions": {},
        "displayType": "table",
        "pivotAggregation": null,
        "pivotColumns": null,
        "xColumns": null,
        "yColumns": null
       },
       "removedWidgets": [],
       "schema": [
        {
         "metadata": "{\"comment\":\"Declaração de impacto na experiência profissional\"}",
         "name": "exp_profissional_prejudicada",
         "type": "\"string\""
        },
        {
         "metadata": "{\"comment\":\"Experiência prejudicada por cor, raça ou etnia\"}",
         "name": "exp_prejud_cor_raca",
         "type": "\"integer\""
        },
        {
         "metadata": "{\"comment\":\"Experiência prejudicada por identidade de gênero\"}",
         "name": "exp_prejud_genero",
         "type": "\"integer\""
        },
        {
         "metadata": "{\"comment\":\"Experiência prejudicada por ser PCD\"}",
         "name": "exp_prejud_pcd",
         "type": "\"integer\""
        },
        {
         "metadata": "{\"comment\":\"Senioridade\"}",
         "name": "senioridade",
         "type": "\"string\""
        },
        {
         "metadata": "{\"comment\":\"Faixa salarial atual\"}",
         "name": "faixa_salarial",
         "type": "\"string\""
        },
        {
         "metadata": "{}",
         "name": "total_pessoas",
         "type": "\"long\""
        }
       ],
       "type": "table"
      }
     },
     "output_type": "display_data"
    }
   ],
   "source": [
    "%sql\n",
    "CREATE OR REPLACE TABLE gold.discriminacao_carreira AS -- criação da tabela gold\n",
    "SELECT\n",
    "  exp_profissional_prejudicada,\n",
    "  exp_prejud_cor_raca,\n",
    "  exp_prejud_genero,\n",
    "  exp_prejud_pcd,\n",
    "  senioridade,\n",
    "  faixa_salarial,\n",
    "  COUNT(*) AS total_pessoas\n",
    "FROM silver.state_of_data\n",
    "WHERE exp_profissional_prejudicada IS NOT NULL\n",
    "GROUP BY\n",
    "  exp_profissional_prejudicada,\n",
    "  exp_prejud_cor_raca,\n",
    "  exp_prejud_genero,\n",
    "  exp_prejud_pcd,\n",
    "  senioridade,\n",
    "  faixa_salarial;\n",
    "\n",
    "-- Visualização de exemplo\n",
    "SELECT * FROM gold.discriminacao_carreira\n",
    "WHERE total_pessoas > 5\n",
    "ORDER BY total_pessoas DESC;\n"
   ]
  },
  {
   "cell_type": "markdown",
   "metadata": {
    "application/vnd.databricks.v1+cell": {
     "cellMetadata": {},
     "inputWidgets": {},
     "nuid": "a9f5e087-b101-4011-b028-78cb5cd898b4",
     "showTitle": false,
     "tableResultSettingsMap": {},
     "title": ""
    }
   },
   "source": [
    "### Analise 6 - Média Salarial por Senioridade e Experiência (gold.media_salarial_senioridade_experiencia)\n",
    "Objetivo: Calcular a média salarial para cruzamento de tempo de experiência com senioridade.\n",
    "\n",
    "Analise:\n",
    "\n",
    "A média salarial cresce linearmente com o tempo de experiência e nível de senioridade.\n",
    "\n",
    "Há sobreposição entre Pleno com até 4 anos de experiência e Sênior com pouca experiência, indicando possíveis distorções de cargo.\n",
    "\n",
    "Profissionais Júnior com mais tempo de experiência também aparecem, sugerindo retenção em cargos abaixo da experiência real."
   ]
  },
  {
   "cell_type": "code",
   "execution_count": 0,
   "metadata": {
    "application/vnd.databricks.v1+cell": {
     "cellMetadata": {
      "byteLimit": 2048000,
      "implicitDf": true,
      "rowLimit": 10000
     },
     "inputWidgets": {},
     "nuid": "10dbca93-220e-406a-8018-efba97af0a60",
     "showTitle": true,
     "tableResultSettingsMap": {},
     "title": "Média Salarial por Senioridade e Experiência"
    }
   },
   "outputs": [
    {
     "output_type": "display_data",
     "data": {
      "text/html": [
       "<style scoped>\n",
       "  .table-result-container {\n",
       "    max-height: 300px;\n",
       "    overflow: auto;\n",
       "  }\n",
       "  table, th, td {\n",
       "    border: 1px solid black;\n",
       "    border-collapse: collapse;\n",
       "  }\n",
       "  th, td {\n",
       "    padding: 5px;\n",
       "  }\n",
       "  th {\n",
       "    text-align: left;\n",
       "  }\n",
       "</style><div class='table-result-container'><table class='table-result'><thead style='background-color: white'><tr><th>senioridade</th><th>tempo_experiencia</th><th>salario_minimo</th><th>salario_maximo</th><th>salario_medio</th><th>total_pessoas</th></tr></thead><tbody><tr><td>Sênior</td><td>10+</td><td>25001</td><td>30000</td><td>27500.5</td><td>12</td></tr><tr><td>Sênior</td><td>7-10</td><td>20001</td><td>25000</td><td>22500.5</td><td>16</td></tr><tr><td>Sênior</td><td>4-6</td><td>20001</td><td>25000</td><td>22500.5</td><td>11</td></tr><tr><td>Sênior</td><td>10+</td><td>20001</td><td>25000</td><td>22500.5</td><td>22</td></tr><tr><td>Sênior</td><td>5-6</td><td>16001</td><td>20000</td><td>18000.5</td><td>20</td></tr><tr><td>Sênior</td><td>4-6</td><td>16001</td><td>20000</td><td>18000.5</td><td>32</td></tr><tr><td>Sênior</td><td>7-10</td><td>16001</td><td>20000</td><td>18000.5</td><td>28</td></tr><tr><td>Sênior</td><td>3-4</td><td>16001</td><td>20000</td><td>18000.5</td><td>20</td></tr><tr><td>Sênior</td><td>10+</td><td>16001</td><td>20000</td><td>18000.5</td><td>34</td></tr><tr><td>Sênior</td><td>10+</td><td>12001</td><td>16000</td><td>14000.5</td><td>71</td></tr><tr><td>Sênior</td><td>7-10</td><td>12001</td><td>16000</td><td>14000.5</td><td>75</td></tr><tr><td>Pleno</td><td>1-2</td><td>12001</td><td>16000</td><td>14000.5</td><td>12</td></tr><tr><td>Sênior</td><td>1-2</td><td>12001</td><td>16000</td><td>14000.5</td><td>22</td></tr><tr><td>Pleno</td><td>3-4</td><td>12001</td><td>16000</td><td>14000.5</td><td>35</td></tr><tr><td>Sênior</td><td>3-4</td><td>12001</td><td>16000</td><td>14000.5</td><td>79</td></tr><tr><td>Sênior</td><td>4-6</td><td>12001</td><td>16000</td><td>14000.5</td><td>68</td></tr><tr><td>Sênior</td><td>5-6</td><td>12001</td><td>16000</td><td>14000.5</td><td>71</td></tr><tr><td>Pleno</td><td>4-6</td><td>12001</td><td>16000</td><td>14000.5</td><td>21</td></tr><tr><td>Sênior</td><td>3-4</td><td>8001</td><td>12000</td><td>10000.5</td><td>156</td></tr><tr><td>Sênior</td><td>4-6</td><td>8001</td><td>12000</td><td>10000.5</td><td>82</td></tr><tr><td>Pleno</td><td>10+</td><td>8001</td><td>12000</td><td>10000.5</td><td>11</td></tr><tr><td>Pleno</td><td>3-4</td><td>8001</td><td>12000</td><td>10000.5</td><td>159</td></tr><tr><td>Júnior</td><td>1-2</td><td>8001</td><td>12000</td><td>10000.5</td><td>22</td></tr><tr><td>Pleno</td><td>7-10</td><td>8001</td><td>12000</td><td>10000.5</td><td>12</td></tr><tr><td>Sênior</td><td>1-2</td><td>8001</td><td>12000</td><td>10000.5</td><td>45</td></tr><tr><td>Pleno</td><td>5-6</td><td>8001</td><td>12000</td><td>10000.5</td><td>28</td></tr><tr><td>Pleno</td><td>4-6</td><td>8001</td><td>12000</td><td>10000.5</td><td>38</td></tr><tr><td>Sênior</td><td>10+</td><td>8001</td><td>12000</td><td>10000.5</td><td>65</td></tr><tr><td>Sênior</td><td>5-6</td><td>8001</td><td>12000</td><td>10000.5</td><td>72</td></tr><tr><td>Sênior</td><td>7-10</td><td>8001</td><td>12000</td><td>10000.5</td><td>73</td></tr><tr><td>Pleno</td><td>1-2</td><td>8001</td><td>12000</td><td>10000.5</td><td>95</td></tr><tr><td>Pleno</td><td>0-1</td><td>6001</td><td>8000</td><td>7000.5</td><td>11</td></tr><tr><td>Pleno</td><td>3-4</td><td>6001</td><td>8000</td><td>7000.5</td><td>162</td></tr><tr><td>Júnior</td><td>0-1</td><td>6001</td><td>8000</td><td>7000.5</td><td>21</td></tr><tr><td>Sênior</td><td>7-10</td><td>6001</td><td>8000</td><td>7000.5</td><td>16</td></tr><tr><td>Júnior</td><td>3-4</td><td>6001</td><td>8000</td><td>7000.5</td><td>13</td></tr><tr><td>Sênior</td><td>10+</td><td>6001</td><td>8000</td><td>7000.5</td><td>15</td></tr><tr><td>Pleno</td><td>5-6</td><td>6001</td><td>8000</td><td>7000.5</td><td>17</td></tr><tr><td>Pleno</td><td>1-2</td><td>6001</td><td>8000</td><td>7000.5</td><td>141</td></tr><tr><td>Júnior</td><td>1-2</td><td>6001</td><td>8000</td><td>7000.5</td><td>42</td></tr><tr><td>Sênior</td><td>4-6</td><td>6001</td><td>8000</td><td>7000.5</td><td>16</td></tr><tr><td>Sênior</td><td>5-6</td><td>6001</td><td>8000</td><td>7000.5</td><td>20</td></tr><tr><td>Sênior</td><td>3-4</td><td>6001</td><td>8000</td><td>7000.5</td><td>42</td></tr><tr><td>Sênior</td><td>1-2</td><td>6001</td><td>8000</td><td>7000.5</td><td>17</td></tr><tr><td>Pleno</td><td>4-6</td><td>6001</td><td>8000</td><td>7000.5</td><td>24</td></tr><tr><td>Pleno</td><td>5-6</td><td>4001</td><td>6000</td><td>5000.5</td><td>15</td></tr><tr><td>Pleno</td><td>0-1</td><td>4001</td><td>6000</td><td>5000.5</td><td>22</td></tr><tr><td>Júnior</td><td>3-4</td><td>4001</td><td>6000</td><td>5000.5</td><td>36</td></tr><tr><td>Júnior</td><td>0-1</td><td>4001</td><td>6000</td><td>5000.5</td><td>66</td></tr><tr><td>Pleno</td><td>0</td><td>4001</td><td>6000</td><td>5000.5</td><td>15</td></tr><tr><td>Júnior</td><td>1-2</td><td>4001</td><td>6000</td><td>5000.5</td><td>176</td></tr><tr><td>Pleno</td><td>4-6</td><td>4001</td><td>6000</td><td>5000.5</td><td>20</td></tr><tr><td>Pleno</td><td>1-2</td><td>4001</td><td>6000</td><td>5000.5</td><td>156</td></tr><tr><td>Pleno</td><td>3-4</td><td>4001</td><td>6000</td><td>5000.5</td><td>116</td></tr><tr><td>Sênior</td><td>3-4</td><td>4001</td><td>6000</td><td>5000.5</td><td>16</td></tr><tr><td>Júnior</td><td>1-2</td><td>3001</td><td>4000</td><td>3500.5</td><td>111</td></tr><tr><td>Pleno</td><td>1-2</td><td>3001</td><td>4000</td><td>3500.5</td><td>53</td></tr><tr><td>Júnior</td><td>3-4</td><td>3001</td><td>4000</td><td>3500.5</td><td>18</td></tr><tr><td>Pleno</td><td>3-4</td><td>3001</td><td>4000</td><td>3500.5</td><td>42</td></tr><tr><td>Júnior</td><td>0-1</td><td>3001</td><td>4000</td><td>3500.5</td><td>54</td></tr><tr><td>Pleno</td><td>0-1</td><td>3001</td><td>4000</td><td>3500.5</td><td>11</td></tr><tr><td>Júnior</td><td>1-2</td><td>2001</td><td>3000</td><td>2500.5</td><td>97</td></tr><tr><td>Pleno</td><td>1-2</td><td>2001</td><td>3000</td><td>2500.5</td><td>23</td></tr><tr><td>Júnior</td><td>0-1</td><td>2001</td><td>3000</td><td>2500.5</td><td>84</td></tr><tr><td>Júnior</td><td>0</td><td>2001</td><td>3000</td><td>2500.5</td><td>21</td></tr><tr><td>Júnior</td><td>0</td><td>1001</td><td>2000</td><td>1500.5</td><td>20</td></tr><tr><td>Júnior</td><td>0-1</td><td>1001</td><td>2000</td><td>1500.5</td><td>100</td></tr><tr><td>Júnior</td><td>1-2</td><td>1001</td><td>2000</td><td>1500.5</td><td>63</td></tr></tbody></table></div>"
      ]
     },
     "metadata": {
      "application/vnd.databricks.v1+output": {
       "addedWidgets": {},
       "aggData": [],
       "aggError": "",
       "aggOverflow": false,
       "aggSchema": [],
       "aggSeriesLimitReached": false,
       "aggType": "",
       "arguments": {},
       "columnCustomDisplayInfos": {},
       "data": [
        [
         "Sênior",
         "10+",
         25001,
         30000,
         27500.5,
         12
        ],
        [
         "Sênior",
         "7-10",
         20001,
         25000,
         22500.5,
         16
        ],
        [
         "Sênior",
         "4-6",
         20001,
         25000,
         22500.5,
         11
        ],
        [
         "Sênior",
         "10+",
         20001,
         25000,
         22500.5,
         22
        ],
        [
         "Sênior",
         "5-6",
         16001,
         20000,
         18000.5,
         20
        ],
        [
         "Sênior",
         "4-6",
         16001,
         20000,
         18000.5,
         32
        ],
        [
         "Sênior",
         "7-10",
         16001,
         20000,
         18000.5,
         28
        ],
        [
         "Sênior",
         "3-4",
         16001,
         20000,
         18000.5,
         20
        ],
        [
         "Sênior",
         "10+",
         16001,
         20000,
         18000.5,
         34
        ],
        [
         "Sênior",
         "10+",
         12001,
         16000,
         14000.5,
         71
        ],
        [
         "Sênior",
         "7-10",
         12001,
         16000,
         14000.5,
         75
        ],
        [
         "Pleno",
         "1-2",
         12001,
         16000,
         14000.5,
         12
        ],
        [
         "Sênior",
         "1-2",
         12001,
         16000,
         14000.5,
         22
        ],
        [
         "Pleno",
         "3-4",
         12001,
         16000,
         14000.5,
         35
        ],
        [
         "Sênior",
         "3-4",
         12001,
         16000,
         14000.5,
         79
        ],
        [
         "Sênior",
         "4-6",
         12001,
         16000,
         14000.5,
         68
        ],
        [
         "Sênior",
         "5-6",
         12001,
         16000,
         14000.5,
         71
        ],
        [
         "Pleno",
         "4-6",
         12001,
         16000,
         14000.5,
         21
        ],
        [
         "Sênior",
         "3-4",
         8001,
         12000,
         10000.5,
         156
        ],
        [
         "Sênior",
         "4-6",
         8001,
         12000,
         10000.5,
         82
        ],
        [
         "Pleno",
         "10+",
         8001,
         12000,
         10000.5,
         11
        ],
        [
         "Pleno",
         "3-4",
         8001,
         12000,
         10000.5,
         159
        ],
        [
         "Júnior",
         "1-2",
         8001,
         12000,
         10000.5,
         22
        ],
        [
         "Pleno",
         "7-10",
         8001,
         12000,
         10000.5,
         12
        ],
        [
         "Sênior",
         "1-2",
         8001,
         12000,
         10000.5,
         45
        ],
        [
         "Pleno",
         "5-6",
         8001,
         12000,
         10000.5,
         28
        ],
        [
         "Pleno",
         "4-6",
         8001,
         12000,
         10000.5,
         38
        ],
        [
         "Sênior",
         "10+",
         8001,
         12000,
         10000.5,
         65
        ],
        [
         "Sênior",
         "5-6",
         8001,
         12000,
         10000.5,
         72
        ],
        [
         "Sênior",
         "7-10",
         8001,
         12000,
         10000.5,
         73
        ],
        [
         "Pleno",
         "1-2",
         8001,
         12000,
         10000.5,
         95
        ],
        [
         "Pleno",
         "0-1",
         6001,
         8000,
         7000.5,
         11
        ],
        [
         "Pleno",
         "3-4",
         6001,
         8000,
         7000.5,
         162
        ],
        [
         "Júnior",
         "0-1",
         6001,
         8000,
         7000.5,
         21
        ],
        [
         "Sênior",
         "7-10",
         6001,
         8000,
         7000.5,
         16
        ],
        [
         "Júnior",
         "3-4",
         6001,
         8000,
         7000.5,
         13
        ],
        [
         "Sênior",
         "10+",
         6001,
         8000,
         7000.5,
         15
        ],
        [
         "Pleno",
         "5-6",
         6001,
         8000,
         7000.5,
         17
        ],
        [
         "Pleno",
         "1-2",
         6001,
         8000,
         7000.5,
         141
        ],
        [
         "Júnior",
         "1-2",
         6001,
         8000,
         7000.5,
         42
        ],
        [
         "Sênior",
         "4-6",
         6001,
         8000,
         7000.5,
         16
        ],
        [
         "Sênior",
         "5-6",
         6001,
         8000,
         7000.5,
         20
        ],
        [
         "Sênior",
         "3-4",
         6001,
         8000,
         7000.5,
         42
        ],
        [
         "Sênior",
         "1-2",
         6001,
         8000,
         7000.5,
         17
        ],
        [
         "Pleno",
         "4-6",
         6001,
         8000,
         7000.5,
         24
        ],
        [
         "Pleno",
         "5-6",
         4001,
         6000,
         5000.5,
         15
        ],
        [
         "Pleno",
         "0-1",
         4001,
         6000,
         5000.5,
         22
        ],
        [
         "Júnior",
         "3-4",
         4001,
         6000,
         5000.5,
         36
        ],
        [
         "Júnior",
         "0-1",
         4001,
         6000,
         5000.5,
         66
        ],
        [
         "Pleno",
         "0",
         4001,
         6000,
         5000.5,
         15
        ],
        [
         "Júnior",
         "1-2",
         4001,
         6000,
         5000.5,
         176
        ],
        [
         "Pleno",
         "4-6",
         4001,
         6000,
         5000.5,
         20
        ],
        [
         "Pleno",
         "1-2",
         4001,
         6000,
         5000.5,
         156
        ],
        [
         "Pleno",
         "3-4",
         4001,
         6000,
         5000.5,
         116
        ],
        [
         "Sênior",
         "3-4",
         4001,
         6000,
         5000.5,
         16
        ],
        [
         "Júnior",
         "1-2",
         3001,
         4000,
         3500.5,
         111
        ],
        [
         "Pleno",
         "1-2",
         3001,
         4000,
         3500.5,
         53
        ],
        [
         "Júnior",
         "3-4",
         3001,
         4000,
         3500.5,
         18
        ],
        [
         "Pleno",
         "3-4",
         3001,
         4000,
         3500.5,
         42
        ],
        [
         "Júnior",
         "0-1",
         3001,
         4000,
         3500.5,
         54
        ],
        [
         "Pleno",
         "0-1",
         3001,
         4000,
         3500.5,
         11
        ],
        [
         "Júnior",
         "1-2",
         2001,
         3000,
         2500.5,
         97
        ],
        [
         "Pleno",
         "1-2",
         2001,
         3000,
         2500.5,
         23
        ],
        [
         "Júnior",
         "0-1",
         2001,
         3000,
         2500.5,
         84
        ],
        [
         "Júnior",
         "0",
         2001,
         3000,
         2500.5,
         21
        ],
        [
         "Júnior",
         "0",
         1001,
         2000,
         1500.5,
         20
        ],
        [
         "Júnior",
         "0-1",
         1001,
         2000,
         1500.5,
         100
        ],
        [
         "Júnior",
         "1-2",
         1001,
         2000,
         1500.5,
         63
        ]
       ],
       "datasetInfos": [],
       "dbfsResultPath": null,
       "isJsonSchema": true,
       "metadata": {},
       "overflow": false,
       "plotOptions": {
        "customPlotOptions": {},
        "displayType": "table",
        "pivotAggregation": null,
        "pivotColumns": null,
        "xColumns": null,
        "yColumns": null
       },
       "removedWidgets": [],
       "schema": [
        {
         "metadata": "{\"comment\":\"Senioridade\"}",
         "name": "senioridade",
         "type": "\"string\""
        },
        {
         "metadata": "{\"comment\":\"Tempo de experiencia na area de dados\"}",
         "name": "tempo_experiencia",
         "type": "\"string\""
        },
        {
         "metadata": "{}",
         "name": "salario_minimo",
         "type": "\"integer\""
        },
        {
         "metadata": "{}",
         "name": "salario_maximo",
         "type": "\"integer\""
        },
        {
         "metadata": "{}",
         "name": "salario_medio",
         "type": "\"double\""
        },
        {
         "metadata": "{}",
         "name": "total_pessoas",
         "type": "\"long\""
        }
       ],
       "type": "table"
      }
     },
     "output_type": "display_data"
    }
   ],
   "source": [
    "%sql\n",
    "-- Utilização de regex para segregar faixa_salarial em salario minimo e maximo, para termos uma media do salario\n",
    "CREATE OR REPLACE TABLE gold.media_salarial_senioridade_experiencia AS  -- criação da tabela gold\n",
    "SELECT\n",
    "  senioridade,\n",
    "  tempo_experiencia,\n",
    "  CAST(REGEXP_EXTRACT(REGEXP_REPLACE(faixa_salarial, r'\\s+', ''), r'^(\\d+)-') AS INT) AS salario_minimo,\n",
    "  CAST(REGEXP_EXTRACT(REGEXP_REPLACE(faixa_salarial, r'\\s+', ''), r'-(\\d+)$') AS INT) AS salario_maximo,\n",
    "  ROUND((\n",
    "    CAST(REGEXP_EXTRACT(REGEXP_REPLACE(faixa_salarial, r'\\s+', ''), r'^(\\d+)-') AS DOUBLE) +\n",
    "    CAST(REGEXP_EXTRACT(REGEXP_REPLACE(faixa_salarial, r'\\s+', ''), r'-(\\d+)$') AS DOUBLE)\n",
    "  ) / 2, 2) AS salario_medio,\n",
    "  COUNT(*) AS total_pessoas\n",
    "FROM silver.state_of_data\n",
    "WHERE faixa_salarial NOT IN ('Menos  1000', 'Acima  40001')\n",
    "  AND senioridade IS NOT NULL\n",
    "  AND tempo_experiencia IS NOT NULL\n",
    "GROUP BY senioridade, tempo_experiencia, faixa_salarial;\n",
    "\n",
    "-- Visualização de exemplo\n",
    "SELECT * FROM gold.media_salarial_senioridade_experiencia\n",
    "WHERE total_pessoas > 10\n",
    "ORDER BY salario_medio DESC;\n"
   ]
  }
 ],
 "metadata": {
  "application/vnd.databricks.v1+notebook": {
   "computePreferences": null,
   "dashboards": [],
   "environmentMetadata": {
    "base_environment": "",
    "environment_version": "1"
   },
   "inputWidgetPreferences": null,
   "language": "python",
   "notebookMetadata": {
    "mostRecentlyExecutedCommandWithImplicitDF": {
     "commandId": 3631889941521940,
     "dataframes": [
      "_sqldf"
     ]
    },
    "pythonIndentUnit": 4
   },
   "notebookName": "mvp_puc_rio_engenharia",
   "widgets": {}
  }
 },
 "nbformat": 4,
 "nbformat_minor": 0
}